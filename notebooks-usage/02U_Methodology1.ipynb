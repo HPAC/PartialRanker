{
 "cells": [
  {
   "cell_type": "markdown",
   "metadata": {},
   "source": [
    "### PartialRankerDFG"
   ]
  },
  {
   "cell_type": "markdown",
   "metadata": {},
   "source": [
    "Experiments with DFG based partial ranking methodology. In order to follow, please refer to Methodology 1 in the paper. \n",
    "\n",
    "#### Experiment 1\n",
    "\n",
    "We create **4 objects**, each with **20 measurement values** sampled from four different normal distributions that are **not** well-separated; i.e., in this case, **t2** overlaps with all the other objects."
   ]
  },
  {
   "cell_type": "code",
   "execution_count": 35,
   "metadata": {},
   "outputs": [
    {
     "data": {
      "image/png": "[encoded data removed]",
      "text/plain": [
       "<Figure size 1000x320 with 1 Axes>"
      ]
     },
     "metadata": {},
     "output_type": "display_data"
    }
   ],
   "source": [
    "from partial_ranker import MeasurementsSimulator, MeasurementsVisualizer\n",
    "\n",
    "M3 = {}\n",
    "M3['t0']  = [0.2,0.01] #[mean, std]\n",
    "M3['t1']  = [0.22,0.01]\n",
    "M3['t2']  = [0.23,0.05]\n",
    "M3['t3']  = [0.24,0.01]\n",
    "\n",
    "ms = MeasurementsSimulator(M3,seed=1459)\n",
    "ms.measure(reps=20)\n",
    "measurements = ms.get_measurements()\n",
    "\n",
    "mv = MeasurementsVisualizer(measurements)\n",
    "fig = mv.show_measurements_boxplots(scale=0.8)"
   ]
  },
  {
   "cell_type": "markdown",
   "metadata": {},
   "source": [
    "**The Partial Ranks according to Methodology 1**"
   ]
  },
  {
   "cell_type": "code",
   "execution_count": 38,
   "metadata": {},
   "outputs": [
    {
     "data": {
      "text/plain": [
       "{0: ['t0', 't2'], 1: ['t1'], 2: ['t3']}"
      ]
     },
     "execution_count": 38,
     "metadata": {},
     "output_type": "execute_result"
    }
   ],
   "source": [
    "from partial_ranker import QuantileComparer, Method,PartialRanker\n",
    "\n",
    "cm = QuantileComparer(measurements)\n",
    "cm.compute_quantiles(q_max=75, q_min=25)\n",
    "cm.compare()\n",
    "pr = PartialRanker(cm)\n",
    "pr.compute_ranks(Method.DFG)\n",
    "pr.get_ranks()"
   ]
  },
  {
   "cell_type": "markdown",
   "metadata": {},
   "source": [
    "**The transitively reduced and sparse dependency graph (H)**"
   ]
  },
  {
   "cell_type": "code",
   "execution_count": 21,
   "metadata": {},
   "outputs": [
    {
     "data": {
      "image/svg+xml": [
       "<?xml version=\"1.0\" encoding=\"UTF-8\" standalone=\"no\"?>\n",
       "<!DOCTYPE svg PUBLIC \"-//W3C//DTD SVG 1.1//EN\"\n",
       " \"http://www.w3.org/Graphics/SVG/1.1/DTD/svg11.dtd\">\n",
       "<!-- Generated by graphviz version 2.43.0 (0)\n",
       " -->\n",
       "<!-- Title: %3 Pages: 1 -->\n",
       "<svg width=\"134pt\" height=\"188pt\"\n",
       " viewBox=\"0.00 0.00 134.00 188.00\" xmlns=\"http://www.w3.org/2000/svg\" xmlns:xlink=\"http://www.w3.org/1999/xlink\">\n",
       "<g id=\"graph0\" class=\"graph\" transform=\"scale(1 1) rotate(0) translate(4 184)\">\n",
       "<title>%3</title>\n",
       "<polygon fill=\"white\" stroke=\"transparent\" points=\"-4,4 -4,-184 130,-184 130,4 -4,4\"/>\n",
       "<!-- t0 -->\n",
       "<g id=\"node1\" class=\"node\">\n",
       "<title>t0</title>\n",
       "<ellipse fill=\"#f0efed\" stroke=\"#f0efed\" cx=\"27\" cy=\"-162\" rx=\"27\" ry=\"18\"/>\n",
       "<text text-anchor=\"middle\" x=\"27\" y=\"-158.3\" font-family=\"Times,serif\" font-size=\"14.00\">t0</text>\n",
       "</g>\n",
       "<!-- t1 -->\n",
       "<g id=\"node2\" class=\"node\">\n",
       "<title>t1</title>\n",
       "<ellipse fill=\"#f0efed\" stroke=\"#f0efed\" cx=\"27\" cy=\"-90\" rx=\"27\" ry=\"18\"/>\n",
       "<text text-anchor=\"middle\" x=\"27\" y=\"-86.3\" font-family=\"Times,serif\" font-size=\"14.00\">t1</text>\n",
       "</g>\n",
       "<!-- t0&#45;&gt;t1 -->\n",
       "<g id=\"edge1\" class=\"edge\">\n",
       "<title>t0&#45;&gt;t1</title>\n",
       "<path fill=\"none\" stroke=\"black\" d=\"M27,-143.7C27,-135.98 27,-126.71 27,-118.11\"/>\n",
       "<polygon fill=\"black\" stroke=\"black\" points=\"30.5,-118.1 27,-108.1 23.5,-118.1 30.5,-118.1\"/>\n",
       "</g>\n",
       "<!-- t3 -->\n",
       "<g id=\"node4\" class=\"node\">\n",
       "<title>t3</title>\n",
       "<ellipse fill=\"#f0efed\" stroke=\"#f0efed\" cx=\"27\" cy=\"-18\" rx=\"27\" ry=\"18\"/>\n",
       "<text text-anchor=\"middle\" x=\"27\" y=\"-14.3\" font-family=\"Times,serif\" font-size=\"14.00\">t3</text>\n",
       "</g>\n",
       "<!-- t1&#45;&gt;t3 -->\n",
       "<g id=\"edge2\" class=\"edge\">\n",
       "<title>t1&#45;&gt;t3</title>\n",
       "<path fill=\"none\" stroke=\"black\" d=\"M27,-71.7C27,-63.98 27,-54.71 27,-46.11\"/>\n",
       "<polygon fill=\"black\" stroke=\"black\" points=\"30.5,-46.1 27,-36.1 23.5,-46.1 30.5,-46.1\"/>\n",
       "</g>\n",
       "<!-- t2 -->\n",
       "<g id=\"node3\" class=\"node\">\n",
       "<title>t2</title>\n",
       "<ellipse fill=\"#f0efed\" stroke=\"#f0efed\" cx=\"99\" cy=\"-162\" rx=\"27\" ry=\"18\"/>\n",
       "<text text-anchor=\"middle\" x=\"99\" y=\"-158.3\" font-family=\"Times,serif\" font-size=\"14.00\">t2</text>\n",
       "</g>\n",
       "</g>\n",
       "</svg>\n"
      ],
      "text/plain": [
       "<graphviz.graphs.Digraph at 0x7f3200083970>"
      ]
     },
     "execution_count": 21,
     "metadata": {},
     "output_type": "execute_result"
    }
   ],
   "source": [
    "pr.get_dfg().visualize()"
   ]
  },
  {
   "cell_type": "markdown",
   "metadata": {},
   "source": [
    "For this data, **PartialRankerMin** would assign all the objects to the same rank despite the samples originating from different normal distributions, which is not ideal for cases where we want to discriminate among the objects.  "
   ]
  },
  {
   "cell_type": "markdown",
   "metadata": {},
   "source": [
    "#### Experiment 2\n",
    "\n",
    "We create **10 objects**, each with **3 measurement values** sampled from 2 different normal distributions that **are well-separated**."
   ]
  },
  {
   "cell_type": "code",
   "execution_count": 30,
   "metadata": {},
   "outputs": [
    {
     "data": {
      "image/png": "[encoded data removed]",
      "text/plain": [
       "<Figure size 1000x500 with 1 Axes>"
      ]
     },
     "metadata": {},
     "output_type": "display_data"
    }
   ],
   "source": [
    "n1 = [0.2, 0.02]\n",
    "n2 = [0.3,0.02]\n",
    "M4 = {}\n",
    "\n",
    "for i in range(5):\n",
    "    M4['t{}'.format(i)] = n1\n",
    "\n",
    "for i in range(5,10):\n",
    "    M4['t{}'.format(i)] = n2\n",
    "\n",
    "ms = MeasurementsSimulator(M4,seed=2)\n",
    "ms.measure(reps=3)\n",
    "measurements = ms.get_measurements()\n",
    "\n",
    "mv = MeasurementsVisualizer(measurements)\n",
    "fig = mv.show_measurements_boxplots(scale=0.5)"
   ]
  },
  {
   "cell_type": "markdown",
   "metadata": {},
   "source": [
    "**The Partial Ranks according to Methodology 1 and the dependency graph H**"
   ]
  },
  {
   "cell_type": "code",
   "execution_count": 33,
   "metadata": {},
   "outputs": [
    {
     "data": {
      "text/plain": [
       "{0: ['t0', 't1', 't2', 't4'],\n",
       " 1: ['t3'],\n",
       " 3: ['t5', 't7', 't8'],\n",
       " 2: ['t6', 't9']}"
      ]
     },
     "execution_count": 33,
     "metadata": {},
     "output_type": "execute_result"
    }
   ],
   "source": [
    "cm = QuantileComparer(measurements)\n",
    "cm.compute_quantiles(q_max=75, q_min=25)\n",
    "cm.compare()\n",
    "pr = PartialRanker(cm)\n",
    "pr.compute_ranks(Method.DFG)\n",
    "pr.get_ranks()"
   ]
  },
  {
   "cell_type": "code",
   "execution_count": 34,
   "metadata": {},
   "outputs": [
    {
     "data": {
      "image/svg+xml": [
       "<?xml version=\"1.0\" encoding=\"UTF-8\" standalone=\"no\"?>\n",
       "<!DOCTYPE svg PUBLIC \"-//W3C//DTD SVG 1.1//EN\"\n",
       " \"http://www.w3.org/Graphics/SVG/1.1/DTD/svg11.dtd\">\n",
       "<!-- Generated by graphviz version 2.43.0 (0)\n",
       " -->\n",
       "<!-- Title: %3 Pages: 1 -->\n",
       "<svg width=\"278pt\" height=\"260pt\"\n",
       " viewBox=\"0.00 0.00 278.00 260.00\" xmlns=\"http://www.w3.org/2000/svg\" xmlns:xlink=\"http://www.w3.org/1999/xlink\">\n",
       "<g id=\"graph0\" class=\"graph\" transform=\"scale(1 1) rotate(0) translate(4 256)\">\n",
       "<title>%3</title>\n",
       "<polygon fill=\"white\" stroke=\"transparent\" points=\"-4,4 -4,-256 274,-256 274,4 -4,4\"/>\n",
       "<!-- t0 -->\n",
       "<g id=\"node1\" class=\"node\">\n",
       "<title>t0</title>\n",
       "<ellipse fill=\"#f0efed\" stroke=\"#f0efed\" cx=\"27\" cy=\"-234\" rx=\"27\" ry=\"18\"/>\n",
       "<text text-anchor=\"middle\" x=\"27\" y=\"-230.3\" font-family=\"Times,serif\" font-size=\"14.00\">t0</text>\n",
       "</g>\n",
       "<!-- t3 -->\n",
       "<g id=\"node4\" class=\"node\">\n",
       "<title>t3</title>\n",
       "<ellipse fill=\"#f0efed\" stroke=\"#f0efed\" cx=\"63\" cy=\"-162\" rx=\"27\" ry=\"18\"/>\n",
       "<text text-anchor=\"middle\" x=\"63\" y=\"-158.3\" font-family=\"Times,serif\" font-size=\"14.00\">t3</text>\n",
       "</g>\n",
       "<!-- t0&#45;&gt;t3 -->\n",
       "<g id=\"edge1\" class=\"edge\">\n",
       "<title>t0&#45;&gt;t3</title>\n",
       "<path fill=\"none\" stroke=\"black\" d=\"M35.35,-216.76C39.71,-208.28 45.15,-197.71 50.04,-188.2\"/>\n",
       "<polygon fill=\"black\" stroke=\"black\" points=\"53.23,-189.64 54.7,-179.15 47.01,-186.44 53.23,-189.64\"/>\n",
       "</g>\n",
       "<!-- t1 -->\n",
       "<g id=\"node2\" class=\"node\">\n",
       "<title>t1</title>\n",
       "<ellipse fill=\"#f0efed\" stroke=\"#f0efed\" cx=\"171\" cy=\"-234\" rx=\"27\" ry=\"18\"/>\n",
       "<text text-anchor=\"middle\" x=\"171\" y=\"-230.3\" font-family=\"Times,serif\" font-size=\"14.00\">t1</text>\n",
       "</g>\n",
       "<!-- t2 -->\n",
       "<g id=\"node3\" class=\"node\">\n",
       "<title>t2</title>\n",
       "<ellipse fill=\"#f0efed\" stroke=\"#f0efed\" cx=\"99\" cy=\"-234\" rx=\"27\" ry=\"18\"/>\n",
       "<text text-anchor=\"middle\" x=\"99\" y=\"-230.3\" font-family=\"Times,serif\" font-size=\"14.00\">t2</text>\n",
       "</g>\n",
       "<!-- t2&#45;&gt;t3 -->\n",
       "<g id=\"edge2\" class=\"edge\">\n",
       "<title>t2&#45;&gt;t3</title>\n",
       "<path fill=\"none\" stroke=\"black\" d=\"M90.65,-216.76C86.29,-208.28 80.85,-197.71 75.96,-188.2\"/>\n",
       "<polygon fill=\"black\" stroke=\"black\" points=\"78.99,-186.44 71.3,-179.15 72.77,-189.64 78.99,-186.44\"/>\n",
       "</g>\n",
       "<!-- t6 -->\n",
       "<g id=\"node7\" class=\"node\">\n",
       "<title>t6</title>\n",
       "<ellipse fill=\"#f0efed\" stroke=\"#f0efed\" cx=\"27\" cy=\"-90\" rx=\"27\" ry=\"18\"/>\n",
       "<text text-anchor=\"middle\" x=\"27\" y=\"-86.3\" font-family=\"Times,serif\" font-size=\"14.00\">t6</text>\n",
       "</g>\n",
       "<!-- t3&#45;&gt;t6 -->\n",
       "<g id=\"edge3\" class=\"edge\">\n",
       "<title>t3&#45;&gt;t6</title>\n",
       "<path fill=\"none\" stroke=\"black\" d=\"M54.65,-144.76C50.29,-136.28 44.85,-125.71 39.96,-116.2\"/>\n",
       "<polygon fill=\"black\" stroke=\"black\" points=\"42.99,-114.44 35.3,-107.15 36.77,-117.64 42.99,-114.44\"/>\n",
       "</g>\n",
       "<!-- t9 -->\n",
       "<g id=\"node10\" class=\"node\">\n",
       "<title>t9</title>\n",
       "<ellipse fill=\"#f0efed\" stroke=\"#f0efed\" cx=\"99\" cy=\"-90\" rx=\"27\" ry=\"18\"/>\n",
       "<text text-anchor=\"middle\" x=\"99\" y=\"-86.3\" font-family=\"Times,serif\" font-size=\"14.00\">t9</text>\n",
       "</g>\n",
       "<!-- t3&#45;&gt;t9 -->\n",
       "<g id=\"edge4\" class=\"edge\">\n",
       "<title>t3&#45;&gt;t9</title>\n",
       "<path fill=\"none\" stroke=\"black\" d=\"M71.35,-144.76C75.71,-136.28 81.15,-125.71 86.04,-116.2\"/>\n",
       "<polygon fill=\"black\" stroke=\"black\" points=\"89.23,-117.64 90.7,-107.15 83.01,-114.44 89.23,-117.64\"/>\n",
       "</g>\n",
       "<!-- t4 -->\n",
       "<g id=\"node5\" class=\"node\">\n",
       "<title>t4</title>\n",
       "<ellipse fill=\"#f0efed\" stroke=\"#f0efed\" cx=\"243\" cy=\"-234\" rx=\"27\" ry=\"18\"/>\n",
       "<text text-anchor=\"middle\" x=\"243\" y=\"-230.3\" font-family=\"Times,serif\" font-size=\"14.00\">t4</text>\n",
       "</g>\n",
       "<!-- t5 -->\n",
       "<g id=\"node6\" class=\"node\">\n",
       "<title>t5</title>\n",
       "<ellipse fill=\"#f0efed\" stroke=\"#f0efed\" cx=\"27\" cy=\"-18\" rx=\"27\" ry=\"18\"/>\n",
       "<text text-anchor=\"middle\" x=\"27\" y=\"-14.3\" font-family=\"Times,serif\" font-size=\"14.00\">t5</text>\n",
       "</g>\n",
       "<!-- t6&#45;&gt;t5 -->\n",
       "<g id=\"edge5\" class=\"edge\">\n",
       "<title>t6&#45;&gt;t5</title>\n",
       "<path fill=\"none\" stroke=\"black\" d=\"M27,-71.7C27,-63.98 27,-54.71 27,-46.11\"/>\n",
       "<polygon fill=\"black\" stroke=\"black\" points=\"30.5,-46.1 27,-36.1 23.5,-46.1 30.5,-46.1\"/>\n",
       "</g>\n",
       "<!-- t7 -->\n",
       "<g id=\"node8\" class=\"node\">\n",
       "<title>t7</title>\n",
       "<ellipse fill=\"#f0efed\" stroke=\"#f0efed\" cx=\"99\" cy=\"-18\" rx=\"27\" ry=\"18\"/>\n",
       "<text text-anchor=\"middle\" x=\"99\" y=\"-14.3\" font-family=\"Times,serif\" font-size=\"14.00\">t7</text>\n",
       "</g>\n",
       "<!-- t8 -->\n",
       "<g id=\"node9\" class=\"node\">\n",
       "<title>t8</title>\n",
       "<ellipse fill=\"#f0efed\" stroke=\"#f0efed\" cx=\"171\" cy=\"-18\" rx=\"27\" ry=\"18\"/>\n",
       "<text text-anchor=\"middle\" x=\"171\" y=\"-14.3\" font-family=\"Times,serif\" font-size=\"14.00\">t8</text>\n",
       "</g>\n",
       "<!-- t9&#45;&gt;t5 -->\n",
       "<g id=\"edge6\" class=\"edge\">\n",
       "<title>t9&#45;&gt;t5</title>\n",
       "<path fill=\"none\" stroke=\"black\" d=\"M84.43,-74.83C74.25,-64.94 60.48,-51.55 48.97,-40.36\"/>\n",
       "<polygon fill=\"black\" stroke=\"black\" points=\"51.41,-37.85 41.8,-33.38 46.53,-42.87 51.41,-37.85\"/>\n",
       "</g>\n",
       "<!-- t9&#45;&gt;t7 -->\n",
       "<g id=\"edge7\" class=\"edge\">\n",
       "<title>t9&#45;&gt;t7</title>\n",
       "<path fill=\"none\" stroke=\"black\" d=\"M99,-71.7C99,-63.98 99,-54.71 99,-46.11\"/>\n",
       "<polygon fill=\"black\" stroke=\"black\" points=\"102.5,-46.1 99,-36.1 95.5,-46.1 102.5,-46.1\"/>\n",
       "</g>\n",
       "<!-- t9&#45;&gt;t8 -->\n",
       "<g id=\"edge8\" class=\"edge\">\n",
       "<title>t9&#45;&gt;t8</title>\n",
       "<path fill=\"none\" stroke=\"black\" d=\"M113.57,-74.83C123.75,-64.94 137.52,-51.55 149.03,-40.36\"/>\n",
       "<polygon fill=\"black\" stroke=\"black\" points=\"151.47,-42.87 156.2,-33.38 146.59,-37.85 151.47,-42.87\"/>\n",
       "</g>\n",
       "</g>\n",
       "</svg>\n"
      ],
      "text/plain": [
       "<graphviz.graphs.Digraph at 0x7f31f1d0bc70>"
      ]
     },
     "execution_count": 34,
     "metadata": {},
     "output_type": "execute_result"
    }
   ],
   "source": [
    "pr.get_dfg().visualize()"
   ]
  },
  {
   "cell_type": "markdown",
   "metadata": {},
   "source": [
    "Despite the samples originating from two well-separated distribution, we find a total of 4 ranks. Therefore, in cases where the distributions are expected to be well separated, but there are too few measurements to capture the actual quantile values, it is recommended to use **PartialRankerDFGReduced** or **PartialRankerMin**."
   ]
  }
 ],
 "metadata": {
  "kernelspec": {
   "display_name": ".venv_partial_ranker",
   "language": "python",
   "name": "python3"
  },
  "language_info": {
   "codemirror_mode": {
    "name": "ipython",
    "version": 3
   },
   "file_extension": ".py",
   "mimetype": "text/x-python",
   "name": "python",
   "nbconvert_exporter": "python",
   "pygments_lexer": "ipython3",
   "version": "3.10.12"
  }
 },
 "nbformat": 4,
 "nbformat_minor": 2
}
