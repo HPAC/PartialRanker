{
 "cells": [
  {
   "cell_type": "markdown",
   "metadata": {},
   "source": [
    "### Measurements Simulator"
   ]
  },
  {
   "cell_type": "code",
   "execution_count": 1,
   "metadata": {},
   "outputs": [],
   "source": [
    "# Partial Ranker\n",
    "#\n",
    "# Copyright (C) 2019-2024, Aravind Sankaran\n",
    "# IRTG-2379: Modern Inverse Problems, RWTH Aachen University, Germany\n",
    "# HPAC, Umeå University, Sweden\n",
    "#\n",
    "# This program is free software: you can redistribute it and/or modify\n",
    "# it under the terms of the GNU General Public License as published by\n",
    "# the Free Software Foundation, either version 3 of the License, or\n",
    "# any later version.\n",
    "#\n",
    "# This program is distributed in the hope that it will be useful,\n",
    "# but WITHOUT ANY WARRANTY; without even the implied warranty of\n",
    "# MERCHANTABILITY or FITNESS FOR A PARTICULAR PURPOSE.  See the\n",
    "# GNU General Public License for more details.\n",
    "#\n",
    "# You should have received a copy of the GNU General Public License\n",
    "# along with this program.  If not, see <http://www.gnu.org/licenses/>.\n",
    "#\n",
    "# Contributors:\n",
    "# - Aravind Sankaran\n",
    "\n",
    "import numpy as np\n",
    "\n",
    "class MeasurementsSimulator:\n",
    "    \"\"\"\n",
    "    Class for simulating measurements.\n",
    "\n",
    "    Attributes:\n",
    "        obj_params (dict): Keys are object IDs (str), and values are lists of distribution parameters (e.g., for normal distribution is values are [mean, std])           \n",
    "        dist (str): The distribution type used for generating measurements. Currently supports only 'normal'.\n",
    "        measurements (dict): A dictionary to store measurements.\n",
    "                        Keys are object IDs (str), and values are lists of measurement values.\n",
    "    \"\"\"\n",
    "    \n",
    "    def __init__(self, obj_params:dict, dist='normal', seed=0):\n",
    "        \"\"\"Initializes the MeasurementsSimulator object.\n",
    "\n",
    "        Args:\n",
    "            obj_params (dict):  Keys are object IDs (str), and values are lists of distribution parameters (e.g., for normal distribution is values are [mean, std])\n",
    "            dist (str, optional): The distribution type used for generating measurements. Currently supports only 'normal'. Defaults to 'normal'.\n",
    "            seed (int, optional): The numpy seed used to generate measurements. Defaults to 0.\n",
    "        \"\"\"\n",
    "        self.obj_params = obj_params\n",
    "        self.dist = dist\n",
    "        self.measurements = {}\n",
    "        np.random.seed(seed)\n",
    "\n",
    "    def normal(self, mean:float, std:float) -> float:\n",
    "        \"\"\"\n",
    "        Generates a random number from a normal distribution.\n",
    "\n",
    "        Args:\n",
    "            mean (float): The mean of the normal distribution.\n",
    "            std (float): The standard deviation of the normal distribution.\n",
    "\n",
    "        Returns:\n",
    "            float: A random number from the normal distribution.\n",
    "        \"\"\"\n",
    "        return np.random.normal(mean, std)\n",
    "\n",
    "    def add_measurement(self, obj_id, x:float) -> None:\n",
    "        \"\"\"\n",
    "        Adds a measurement to the measurements dictionary.\n",
    "\n",
    "        Args:\n",
    "            obj_id (str | int): The ID of the object.\n",
    "            x (float): The measurement value to add.\n",
    "\n",
    "        Adds the measurement value `x` to the measurements dictionary under the object ID `obj_id`.\n",
    "        \"\"\"\n",
    "        try:\n",
    "            self.measurements[obj_id].append(x)\n",
    "        except KeyError:\n",
    "            self.measurements[obj_id] = []\n",
    "            self.measurements[obj_id].append(x)\n",
    "\n",
    "    def measure(self, reps:int) -> None:\n",
    "        \"\"\"\n",
    "        Measures objects multiple times.\n",
    "\n",
    "        Args:\n",
    "            reps (int): The number of repetitions for measuring each object.\n",
    "\n",
    "        Generates measurements for each object based on the specified distribution parameters and number of repetitions.\n",
    "        \"\"\"\n",
    "        for obj_id, params in self.obj_params.items():\n",
    "            for i in range(reps):\n",
    "                if self.dist == 'normal':\n",
    "                    x = self.normal(*params)\n",
    "                    self.add_measurement(obj_id, x)\n",
    "\n",
    "    def get_measurements(self) -> dict:\n",
    "        \"\"\"\n",
    "        Retrieves measurements.\n",
    "\n",
    "        Returns:\n",
    "            dict: A dictionary containing measurements.\n",
    "                Keys are object IDs (str), and values are lists of measurement values.\n",
    "\n",
    "        Returns the measurements dictionary.\n",
    "        \"\"\"\n",
    "        return self.measurements"
   ]
  },
  {
   "cell_type": "markdown",
   "metadata": {},
   "source": [
    "##### Usage"
   ]
  },
  {
   "cell_type": "code",
   "execution_count": 2,
   "metadata": {},
   "outputs": [],
   "source": [
    "obj_params = {}\n",
    "obj_params['alg1']  = [0.2,0.02] # [mean, std]\n",
    "obj_params['alg2']  = [0.2,0.01]\n",
    "obj_params['alg3']  = [0.2,0.01]\n",
    "obj_params['alg4']  = [0.19,0.01]\n",
    "ms = MeasurementsSimulator(obj_params,seed=129) "
   ]
  },
  {
   "cell_type": "code",
   "execution_count": 3,
   "metadata": {},
   "outputs": [],
   "source": [
    "reps = 3\n",
    "ms.measure(reps=reps)"
   ]
  },
  {
   "cell_type": "code",
   "execution_count": 4,
   "metadata": {},
   "outputs": [
    {
     "data": {
      "text/plain": [
       "{'alg1': [0.16742377244124623, 0.20991478401686695, 0.18474467129451336],\n",
       " 'alg2': [0.2019346478838596, 0.2001595378747009, 0.20462480222560295],\n",
       " 'alg3': [0.19735861228385432, 0.1881739568388649, 0.19367300136982005],\n",
       " 'alg4': [0.18466991161243584, 0.1862147309092967, 0.19840955957016135]}"
      ]
     },
     "execution_count": 4,
     "metadata": {},
     "output_type": "execute_result"
    }
   ],
   "source": [
    "ms.get_measurements()"
   ]
  },
  {
   "cell_type": "code",
   "execution_count": null,
   "metadata": {},
   "outputs": [],
   "source": []
  }
 ],
 "metadata": {
  "kernelspec": {
   "display_name": ".venv_partial_ranker",
   "language": "python",
   "name": "python3"
  },
  "language_info": {
   "codemirror_mode": {
    "name": "ipython",
    "version": 3
   },
   "file_extension": ".py",
   "mimetype": "text/x-python",
   "name": "python",
   "nbconvert_exporter": "python",
   "pygments_lexer": "ipython3",
   "version": "3.10.12"
  }
 },
 "nbformat": 4,
 "nbformat_minor": 2
}
