{
 "cells": [
  {
   "cell_type": "code",
   "execution_count": 1,
   "id": "bbcff19b",
   "metadata": {},
   "outputs": [],
   "source": [
    "import sys\n",
    "sys.path.append(\"../../ranking/\")\n",
    "sys.path.append(\"../../tests/\")"
   ]
  },
  {
   "cell_type": "code",
   "execution_count": 2,
   "id": "437df380",
   "metadata": {},
   "outputs": [],
   "source": [
    "from rank_variants import RankVariants\n",
    "from measurements_visualizer import MeasurementsVisualizer\n",
    "from measurements_simulator import MeasurementsSimulator\n",
    "from measure_and_rank import measure_and_rank\n",
    "import pandas as pd"
   ]
  },
  {
   "cell_type": "markdown",
   "id": "9d1a662b",
   "metadata": {},
   "source": [
    "### Simulate Normal distributions\n",
    "\n",
    "Specify the mean and standard deviation for each algorithm\n",
    "\n",
    "### Example 1: Significant overlaps"
   ]
  },
  {
   "cell_type": "code",
   "execution_count": 24,
   "id": "6f5c6031",
   "metadata": {},
   "outputs": [],
   "source": [
    "cfg = {}\n",
    "cfg['alg1']  = [0.2,0.02] #[mean, std]\n",
    "cfg['alg2']  = [0.2,0.01]\n",
    "cfg['alg3']  = [0.2,0.01]\n",
    "cfg['alg4']  = [0.19,0.01]\n",
    "h0 = list(cfg.keys())"
   ]
  },
  {
   "cell_type": "markdown",
   "id": "658c45e8",
   "metadata": {},
   "source": [
    "### Rank algorithms after every 3 measurements per algorithm\n",
    "\n",
    "Refer Procedure 4 in [?] for details about the parameters"
   ]
  },
  {
   "cell_type": "code",
   "execution_count": 25,
   "id": "32981b81",
   "metadata": {},
   "outputs": [
    {
     "name": "stdout",
     "output_type": "stream",
     "text": [
      "  case:concept:name  case:mean-rank\n",
      "3              alg4           0.000\n",
      "0              alg1           0.750\n",
      "1              alg2           0.750\n",
      "2              alg3           1.625\n",
      "norm: 0.7029513674501245\n",
      "  case:concept:name  case:mean-rank\n",
      "0              alg4           0.000\n",
      "1              alg1           0.125\n",
      "2              alg2           0.375\n",
      "3              alg3           0.375\n",
      "norm: 0.38654115240165565\n",
      "  case:concept:name  case:mean-rank\n",
      "0              alg4           0.000\n",
      "1              alg1           0.000\n",
      "2              alg2           0.125\n",
      "3              alg3           0.125\n",
      "norm: 0.06987712429686843\n",
      "  case:concept:name  case:mean-rank\n",
      "0              alg4           0.000\n",
      "1              alg1           0.125\n",
      "2              alg2           0.125\n",
      "3              alg3           0.125\n",
      "norm: 0.03125\n",
      "  case:concept:name  case:mean-rank\n",
      "0              alg4           0.000\n",
      "1              alg1           0.125\n",
      "3              alg3           0.125\n",
      "2              alg2           0.250\n",
      "norm: 0.04419417382415922\n",
      "  case:concept:name  case:mean-rank\n",
      "0              alg4           0.000\n",
      "1              alg1           0.125\n",
      "2              alg3           0.125\n",
      "3              alg2           0.125\n",
      "norm: 0.04419417382415922\n",
      "  case:concept:name  case:mean-rank\n",
      "0              alg4           0.000\n",
      "1              alg1           0.125\n",
      "2              alg3           0.125\n",
      "3              alg2           0.250\n",
      "norm: 0.04419417382415922\n",
      "  case:concept:name  case:mean-rank\n",
      "0              alg4           0.000\n",
      "1              alg1           0.125\n",
      "2              alg3           0.125\n",
      "3              alg2           0.250\n",
      "norm: 0.0\n",
      "Number of measurements: 24\n"
     ]
    }
   ],
   "source": [
    "ms = MeasurementsSimulator(cfg, 'normal') \n",
    "rep_steps = 3\n",
    "eps = 0.03\n",
    "max_rep = 50\n",
    "s, mr, history = measure_and_rank(ms, h0, rep_steps=rep_steps, eps=eps, max_rep=max_rep)"
   ]
  },
  {
   "cell_type": "markdown",
   "id": "f455415e",
   "metadata": {},
   "source": [
    "#### Ranks"
   ]
  },
  {
   "cell_type": "code",
   "execution_count": 26,
   "id": "1c930050",
   "metadata": {},
   "outputs": [
    {
     "data": {
      "text/html": [
       "<div>\n",
       "<style scoped>\n",
       "    .dataframe tbody tr th:only-of-type {\n",
       "        vertical-align: middle;\n",
       "    }\n",
       "\n",
       "    .dataframe tbody tr th {\n",
       "        vertical-align: top;\n",
       "    }\n",
       "\n",
       "    .dataframe thead th {\n",
       "        text-align: right;\n",
       "    }\n",
       "</style>\n",
       "<table border=\"1\" class=\"dataframe\">\n",
       "  <thead>\n",
       "    <tr style=\"text-align: right;\">\n",
       "      <th></th>\n",
       "      <th>case:rank:q95-q5</th>\n",
       "      <th>case:rank:q90-q10</th>\n",
       "      <th>case:rank:q85-q15</th>\n",
       "      <th>case:rank:q80-q20</th>\n",
       "      <th>case:rank:q75-q25</th>\n",
       "      <th>case:rank:q70-q30</th>\n",
       "      <th>case:rank:q65-q35</th>\n",
       "      <th>case:rank:q55-q45</th>\n",
       "    </tr>\n",
       "    <tr>\n",
       "      <th>case:concept:name</th>\n",
       "      <th></th>\n",
       "      <th></th>\n",
       "      <th></th>\n",
       "      <th></th>\n",
       "      <th></th>\n",
       "      <th></th>\n",
       "      <th></th>\n",
       "      <th></th>\n",
       "    </tr>\n",
       "  </thead>\n",
       "  <tbody>\n",
       "    <tr>\n",
       "      <th>alg4</th>\n",
       "      <td>0</td>\n",
       "      <td>0</td>\n",
       "      <td>0</td>\n",
       "      <td>0</td>\n",
       "      <td>0</td>\n",
       "      <td>0</td>\n",
       "      <td>0</td>\n",
       "      <td>0</td>\n",
       "    </tr>\n",
       "    <tr>\n",
       "      <th>alg1</th>\n",
       "      <td>0</td>\n",
       "      <td>0</td>\n",
       "      <td>0</td>\n",
       "      <td>0</td>\n",
       "      <td>0</td>\n",
       "      <td>0</td>\n",
       "      <td>0</td>\n",
       "      <td>1</td>\n",
       "    </tr>\n",
       "    <tr>\n",
       "      <th>alg3</th>\n",
       "      <td>0</td>\n",
       "      <td>0</td>\n",
       "      <td>0</td>\n",
       "      <td>0</td>\n",
       "      <td>0</td>\n",
       "      <td>0</td>\n",
       "      <td>0</td>\n",
       "      <td>1</td>\n",
       "    </tr>\n",
       "    <tr>\n",
       "      <th>alg2</th>\n",
       "      <td>0</td>\n",
       "      <td>0</td>\n",
       "      <td>0</td>\n",
       "      <td>0</td>\n",
       "      <td>0</td>\n",
       "      <td>0</td>\n",
       "      <td>0</td>\n",
       "      <td>2</td>\n",
       "    </tr>\n",
       "  </tbody>\n",
       "</table>\n",
       "</div>"
      ],
      "text/plain": [
       "                   case:rank:q95-q5  case:rank:q90-q10  case:rank:q85-q15  \\\n",
       "case:concept:name                                                           \n",
       "alg4                              0                  0                  0   \n",
       "alg1                              0                  0                  0   \n",
       "alg3                              0                  0                  0   \n",
       "alg2                              0                  0                  0   \n",
       "\n",
       "                   case:rank:q80-q20  case:rank:q75-q25  case:rank:q70-q30  \\\n",
       "case:concept:name                                                            \n",
       "alg4                               0                  0                  0   \n",
       "alg1                               0                  0                  0   \n",
       "alg3                               0                  0                  0   \n",
       "alg2                               0                  0                  0   \n",
       "\n",
       "                   case:rank:q65-q35  case:rank:q55-q45  \n",
       "case:concept:name                                        \n",
       "alg4                               0                  0  \n",
       "alg1                               0                  1  \n",
       "alg3                               0                  1  \n",
       "alg2                               0                  2  "
      ]
     },
     "execution_count": 26,
     "metadata": {},
     "output_type": "execute_result"
    }
   ],
   "source": [
    "s"
   ]
  },
  {
   "cell_type": "markdown",
   "id": "c7a43a33",
   "metadata": {},
   "source": [
    "#### Mean ranks"
   ]
  },
  {
   "cell_type": "code",
   "execution_count": 27,
   "id": "b46a1067",
   "metadata": {},
   "outputs": [
    {
     "data": {
      "text/html": [
       "<div>\n",
       "<style scoped>\n",
       "    .dataframe tbody tr th:only-of-type {\n",
       "        vertical-align: middle;\n",
       "    }\n",
       "\n",
       "    .dataframe tbody tr th {\n",
       "        vertical-align: top;\n",
       "    }\n",
       "\n",
       "    .dataframe thead th {\n",
       "        text-align: right;\n",
       "    }\n",
       "</style>\n",
       "<table border=\"1\" class=\"dataframe\">\n",
       "  <thead>\n",
       "    <tr style=\"text-align: right;\">\n",
       "      <th></th>\n",
       "      <th>case:concept:name</th>\n",
       "      <th>case:mean-rank</th>\n",
       "    </tr>\n",
       "  </thead>\n",
       "  <tbody>\n",
       "    <tr>\n",
       "      <th>0</th>\n",
       "      <td>alg4</td>\n",
       "      <td>0.000</td>\n",
       "    </tr>\n",
       "    <tr>\n",
       "      <th>1</th>\n",
       "      <td>alg1</td>\n",
       "      <td>0.125</td>\n",
       "    </tr>\n",
       "    <tr>\n",
       "      <th>2</th>\n",
       "      <td>alg3</td>\n",
       "      <td>0.125</td>\n",
       "    </tr>\n",
       "    <tr>\n",
       "      <th>3</th>\n",
       "      <td>alg2</td>\n",
       "      <td>0.250</td>\n",
       "    </tr>\n",
       "  </tbody>\n",
       "</table>\n",
       "</div>"
      ],
      "text/plain": [
       "  case:concept:name  case:mean-rank\n",
       "0              alg4           0.000\n",
       "1              alg1           0.125\n",
       "2              alg3           0.125\n",
       "3              alg2           0.250"
      ]
     },
     "execution_count": 27,
     "metadata": {},
     "output_type": "execute_result"
    }
   ],
   "source": [
    "mr"
   ]
  },
  {
   "cell_type": "markdown",
   "id": "35a7afb6",
   "metadata": {},
   "source": [
    "#### Visulaize data"
   ]
  },
  {
   "cell_type": "code",
   "execution_count": 15,
   "id": "12780eb7",
   "metadata": {},
   "outputs": [],
   "source": [
    "mv = MeasurementsVisualizer(ms.get_alg_measurements(), h0)"
   ]
  },
  {
   "cell_type": "code",
   "execution_count": 16,
   "id": "98d43115",
   "metadata": {},
   "outputs": [
    {
     "data": {
      "image/png": "[encoded data removed]",
      "text/plain": [
       "<Figure size 720x432 with 1 Axes>"
      ]
     },
     "metadata": {
      "needs_background": "light"
     },
     "output_type": "display_data"
    }
   ],
   "source": [
    "mv.show_measurements_boxplots()"
   ]
  },
  {
   "cell_type": "markdown",
   "id": "c0a9892a",
   "metadata": {},
   "source": [
    "### Example 2: Non-significant overlaps\n",
    "\n",
    "Requires less  measurements than the example with algorithms having siginificant overlaps."
   ]
  },
  {
   "cell_type": "code",
   "execution_count": 28,
   "id": "2299c451",
   "metadata": {},
   "outputs": [],
   "source": [
    "cfg = {}\n",
    "cfg['alg1']  = [0.4,0.02] #[mean, std]\n",
    "cfg['alg2']  = [0.2,0.01]\n",
    "cfg['alg3']  = [0.25,0.01]\n",
    "cfg['alg4']  = [0.15,0.01]\n",
    "h0 = list(cfg.keys())"
   ]
  },
  {
   "cell_type": "code",
   "execution_count": 29,
   "id": "d03c307c",
   "metadata": {},
   "outputs": [
    {
     "name": "stdout",
     "output_type": "stream",
     "text": [
      "  case:concept:name  case:mean-rank\n",
      "0              alg4             0.0\n",
      "1              alg2             1.0\n",
      "2              alg3             2.0\n",
      "3              alg1             3.0\n",
      "norm: 1.0606601717798212\n",
      "  case:concept:name  case:mean-rank\n",
      "0              alg4             0.0\n",
      "1              alg2             1.0\n",
      "2              alg3             2.0\n",
      "3              alg1             3.0\n",
      "norm: 0.0\n",
      "Number of measurements: 6\n"
     ]
    }
   ],
   "source": [
    "ms = MeasurementsSimulator(cfg, 'normal') \n",
    "rep_steps = 3\n",
    "eps = 0.03\n",
    "max_rep = 50\n",
    "s, mr, history = measure_and_rank(ms, h0, rep_steps=rep_steps, eps=eps, max_rep=max_rep)"
   ]
  },
  {
   "cell_type": "code",
   "execution_count": 30,
   "id": "a754e6ac",
   "metadata": {},
   "outputs": [
    {
     "data": {
      "text/html": [
       "<div>\n",
       "<style scoped>\n",
       "    .dataframe tbody tr th:only-of-type {\n",
       "        vertical-align: middle;\n",
       "    }\n",
       "\n",
       "    .dataframe tbody tr th {\n",
       "        vertical-align: top;\n",
       "    }\n",
       "\n",
       "    .dataframe thead th {\n",
       "        text-align: right;\n",
       "    }\n",
       "</style>\n",
       "<table border=\"1\" class=\"dataframe\">\n",
       "  <thead>\n",
       "    <tr style=\"text-align: right;\">\n",
       "      <th></th>\n",
       "      <th>case:rank:q95-q5</th>\n",
       "      <th>case:rank:q90-q10</th>\n",
       "      <th>case:rank:q85-q15</th>\n",
       "      <th>case:rank:q80-q20</th>\n",
       "      <th>case:rank:q75-q25</th>\n",
       "      <th>case:rank:q70-q30</th>\n",
       "      <th>case:rank:q65-q35</th>\n",
       "      <th>case:rank:q55-q45</th>\n",
       "    </tr>\n",
       "    <tr>\n",
       "      <th>case:concept:name</th>\n",
       "      <th></th>\n",
       "      <th></th>\n",
       "      <th></th>\n",
       "      <th></th>\n",
       "      <th></th>\n",
       "      <th></th>\n",
       "      <th></th>\n",
       "      <th></th>\n",
       "    </tr>\n",
       "  </thead>\n",
       "  <tbody>\n",
       "    <tr>\n",
       "      <th>alg4</th>\n",
       "      <td>0</td>\n",
       "      <td>0</td>\n",
       "      <td>0</td>\n",
       "      <td>0</td>\n",
       "      <td>0</td>\n",
       "      <td>0</td>\n",
       "      <td>0</td>\n",
       "      <td>0</td>\n",
       "    </tr>\n",
       "    <tr>\n",
       "      <th>alg2</th>\n",
       "      <td>1</td>\n",
       "      <td>1</td>\n",
       "      <td>1</td>\n",
       "      <td>1</td>\n",
       "      <td>1</td>\n",
       "      <td>1</td>\n",
       "      <td>1</td>\n",
       "      <td>1</td>\n",
       "    </tr>\n",
       "    <tr>\n",
       "      <th>alg3</th>\n",
       "      <td>2</td>\n",
       "      <td>2</td>\n",
       "      <td>2</td>\n",
       "      <td>2</td>\n",
       "      <td>2</td>\n",
       "      <td>2</td>\n",
       "      <td>2</td>\n",
       "      <td>2</td>\n",
       "    </tr>\n",
       "    <tr>\n",
       "      <th>alg1</th>\n",
       "      <td>3</td>\n",
       "      <td>3</td>\n",
       "      <td>3</td>\n",
       "      <td>3</td>\n",
       "      <td>3</td>\n",
       "      <td>3</td>\n",
       "      <td>3</td>\n",
       "      <td>3</td>\n",
       "    </tr>\n",
       "  </tbody>\n",
       "</table>\n",
       "</div>"
      ],
      "text/plain": [
       "                   case:rank:q95-q5  case:rank:q90-q10  case:rank:q85-q15  \\\n",
       "case:concept:name                                                           \n",
       "alg4                              0                  0                  0   \n",
       "alg2                              1                  1                  1   \n",
       "alg3                              2                  2                  2   \n",
       "alg1                              3                  3                  3   \n",
       "\n",
       "                   case:rank:q80-q20  case:rank:q75-q25  case:rank:q70-q30  \\\n",
       "case:concept:name                                                            \n",
       "alg4                               0                  0                  0   \n",
       "alg2                               1                  1                  1   \n",
       "alg3                               2                  2                  2   \n",
       "alg1                               3                  3                  3   \n",
       "\n",
       "                   case:rank:q65-q35  case:rank:q55-q45  \n",
       "case:concept:name                                        \n",
       "alg4                               0                  0  \n",
       "alg2                               1                  1  \n",
       "alg3                               2                  2  \n",
       "alg1                               3                  3  "
      ]
     },
     "execution_count": 30,
     "metadata": {},
     "output_type": "execute_result"
    }
   ],
   "source": [
    "s"
   ]
  },
  {
   "cell_type": "code",
   "execution_count": 31,
   "id": "a925263f",
   "metadata": {},
   "outputs": [
    {
     "data": {
      "text/html": [
       "<div>\n",
       "<style scoped>\n",
       "    .dataframe tbody tr th:only-of-type {\n",
       "        vertical-align: middle;\n",
       "    }\n",
       "\n",
       "    .dataframe tbody tr th {\n",
       "        vertical-align: top;\n",
       "    }\n",
       "\n",
       "    .dataframe thead th {\n",
       "        text-align: right;\n",
       "    }\n",
       "</style>\n",
       "<table border=\"1\" class=\"dataframe\">\n",
       "  <thead>\n",
       "    <tr style=\"text-align: right;\">\n",
       "      <th></th>\n",
       "      <th>case:concept:name</th>\n",
       "      <th>case:mean-rank</th>\n",
       "    </tr>\n",
       "  </thead>\n",
       "  <tbody>\n",
       "    <tr>\n",
       "      <th>0</th>\n",
       "      <td>alg4</td>\n",
       "      <td>0.0</td>\n",
       "    </tr>\n",
       "    <tr>\n",
       "      <th>1</th>\n",
       "      <td>alg2</td>\n",
       "      <td>1.0</td>\n",
       "    </tr>\n",
       "    <tr>\n",
       "      <th>2</th>\n",
       "      <td>alg3</td>\n",
       "      <td>2.0</td>\n",
       "    </tr>\n",
       "    <tr>\n",
       "      <th>3</th>\n",
       "      <td>alg1</td>\n",
       "      <td>3.0</td>\n",
       "    </tr>\n",
       "  </tbody>\n",
       "</table>\n",
       "</div>"
      ],
      "text/plain": [
       "  case:concept:name  case:mean-rank\n",
       "0              alg4             0.0\n",
       "1              alg2             1.0\n",
       "2              alg3             2.0\n",
       "3              alg1             3.0"
      ]
     },
     "execution_count": 31,
     "metadata": {},
     "output_type": "execute_result"
    }
   ],
   "source": [
    "mr"
   ]
  },
  {
   "cell_type": "code",
   "execution_count": 20,
   "id": "d03c88df",
   "metadata": {},
   "outputs": [
    {
     "data": {
      "image/png": "[encoded data removed]",
      "text/plain": [
       "<Figure size 720x432 with 1 Axes>"
      ]
     },
     "metadata": {
      "needs_background": "light"
     },
     "output_type": "display_data"
    }
   ],
   "source": [
    "mv = MeasurementsVisualizer(ms.get_alg_measurements(), h0)\n",
    "mv.show_measurements_boxplots()"
   ]
  },
  {
   "cell_type": "code",
   "execution_count": null,
   "id": "cd82a3fa",
   "metadata": {},
   "outputs": [],
   "source": []
  }
 ],
 "metadata": {
  "kernelspec": {
   "display_name": "Python 3 (ipykernel)",
   "language": "python",
   "name": "python3"
  },
  "language_info": {
   "codemirror_mode": {
    "name": "ipython",
    "version": 3
   },
   "file_extension": ".py",
   "mimetype": "text/x-python",
   "name": "python",
   "nbconvert_exporter": "python",
   "pygments_lexer": "ipython3",
   "version": "3.9.7"
  }
 },
 "nbformat": 4,
 "nbformat_minor": 5
}
