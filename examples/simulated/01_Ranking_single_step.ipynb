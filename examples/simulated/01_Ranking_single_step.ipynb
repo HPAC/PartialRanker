{
 "cells": [
  {
   "cell_type": "code",
   "execution_count": 47,
   "id": "4714d0ad",
   "metadata": {},
   "outputs": [],
   "source": [
    "from algorithm_ranking import MeasurementsSimulator, MeasurementsVisualizer, MeasurementsManager"
   ]
  },
  {
   "cell_type": "code",
   "execution_count": 48,
   "id": "97c58990",
   "metadata": {},
   "outputs": [],
   "source": [
    "from algorithm_ranking import RankVariantsSort1\n",
    "from algorithm_ranking import RankVariantsSort2\n",
    "from algorithm_ranking import RankVariantsSort3"
   ]
  },
  {
   "cell_type": "code",
   "execution_count": 49,
   "id": "3dd88b37",
   "metadata": {},
   "outputs": [],
   "source": [
    "import pandas as pd\n",
    "import numpy as np"
   ]
  },
  {
   "cell_type": "markdown",
   "id": "adfe422f",
   "metadata": {},
   "source": [
    "### Simulate normal distribution\n"
   ]
  },
  {
   "cell_type": "code",
   "execution_count": 50,
   "id": "ea500b8c",
   "metadata": {},
   "outputs": [],
   "source": [
    "# class MeasurementsSimulator(MeasurementsManager):\n",
    "#     def __init__(self, config, distribution='normal'):\n",
    "#         super().__init__()\n",
    "#         self.distribution = distribution\n",
    "#         self.config = config\n",
    "\n",
    "#     def normal(self, mean, std):\n",
    "#         return np.random.normal(mean, std)\n",
    "\n",
    "#     def add_measurement(self, alg, x):\n",
    "#         try:\n",
    "#             self.alg_measurements[alg].append(x)\n",
    "#         except KeyError:\n",
    "#             self.alg_measurements[alg] = []\n",
    "#             self.alg_measurements[alg].append(x)\n",
    "\n",
    "#     def measure(self, rep_steps, run_id):\n",
    "#         ## Abstract class\n",
    "#         for alg, params in self.config.items():\n",
    "#             for i in range(rep_steps):\n",
    "#                 if self.distribution == 'normal':\n",
    "#                     x = self.normal(*params)\n",
    "#                     self.add_measurement(alg, x)\n",
    "\n",
    "#     def get_alg_measurements(self):\n",
    "#         ## abstract class\n",
    "#         return self.alg_measurements"
   ]
  },
  {
   "cell_type": "markdown",
   "id": "42bb5dcf",
   "metadata": {},
   "source": [
    "\n",
    "\n",
    "Specify the mean and standard deviation for each algorithm"
   ]
  },
  {
   "cell_type": "code",
   "execution_count": 51,
   "id": "333ef10c",
   "metadata": {},
   "outputs": [],
   "source": [
    "cfg = {}\n",
    "cfg['alg1']  = [0.2,0.02] # [mean, std]\n",
    "cfg['alg2']  = [0.2,0.01]\n",
    "cfg['alg3']  = [0.2,0.01]\n",
    "cfg['alg4']  = [0.19,0.01]\n",
    "ms = MeasurementsSimulator(cfg, 'normal',seed=129)    "
   ]
  },
  {
   "cell_type": "code",
   "execution_count": 52,
   "id": "2db3d83d",
   "metadata": {},
   "outputs": [],
   "source": [
    "rep_steps = 20\n",
    "run_id= 1\n",
    "ms.measure(rep_steps=rep_steps, run_id=run_id)"
   ]
  },
  {
   "cell_type": "code",
   "execution_count": 53,
   "id": "53f98c11",
   "metadata": {},
   "outputs": [],
   "source": [
    "alg_measurements = ms.get_alg_measurements()\n",
    "h0 = list(cfg.keys())"
   ]
  },
  {
   "cell_type": "markdown",
   "id": "7eb0d7d5",
   "metadata": {},
   "source": [
    "#### Inputs:"
   ]
  },
  {
   "cell_type": "code",
   "execution_count": 54,
   "id": "4f117dd5",
   "metadata": {},
   "outputs": [
    {
     "data": {
      "text/plain": [
       "{'alg1': [0.16742377244124623,\n",
       "  0.20991478401686695,\n",
       "  0.18474467129451336,\n",
       "  0.20386929576771917,\n",
       "  0.20031907574940178,\n",
       "  0.20924960445120588,\n",
       "  0.1947172245677086,\n",
       "  0.17634791367772978,\n",
       "  0.1873460027396401,\n",
       "  0.18933982322487167,\n",
       "  0.19242946181859338,\n",
       "  0.2168191191403227,\n",
       "  0.19657656127313458,\n",
       "  0.2277554731720521,\n",
       "  0.22987160799130832,\n",
       "  0.1751428697000507,\n",
       "  0.17541546226180152,\n",
       "  0.1956845087739557,\n",
       "  0.22918646232635131,\n",
       "  0.19921181209865746],\n",
       " 'alg2': [0.1971327993427625,\n",
       "  0.1947449837447297,\n",
       "  0.21237065074399045,\n",
       "  0.19587092292960853,\n",
       "  0.1962559748282678,\n",
       "  0.18967430746992617,\n",
       "  0.20128547157022622,\n",
       "  0.20597724132827364,\n",
       "  0.19128543435465828,\n",
       "  0.20690852777541954,\n",
       "  0.19221002419707256,\n",
       "  0.19651334539253054,\n",
       "  0.19469357970594117,\n",
       "  0.19404071421380864,\n",
       "  0.19127613695684534,\n",
       "  0.2061549718520971,\n",
       "  0.2022338709354601,\n",
       "  0.19449286898509235,\n",
       "  0.19668683598234826,\n",
       "  0.1811768901912799],\n",
       " 'alg3': [0.19907386811336988,\n",
       "  0.18419643929335683,\n",
       "  0.197333469914343,\n",
       "  0.2024654433098736,\n",
       "  0.19648166378733864,\n",
       "  0.19976303540998944,\n",
       "  0.18986885068166387,\n",
       "  0.1822102841154076,\n",
       "  0.19274014280253213,\n",
       "  0.1859749469451925,\n",
       "  0.20476009122549296,\n",
       "  0.19734187349893675,\n",
       "  0.20159038133273624,\n",
       "  0.19468259675689256,\n",
       "  0.1968278994179853,\n",
       "  0.20950540468666462,\n",
       "  0.19787985910825118,\n",
       "  0.2149157370100332,\n",
       "  0.21053206913132858,\n",
       "  0.19759396699932943],\n",
       " 'alg4': [0.20302509066555352,\n",
       "  0.1752978479444499,\n",
       "  0.19718702550908704,\n",
       "  0.17959306526320504,\n",
       "  0.17270783673360462,\n",
       "  0.1913130465234658,\n",
       "  0.18932564013063025,\n",
       "  0.17658933599134108,\n",
       "  0.17879742084472564,\n",
       "  0.1829157276173467,\n",
       "  0.18167396629360788,\n",
       "  0.1909819991524564,\n",
       "  0.15897907216226714,\n",
       "  0.19384578465660288,\n",
       "  0.19685779376550142,\n",
       "  0.17814487208643326,\n",
       "  0.18490906000800605,\n",
       "  0.19122195471289702,\n",
       "  0.18864489284417674,\n",
       "  0.18874570000062346]}"
      ]
     },
     "execution_count": 54,
     "metadata": {},
     "output_type": "execute_result"
    }
   ],
   "source": [
    "alg_measurements"
   ]
  },
  {
   "cell_type": "code",
   "execution_count": 55,
   "id": "ade263b3",
   "metadata": {},
   "outputs": [
    {
     "data": {
      "text/plain": [
       "['alg1', 'alg2', 'alg3', 'alg4']"
      ]
     },
     "execution_count": 55,
     "metadata": {},
     "output_type": "execute_result"
    }
   ],
   "source": [
    "h0"
   ]
  },
  {
   "cell_type": "markdown",
   "id": "dee57230",
   "metadata": {},
   "source": [
    "### Visualize data"
   ]
  },
  {
   "cell_type": "code",
   "execution_count": 56,
   "id": "74df5c73",
   "metadata": {},
   "outputs": [],
   "source": [
    "mv = MeasurementsVisualizer(alg_measurements, h0)"
   ]
  },
  {
   "cell_type": "code",
   "execution_count": 57,
   "id": "252c8e51",
   "metadata": {},
   "outputs": [
    {
     "data": {
      "image/png": "[encoded data removed]",
      "text/plain": [
       "<Figure size 720x432 with 1 Axes>"
      ]
     },
     "metadata": {
      "needs_background": "light"
     },
     "output_type": "display_data"
    }
   ],
   "source": [
    "fig = mv.show_measurements_boxplots()"
   ]
  },
  {
   "cell_type": "code",
   "execution_count": 58,
   "id": "b640a242",
   "metadata": {},
   "outputs": [
    {
     "name": "stderr",
     "output_type": "stream",
     "text": [
      "/opt/intel/oneapi/intelpython/latest/lib/python3.9/site-packages/matplotlib/cbook/__init__.py:1426: VisibleDeprecationWarning: Creating an ndarray from ragged nested sequences (which is a list-or-tuple of lists-or-tuples-or ndarrays with different lengths or shapes) is deprecated. If you meant to do this, you must specify 'dtype=object' when creating the ndarray.\n",
      "  X = np.atleast_1d(X.T if isinstance(X, np.ndarray) else np.asarray(X))\n"
     ]
    },
    {
     "data": {
      "image/png": "[encoded data removed]",
      "text/plain": [
       "<Figure size 720x432 with 1 Axes>"
      ]
     },
     "metadata": {
      "needs_background": "light"
     },
     "output_type": "display_data"
    }
   ],
   "source": [
    "fig = mv.show_measurements_violinplot()"
   ]
  },
  {
   "cell_type": "markdown",
   "id": "3081102a",
   "metadata": {},
   "source": [
    "### Algorithm ranking"
   ]
  },
  {
   "cell_type": "code",
   "execution_count": 59,
   "id": "2af59650",
   "metadata": {},
   "outputs": [],
   "source": [
    "rank_variants = RankVariantsSort2(alg_measurements,h0)"
   ]
  },
  {
   "cell_type": "code",
   "execution_count": 60,
   "id": "af30e121",
   "metadata": {},
   "outputs": [
    {
     "name": "stdout",
     "output_type": "stream",
     "text": [
      "['alg1', 'alg2', 'alg3', 'alg4']\n",
      "[0 1 2 3]\n",
      "\n",
      "\n",
      "compare alg1 and alg2\n",
      "['alg1', 'alg2', 'alg3', 'alg4']\n",
      "[0 0 1 2]\n",
      "\n",
      "\n",
      "compare alg2 and alg3\n",
      "['alg1', 'alg2', 'alg3', 'alg4']\n",
      "[0 0 0 1]\n",
      "\n",
      "\n",
      "compare alg4 and alg3\n",
      "['alg1', 'alg2', 'alg4', 'alg3']\n",
      "[0 0 0 1]\n",
      "\n",
      "\n",
      "compare alg1 and alg2\n",
      "['alg1', 'alg2', 'alg4', 'alg3']\n",
      "[0 0 0 1]\n",
      "\n",
      "\n",
      "compare alg4 and alg2\n",
      "['alg1', 'alg4', 'alg2', 'alg3']\n",
      "[0 0 1 1]\n",
      "\n",
      "\n",
      "compare alg1 and alg4\n",
      "['alg1', 'alg4', 'alg2', 'alg3']\n",
      "[0 0 1 1]\n",
      "\n",
      "\n"
     ]
    },
    {
     "data": {
      "text/html": [
       "<div>\n",
       "<style scoped>\n",
       "    .dataframe tbody tr th:only-of-type {\n",
       "        vertical-align: middle;\n",
       "    }\n",
       "\n",
       "    .dataframe tbody tr th {\n",
       "        vertical-align: top;\n",
       "    }\n",
       "\n",
       "    .dataframe thead th {\n",
       "        text-align: right;\n",
       "    }\n",
       "</style>\n",
       "<table border=\"1\" class=\"dataframe\">\n",
       "  <thead>\n",
       "    <tr style=\"text-align: right;\">\n",
       "      <th></th>\n",
       "      <th>case:concept:name</th>\n",
       "      <th>case:rank:q75-q25</th>\n",
       "    </tr>\n",
       "  </thead>\n",
       "  <tbody>\n",
       "    <tr>\n",
       "      <th>0</th>\n",
       "      <td>alg1</td>\n",
       "      <td>0</td>\n",
       "    </tr>\n",
       "    <tr>\n",
       "      <th>1</th>\n",
       "      <td>alg4</td>\n",
       "      <td>0</td>\n",
       "    </tr>\n",
       "    <tr>\n",
       "      <th>2</th>\n",
       "      <td>alg2</td>\n",
       "      <td>1</td>\n",
       "    </tr>\n",
       "    <tr>\n",
       "      <th>3</th>\n",
       "      <td>alg3</td>\n",
       "      <td>1</td>\n",
       "    </tr>\n",
       "  </tbody>\n",
       "</table>\n",
       "</div>"
      ],
      "text/plain": [
       "  case:concept:name  case:rank:q75-q25\n",
       "0              alg1                  0\n",
       "1              alg4                  0\n",
       "2              alg2                  1\n",
       "3              alg3                  1"
      ]
     },
     "execution_count": 60,
     "metadata": {},
     "output_type": "execute_result"
    }
   ],
   "source": [
    "rank_variants.rank_variants(debug=True)"
   ]
  },
  {
   "cell_type": "code",
   "execution_count": 61,
   "id": "13e0d956",
   "metadata": {},
   "outputs": [],
   "source": [
    "s, mr = rank_variants.calculate_mean_rank()"
   ]
  },
  {
   "cell_type": "code",
   "execution_count": 62,
   "id": "1d7c4ce1",
   "metadata": {},
   "outputs": [
    {
     "data": {
      "text/html": [
       "<div>\n",
       "<style scoped>\n",
       "    .dataframe tbody tr th:only-of-type {\n",
       "        vertical-align: middle;\n",
       "    }\n",
       "\n",
       "    .dataframe tbody tr th {\n",
       "        vertical-align: top;\n",
       "    }\n",
       "\n",
       "    .dataframe thead th {\n",
       "        text-align: right;\n",
       "    }\n",
       "</style>\n",
       "<table border=\"1\" class=\"dataframe\">\n",
       "  <thead>\n",
       "    <tr style=\"text-align: right;\">\n",
       "      <th></th>\n",
       "      <th>case:rank:q95-q5</th>\n",
       "      <th>case:rank:q90-q10</th>\n",
       "      <th>case:rank:q85-q15</th>\n",
       "      <th>case:rank:q80-q20</th>\n",
       "      <th>case:rank:q75-q25</th>\n",
       "      <th>case:rank:q70-q30</th>\n",
       "      <th>case:rank:q65-q35</th>\n",
       "      <th>case:rank:q55-q45</th>\n",
       "    </tr>\n",
       "    <tr>\n",
       "      <th>case:concept:name</th>\n",
       "      <th></th>\n",
       "      <th></th>\n",
       "      <th></th>\n",
       "      <th></th>\n",
       "      <th></th>\n",
       "      <th></th>\n",
       "      <th></th>\n",
       "      <th></th>\n",
       "    </tr>\n",
       "  </thead>\n",
       "  <tbody>\n",
       "    <tr>\n",
       "      <th>alg1</th>\n",
       "      <td>0</td>\n",
       "      <td>0</td>\n",
       "      <td>0</td>\n",
       "      <td>0</td>\n",
       "      <td>0</td>\n",
       "      <td>0</td>\n",
       "      <td>1</td>\n",
       "      <td>1</td>\n",
       "    </tr>\n",
       "    <tr>\n",
       "      <th>alg2</th>\n",
       "      <td>0</td>\n",
       "      <td>0</td>\n",
       "      <td>0</td>\n",
       "      <td>1</td>\n",
       "      <td>1</td>\n",
       "      <td>1</td>\n",
       "      <td>1</td>\n",
       "      <td>1</td>\n",
       "    </tr>\n",
       "    <tr>\n",
       "      <th>alg3</th>\n",
       "      <td>0</td>\n",
       "      <td>0</td>\n",
       "      <td>0</td>\n",
       "      <td>1</td>\n",
       "      <td>1</td>\n",
       "      <td>1</td>\n",
       "      <td>1</td>\n",
       "      <td>2</td>\n",
       "    </tr>\n",
       "    <tr>\n",
       "      <th>alg4</th>\n",
       "      <td>0</td>\n",
       "      <td>0</td>\n",
       "      <td>0</td>\n",
       "      <td>0</td>\n",
       "      <td>0</td>\n",
       "      <td>0</td>\n",
       "      <td>0</td>\n",
       "      <td>0</td>\n",
       "    </tr>\n",
       "  </tbody>\n",
       "</table>\n",
       "</div>"
      ],
      "text/plain": [
       "                   case:rank:q95-q5  case:rank:q90-q10  case:rank:q85-q15  \\\n",
       "case:concept:name                                                           \n",
       "alg1                              0                  0                  0   \n",
       "alg2                              0                  0                  0   \n",
       "alg3                              0                  0                  0   \n",
       "alg4                              0                  0                  0   \n",
       "\n",
       "                   case:rank:q80-q20  case:rank:q75-q25  case:rank:q70-q30  \\\n",
       "case:concept:name                                                            \n",
       "alg1                               0                  0                  0   \n",
       "alg2                               1                  1                  1   \n",
       "alg3                               1                  1                  1   \n",
       "alg4                               0                  0                  0   \n",
       "\n",
       "                   case:rank:q65-q35  case:rank:q55-q45  \n",
       "case:concept:name                                        \n",
       "alg1                               1                  1  \n",
       "alg2                               1                  1  \n",
       "alg3                               1                  2  \n",
       "alg4                               0                  0  "
      ]
     },
     "execution_count": 62,
     "metadata": {},
     "output_type": "execute_result"
    }
   ],
   "source": [
    "s"
   ]
  },
  {
   "cell_type": "code",
   "execution_count": 63,
   "id": "92d1a661",
   "metadata": {},
   "outputs": [
    {
     "data": {
      "text/html": [
       "<div>\n",
       "<style scoped>\n",
       "    .dataframe tbody tr th:only-of-type {\n",
       "        vertical-align: middle;\n",
       "    }\n",
       "\n",
       "    .dataframe tbody tr th {\n",
       "        vertical-align: top;\n",
       "    }\n",
       "\n",
       "    .dataframe thead th {\n",
       "        text-align: right;\n",
       "    }\n",
       "</style>\n",
       "<table border=\"1\" class=\"dataframe\">\n",
       "  <thead>\n",
       "    <tr style=\"text-align: right;\">\n",
       "      <th></th>\n",
       "      <th>case:concept:name</th>\n",
       "      <th>case:mean-rank</th>\n",
       "    </tr>\n",
       "  </thead>\n",
       "  <tbody>\n",
       "    <tr>\n",
       "      <th>3</th>\n",
       "      <td>alg4</td>\n",
       "      <td>0.000</td>\n",
       "    </tr>\n",
       "    <tr>\n",
       "      <th>0</th>\n",
       "      <td>alg1</td>\n",
       "      <td>0.250</td>\n",
       "    </tr>\n",
       "    <tr>\n",
       "      <th>1</th>\n",
       "      <td>alg2</td>\n",
       "      <td>0.625</td>\n",
       "    </tr>\n",
       "    <tr>\n",
       "      <th>2</th>\n",
       "      <td>alg3</td>\n",
       "      <td>0.750</td>\n",
       "    </tr>\n",
       "  </tbody>\n",
       "</table>\n",
       "</div>"
      ],
      "text/plain": [
       "  case:concept:name  case:mean-rank\n",
       "3              alg4           0.000\n",
       "0              alg1           0.250\n",
       "1              alg2           0.625\n",
       "2              alg3           0.750"
      ]
     },
     "execution_count": 63,
     "metadata": {},
     "output_type": "execute_result"
    }
   ],
   "source": [
    "mr"
   ]
  },
  {
   "cell_type": "code",
   "execution_count": null,
   "id": "02138292",
   "metadata": {},
   "outputs": [],
   "source": []
  },
  {
   "cell_type": "code",
   "execution_count": null,
   "id": "7ea9886e",
   "metadata": {},
   "outputs": [],
   "source": []
  }
 ],
 "metadata": {
  "kernelspec": {
   "display_name": "Python 3 (ipykernel)",
   "language": "python",
   "name": "python3"
  },
  "language_info": {
   "codemirror_mode": {
    "name": "ipython",
    "version": 3
   },
   "file_extension": ".py",
   "mimetype": "text/x-python",
   "name": "python",
   "nbconvert_exporter": "python",
   "pygments_lexer": "ipython3",
   "version": "3.9.7"
  }
 },
 "nbformat": 4,
 "nbformat_minor": 5
}
