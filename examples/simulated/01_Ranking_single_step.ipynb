{
 "cells": [
  {
   "cell_type": "code",
   "execution_count": 1,
   "id": "4714d0ad",
   "metadata": {},
   "outputs": [],
   "source": [
    "from algorithm_ranking import RankVariants, MeasurementsVisualizer, MeasurementsManager"
   ]
  },
  {
   "cell_type": "code",
   "execution_count": 2,
   "id": "3dd88b37",
   "metadata": {},
   "outputs": [],
   "source": [
    "import pandas as pd\n",
    "import numpy as np"
   ]
  },
  {
   "cell_type": "markdown",
   "id": "adfe422f",
   "metadata": {},
   "source": [
    "### Simulate normal distribution\n"
   ]
  },
  {
   "cell_type": "code",
   "execution_count": 4,
   "id": "ea500b8c",
   "metadata": {},
   "outputs": [],
   "source": [
    "class MeasurementsSimulator(MeasurementsManager):\n",
    "    def __init__(self, config, distribution='normal'):\n",
    "        super().__init__()\n",
    "        self.distribution = distribution\n",
    "        self.config = config\n",
    "\n",
    "    def normal(self, mean, std):\n",
    "        return np.random.normal(mean, std)\n",
    "\n",
    "    def add_measurement(self, alg, x):\n",
    "        try:\n",
    "            self.alg_measurements[alg].append(x)\n",
    "        except KeyError:\n",
    "            self.alg_measurements[alg] = []\n",
    "            self.alg_measurements[alg].append(x)\n",
    "\n",
    "    def measure(self, rep_steps, run_id):\n",
    "        ## Abstract class\n",
    "        for alg, params in self.config.items():\n",
    "            for i in range(rep_steps):\n",
    "                if self.distribution == 'normal':\n",
    "                    x = self.normal(*params)\n",
    "                    self.add_measurement(alg, x)\n",
    "\n",
    "    def get_alg_measurements(self):\n",
    "        ## abstract class\n",
    "        return self.alg_measurements"
   ]
  },
  {
   "cell_type": "markdown",
   "id": "42bb5dcf",
   "metadata": {},
   "source": [
    "\n",
    "\n",
    "Specify the mean and standard deviation for each algorithm"
   ]
  },
  {
   "cell_type": "code",
   "execution_count": 5,
   "id": "333ef10c",
   "metadata": {},
   "outputs": [],
   "source": [
    "cfg = {}\n",
    "cfg['alg1']  = [0.2,0.02] # [mean, std]\n",
    "cfg['alg2']  = [0.2,0.01]\n",
    "cfg['alg3']  = [0.2,0.01]\n",
    "cfg['alg4']  = [0.19,0.01]\n",
    "ms = MeasurementsSimulator(cfg, 'normal')    "
   ]
  },
  {
   "cell_type": "code",
   "execution_count": 6,
   "id": "2db3d83d",
   "metadata": {},
   "outputs": [],
   "source": [
    "rep_steps = 20\n",
    "run_id= 1\n",
    "ms.measure(rep_steps=rep_steps, run_id=run_id)"
   ]
  },
  {
   "cell_type": "code",
   "execution_count": 7,
   "id": "53f98c11",
   "metadata": {},
   "outputs": [],
   "source": [
    "alg_measurements = ms.get_alg_measurements()\n",
    "h0 = list(cfg.keys())"
   ]
  },
  {
   "cell_type": "markdown",
   "id": "7eb0d7d5",
   "metadata": {},
   "source": [
    "#### Inputs:"
   ]
  },
  {
   "cell_type": "code",
   "execution_count": 8,
   "id": "4f117dd5",
   "metadata": {},
   "outputs": [
    {
     "data": {
      "text/plain": [
       "{'alg1': [0.19660213281519398,\n",
       "  0.1920382009141898,\n",
       "  0.2201275388770577,\n",
       "  0.21725797026264837,\n",
       "  0.18747666968728688,\n",
       "  0.22797619801365007,\n",
       "  0.20835047072504523,\n",
       "  0.20934726624411487,\n",
       "  0.18763138894952427,\n",
       "  0.19485526035443312,\n",
       "  0.2097575389787988,\n",
       "  0.1983390242664316,\n",
       "  0.22925159067559997,\n",
       "  0.19805847189073553,\n",
       "  0.217621972214655,\n",
       "  0.19612413391764205,\n",
       "  0.19499909387974756,\n",
       "  0.2126764986011748,\n",
       "  0.17742841440300655,\n",
       "  0.20537866802752022],\n",
       " 'alg2': [0.21327014758028104,\n",
       "  0.22149887288500653,\n",
       "  0.19601491170969707,\n",
       "  0.20022953157285567,\n",
       "  0.18647562025986889,\n",
       "  0.20863757572794178,\n",
       "  0.19305488960102518,\n",
       "  0.18882783675281695,\n",
       "  0.21865114459441684,\n",
       "  0.19835030487895441,\n",
       "  0.21668057294137108,\n",
       "  0.18658247886664533,\n",
       "  0.2129232330878416,\n",
       "  0.2024378862307826,\n",
       "  0.21146977770788383,\n",
       "  0.1833378175740096,\n",
       "  0.202345420336205,\n",
       "  0.20579345897632145,\n",
       "  0.21287294853750888,\n",
       "  0.20877731899031385],\n",
       " 'alg3': [0.2010647750460546,\n",
       "  0.19285241734191544,\n",
       "  0.1948620133003557,\n",
       "  0.19864341970581223,\n",
       "  0.1722834427882724,\n",
       "  0.1962167851722817,\n",
       "  0.18650760485002071,\n",
       "  0.19871016347690598,\n",
       "  0.20935527645493227,\n",
       "  0.19841461336616872,\n",
       "  0.18734584191946937,\n",
       "  0.20327379218603361,\n",
       "  0.20995598142951982,\n",
       "  0.2015444644099512,\n",
       "  0.20763897256378627,\n",
       "  0.19153981716894128,\n",
       "  0.18487888856852497,\n",
       "  0.18917963277445327,\n",
       "  0.20301997852449347,\n",
       "  0.1965205186508465],\n",
       " 'alg4': [0.19261439480266432,\n",
       "  0.18879356695254867,\n",
       "  0.20007804803047236,\n",
       "  0.18087048940543535,\n",
       "  0.18881816497661874,\n",
       "  0.18650799572337778,\n",
       "  0.1839603325733031,\n",
       "  0.1896666203205992,\n",
       "  0.20388121359010447,\n",
       "  0.18655325992501473,\n",
       "  0.18873928287818417,\n",
       "  0.19798174106948563,\n",
       "  0.18170734405963207,\n",
       "  0.19066641240176072,\n",
       "  0.199389540532036,\n",
       "  0.1765108826382492,\n",
       "  0.19559462268802444,\n",
       "  0.16976053011705913,\n",
       "  0.1986058428408508,\n",
       "  0.19701070956174968]}"
      ]
     },
     "execution_count": 8,
     "metadata": {},
     "output_type": "execute_result"
    }
   ],
   "source": [
    "alg_measurements"
   ]
  },
  {
   "cell_type": "code",
   "execution_count": 9,
   "id": "ade263b3",
   "metadata": {},
   "outputs": [
    {
     "data": {
      "text/plain": [
       "['alg1', 'alg2', 'alg3', 'alg4']"
      ]
     },
     "execution_count": 9,
     "metadata": {},
     "output_type": "execute_result"
    }
   ],
   "source": [
    "h0"
   ]
  },
  {
   "cell_type": "markdown",
   "id": "dee57230",
   "metadata": {},
   "source": [
    "### Visualize data"
   ]
  },
  {
   "cell_type": "code",
   "execution_count": 10,
   "id": "74df5c73",
   "metadata": {},
   "outputs": [],
   "source": [
    "mv = MeasurementsVisualizer(alg_measurements, h0)"
   ]
  },
  {
   "cell_type": "code",
   "execution_count": 11,
   "id": "252c8e51",
   "metadata": {},
   "outputs": [
    {
     "data": {
      "image/png": "[encoded data removed]",
      "text/plain": [
       "<Figure size 720x432 with 1 Axes>"
      ]
     },
     "metadata": {
      "needs_background": "light"
     },
     "output_type": "display_data"
    }
   ],
   "source": [
    "mv.show_measurements_boxplots()"
   ]
  },
  {
   "cell_type": "markdown",
   "id": "3081102a",
   "metadata": {},
   "source": [
    "### Algorithm ranking"
   ]
  },
  {
   "cell_type": "code",
   "execution_count": 12,
   "id": "2af59650",
   "metadata": {},
   "outputs": [],
   "source": [
    "rank_variants = RankVariants(alg_measurements,h0)"
   ]
  },
  {
   "cell_type": "code",
   "execution_count": 13,
   "id": "13e0d956",
   "metadata": {},
   "outputs": [],
   "source": [
    "s, mr = rank_variants.calculate_mean_rank()"
   ]
  },
  {
   "cell_type": "code",
   "execution_count": 14,
   "id": "1d7c4ce1",
   "metadata": {},
   "outputs": [
    {
     "data": {
      "text/html": [
       "<div>\n",
       "<style scoped>\n",
       "    .dataframe tbody tr th:only-of-type {\n",
       "        vertical-align: middle;\n",
       "    }\n",
       "\n",
       "    .dataframe tbody tr th {\n",
       "        vertical-align: top;\n",
       "    }\n",
       "\n",
       "    .dataframe thead th {\n",
       "        text-align: right;\n",
       "    }\n",
       "</style>\n",
       "<table border=\"1\" class=\"dataframe\">\n",
       "  <thead>\n",
       "    <tr style=\"text-align: right;\">\n",
       "      <th></th>\n",
       "      <th>case:rank:q95-q5</th>\n",
       "      <th>case:rank:q90-q10</th>\n",
       "      <th>case:rank:q85-q15</th>\n",
       "      <th>case:rank:q80-q20</th>\n",
       "      <th>case:rank:q75-q25</th>\n",
       "      <th>case:rank:q70-q30</th>\n",
       "      <th>case:rank:q65-q35</th>\n",
       "      <th>case:rank:q55-q45</th>\n",
       "    </tr>\n",
       "    <tr>\n",
       "      <th>case:concept:name</th>\n",
       "      <th></th>\n",
       "      <th></th>\n",
       "      <th></th>\n",
       "      <th></th>\n",
       "      <th></th>\n",
       "      <th></th>\n",
       "      <th></th>\n",
       "      <th></th>\n",
       "    </tr>\n",
       "  </thead>\n",
       "  <tbody>\n",
       "    <tr>\n",
       "      <th>alg1</th>\n",
       "      <td>0</td>\n",
       "      <td>0</td>\n",
       "      <td>0</td>\n",
       "      <td>0</td>\n",
       "      <td>0</td>\n",
       "      <td>0</td>\n",
       "      <td>1</td>\n",
       "      <td>1</td>\n",
       "    </tr>\n",
       "    <tr>\n",
       "      <th>alg2</th>\n",
       "      <td>0</td>\n",
       "      <td>0</td>\n",
       "      <td>0</td>\n",
       "      <td>0</td>\n",
       "      <td>0</td>\n",
       "      <td>0</td>\n",
       "      <td>1</td>\n",
       "      <td>2</td>\n",
       "    </tr>\n",
       "    <tr>\n",
       "      <th>alg3</th>\n",
       "      <td>0</td>\n",
       "      <td>0</td>\n",
       "      <td>0</td>\n",
       "      <td>0</td>\n",
       "      <td>0</td>\n",
       "      <td>0</td>\n",
       "      <td>2</td>\n",
       "      <td>2</td>\n",
       "    </tr>\n",
       "    <tr>\n",
       "      <th>alg4</th>\n",
       "      <td>0</td>\n",
       "      <td>0</td>\n",
       "      <td>0</td>\n",
       "      <td>0</td>\n",
       "      <td>0</td>\n",
       "      <td>0</td>\n",
       "      <td>0</td>\n",
       "      <td>0</td>\n",
       "    </tr>\n",
       "  </tbody>\n",
       "</table>\n",
       "</div>"
      ],
      "text/plain": [
       "                   case:rank:q95-q5  case:rank:q90-q10  case:rank:q85-q15  \\\n",
       "case:concept:name                                                           \n",
       "alg1                              0                  0                  0   \n",
       "alg2                              0                  0                  0   \n",
       "alg3                              0                  0                  0   \n",
       "alg4                              0                  0                  0   \n",
       "\n",
       "                   case:rank:q80-q20  case:rank:q75-q25  case:rank:q70-q30  \\\n",
       "case:concept:name                                                            \n",
       "alg1                               0                  0                  0   \n",
       "alg2                               0                  0                  0   \n",
       "alg3                               0                  0                  0   \n",
       "alg4                               0                  0                  0   \n",
       "\n",
       "                   case:rank:q65-q35  case:rank:q55-q45  \n",
       "case:concept:name                                        \n",
       "alg1                               1                  1  \n",
       "alg2                               1                  2  \n",
       "alg3                               2                  2  \n",
       "alg4                               0                  0  "
      ]
     },
     "execution_count": 14,
     "metadata": {},
     "output_type": "execute_result"
    }
   ],
   "source": [
    "s"
   ]
  },
  {
   "cell_type": "code",
   "execution_count": 15,
   "id": "92d1a661",
   "metadata": {},
   "outputs": [
    {
     "data": {
      "text/html": [
       "<div>\n",
       "<style scoped>\n",
       "    .dataframe tbody tr th:only-of-type {\n",
       "        vertical-align: middle;\n",
       "    }\n",
       "\n",
       "    .dataframe tbody tr th {\n",
       "        vertical-align: top;\n",
       "    }\n",
       "\n",
       "    .dataframe thead th {\n",
       "        text-align: right;\n",
       "    }\n",
       "</style>\n",
       "<table border=\"1\" class=\"dataframe\">\n",
       "  <thead>\n",
       "    <tr style=\"text-align: right;\">\n",
       "      <th></th>\n",
       "      <th>case:concept:name</th>\n",
       "      <th>case:mean-rank</th>\n",
       "    </tr>\n",
       "  </thead>\n",
       "  <tbody>\n",
       "    <tr>\n",
       "      <th>3</th>\n",
       "      <td>alg4</td>\n",
       "      <td>0.000</td>\n",
       "    </tr>\n",
       "    <tr>\n",
       "      <th>0</th>\n",
       "      <td>alg1</td>\n",
       "      <td>0.250</td>\n",
       "    </tr>\n",
       "    <tr>\n",
       "      <th>1</th>\n",
       "      <td>alg2</td>\n",
       "      <td>0.375</td>\n",
       "    </tr>\n",
       "    <tr>\n",
       "      <th>2</th>\n",
       "      <td>alg3</td>\n",
       "      <td>0.500</td>\n",
       "    </tr>\n",
       "  </tbody>\n",
       "</table>\n",
       "</div>"
      ],
      "text/plain": [
       "  case:concept:name  case:mean-rank\n",
       "3              alg4           0.000\n",
       "0              alg1           0.250\n",
       "1              alg2           0.375\n",
       "2              alg3           0.500"
      ]
     },
     "execution_count": 15,
     "metadata": {},
     "output_type": "execute_result"
    }
   ],
   "source": [
    "mr"
   ]
  },
  {
   "cell_type": "code",
   "execution_count": null,
   "id": "02138292",
   "metadata": {},
   "outputs": [],
   "source": []
  }
 ],
 "metadata": {
  "kernelspec": {
   "display_name": "Python 3 (ipykernel)",
   "language": "python",
   "name": "python3"
  },
  "language_info": {
   "codemirror_mode": {
    "name": "ipython",
    "version": 3
   },
   "file_extension": ".py",
   "mimetype": "text/x-python",
   "name": "python",
   "nbconvert_exporter": "python",
   "pygments_lexer": "ipython3",
   "version": "3.9.7"
  }
 },
 "nbformat": 4,
 "nbformat_minor": 5
}
