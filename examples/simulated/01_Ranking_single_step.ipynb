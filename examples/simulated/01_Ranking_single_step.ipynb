{
 "cells": [
  {
   "cell_type": "code",
   "execution_count": 1,
   "id": "4714d0ad",
   "metadata": {},
   "outputs": [],
   "source": [
    "from algorithm_ranking import RankVariants, MeasurementsVisualizer, MeasurementsManager"
   ]
  },
  {
   "cell_type": "code",
   "execution_count": 2,
   "id": "3dd88b37",
   "metadata": {},
   "outputs": [],
   "source": [
    "import pandas as pd\n",
    "import numpy as np"
   ]
  },
  {
   "cell_type": "markdown",
   "id": "adfe422f",
   "metadata": {},
   "source": [
    "### Simulate normal distribution\n"
   ]
  },
  {
   "cell_type": "code",
   "execution_count": 3,
   "id": "ea500b8c",
   "metadata": {},
   "outputs": [],
   "source": [
    "class MeasurementsSimulator(MeasurementsManager):\n",
    "    def __init__(self, config, distribution='normal'):\n",
    "        super().__init__()\n",
    "        self.distribution = distribution\n",
    "        self.config = config\n",
    "\n",
    "    def normal(self, mean, std):\n",
    "        return np.random.normal(mean, std)\n",
    "\n",
    "    def add_measurement(self, alg, x):\n",
    "        try:\n",
    "            self.alg_measurements[alg].append(x)\n",
    "        except KeyError:\n",
    "            self.alg_measurements[alg] = []\n",
    "            self.alg_measurements[alg].append(x)\n",
    "\n",
    "    def measure(self, rep_steps, run_id):\n",
    "        ## Abstract class\n",
    "        for alg, params in self.config.items():\n",
    "            for i in range(rep_steps):\n",
    "                if self.distribution == 'normal':\n",
    "                    x = self.normal(*params)\n",
    "                    self.add_measurement(alg, x)\n",
    "\n",
    "    def get_alg_measurements(self):\n",
    "        ## abstract class\n",
    "        return self.alg_measurements"
   ]
  },
  {
   "cell_type": "markdown",
   "id": "42bb5dcf",
   "metadata": {},
   "source": [
    "\n",
    "\n",
    "Specify the mean and standard deviation for each algorithm"
   ]
  },
  {
   "cell_type": "code",
   "execution_count": 4,
   "id": "333ef10c",
   "metadata": {},
   "outputs": [],
   "source": [
    "cfg = {}\n",
    "cfg['alg1']  = [0.2,0.02] # [mean, std]\n",
    "cfg['alg2']  = [0.2,0.01]\n",
    "cfg['alg3']  = [0.2,0.01]\n",
    "cfg['alg4']  = [0.19,0.01]\n",
    "ms = MeasurementsSimulator(cfg, 'normal')    "
   ]
  },
  {
   "cell_type": "code",
   "execution_count": 5,
   "id": "2db3d83d",
   "metadata": {},
   "outputs": [],
   "source": [
    "rep_steps = 20\n",
    "run_id= 1\n",
    "ms.measure(rep_steps=rep_steps, run_id=run_id)"
   ]
  },
  {
   "cell_type": "code",
   "execution_count": 6,
   "id": "53f98c11",
   "metadata": {},
   "outputs": [],
   "source": [
    "alg_measurements = ms.get_alg_measurements()\n",
    "h0 = list(cfg.keys())"
   ]
  },
  {
   "cell_type": "markdown",
   "id": "7eb0d7d5",
   "metadata": {},
   "source": [
    "#### Inputs:"
   ]
  },
  {
   "cell_type": "code",
   "execution_count": 7,
   "id": "4f117dd5",
   "metadata": {},
   "outputs": [
    {
     "data": {
      "text/plain": [
       "{'alg1': [0.18284759377631563,\n",
       "  0.19538223901538282,\n",
       "  0.1890167340840946,\n",
       "  0.22633798583277953,\n",
       "  0.18320675645127488,\n",
       "  0.19973455866022505,\n",
       "  0.2352122297310742,\n",
       "  0.20748495587748803,\n",
       "  0.2207013370062785,\n",
       "  0.21168987327044458,\n",
       "  0.22499791503846975,\n",
       "  0.17064725459548902,\n",
       "  0.19671783287784408,\n",
       "  0.17115611746796666,\n",
       "  0.15589690565930703,\n",
       "  0.18836962990819225,\n",
       "  0.1952658914587661,\n",
       "  0.1835021451671802,\n",
       "  0.2327188147042059,\n",
       "  0.18450661242846245],\n",
       " 'alg2': [0.2135785105297107,\n",
       "  0.19998530185176214,\n",
       "  0.19847545868019495,\n",
       "  0.20576549232445196,\n",
       "  0.20066026107988058,\n",
       "  0.19016274374943307,\n",
       "  0.20313785076218957,\n",
       "  0.18444346438723355,\n",
       "  0.19826549885825043,\n",
       "  0.19030460976615046,\n",
       "  0.21536755487535517,\n",
       "  0.20366290086916258,\n",
       "  0.20080111796037725,\n",
       "  0.2061975006253539,\n",
       "  0.1946822252170123,\n",
       "  0.19209294546143357,\n",
       "  0.19806623128288517,\n",
       "  0.17473509108406507,\n",
       "  0.21449751541680825,\n",
       "  0.20440871115482634],\n",
       " 'alg3': [0.1948642289912504,\n",
       "  0.20890304865599374,\n",
       "  0.1989955581281617,\n",
       "  0.1884057977590231,\n",
       "  0.20221946863253212,\n",
       "  0.19358254743663364,\n",
       "  0.1892164287058363,\n",
       "  0.20297055676568354,\n",
       "  0.1977347442726726,\n",
       "  0.18404823477673873,\n",
       "  0.20230485563698405,\n",
       "  0.20583836682603462,\n",
       "  0.1881751609892498,\n",
       "  0.19441577208698405,\n",
       "  0.19459080240366908,\n",
       "  0.1829549115913982,\n",
       "  0.19454662201758352,\n",
       "  0.1967113075605661,\n",
       "  0.20698612307365927,\n",
       "  0.20059819101197682],\n",
       " 'alg4': [0.1840589033218223,\n",
       "  0.19427101267732638,\n",
       "  0.18503268807365095,\n",
       "  0.18893747551364254,\n",
       "  0.1742948092298568,\n",
       "  0.1941248861878994,\n",
       "  0.18454986607484644,\n",
       "  0.19815307746399513,\n",
       "  0.1975665095692121,\n",
       "  0.1820235735306628,\n",
       "  0.18259811070047405,\n",
       "  0.1905091107873521,\n",
       "  0.20344312579824073,\n",
       "  0.20648174816453718,\n",
       "  0.18848903287134455,\n",
       "  0.18972829618305237,\n",
       "  0.18961499150741032,\n",
       "  0.19503775553042565,\n",
       "  0.19932981421780563,\n",
       "  0.19433721453263794]}"
      ]
     },
     "execution_count": 7,
     "metadata": {},
     "output_type": "execute_result"
    }
   ],
   "source": [
    "alg_measurements"
   ]
  },
  {
   "cell_type": "code",
   "execution_count": 8,
   "id": "ade263b3",
   "metadata": {},
   "outputs": [
    {
     "data": {
      "text/plain": [
       "['alg1', 'alg2', 'alg3', 'alg4']"
      ]
     },
     "execution_count": 8,
     "metadata": {},
     "output_type": "execute_result"
    }
   ],
   "source": [
    "h0"
   ]
  },
  {
   "cell_type": "markdown",
   "id": "dee57230",
   "metadata": {},
   "source": [
    "### Visualize data"
   ]
  },
  {
   "cell_type": "code",
   "execution_count": 9,
   "id": "74df5c73",
   "metadata": {},
   "outputs": [],
   "source": [
    "mv = MeasurementsVisualizer(alg_measurements, h0)"
   ]
  },
  {
   "cell_type": "code",
   "execution_count": 10,
   "id": "252c8e51",
   "metadata": {},
   "outputs": [
    {
     "data": {
      "image/png": "[encoded data removed]",
      "text/plain": [
       "<Figure size 720x432 with 1 Axes>"
      ]
     },
     "metadata": {
      "needs_background": "light"
     },
     "output_type": "display_data"
    }
   ],
   "source": [
    "mv.show_measurements_boxplots()"
   ]
  },
  {
   "cell_type": "markdown",
   "id": "3081102a",
   "metadata": {},
   "source": [
    "### Algorithm ranking"
   ]
  },
  {
   "cell_type": "code",
   "execution_count": 11,
   "id": "2af59650",
   "metadata": {},
   "outputs": [],
   "source": [
    "rank_variants = RankVariants(alg_measurements,h0)"
   ]
  },
  {
   "cell_type": "code",
   "execution_count": 12,
   "id": "13e0d956",
   "metadata": {},
   "outputs": [],
   "source": [
    "s, mr = rank_variants.calculate_mean_rank()"
   ]
  },
  {
   "cell_type": "code",
   "execution_count": 13,
   "id": "1d7c4ce1",
   "metadata": {},
   "outputs": [
    {
     "data": {
      "text/html": [
       "<div>\n",
       "<style scoped>\n",
       "    .dataframe tbody tr th:only-of-type {\n",
       "        vertical-align: middle;\n",
       "    }\n",
       "\n",
       "    .dataframe tbody tr th {\n",
       "        vertical-align: top;\n",
       "    }\n",
       "\n",
       "    .dataframe thead th {\n",
       "        text-align: right;\n",
       "    }\n",
       "</style>\n",
       "<table border=\"1\" class=\"dataframe\">\n",
       "  <thead>\n",
       "    <tr style=\"text-align: right;\">\n",
       "      <th></th>\n",
       "      <th>case:rank:q95-q5</th>\n",
       "      <th>case:rank:q90-q10</th>\n",
       "      <th>case:rank:q85-q15</th>\n",
       "      <th>case:rank:q80-q20</th>\n",
       "      <th>case:rank:q75-q25</th>\n",
       "      <th>case:rank:q70-q30</th>\n",
       "      <th>case:rank:q65-q35</th>\n",
       "      <th>case:rank:q55-q45</th>\n",
       "    </tr>\n",
       "    <tr>\n",
       "      <th>case:concept:name</th>\n",
       "      <th></th>\n",
       "      <th></th>\n",
       "      <th></th>\n",
       "      <th></th>\n",
       "      <th></th>\n",
       "      <th></th>\n",
       "      <th></th>\n",
       "      <th></th>\n",
       "    </tr>\n",
       "  </thead>\n",
       "  <tbody>\n",
       "    <tr>\n",
       "      <th>alg1</th>\n",
       "      <td>0</td>\n",
       "      <td>0</td>\n",
       "      <td>0</td>\n",
       "      <td>0</td>\n",
       "      <td>0</td>\n",
       "      <td>0</td>\n",
       "      <td>0</td>\n",
       "      <td>1</td>\n",
       "    </tr>\n",
       "    <tr>\n",
       "      <th>alg2</th>\n",
       "      <td>0</td>\n",
       "      <td>0</td>\n",
       "      <td>0</td>\n",
       "      <td>0</td>\n",
       "      <td>0</td>\n",
       "      <td>0</td>\n",
       "      <td>0</td>\n",
       "      <td>2</td>\n",
       "    </tr>\n",
       "    <tr>\n",
       "      <th>alg3</th>\n",
       "      <td>0</td>\n",
       "      <td>0</td>\n",
       "      <td>0</td>\n",
       "      <td>0</td>\n",
       "      <td>0</td>\n",
       "      <td>0</td>\n",
       "      <td>1</td>\n",
       "      <td>1</td>\n",
       "    </tr>\n",
       "    <tr>\n",
       "      <th>alg4</th>\n",
       "      <td>0</td>\n",
       "      <td>0</td>\n",
       "      <td>0</td>\n",
       "      <td>0</td>\n",
       "      <td>0</td>\n",
       "      <td>0</td>\n",
       "      <td>0</td>\n",
       "      <td>0</td>\n",
       "    </tr>\n",
       "  </tbody>\n",
       "</table>\n",
       "</div>"
      ],
      "text/plain": [
       "                   case:rank:q95-q5  case:rank:q90-q10  case:rank:q85-q15  \\\n",
       "case:concept:name                                                           \n",
       "alg1                              0                  0                  0   \n",
       "alg2                              0                  0                  0   \n",
       "alg3                              0                  0                  0   \n",
       "alg4                              0                  0                  0   \n",
       "\n",
       "                   case:rank:q80-q20  case:rank:q75-q25  case:rank:q70-q30  \\\n",
       "case:concept:name                                                            \n",
       "alg1                               0                  0                  0   \n",
       "alg2                               0                  0                  0   \n",
       "alg3                               0                  0                  0   \n",
       "alg4                               0                  0                  0   \n",
       "\n",
       "                   case:rank:q65-q35  case:rank:q55-q45  \n",
       "case:concept:name                                        \n",
       "alg1                               0                  1  \n",
       "alg2                               0                  2  \n",
       "alg3                               1                  1  \n",
       "alg4                               0                  0  "
      ]
     },
     "execution_count": 13,
     "metadata": {},
     "output_type": "execute_result"
    }
   ],
   "source": [
    "s"
   ]
  },
  {
   "cell_type": "code",
   "execution_count": 14,
   "id": "92d1a661",
   "metadata": {},
   "outputs": [
    {
     "data": {
      "text/html": [
       "<div>\n",
       "<style scoped>\n",
       "    .dataframe tbody tr th:only-of-type {\n",
       "        vertical-align: middle;\n",
       "    }\n",
       "\n",
       "    .dataframe tbody tr th {\n",
       "        vertical-align: top;\n",
       "    }\n",
       "\n",
       "    .dataframe thead th {\n",
       "        text-align: right;\n",
       "    }\n",
       "</style>\n",
       "<table border=\"1\" class=\"dataframe\">\n",
       "  <thead>\n",
       "    <tr style=\"text-align: right;\">\n",
       "      <th></th>\n",
       "      <th>case:concept:name</th>\n",
       "      <th>case:mean-rank</th>\n",
       "    </tr>\n",
       "  </thead>\n",
       "  <tbody>\n",
       "    <tr>\n",
       "      <th>3</th>\n",
       "      <td>alg4</td>\n",
       "      <td>0.000</td>\n",
       "    </tr>\n",
       "    <tr>\n",
       "      <th>0</th>\n",
       "      <td>alg1</td>\n",
       "      <td>0.125</td>\n",
       "    </tr>\n",
       "    <tr>\n",
       "      <th>1</th>\n",
       "      <td>alg2</td>\n",
       "      <td>0.250</td>\n",
       "    </tr>\n",
       "    <tr>\n",
       "      <th>2</th>\n",
       "      <td>alg3</td>\n",
       "      <td>0.250</td>\n",
       "    </tr>\n",
       "  </tbody>\n",
       "</table>\n",
       "</div>"
      ],
      "text/plain": [
       "  case:concept:name  case:mean-rank\n",
       "3              alg4           0.000\n",
       "0              alg1           0.125\n",
       "1              alg2           0.250\n",
       "2              alg3           0.250"
      ]
     },
     "execution_count": 14,
     "metadata": {},
     "output_type": "execute_result"
    }
   ],
   "source": [
    "mr"
   ]
  },
  {
   "cell_type": "code",
   "execution_count": null,
   "id": "02138292",
   "metadata": {},
   "outputs": [],
   "source": []
  },
  {
   "cell_type": "code",
   "execution_count": null,
   "id": "7ea9886e",
   "metadata": {},
   "outputs": [],
   "source": []
  }
 ],
 "metadata": {
  "kernelspec": {
   "display_name": "Python 3 (ipykernel)",
   "language": "python",
   "name": "python3"
  },
  "language_info": {
   "codemirror_mode": {
    "name": "ipython",
    "version": 3
   },
   "file_extension": ".py",
   "mimetype": "text/x-python",
   "name": "python",
   "nbconvert_exporter": "python",
   "pygments_lexer": "ipython3",
   "version": "3.9.12"
  }
 },
 "nbformat": 4,
 "nbformat_minor": 5
}
