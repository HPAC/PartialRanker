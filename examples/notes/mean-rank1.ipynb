{
 "cells": [
  {
   "cell_type": "code",
   "execution_count": 8,
   "id": "10b61663",
   "metadata": {},
   "outputs": [],
   "source": [
    "from algorithm_ranking import MeasurementsVisualizer, MeasurementsSimulator, RankBFS, CompareAlgs"
   ]
  },
  {
   "cell_type": "code",
   "execution_count": 9,
   "id": "7168d9aa",
   "metadata": {},
   "outputs": [],
   "source": [
    "import numpy as np\n",
    "import pandas as pd"
   ]
  },
  {
   "cell_type": "code",
   "execution_count": 22,
   "id": "c2d185a8",
   "metadata": {},
   "outputs": [],
   "source": [
    "def measure_and_rank2(measurements_manager, h0, rep_steps=3, eps=0.001, max_rep=50, q_min=25, q_max=75):\n",
    "\n",
    "    initial_ranks = []\n",
    "    for i, j in enumerate(h0):\n",
    "        initial_ranks.append([j, i])\n",
    "    rank_h0 = pd.DataFrame(initial_ranks, columns=['case:concept:name', 'case:rank'])\n",
    "    rank_log = []\n",
    "    rank_log.append(rank_h0.set_index('case:concept:name'))\n",
    "\n",
    "    dy = np.ones(len(h0)-1)\n",
    "    run_id = 0\n",
    "    norm = 1\n",
    "    while norm > eps and run_id * rep_steps < max_rep:\n",
    "        measurements_manager.measure(run_id=run_id, rep_steps=rep_steps)\n",
    "        alg_measurements = measurements_manager.get_alg_measurements()\n",
    "\n",
    "        compareAlgs = CompareAlgs(alg_measurements, h0)\n",
    "        rank_variants = RankBFS(h0,compareAlgs)\n",
    "        \n",
    "        #s, mr = rank_variants.calculate_mean_rank()\n",
    "        dfgs, s = rank_variants.rank_algorithms(q_min=q_min,q_max=q_max)\n",
    "\n",
    "        rank_log.append(s.set_index('case:concept:name'))\n",
    "        print(s)\n",
    "        df = rank_h0.merge(s, on=['case:concept:name'])\n",
    "        x = df.iloc[:, -1].values\n",
    "        dx = np.convolve(x, [1, -1], 'valid')\n",
    "\n",
    "        norm = np.linalg.norm(dx - dy, 2) / len(h0)\n",
    "        print(\"norm: {}\".format(norm))\n",
    "\n",
    "        dy = dx.copy()\n",
    "        #h0 = list(s['case:concept:name'])\n",
    "        print(h0)\n",
    "\n",
    "        run_id = run_id + 1\n",
    "\n",
    "    num_measurements = (run_id) * rep_steps\n",
    "    print(\"Number of measurements: {}\".format(num_measurements))\n",
    "\n",
    "    return s, dfgs[-1], pd.concat(rank_log, axis=1)"
   ]
  },
  {
   "cell_type": "code",
   "execution_count": 28,
   "id": "168ec201",
   "metadata": {},
   "outputs": [],
   "source": [
    "cfg = {}\n",
    "sigma = 0.1\n",
    "cfg['alg0']  = [0.5,sigma] #[mean, std]\n",
    "cfg['alg1']  = [0.5,sigma]\n",
    "cfg['alg2']  = [0.5,sigma]\n",
    "cfg['alg3']  = [0.6,sigma]\n",
    "cfg['alg4']  = [0.6,sigma]\n",
    "cfg['alg5']  = [0.6,sigma]\n",
    "h0 = list(cfg.keys())"
   ]
  },
  {
   "cell_type": "code",
   "execution_count": 29,
   "id": "4b1dd07b",
   "metadata": {},
   "outputs": [],
   "source": [
    "ms = MeasurementsSimulator(cfg, 'normal', seed=152)  "
   ]
  },
  {
   "cell_type": "code",
   "execution_count": 30,
   "id": "d190a80c",
   "metadata": {},
   "outputs": [],
   "source": [
    "#ms.measure(10,1)"
   ]
  },
  {
   "cell_type": "code",
   "execution_count": 31,
   "id": "9ea7b4d0",
   "metadata": {},
   "outputs": [],
   "source": [
    "# compareAlgs = CompareAlgs(ms.get_alg_measurements(), h0)\n",
    "# rank = RankBFS(h0,compareAlgs)\n",
    "# g, s = rank.rank_algorithms(q_min=25,q_max=75)"
   ]
  },
  {
   "cell_type": "code",
   "execution_count": 32,
   "id": "515d321f",
   "metadata": {},
   "outputs": [
    {
     "name": "stdout",
     "output_type": "stream",
     "text": [
      "Adding edge from alg0 to alg1\n",
      "Adding edge from alg1 to alg2\n",
      "Adding edge from alg2 to alg3\n",
      "Adding edge from alg3 to alg4\n",
      "Adding edge from alg4 to alg5\n",
      "Adding edge from alg0 to alg1\n",
      "Adding edge from alg1 to alg2\n",
      "Adding edge from alg2 to alg3\n",
      "Adding edge from alg3 to alg4\n",
      "Adding edge from alg4 to alg5\n",
      "['alg0'] alg1\n",
      "Removing edge from alg0 to alg1\n",
      "Adding edge from alg0 to alg2\n",
      "['alg1', 'alg0'] alg2\n",
      "Removing edge from alg1 to alg2\n",
      "Removing edge from alg0 to alg2\n",
      "Adding edge from alg0 to alg3\n",
      "Adding edge from alg1 to alg3\n",
      "['alg2', 'alg0', 'alg1'] alg3\n",
      "['alg3'] alg4\n",
      "Adding edge from alg0 to alg4\n",
      "Adding edge from alg1 to alg4\n",
      "Adding edge from alg2 to alg4\n",
      "Removing edge from alg3 to alg4\n",
      "Adding edge from alg3 to alg5\n",
      "['alg0', 'alg1', 'alg2'] alg4\n",
      "['alg4', 'alg3'] alg5\n",
      "Adding edge from alg0 to alg5\n",
      "Adding edge from alg1 to alg5\n",
      "Adding edge from alg2 to alg5\n",
      "Removing edge from alg4 to alg5\n",
      "Removing edge from alg3 to alg5\n",
      "['alg0', 'alg1', 'alg2'] alg5\n",
      "None None\n",
      "  case:concept:name  case:rank:q25-q75\n",
      "0              alg0                  0\n",
      "1              alg1                  0\n",
      "2              alg2                  0\n",
      "3              alg3                  1\n",
      "4              alg4                  1\n",
      "5              alg5                  1\n",
      "norm: 0.3333333333333333\n",
      "['alg0', 'alg1', 'alg2', 'alg3', 'alg4', 'alg5']\n",
      "Adding edge from alg0 to alg1\n",
      "Adding edge from alg1 to alg2\n",
      "Adding edge from alg2 to alg3\n",
      "Adding edge from alg3 to alg4\n",
      "Adding edge from alg4 to alg5\n",
      "Adding edge from alg0 to alg1\n",
      "Adding edge from alg1 to alg2\n",
      "Adding edge from alg2 to alg3\n",
      "Adding edge from alg3 to alg4\n",
      "Adding edge from alg4 to alg5\n",
      "['alg0'] alg1\n",
      "Removing edge from alg0 to alg1\n",
      "Adding edge from alg0 to alg2\n",
      "['alg1', 'alg0'] alg2\n",
      "Removing edge from alg1 to alg2\n",
      "Removing edge from alg0 to alg2\n",
      "Adding edge from alg0 to alg3\n",
      "Adding edge from alg1 to alg3\n",
      "['alg2', 'alg0', 'alg1'] alg3\n",
      "['alg3'] alg4\n",
      "Adding edge from alg0 to alg4\n",
      "Adding edge from alg1 to alg4\n",
      "Adding edge from alg2 to alg4\n",
      "Removing edge from alg3 to alg4\n",
      "Adding edge from alg3 to alg5\n",
      "['alg0', 'alg1', 'alg2'] alg4\n",
      "['alg4', 'alg3'] alg5\n",
      "Adding edge from alg0 to alg5\n",
      "Adding edge from alg1 to alg5\n",
      "Adding edge from alg2 to alg5\n",
      "Removing edge from alg0 to alg4\n",
      "Removing edge from alg1 to alg4\n",
      "Removing edge from alg2 to alg4\n",
      "Removing edge from alg4 to alg5\n",
      "Adding edge from alg5 to alg4\n",
      "Removing edge from alg3 to alg5\n",
      "['alg0', 'alg1', 'alg2'] alg5\n",
      "Removing edge from alg0 to alg5\n",
      "Removing edge from alg1 to alg5\n",
      "Removing edge from alg2 to alg5\n",
      "Adding edge from alg0 to alg4\n",
      "Adding edge from alg1 to alg4\n",
      "Adding edge from alg2 to alg4\n",
      "None None\n",
      "  case:concept:name  case:rank:q25-q75\n",
      "0              alg0                  0\n",
      "1              alg1                  0\n",
      "2              alg2                  0\n",
      "5              alg5                  0\n",
      "3              alg3                  1\n",
      "4              alg4                  1\n",
      "norm: 0.16666666666666666\n",
      "['alg0', 'alg1', 'alg2', 'alg3', 'alg4', 'alg5']\n",
      "Adding edge from alg0 to alg1\n",
      "Adding edge from alg1 to alg2\n",
      "Adding edge from alg2 to alg3\n",
      "Adding edge from alg3 to alg4\n",
      "Adding edge from alg4 to alg5\n",
      "Adding edge from alg0 to alg1\n",
      "Adding edge from alg1 to alg2\n",
      "Adding edge from alg2 to alg3\n",
      "Adding edge from alg3 to alg4\n",
      "Adding edge from alg4 to alg5\n",
      "['alg0'] alg1\n",
      "Removing edge from alg0 to alg1\n",
      "Adding edge from alg0 to alg2\n",
      "['alg1', 'alg0'] alg2\n",
      "Removing edge from alg1 to alg2\n",
      "Removing edge from alg0 to alg2\n",
      "Adding edge from alg0 to alg3\n",
      "Adding edge from alg1 to alg3\n",
      "['alg2', 'alg0', 'alg1'] alg3\n",
      "Removing edge from alg2 to alg3\n",
      "['alg3'] alg4\n",
      "Adding edge from alg0 to alg4\n",
      "Adding edge from alg1 to alg4\n",
      "Adding edge from alg2 to alg4\n",
      "Removing edge from alg3 to alg4\n",
      "Adding edge from alg3 to alg5\n",
      "['alg0', 'alg1', 'alg2'] alg4\n",
      "['alg4', 'alg3'] alg5\n",
      "Adding edge from alg0 to alg5\n",
      "Adding edge from alg1 to alg5\n",
      "Adding edge from alg2 to alg5\n",
      "Removing edge from alg4 to alg5\n",
      "Removing edge from alg3 to alg5\n",
      "['alg0', 'alg1', 'alg2'] alg5\n",
      "Removing edge from alg0 to alg5\n",
      "Removing edge from alg1 to alg5\n",
      "Removing edge from alg2 to alg5\n",
      "None None\n",
      "  case:concept:name  case:rank:q25-q75\n",
      "0              alg0                  0\n",
      "1              alg1                  0\n",
      "2              alg2                  0\n",
      "5              alg5                  0\n",
      "3              alg3                  1\n",
      "4              alg4                  1\n",
      "norm: 0.0\n",
      "['alg0', 'alg1', 'alg2', 'alg3', 'alg4', 'alg5']\n",
      "Number of measurements: 9\n"
     ]
    }
   ],
   "source": [
    "s, g, log = measure_and_rank2(ms,h0,rep_steps=3, max_rep=30, q_min=25, q_max=75)"
   ]
  },
  {
   "cell_type": "code",
   "execution_count": 33,
   "id": "c294953c",
   "metadata": {},
   "outputs": [
    {
     "data": {
      "image/svg+xml": [
       "<?xml version=\"1.0\" encoding=\"UTF-8\" standalone=\"no\"?>\n",
       "<!DOCTYPE svg PUBLIC \"-//W3C//DTD SVG 1.1//EN\"\n",
       " \"http://www.w3.org/Graphics/SVG/1.1/DTD/svg11.dtd\">\n",
       "<!-- Generated by graphviz version 2.40.1 (20161225.0304)\n",
       " -->\n",
       "<!-- Title: %3 Pages: 1 -->\n",
       "<svg width=\"278pt\" height=\"116pt\"\n",
       " viewBox=\"0.00 0.00 278.00 116.00\" xmlns=\"http://www.w3.org/2000/svg\" xmlns:xlink=\"http://www.w3.org/1999/xlink\">\n",
       "<g id=\"graph0\" class=\"graph\" transform=\"scale(1 1) rotate(0) translate(4 112)\">\n",
       "<title>%3</title>\n",
       "<polygon fill=\"#ffffff\" stroke=\"transparent\" points=\"-4,4 -4,-112 274,-112 274,4 -4,4\"/>\n",
       "<!-- alg0 -->\n",
       "<g id=\"node1\" class=\"node\">\n",
       "<title>alg0</title>\n",
       "<ellipse fill=\"#f0efed\" stroke=\"#f0efed\" cx=\"99\" cy=\"-90\" rx=\"27\" ry=\"18\"/>\n",
       "<text text-anchor=\"middle\" x=\"99\" y=\"-85.8\" font-family=\"Times,serif\" font-size=\"14.00\" fill=\"#000000\">alg0</text>\n",
       "</g>\n",
       "<!-- alg3 -->\n",
       "<g id=\"node4\" class=\"node\">\n",
       "<title>alg3</title>\n",
       "<ellipse fill=\"#f0efed\" stroke=\"#f0efed\" cx=\"27\" cy=\"-18\" rx=\"27\" ry=\"18\"/>\n",
       "<text text-anchor=\"middle\" x=\"27\" y=\"-13.8\" font-family=\"Times,serif\" font-size=\"14.00\" fill=\"#000000\">alg3</text>\n",
       "</g>\n",
       "<!-- alg0&#45;&gt;alg3 -->\n",
       "<g id=\"edge1\" class=\"edge\">\n",
       "<title>alg0&#45;&gt;alg3</title>\n",
       "<path fill=\"none\" stroke=\"#000000\" d=\"M83.7307,-74.7307C73.803,-64.803 60.6847,-51.6847 49.5637,-40.5637\"/>\n",
       "<polygon fill=\"#000000\" stroke=\"#000000\" points=\"51.7933,-37.8436 42.2473,-33.2473 46.8436,-42.7933 51.7933,-37.8436\"/>\n",
       "</g>\n",
       "<!-- alg4 -->\n",
       "<g id=\"node5\" class=\"node\">\n",
       "<title>alg4</title>\n",
       "<ellipse fill=\"#f0efed\" stroke=\"#f0efed\" cx=\"99\" cy=\"-18\" rx=\"27\" ry=\"18\"/>\n",
       "<text text-anchor=\"middle\" x=\"99\" y=\"-13.8\" font-family=\"Times,serif\" font-size=\"14.00\" fill=\"#000000\">alg4</text>\n",
       "</g>\n",
       "<!-- alg0&#45;&gt;alg4 -->\n",
       "<g id=\"edge2\" class=\"edge\">\n",
       "<title>alg0&#45;&gt;alg4</title>\n",
       "<path fill=\"none\" stroke=\"#000000\" d=\"M99,-71.8314C99,-64.131 99,-54.9743 99,-46.4166\"/>\n",
       "<polygon fill=\"#000000\" stroke=\"#000000\" points=\"102.5001,-46.4132 99,-36.4133 95.5001,-46.4133 102.5001,-46.4132\"/>\n",
       "</g>\n",
       "<!-- alg1 -->\n",
       "<g id=\"node2\" class=\"node\">\n",
       "<title>alg1</title>\n",
       "<ellipse fill=\"#f0efed\" stroke=\"#f0efed\" cx=\"27\" cy=\"-90\" rx=\"27\" ry=\"18\"/>\n",
       "<text text-anchor=\"middle\" x=\"27\" y=\"-85.8\" font-family=\"Times,serif\" font-size=\"14.00\" fill=\"#000000\">alg1</text>\n",
       "</g>\n",
       "<!-- alg1&#45;&gt;alg3 -->\n",
       "<g id=\"edge3\" class=\"edge\">\n",
       "<title>alg1&#45;&gt;alg3</title>\n",
       "<path fill=\"none\" stroke=\"#000000\" d=\"M27,-71.8314C27,-64.131 27,-54.9743 27,-46.4166\"/>\n",
       "<polygon fill=\"#000000\" stroke=\"#000000\" points=\"30.5001,-46.4132 27,-36.4133 23.5001,-46.4133 30.5001,-46.4132\"/>\n",
       "</g>\n",
       "<!-- alg1&#45;&gt;alg4 -->\n",
       "<g id=\"edge4\" class=\"edge\">\n",
       "<title>alg1&#45;&gt;alg4</title>\n",
       "<path fill=\"none\" stroke=\"#000000\" d=\"M42.2693,-74.7307C52.197,-64.803 65.3153,-51.6847 76.4363,-40.5637\"/>\n",
       "<polygon fill=\"#000000\" stroke=\"#000000\" points=\"79.1564,-42.7933 83.7527,-33.2473 74.2067,-37.8436 79.1564,-42.7933\"/>\n",
       "</g>\n",
       "<!-- alg2 -->\n",
       "<g id=\"node3\" class=\"node\">\n",
       "<title>alg2</title>\n",
       "<ellipse fill=\"#f0efed\" stroke=\"#f0efed\" cx=\"171\" cy=\"-90\" rx=\"27\" ry=\"18\"/>\n",
       "<text text-anchor=\"middle\" x=\"171\" y=\"-85.8\" font-family=\"Times,serif\" font-size=\"14.00\" fill=\"#000000\">alg2</text>\n",
       "</g>\n",
       "<!-- alg2&#45;&gt;alg4 -->\n",
       "<g id=\"edge5\" class=\"edge\">\n",
       "<title>alg2&#45;&gt;alg4</title>\n",
       "<path fill=\"none\" stroke=\"#000000\" d=\"M155.7307,-74.7307C145.803,-64.803 132.6847,-51.6847 121.5637,-40.5637\"/>\n",
       "<polygon fill=\"#000000\" stroke=\"#000000\" points=\"123.7933,-37.8436 114.2473,-33.2473 118.8436,-42.7933 123.7933,-37.8436\"/>\n",
       "</g>\n",
       "<!-- alg5 -->\n",
       "<g id=\"node6\" class=\"node\">\n",
       "<title>alg5</title>\n",
       "<ellipse fill=\"#f0efed\" stroke=\"#f0efed\" cx=\"243\" cy=\"-90\" rx=\"27\" ry=\"18\"/>\n",
       "<text text-anchor=\"middle\" x=\"243\" y=\"-85.8\" font-family=\"Times,serif\" font-size=\"14.00\" fill=\"#000000\">alg5</text>\n",
       "</g>\n",
       "</g>\n",
       "</svg>\n"
      ],
      "text/plain": [
       "<graphviz.graphs.Digraph at 0x7fa4e67333a0>"
      ]
     },
     "execution_count": 33,
     "metadata": {},
     "output_type": "execute_result"
    }
   ],
   "source": [
    "g"
   ]
  },
  {
   "cell_type": "code",
   "execution_count": 34,
   "id": "6443de7b",
   "metadata": {},
   "outputs": [],
   "source": [
    "#g.render('dfg152-0.01')"
   ]
  },
  {
   "cell_type": "code",
   "execution_count": 35,
   "id": "9280840c",
   "metadata": {},
   "outputs": [
    {
     "data": {
      "text/html": [
       "<div>\n",
       "<style scoped>\n",
       "    .dataframe tbody tr th:only-of-type {\n",
       "        vertical-align: middle;\n",
       "    }\n",
       "\n",
       "    .dataframe tbody tr th {\n",
       "        vertical-align: top;\n",
       "    }\n",
       "\n",
       "    .dataframe thead th {\n",
       "        text-align: right;\n",
       "    }\n",
       "</style>\n",
       "<table border=\"1\" class=\"dataframe\">\n",
       "  <thead>\n",
       "    <tr style=\"text-align: right;\">\n",
       "      <th></th>\n",
       "      <th>case:concept:name</th>\n",
       "      <th>case:rank:q25-q75</th>\n",
       "    </tr>\n",
       "  </thead>\n",
       "  <tbody>\n",
       "    <tr>\n",
       "      <th>0</th>\n",
       "      <td>alg0</td>\n",
       "      <td>0</td>\n",
       "    </tr>\n",
       "    <tr>\n",
       "      <th>1</th>\n",
       "      <td>alg1</td>\n",
       "      <td>0</td>\n",
       "    </tr>\n",
       "    <tr>\n",
       "      <th>2</th>\n",
       "      <td>alg2</td>\n",
       "      <td>0</td>\n",
       "    </tr>\n",
       "    <tr>\n",
       "      <th>5</th>\n",
       "      <td>alg5</td>\n",
       "      <td>0</td>\n",
       "    </tr>\n",
       "    <tr>\n",
       "      <th>3</th>\n",
       "      <td>alg3</td>\n",
       "      <td>1</td>\n",
       "    </tr>\n",
       "    <tr>\n",
       "      <th>4</th>\n",
       "      <td>alg4</td>\n",
       "      <td>1</td>\n",
       "    </tr>\n",
       "  </tbody>\n",
       "</table>\n",
       "</div>"
      ],
      "text/plain": [
       "  case:concept:name  case:rank:q25-q75\n",
       "0              alg0                  0\n",
       "1              alg1                  0\n",
       "2              alg2                  0\n",
       "5              alg5                  0\n",
       "3              alg3                  1\n",
       "4              alg4                  1"
      ]
     },
     "execution_count": 35,
     "metadata": {},
     "output_type": "execute_result"
    }
   ],
   "source": [
    "s"
   ]
  },
  {
   "cell_type": "code",
   "execution_count": 36,
   "id": "f087bf05",
   "metadata": {},
   "outputs": [
    {
     "data": {
      "text/html": [
       "<div>\n",
       "<style scoped>\n",
       "    .dataframe tbody tr th:only-of-type {\n",
       "        vertical-align: middle;\n",
       "    }\n",
       "\n",
       "    .dataframe tbody tr th {\n",
       "        vertical-align: top;\n",
       "    }\n",
       "\n",
       "    .dataframe thead th {\n",
       "        text-align: right;\n",
       "    }\n",
       "</style>\n",
       "<table border=\"1\" class=\"dataframe\">\n",
       "  <thead>\n",
       "    <tr style=\"text-align: right;\">\n",
       "      <th></th>\n",
       "      <th>case:rank</th>\n",
       "      <th>case:rank:q25-q75</th>\n",
       "      <th>case:rank:q25-q75</th>\n",
       "      <th>case:rank:q25-q75</th>\n",
       "    </tr>\n",
       "    <tr>\n",
       "      <th>case:concept:name</th>\n",
       "      <th></th>\n",
       "      <th></th>\n",
       "      <th></th>\n",
       "      <th></th>\n",
       "    </tr>\n",
       "  </thead>\n",
       "  <tbody>\n",
       "    <tr>\n",
       "      <th>alg0</th>\n",
       "      <td>0</td>\n",
       "      <td>0</td>\n",
       "      <td>0</td>\n",
       "      <td>0</td>\n",
       "    </tr>\n",
       "    <tr>\n",
       "      <th>alg1</th>\n",
       "      <td>1</td>\n",
       "      <td>0</td>\n",
       "      <td>0</td>\n",
       "      <td>0</td>\n",
       "    </tr>\n",
       "    <tr>\n",
       "      <th>alg2</th>\n",
       "      <td>2</td>\n",
       "      <td>0</td>\n",
       "      <td>0</td>\n",
       "      <td>0</td>\n",
       "    </tr>\n",
       "    <tr>\n",
       "      <th>alg3</th>\n",
       "      <td>3</td>\n",
       "      <td>1</td>\n",
       "      <td>1</td>\n",
       "      <td>1</td>\n",
       "    </tr>\n",
       "    <tr>\n",
       "      <th>alg4</th>\n",
       "      <td>4</td>\n",
       "      <td>1</td>\n",
       "      <td>1</td>\n",
       "      <td>1</td>\n",
       "    </tr>\n",
       "    <tr>\n",
       "      <th>alg5</th>\n",
       "      <td>5</td>\n",
       "      <td>1</td>\n",
       "      <td>0</td>\n",
       "      <td>0</td>\n",
       "    </tr>\n",
       "  </tbody>\n",
       "</table>\n",
       "</div>"
      ],
      "text/plain": [
       "                   case:rank  case:rank:q25-q75  case:rank:q25-q75  \\\n",
       "case:concept:name                                                    \n",
       "alg0                       0                  0                  0   \n",
       "alg1                       1                  0                  0   \n",
       "alg2                       2                  0                  0   \n",
       "alg3                       3                  1                  1   \n",
       "alg4                       4                  1                  1   \n",
       "alg5                       5                  1                  0   \n",
       "\n",
       "                   case:rank:q25-q75  \n",
       "case:concept:name                     \n",
       "alg0                               0  \n",
       "alg1                               0  \n",
       "alg2                               0  \n",
       "alg3                               1  \n",
       "alg4                               1  \n",
       "alg5                               0  "
      ]
     },
     "execution_count": 36,
     "metadata": {},
     "output_type": "execute_result"
    }
   ],
   "source": [
    "log"
   ]
  },
  {
   "cell_type": "code",
   "execution_count": 37,
   "id": "c9f61660",
   "metadata": {},
   "outputs": [
    {
     "data": {
      "image/png": "[encoded data removed]",
      "text/plain": [
       "<Figure size 720x259.2 with 1 Axes>"
      ]
     },
     "metadata": {
      "needs_background": "light"
     },
     "output_type": "display_data"
    }
   ],
   "source": [
    "mv = MeasurementsVisualizer(ms.get_alg_measurements(), h0)\n",
    "fig = mv.show_measurements_boxplots(scale=0.6)"
   ]
  },
  {
   "cell_type": "code",
   "execution_count": 14,
   "id": "2baa757a",
   "metadata": {},
   "outputs": [],
   "source": [
    "#fig.savefig('v152-0.01.pdf')"
   ]
  },
  {
   "cell_type": "code",
   "execution_count": 13,
   "id": "e8be2022",
   "metadata": {},
   "outputs": [
    {
     "data": {
      "text/plain": [
       "'1.22.3'"
      ]
     },
     "execution_count": 13,
     "metadata": {},
     "output_type": "execute_result"
    }
   ],
   "source": [
    "np.__version__"
   ]
  },
  {
   "cell_type": "code",
   "execution_count": 496,
   "id": "004f46ce",
   "metadata": {},
   "outputs": [],
   "source": [
    "cfg = {}\n",
    "sigma = 0.1\n",
    "cfg['alg0']  = [0.5,sigma] #[mean, std]\n",
    "cfg['alg1']  = [0.5,sigma]\n",
    "cfg['alg2']  = [0.5,sigma]\n",
    "cfg['alg3']  = [0.5,sigma]\n",
    "cfg['alg4']  = [0.5,sigma]\n",
    "cfg['alg5']  = [0.5,sigma]\n",
    "h0 = list(cfg.keys())"
   ]
  },
  {
   "cell_type": "code",
   "execution_count": 158,
   "id": "c19eec94",
   "metadata": {},
   "outputs": [],
   "source": [
    "ms = MeasurementsSimulator(cfg, 'normal', seed=152)  "
   ]
  },
  {
   "cell_type": "code",
   "execution_count": 159,
   "id": "acbac14c",
   "metadata": {},
   "outputs": [],
   "source": [
    "ms.measure(10,1)"
   ]
  },
  {
   "cell_type": "code",
   "execution_count": 160,
   "id": "69464a4d",
   "metadata": {},
   "outputs": [
    {
     "name": "stdout",
     "output_type": "stream",
     "text": [
      "Adding edge from alg0 to alg1\n",
      "Adding edge from alg1 to alg2\n",
      "Adding edge from alg2 to alg3\n",
      "Adding edge from alg3 to alg4\n",
      "Adding edge from alg4 to alg5\n",
      "Adding edge from alg0 to alg1\n",
      "Adding edge from alg1 to alg2\n",
      "Adding edge from alg2 to alg3\n",
      "Adding edge from alg3 to alg4\n",
      "Adding edge from alg4 to alg5\n",
      "['alg0'] alg1\n",
      "Removing edge from alg0 to alg1\n",
      "Adding edge from alg0 to alg2\n",
      "['alg1', 'alg0'] alg2\n",
      "Removing edge from alg1 to alg2\n",
      "Removing edge from alg0 to alg2\n",
      "Adding edge from alg0 to alg3\n",
      "Adding edge from alg1 to alg3\n",
      "['alg2', 'alg0', 'alg1'] alg3\n",
      "Removing edge from alg2 to alg3\n",
      "Removing edge from alg0 to alg3\n",
      "Removing edge from alg1 to alg3\n",
      "Adding edge from alg0 to alg4\n",
      "Adding edge from alg1 to alg4\n",
      "Adding edge from alg2 to alg4\n",
      "['alg3', 'alg0', 'alg1', 'alg2'] alg4\n",
      "Removing edge from alg3 to alg4\n",
      "Removing edge from alg0 to alg4\n",
      "Removing edge from alg1 to alg4\n",
      "Removing edge from alg2 to alg4\n",
      "Adding edge from alg0 to alg5\n",
      "Adding edge from alg1 to alg5\n",
      "Adding edge from alg2 to alg5\n",
      "Adding edge from alg3 to alg5\n",
      "['alg4', 'alg0', 'alg1', 'alg2', 'alg3'] alg5\n",
      "Removing edge from alg4 to alg5\n",
      "Removing edge from alg0 to alg5\n",
      "Removing edge from alg1 to alg5\n",
      "Removing edge from alg2 to alg5\n",
      "Removing edge from alg3 to alg5\n",
      "None None\n"
     ]
    }
   ],
   "source": [
    "compareAlgs = CompareAlgs(ms.get_alg_measurements(), h0)\n",
    "rank = RankBFS(h0,compareAlgs)\n",
    "g, s = rank.rank_algorithms(q_min=25,q_max=75)"
   ]
  },
  {
   "cell_type": "code",
   "execution_count": 156,
   "id": "68fedbe9",
   "metadata": {},
   "outputs": [],
   "source": [
    "#s, g, log = measure_and_rank2(ms,h0, max_rep=30)"
   ]
  },
  {
   "cell_type": "code",
   "execution_count": 162,
   "id": "526c1aa8",
   "metadata": {},
   "outputs": [
    {
     "data": {
      "image/svg+xml": [
       "<?xml version=\"1.0\" encoding=\"UTF-8\" standalone=\"no\"?>\n",
       "<!DOCTYPE svg PUBLIC \"-//W3C//DTD SVG 1.1//EN\"\n",
       " \"http://www.w3.org/Graphics/SVG/1.1/DTD/svg11.dtd\">\n",
       "<!-- Generated by graphviz version 2.40.1 (20161225.0304)\n",
       " -->\n",
       "<!-- Title: %3 Pages: 1 -->\n",
       "<svg width=\"422pt\" height=\"44pt\"\n",
       " viewBox=\"0.00 0.00 422.00 44.00\" xmlns=\"http://www.w3.org/2000/svg\" xmlns:xlink=\"http://www.w3.org/1999/xlink\">\n",
       "<g id=\"graph0\" class=\"graph\" transform=\"scale(1 1) rotate(0) translate(4 40)\">\n",
       "<title>%3</title>\n",
       "<polygon fill=\"#ffffff\" stroke=\"transparent\" points=\"-4,4 -4,-40 418,-40 418,4 -4,4\"/>\n",
       "<!-- alg0 -->\n",
       "<g id=\"node1\" class=\"node\">\n",
       "<title>alg0</title>\n",
       "<ellipse fill=\"#f0efed\" stroke=\"#f0efed\" cx=\"27\" cy=\"-18\" rx=\"27\" ry=\"18\"/>\n",
       "<text text-anchor=\"middle\" x=\"27\" y=\"-13.8\" font-family=\"Times,serif\" font-size=\"14.00\" fill=\"#000000\">alg0</text>\n",
       "</g>\n",
       "<!-- alg1 -->\n",
       "<g id=\"node2\" class=\"node\">\n",
       "<title>alg1</title>\n",
       "<ellipse fill=\"#f0efed\" stroke=\"#f0efed\" cx=\"99\" cy=\"-18\" rx=\"27\" ry=\"18\"/>\n",
       "<text text-anchor=\"middle\" x=\"99\" y=\"-13.8\" font-family=\"Times,serif\" font-size=\"14.00\" fill=\"#000000\">alg1</text>\n",
       "</g>\n",
       "<!-- alg2 -->\n",
       "<g id=\"node3\" class=\"node\">\n",
       "<title>alg2</title>\n",
       "<ellipse fill=\"#f0efed\" stroke=\"#f0efed\" cx=\"171\" cy=\"-18\" rx=\"27\" ry=\"18\"/>\n",
       "<text text-anchor=\"middle\" x=\"171\" y=\"-13.8\" font-family=\"Times,serif\" font-size=\"14.00\" fill=\"#000000\">alg2</text>\n",
       "</g>\n",
       "<!-- alg3 -->\n",
       "<g id=\"node4\" class=\"node\">\n",
       "<title>alg3</title>\n",
       "<ellipse fill=\"#f0efed\" stroke=\"#f0efed\" cx=\"243\" cy=\"-18\" rx=\"27\" ry=\"18\"/>\n",
       "<text text-anchor=\"middle\" x=\"243\" y=\"-13.8\" font-family=\"Times,serif\" font-size=\"14.00\" fill=\"#000000\">alg3</text>\n",
       "</g>\n",
       "<!-- alg4 -->\n",
       "<g id=\"node5\" class=\"node\">\n",
       "<title>alg4</title>\n",
       "<ellipse fill=\"#f0efed\" stroke=\"#f0efed\" cx=\"315\" cy=\"-18\" rx=\"27\" ry=\"18\"/>\n",
       "<text text-anchor=\"middle\" x=\"315\" y=\"-13.8\" font-family=\"Times,serif\" font-size=\"14.00\" fill=\"#000000\">alg4</text>\n",
       "</g>\n",
       "<!-- alg5 -->\n",
       "<g id=\"node6\" class=\"node\">\n",
       "<title>alg5</title>\n",
       "<ellipse fill=\"#f0efed\" stroke=\"#f0efed\" cx=\"387\" cy=\"-18\" rx=\"27\" ry=\"18\"/>\n",
       "<text text-anchor=\"middle\" x=\"387\" y=\"-13.8\" font-family=\"Times,serif\" font-size=\"14.00\" fill=\"#000000\">alg5</text>\n",
       "</g>\n",
       "</g>\n",
       "</svg>\n"
      ],
      "text/plain": [
       "<graphviz.graphs.Digraph at 0x7fe033759b20>"
      ]
     },
     "execution_count": 162,
     "metadata": {},
     "output_type": "execute_result"
    }
   ],
   "source": [
    "g[-1]"
   ]
  },
  {
   "cell_type": "code",
   "execution_count": 164,
   "id": "693c3201",
   "metadata": {},
   "outputs": [
    {
     "data": {
      "text/html": [
       "<div>\n",
       "<style scoped>\n",
       "    .dataframe tbody tr th:only-of-type {\n",
       "        vertical-align: middle;\n",
       "    }\n",
       "\n",
       "    .dataframe tbody tr th {\n",
       "        vertical-align: top;\n",
       "    }\n",
       "\n",
       "    .dataframe thead th {\n",
       "        text-align: right;\n",
       "    }\n",
       "</style>\n",
       "<table border=\"1\" class=\"dataframe\">\n",
       "  <thead>\n",
       "    <tr style=\"text-align: right;\">\n",
       "      <th></th>\n",
       "      <th>case:concept:name</th>\n",
       "      <th>case:rank:q25-q75</th>\n",
       "    </tr>\n",
       "  </thead>\n",
       "  <tbody>\n",
       "    <tr>\n",
       "      <th>0</th>\n",
       "      <td>alg0</td>\n",
       "      <td>0</td>\n",
       "    </tr>\n",
       "    <tr>\n",
       "      <th>1</th>\n",
       "      <td>alg1</td>\n",
       "      <td>0</td>\n",
       "    </tr>\n",
       "    <tr>\n",
       "      <th>2</th>\n",
       "      <td>alg2</td>\n",
       "      <td>0</td>\n",
       "    </tr>\n",
       "    <tr>\n",
       "      <th>3</th>\n",
       "      <td>alg3</td>\n",
       "      <td>0</td>\n",
       "    </tr>\n",
       "    <tr>\n",
       "      <th>4</th>\n",
       "      <td>alg4</td>\n",
       "      <td>0</td>\n",
       "    </tr>\n",
       "    <tr>\n",
       "      <th>5</th>\n",
       "      <td>alg5</td>\n",
       "      <td>0</td>\n",
       "    </tr>\n",
       "  </tbody>\n",
       "</table>\n",
       "</div>"
      ],
      "text/plain": [
       "  case:concept:name  case:rank:q25-q75\n",
       "0              alg0                  0\n",
       "1              alg1                  0\n",
       "2              alg2                  0\n",
       "3              alg3                  0\n",
       "4              alg4                  0\n",
       "5              alg5                  0"
      ]
     },
     "execution_count": 164,
     "metadata": {},
     "output_type": "execute_result"
    }
   ],
   "source": [
    "s"
   ]
  },
  {
   "cell_type": "code",
   "execution_count": 163,
   "id": "3bde0346",
   "metadata": {},
   "outputs": [
    {
     "data": {
      "image/png": "[encoded data removed]",
      "text/plain": [
       "<Figure size 720x259.2 with 1 Axes>"
      ]
     },
     "metadata": {
      "needs_background": "light"
     },
     "output_type": "display_data"
    }
   ],
   "source": [
    "mv = MeasurementsVisualizer(ms.get_alg_measurements(), h0)\n",
    "fig = mv.show_measurements_boxplots(scale=0.6)"
   ]
  },
  {
   "cell_type": "code",
   "execution_count": null,
   "id": "322b450e",
   "metadata": {},
   "outputs": [],
   "source": []
  },
  {
   "cell_type": "code",
   "execution_count": null,
   "id": "1b499d35",
   "metadata": {},
   "outputs": [],
   "source": []
  },
  {
   "cell_type": "code",
   "execution_count": null,
   "id": "67cf6ae6",
   "metadata": {},
   "outputs": [],
   "source": []
  }
 ],
 "metadata": {
  "kernelspec": {
   "display_name": "Python 3 (ipykernel)",
   "language": "python",
   "name": "python3"
  },
  "language_info": {
   "codemirror_mode": {
    "name": "ipython",
    "version": 3
   },
   "file_extension": ".py",
   "mimetype": "text/x-python",
   "name": "python",
   "nbconvert_exporter": "python",
   "pygments_lexer": "ipython3",
   "version": "3.9.7"
  }
 },
 "nbformat": 4,
 "nbformat_minor": 5
}
