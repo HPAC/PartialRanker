{
 "cells": [
  {
   "cell_type": "code",
   "execution_count": 55,
   "id": "ee9fc755",
   "metadata": {},
   "outputs": [],
   "source": [
    "import sys\n",
    "sys.path.append(\"../ranking/\")\n",
    "sys.path.append(\"../tests/\")"
   ]
  },
  {
   "cell_type": "code",
   "execution_count": 136,
   "id": "8bea833a",
   "metadata": {},
   "outputs": [],
   "source": [
    "from rank_variants import RankVariants\n",
    "from measurements_visualizer import MeasurementsVisualizer\n",
    "from measurements_simulator import MeasurementsSimulator\n",
    "import pandas as pd\n",
    "from abc import ABC, abstractmethod"
   ]
  },
  {
   "cell_type": "code",
   "execution_count": 195,
   "id": "0a9b17eb",
   "metadata": {},
   "outputs": [],
   "source": [
    "class MeasurementsManager(ABC):\n",
    "    def __init__(self):\n",
    "        self.alg_measurements = {}\n",
    "        super().__init__()\n",
    "   \n",
    "    @abstractmethod\n",
    "    def measure(self, rep_steps, run_id):\n",
    "        pass\n",
    "    \n",
    "    @abstractmethod\n",
    "    def get_alg_measurements(self):\n",
    "        pass"
   ]
  },
  {
   "cell_type": "code",
   "execution_count": 196,
   "id": "d44dd689",
   "metadata": {},
   "outputs": [],
   "source": [
    "class MeasurementsSimulator(MeasurementsManager):\n",
    "    def __init__(self, config, distribution='normal'):\n",
    "        super().__init__()\n",
    "        self.distribution = distribution\n",
    "        self.config = config\n",
    "        \n",
    "    def normal(self, mean, std):\n",
    "        return np.random.normal(mean, std)\n",
    "    \n",
    "    def add_measurement(self, alg, x):\n",
    "        try:\n",
    "            self.alg_measurements[alg].append(x)\n",
    "        except KeyError:\n",
    "            self.alg_measurements[alg] = []\n",
    "            self.alg_measurements[alg].append(x)\n",
    "        \n",
    "    \n",
    "    def measure(self, rep_steps, run_id):\n",
    "        for alg, params in self.config.items():\n",
    "            for i in range(rep_steps):\n",
    "                if self.distribution == 'normal':\n",
    "                    x = self.normal(*params)\n",
    "                    self.add_measurement(alg,x)\n",
    "            \n",
    "    def get_alg_measurements(self):\n",
    "        return self.alg_measurements\n"
   ]
  },
  {
   "cell_type": "code",
   "execution_count": 197,
   "id": "24614570",
   "metadata": {},
   "outputs": [],
   "source": [
    "cfg = {}\n",
    "cfg['alg1']  = [0.2,0.02]\n",
    "cfg['alg2']  = [0.2,0.01]\n",
    "cfg['alg3']  = [0.2,0.01]\n",
    "\n",
    "ms = MeasurementsSimulator(cfg, 'normal')                "
   ]
  },
  {
   "cell_type": "code",
   "execution_count": 198,
   "id": "4805c3cd",
   "metadata": {},
   "outputs": [],
   "source": [
    "ms.measure(3,1)"
   ]
  },
  {
   "cell_type": "code",
   "execution_count": 199,
   "id": "70c61d33",
   "metadata": {},
   "outputs": [
    {
     "data": {
      "text/plain": [
       "{'alg1': [0.17669700318433287, 0.21801652973908375, 0.20931324879460922],\n",
       " 'alg2': [0.18463756313722776, 0.214882521937956, 0.21895889176030583],\n",
       " 'alg3': [0.2117877957115965, 0.1982007516418765, 0.18929247378489458]}"
      ]
     },
     "execution_count": 199,
     "metadata": {},
     "output_type": "execute_result"
    }
   ],
   "source": [
    "ms.get_alg_measurements()"
   ]
  },
  {
   "cell_type": "code",
   "execution_count": null,
   "id": "bf7b971a",
   "metadata": {},
   "outputs": [],
   "source": []
  },
  {
   "cell_type": "code",
   "execution_count": 81,
   "id": "f043f179",
   "metadata": {},
   "outputs": [],
   "source": [
    "h0 = list(cfg.keys())\n",
    "mv = MeasurementsVisualizer(alg_measurements, h0)"
   ]
  },
  {
   "cell_type": "code",
   "execution_count": 82,
   "id": "ab8ae94d",
   "metadata": {},
   "outputs": [
    {
     "data": {
      "image/png": "[encoded data removed]",
      "text/plain": [
       "<Figure size 720x324 with 1 Axes>"
      ]
     },
     "metadata": {
      "needs_background": "light"
     },
     "output_type": "display_data"
    }
   ],
   "source": [
    "mv.show_measurements_boxplots()"
   ]
  },
  {
   "cell_type": "code",
   "execution_count": 92,
   "id": "2a6c2868",
   "metadata": {},
   "outputs": [],
   "source": [
    "rv = RankVariants(alg_measurements,h0)"
   ]
  },
  {
   "cell_type": "code",
   "execution_count": 93,
   "id": "3d39f439",
   "metadata": {},
   "outputs": [],
   "source": [
    "ranks, mean_ranks = rv.calculate_mean_rank()"
   ]
  },
  {
   "cell_type": "code",
   "execution_count": 95,
   "id": "3201a5a7",
   "metadata": {},
   "outputs": [
    {
     "data": {
      "text/html": [
       "<div>\n",
       "<style scoped>\n",
       "    .dataframe tbody tr th:only-of-type {\n",
       "        vertical-align: middle;\n",
       "    }\n",
       "\n",
       "    .dataframe tbody tr th {\n",
       "        vertical-align: top;\n",
       "    }\n",
       "\n",
       "    .dataframe thead th {\n",
       "        text-align: right;\n",
       "    }\n",
       "</style>\n",
       "<table border=\"1\" class=\"dataframe\">\n",
       "  <thead>\n",
       "    <tr style=\"text-align: right;\">\n",
       "      <th></th>\n",
       "      <th>case:concept:name</th>\n",
       "      <th>case:mean-rank</th>\n",
       "    </tr>\n",
       "  </thead>\n",
       "  <tbody>\n",
       "    <tr>\n",
       "      <th>0</th>\n",
       "      <td>alg1</td>\n",
       "      <td>0.000</td>\n",
       "    </tr>\n",
       "    <tr>\n",
       "      <th>1</th>\n",
       "      <td>alg2</td>\n",
       "      <td>0.125</td>\n",
       "    </tr>\n",
       "    <tr>\n",
       "      <th>2</th>\n",
       "      <td>alg3</td>\n",
       "      <td>0.250</td>\n",
       "    </tr>\n",
       "  </tbody>\n",
       "</table>\n",
       "</div>"
      ],
      "text/plain": [
       "  case:concept:name  case:mean-rank\n",
       "0              alg1           0.000\n",
       "1              alg2           0.125\n",
       "2              alg3           0.250"
      ]
     },
     "execution_count": 95,
     "metadata": {},
     "output_type": "execute_result"
    }
   ],
   "source": [
    "mean_ranks"
   ]
  },
  {
   "cell_type": "code",
   "execution_count": 96,
   "id": "8a4a20fe",
   "metadata": {},
   "outputs": [
    {
     "data": {
      "text/html": [
       "<div>\n",
       "<style scoped>\n",
       "    .dataframe tbody tr th:only-of-type {\n",
       "        vertical-align: middle;\n",
       "    }\n",
       "\n",
       "    .dataframe tbody tr th {\n",
       "        vertical-align: top;\n",
       "    }\n",
       "\n",
       "    .dataframe thead th {\n",
       "        text-align: right;\n",
       "    }\n",
       "</style>\n",
       "<table border=\"1\" class=\"dataframe\">\n",
       "  <thead>\n",
       "    <tr style=\"text-align: right;\">\n",
       "      <th></th>\n",
       "      <th>case:rank:q95-q5</th>\n",
       "      <th>case:rank:q90-q10</th>\n",
       "      <th>case:rank:q85-q15</th>\n",
       "      <th>case:rank:q80-q20</th>\n",
       "      <th>case:rank:q75-q25</th>\n",
       "      <th>case:rank:q70-q30</th>\n",
       "      <th>case:rank:q65-q35</th>\n",
       "      <th>case:rank:q55-q45</th>\n",
       "    </tr>\n",
       "    <tr>\n",
       "      <th>case:concept:name</th>\n",
       "      <th></th>\n",
       "      <th></th>\n",
       "      <th></th>\n",
       "      <th></th>\n",
       "      <th></th>\n",
       "      <th></th>\n",
       "      <th></th>\n",
       "      <th></th>\n",
       "    </tr>\n",
       "  </thead>\n",
       "  <tbody>\n",
       "    <tr>\n",
       "      <th>alg1</th>\n",
       "      <td>0</td>\n",
       "      <td>0</td>\n",
       "      <td>0</td>\n",
       "      <td>0</td>\n",
       "      <td>0</td>\n",
       "      <td>0</td>\n",
       "      <td>0</td>\n",
       "      <td>0</td>\n",
       "    </tr>\n",
       "    <tr>\n",
       "      <th>alg2</th>\n",
       "      <td>0</td>\n",
       "      <td>0</td>\n",
       "      <td>0</td>\n",
       "      <td>0</td>\n",
       "      <td>0</td>\n",
       "      <td>0</td>\n",
       "      <td>0</td>\n",
       "      <td>1</td>\n",
       "    </tr>\n",
       "    <tr>\n",
       "      <th>alg3</th>\n",
       "      <td>0</td>\n",
       "      <td>0</td>\n",
       "      <td>0</td>\n",
       "      <td>0</td>\n",
       "      <td>0</td>\n",
       "      <td>0</td>\n",
       "      <td>0</td>\n",
       "      <td>2</td>\n",
       "    </tr>\n",
       "  </tbody>\n",
       "</table>\n",
       "</div>"
      ],
      "text/plain": [
       "                   case:rank:q95-q5  ...  case:rank:q55-q45\n",
       "case:concept:name                    ...                   \n",
       "alg1                              0  ...                  0\n",
       "alg2                              0  ...                  1\n",
       "alg3                              0  ...                  2\n",
       "\n",
       "[3 rows x 8 columns]"
      ]
     },
     "execution_count": 96,
     "metadata": {},
     "output_type": "execute_result"
    }
   ],
   "source": [
    "ranks"
   ]
  },
  {
   "cell_type": "code",
   "execution_count": 98,
   "id": "64e7a632",
   "metadata": {},
   "outputs": [],
   "source": [
    "data = []\n",
    "for i, j in enumerate(h0):\n",
    "    data.append([j, i])\n",
    "    mean_rank_h0 = pd.DataFrame(data, columns=['case:concept:name', 'case:mean-rank'])"
   ]
  },
  {
   "cell_type": "code",
   "execution_count": 128,
   "id": "6f871bf6",
   "metadata": {},
   "outputs": [
    {
     "data": {
      "text/html": [
       "<div>\n",
       "<style scoped>\n",
       "    .dataframe tbody tr th:only-of-type {\n",
       "        vertical-align: middle;\n",
       "    }\n",
       "\n",
       "    .dataframe tbody tr th {\n",
       "        vertical-align: top;\n",
       "    }\n",
       "\n",
       "    .dataframe thead th {\n",
       "        text-align: right;\n",
       "    }\n",
       "</style>\n",
       "<table border=\"1\" class=\"dataframe\">\n",
       "  <thead>\n",
       "    <tr style=\"text-align: right;\">\n",
       "      <th></th>\n",
       "      <th>case:concept:name</th>\n",
       "      <th>case:mean-rank</th>\n",
       "    </tr>\n",
       "  </thead>\n",
       "  <tbody>\n",
       "    <tr>\n",
       "      <th>0</th>\n",
       "      <td>alg1</td>\n",
       "      <td>0</td>\n",
       "    </tr>\n",
       "    <tr>\n",
       "      <th>1</th>\n",
       "      <td>alg2</td>\n",
       "      <td>1</td>\n",
       "    </tr>\n",
       "    <tr>\n",
       "      <th>2</th>\n",
       "      <td>alg3</td>\n",
       "      <td>2</td>\n",
       "    </tr>\n",
       "  </tbody>\n",
       "</table>\n",
       "</div>"
      ],
      "text/plain": [
       "  case:concept:name  case:mean-rank\n",
       "0              alg1               0\n",
       "1              alg2               1\n",
       "2              alg3               2"
      ]
     },
     "execution_count": 128,
     "metadata": {},
     "output_type": "execute_result"
    }
   ],
   "source": [
    "mean_rank_h0"
   ]
  },
  {
   "cell_type": "code",
   "execution_count": 103,
   "id": "4dc1547e",
   "metadata": {},
   "outputs": [
    {
     "data": {
      "text/plain": [
       "array([0, 1, 2])"
      ]
     },
     "execution_count": 103,
     "metadata": {},
     "output_type": "execute_result"
    }
   ],
   "source": [
    "mean_rank_h0.iloc[:,-1].values"
   ]
  },
  {
   "cell_type": "code",
   "execution_count": 104,
   "id": "88778732",
   "metadata": {},
   "outputs": [
    {
     "data": {
      "text/plain": [
       "array([1., 1., 1., 1., 1.])"
      ]
     },
     "execution_count": 104,
     "metadata": {},
     "output_type": "execute_result"
    }
   ],
   "source": [
    "np.ones(5)"
   ]
  },
  {
   "cell_type": "code",
   "execution_count": 129,
   "id": "01e34f65",
   "metadata": {},
   "outputs": [],
   "source": [
    "def measure_and_rank(measurements_manager, h0, rep_steps=3, eps=0.001, max_rep=50):\n",
    "\n",
    "    initial_ranks = []\n",
    "    for i, j in enumerate(h0):\n",
    "        initial_ranks.append([j, i])\n",
    "    mean_rank_h0 = pd.DataFrame(initial_ranks, columns=['case:concept:name', 'case:mean-rank'])\n",
    "    mean_rank_log = []\n",
    "    mean_rank_log.append(mean_rank_h0.set_index('case:concept:name'))\n",
    "\n",
    "    dy = np.ones(len(h0-1))\n",
    "    run_id = 0\n",
    "    norm = 1\n",
    "    while norm > eps and run_id * rep_steps < max_rep:\n",
    "\n",
    "        measurements_manager.measure(run_id=run_id,rep_steps=rep_steps)\n",
    "        alg_measurements = measurements_manager.get_alg_measurements()\n",
    "\n",
    "        rank_variants = RankVariants(alg_measurements, h0)\n",
    "        s, mr = rank_variants.calculate_mean_rank()\n",
    "        \n",
    "        mean_rank_log.append(mr.set_index('case:concept:name'))\n",
    "        print(mr)\n",
    "        df = mean_rank_h0.merge(mr, on=['case:concept:name'])\n",
    "        x = df.iloc[:,-1].values\n",
    "        dx = np.convolve(x, [1, -1], 'valid')\n",
    "\n",
    "        norm = np.linalg.norm(dx - dy, 2) / len(h0)\n",
    "        print(\"norm: {}\".format(norm))\n",
    "        \n",
    "        dy = dx.copy()\n",
    "        h0 = list(mr.sort_values(by=['case:mean-rank'])['case:concept:name'])\n",
    "\n",
    "        run_id = run_id + 1\n",
    "\n",
    "    num_measurements = (run_id) * rep_steps\n",
    "    print(\"Number of measurements: {}\".format(num_measurements))\n",
    "\n",
    "    \n",
    "    return s, mr, pd.concat(mean_rank_log, axis=1)\n",
    "\n"
   ]
  },
  {
   "cell_type": "code",
   "execution_count": null,
   "id": "18b04bde",
   "metadata": {},
   "outputs": [],
   "source": []
  },
  {
   "cell_type": "code",
   "execution_count": null,
   "id": "37a9475d",
   "metadata": {},
   "outputs": [],
   "source": []
  },
  {
   "cell_type": "code",
   "execution_count": 121,
   "id": "be1ee9a6",
   "metadata": {},
   "outputs": [
    {
     "data": {
      "text/html": [
       "<div>\n",
       "<style scoped>\n",
       "    .dataframe tbody tr th:only-of-type {\n",
       "        vertical-align: middle;\n",
       "    }\n",
       "\n",
       "    .dataframe tbody tr th {\n",
       "        vertical-align: top;\n",
       "    }\n",
       "\n",
       "    .dataframe thead th {\n",
       "        text-align: right;\n",
       "    }\n",
       "</style>\n",
       "<table border=\"1\" class=\"dataframe\">\n",
       "  <thead>\n",
       "    <tr style=\"text-align: right;\">\n",
       "      <th></th>\n",
       "      <th>key</th>\n",
       "      <th>value</th>\n",
       "    </tr>\n",
       "  </thead>\n",
       "  <tbody>\n",
       "    <tr>\n",
       "      <th>0</th>\n",
       "      <td>C</td>\n",
       "      <td>1.867558</td>\n",
       "    </tr>\n",
       "    <tr>\n",
       "      <th>1</th>\n",
       "      <td>D</td>\n",
       "      <td>-0.977278</td>\n",
       "    </tr>\n",
       "    <tr>\n",
       "      <th>2</th>\n",
       "      <td>A</td>\n",
       "      <td>0.950088</td>\n",
       "    </tr>\n",
       "    <tr>\n",
       "      <th>3</th>\n",
       "      <td>B</td>\n",
       "      <td>-0.151357</td>\n",
       "    </tr>\n",
       "  </tbody>\n",
       "</table>\n",
       "</div>"
      ],
      "text/plain": [
       "  key     value\n",
       "0   C  1.867558\n",
       "1   D -0.977278\n",
       "2   A  0.950088\n",
       "3   B -0.151357"
      ]
     },
     "execution_count": 121,
     "metadata": {},
     "output_type": "execute_result"
    }
   ],
   "source": [
    "right"
   ]
  },
  {
   "cell_type": "code",
   "execution_count": 122,
   "id": "8a6d9fe2",
   "metadata": {},
   "outputs": [
    {
     "data": {
      "text/html": [
       "<div>\n",
       "<style scoped>\n",
       "    .dataframe tbody tr th:only-of-type {\n",
       "        vertical-align: middle;\n",
       "    }\n",
       "\n",
       "    .dataframe tbody tr th {\n",
       "        vertical-align: top;\n",
       "    }\n",
       "\n",
       "    .dataframe thead th {\n",
       "        text-align: right;\n",
       "    }\n",
       "</style>\n",
       "<table border=\"1\" class=\"dataframe\">\n",
       "  <thead>\n",
       "    <tr style=\"text-align: right;\">\n",
       "      <th></th>\n",
       "      <th>key</th>\n",
       "      <th>value_x</th>\n",
       "      <th>value_y</th>\n",
       "    </tr>\n",
       "  </thead>\n",
       "  <tbody>\n",
       "    <tr>\n",
       "      <th>0</th>\n",
       "      <td>C</td>\n",
       "      <td>1.867558</td>\n",
       "      <td>0.978738</td>\n",
       "    </tr>\n",
       "    <tr>\n",
       "      <th>1</th>\n",
       "      <td>D</td>\n",
       "      <td>-0.977278</td>\n",
       "      <td>2.240893</td>\n",
       "    </tr>\n",
       "    <tr>\n",
       "      <th>2</th>\n",
       "      <td>A</td>\n",
       "      <td>0.950088</td>\n",
       "      <td>1.764052</td>\n",
       "    </tr>\n",
       "    <tr>\n",
       "      <th>3</th>\n",
       "      <td>B</td>\n",
       "      <td>-0.151357</td>\n",
       "      <td>0.400157</td>\n",
       "    </tr>\n",
       "  </tbody>\n",
       "</table>\n",
       "</div>"
      ],
      "text/plain": [
       "  key   value_x   value_y\n",
       "0   C  1.867558  0.978738\n",
       "1   D -0.977278  2.240893\n",
       "2   A  0.950088  1.764052\n",
       "3   B -0.151357  0.400157"
      ]
     },
     "execution_count": 122,
     "metadata": {},
     "output_type": "execute_result"
    }
   ],
   "source": [
    "right.merge(left, on=['key'])"
   ]
  },
  {
   "cell_type": "code",
   "execution_count": 135,
   "id": "144651a8",
   "metadata": {},
   "outputs": [],
   "source": []
  },
  {
   "cell_type": "code",
   "execution_count": 134,
   "id": "b3221c13",
   "metadata": {},
   "outputs": [
    {
     "data": {
      "text/plain": [
       "<function abs(x, /)>"
      ]
     },
     "execution_count": 134,
     "metadata": {},
     "output_type": "execute_result"
    }
   ],
   "source": []
  },
  {
   "cell_type": "code",
   "execution_count": null,
   "id": "ef2afbf4",
   "metadata": {},
   "outputs": [],
   "source": []
  }
 ],
 "metadata": {
  "kernelspec": {
   "display_name": "Python 3 (ipykernel)",
   "language": "python",
   "name": "python3"
  },
  "language_info": {
   "codemirror_mode": {
    "name": "ipython",
    "version": 3
   },
   "file_extension": ".py",
   "mimetype": "text/x-python",
   "name": "python",
   "nbconvert_exporter": "python",
   "pygments_lexer": "ipython3",
   "version": "3.9.7"
  }
 },
 "nbformat": 4,
 "nbformat_minor": 5
}
