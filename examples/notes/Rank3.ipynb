{
 "cells": [
  {
   "cell_type": "code",
   "execution_count": 5,
   "id": "c6e1dbf0",
   "metadata": {},
   "outputs": [],
   "source": [
    "import pandas as pd\n",
    "import graphviz\n",
    "import numpy as np\n",
    "from algorithm_ranking import MeasurementsVisualizer, MeasurementsSimulator"
   ]
  },
  {
   "cell_type": "code",
   "execution_count": 2,
   "id": "537aa8ff",
   "metadata": {},
   "outputs": [],
   "source": [
    "class Node:\n",
    "    def __init__(self,name):\n",
    "        self.name = name\n",
    "        self.in_nodes = set()\n",
    "        self.out_nodes = set()\n",
    "        \n",
    "    def add_in_node(self, node):\n",
    "        self.in_nodes.add(node)\n",
    "        \n",
    "    def remove_in_node(self, node):\n",
    "        self.in_nodes.remove(node)\n",
    "        \n",
    "    def add_out_node(self, node):\n",
    "        self.out_nodes.add(node)\n",
    "        \n",
    "    def remove_out_node(self, node):\n",
    "        self.out_nodes.remove(node)\n",
    "        \n",
    "    def depth(self):\n",
    "        depth = 0\n",
    "        if self.in_nodes:\n",
    "            depth = max([ n.depth() + 1 for n in self.in_nodes])\n",
    "        return depth\n",
    "                          \n",
    "    def __str__(self):\n",
    "        return \"{}\".format(self.name)\n",
    "\n",
    "class Graph:\n",
    "    def __init__(self):\n",
    "        self.nodes = {}\n",
    "        self.edges_in = {}\n",
    "        self.edges_out = {}\n",
    "        self.node_depth = {}\n",
    "    \n",
    "    def add_node(self,node):\n",
    "        self.nodes[node]  = Node(node)\n",
    "        self.edges_in[node] = []\n",
    "        self.edges_out[node] = []\n",
    "        self.node_depth[node] = 0\n",
    "        \n",
    "        \n",
    "    def add_edge(self, node_x, node_y):\n",
    "        if node_y not in self.edges_out[node_x]:\n",
    "            print(\"Adding edge from {} to {}\".format(node_x,node_y))\n",
    "            self.edges_out[node_x].append(node_y)\n",
    "            self.nodes[node_x].add_out_node(self.nodes[node_y])\n",
    "\n",
    "            self.edges_in[node_y].append(node_x)\n",
    "            self.nodes[node_y].add_in_node(self.nodes[node_x])\n",
    "    \n",
    "        \n",
    "    def remove_edge(self, node_x, node_y):\n",
    "        print(\"Removing edge from {} to {}\".format(node_x,node_y))\n",
    "        try:\n",
    "            self.edges_out[node_x].remove(node_y)\n",
    "            self.nodes[node_x].remove_out_node(self.nodes[node_y])    \n",
    "            \n",
    "            self.edges_in[node_y].remove(node_x)\n",
    "            self.nodes[node_y].remove_in_node(self.nodes[node_x]) \n",
    "            \n",
    "        except ValueError:\n",
    "            print(\"Edge does not exist\")\n",
    "     \n",
    "    def calculate_node_depth(self):\n",
    "        for alg,node in self.nodes.items():\n",
    "            self.node_depth[alg] = node.depth()\n",
    "            \n",
    "    def get_nodes_at_depth(self,depth):\n",
    "        #self.calculate_node_depth()\n",
    "        df = pd.DataFrame(self.node_depth.items())\n",
    "        return list(df.loc[df[1] == depth][0])\n",
    "    \n",
    "    def visualize(self,highlight_nodes=[]):\n",
    "        g = graphviz.Digraph()\n",
    "        for node in self.nodes.keys():\n",
    "            color='#f0efed'\n",
    "            if node in highlight_nodes:\n",
    "                color = '#f2ecc7'\n",
    "            g.node(node,style='filled',color=color)\n",
    "        for node1,v in self.edges_out.items():\n",
    "            for node2 in v:\n",
    "                if node2 in highlight_nodes:\n",
    "                    g.edge(node1, node2, style='filled', color='blue')\n",
    "                else:\n",
    "                    g.edge(node1, node2)\n",
    "        return g\n",
    "        "
   ]
  },
  {
   "cell_type": "code",
   "execution_count": 3,
   "id": "f597894b",
   "metadata": {},
   "outputs": [],
   "source": [
    "class CompareAlgs:\n",
    "    def __init__(self, measurements, h0):\n",
    "        self.measurements = measurements\n",
    "        self.h0 = h0\n",
    "        self.comparision_matrix = {}\n",
    "        self.init_comparision_matrix()\n",
    "        \n",
    "    def init_comparision_matrix(self):\n",
    "        self.comparision_matrix = {}\n",
    "        for alg in self.h0:\n",
    "            self.comparision_matrix[alg] = {}\n",
    "            for alg2 in self.h0:\n",
    "                self.comparision_matrix[alg][alg2] = -1\n",
    "                \n",
    "    def get_measurements(self, alg):\n",
    "        return self.measurements[alg]\n",
    "\n",
    "    def remove_outliers(self, x):\n",
    "        x = np.array(x)\n",
    "        q1, q2 = np.percentile(x,  [25,75])\n",
    "        iqr = q2-q1\n",
    "        fence_low = q1 - 1.5*iqr\n",
    "        fence_high = q2 + 1.5*iqr\n",
    "        return x[(x>fence_low) & (x <fence_high)]\n",
    "\n",
    "    def get_quartiles(self, measurements, q_max=75, q_min=25):\n",
    "        return np.percentile(self.remove_outliers(measurements), [q_max, q_min])\n",
    "        \n",
    "        \n",
    "    def compare(self, alg1, alg2, q_max=75, q_min=25):\n",
    "        #print(alg1, alg2)\n",
    "        if self.comparision_matrix[alg1][alg2] != -1:\n",
    "            return self.comparision_matrix[alg1][alg2]\n",
    "\n",
    "        t_alg1 = self.get_measurements(alg1)\n",
    "        t_alg2 = self.get_measurements(alg2)\n",
    "\n",
    "        q1_max, q1_min = self.get_quartiles(t_alg1, q_max, q_min)\n",
    "        q2_max, q2_min = self.get_quartiles(t_alg2, q_max, q_min)\n",
    "        # print(alg1, q1_max, q1_min)\n",
    "        # print(alg2, q2_max, q2_min)\n",
    "\n",
    "        ret = 1  # alg1 ~ alg2\n",
    "        if q1_max < q2_min:\n",
    "            ret = 0  # alg1 is faster than alg2\n",
    "        elif q2_max < q1_min:\n",
    "            ret = 2  # alg2 is faster than alg1\n",
    "\n",
    "        self.comparision_matrix[alg1][alg2] = ret\n",
    "        if ret == 0:\n",
    "            self.comparision_matrix[alg2][alg1] = 2\n",
    "        elif ret == 2:\n",
    "            self.comparision_matrix[alg2][alg1] = 0\n",
    "        else:\n",
    "            self.comparision_matrix[alg2][alg1] = ret\n",
    "\n",
    "        #print(ret)\n",
    "        #print(\"\\n\")\n",
    "        return ret"
   ]
  },
  {
   "cell_type": "code",
   "execution_count": 92,
   "id": "53b25fed",
   "metadata": {},
   "outputs": [],
   "source": [
    "class RankBrute:\n",
    "    def __init__(self, h0, compareAlgs):\n",
    "        self.h0 = h0\n",
    "        \n",
    "        self.graph = None\n",
    "        self.dfr = {}\n",
    "        self.init_graph(h0)   \n",
    "        self.compareAlgs = compareAlgs\n",
    "\n",
    "        \n",
    "    def init_graph(self, h0):\n",
    "        self.graph = Graph()\n",
    "\n",
    "        for alg in h0:\n",
    "            self.graph.add_node(alg)\n",
    "            self.dfr[alg] = []\n",
    "\n",
    "        #for i in range(len(h0)):\n",
    "        #    if i!=len(h0)-1:\n",
    "        #        self.graph.add_edge(h0[i], h0[i+1])\n",
    "\n",
    "        #self.graph.calculate_node_depth()\n",
    "        \n",
    "        #self.start = self.graph.get_nodes_at_depth(0)[0]\n",
    "        #self.preset = self.graph.edges_in.copy()\n",
    "        #self.visited_sets = []\n",
    "        #self.deleted_sets = []\n",
    "        \n",
    "     \n",
    "    def deduce_transitivity(self, alg_i, alg_j, ret):\n",
    "        if ret == 0:\n",
    "            self.graph.add_edge(alg_i, alg_j)\n",
    "            for alg in self.dfr[alg_i]:\n",
    "                compareAlgs.comparision_matrix[alg][alg_j] = 0\n",
    "                self.graph.add_edge(alg, alg_j)\n",
    "                compareAlgs.comparision_matrix[alg_j][alg] = 2\n",
    "                self.dfr[alg].append(alg_j)\n",
    "            self.dfr[alg_j].append(alg_i)\n",
    "            \n",
    "        if ret == 2:\n",
    "            for alg in self.dfr[alg_j]:\n",
    "                compareAlgs.comparision_matrix[alg][alg_i] = 2\n",
    "                compareAlgs.comparision_matrix[alg_i][alg] = 0\n",
    "                self.graph.add_edge(alg_i, alg)\n",
    "                self.dfr[alg_i].append(alg)\n",
    "            self.dfr[alg_i].append(alg_j)\n",
    "            \n",
    "        \n",
    "    def rank(self):\n",
    "        for i in range(len(h0)):\n",
    "            for j in range(len(h0)):\n",
    "                alg_i =  h0[i]\n",
    "                alg_j =  h0[j]\n",
    "                if compareAlgs.comparision_matrix[alg_i][alg_j] != -1:\n",
    "                    continue\n",
    "                ret = compareAlgs.compare(alg_i, alg_j)\n",
    "                self.deduce_transitivity(alg_i, alg_j, ret)\n",
    "                    "
   ]
  },
  {
   "cell_type": "code",
   "execution_count": 93,
   "id": "fdab9dc3",
   "metadata": {},
   "outputs": [],
   "source": [
    "cfg = {}\n",
    "cfg['alg0']  = [0.1,0.02] #[mean, std]\n",
    "cfg['alg1']  = [0.15,0.01]\n",
    "cfg['alg2']  = [0.16,0.02]\n",
    "cfg['alg3']  = [0.17,0.04]\n",
    "cfg['alg4']  = [0.20,0.02]\n",
    "h0 = list(cfg.keys())"
   ]
  },
  {
   "cell_type": "code",
   "execution_count": 94,
   "id": "47ca57a3",
   "metadata": {},
   "outputs": [
    {
     "data": {
      "text/plain": [
       "['alg0', 'alg1', 'alg2', 'alg3', 'alg4']"
      ]
     },
     "execution_count": 94,
     "metadata": {},
     "output_type": "execute_result"
    }
   ],
   "source": [
    "h0"
   ]
  },
  {
   "cell_type": "code",
   "execution_count": 95,
   "id": "0852b948",
   "metadata": {},
   "outputs": [],
   "source": [
    "ms = MeasurementsSimulator(cfg, 'normal', seed=152)     \n",
    "ms.measure(30,1)\n",
    "data = ms.get_alg_measurements()\n",
    "compareAlgs = CompareAlgs(data, h0)"
   ]
  },
  {
   "cell_type": "code",
   "execution_count": 96,
   "id": "91a3a595",
   "metadata": {},
   "outputs": [],
   "source": [
    "rank = RankBrute(h0,compareAlgs)"
   ]
  },
  {
   "cell_type": "code",
   "execution_count": 97,
   "id": "cfd5705b",
   "metadata": {},
   "outputs": [
    {
     "name": "stdout",
     "output_type": "stream",
     "text": [
      "Adding edge from alg0 to alg1\n",
      "Adding edge from alg0 to alg2\n",
      "Adding edge from alg0 to alg3\n",
      "Adding edge from alg0 to alg4\n",
      "Adding edge from alg1 to alg4\n",
      "Adding edge from alg2 to alg4\n"
     ]
    }
   ],
   "source": [
    "rank.rank()"
   ]
  },
  {
   "cell_type": "code",
   "execution_count": 98,
   "id": "d63dfca0",
   "metadata": {},
   "outputs": [
    {
     "data": {
      "text/html": [
       "<div>\n",
       "<style scoped>\n",
       "    .dataframe tbody tr th:only-of-type {\n",
       "        vertical-align: middle;\n",
       "    }\n",
       "\n",
       "    .dataframe tbody tr th {\n",
       "        vertical-align: top;\n",
       "    }\n",
       "\n",
       "    .dataframe thead th {\n",
       "        text-align: right;\n",
       "    }\n",
       "</style>\n",
       "<table border=\"1\" class=\"dataframe\">\n",
       "  <thead>\n",
       "    <tr style=\"text-align: right;\">\n",
       "      <th></th>\n",
       "      <th>alg0</th>\n",
       "      <th>alg1</th>\n",
       "      <th>alg2</th>\n",
       "      <th>alg3</th>\n",
       "      <th>alg4</th>\n",
       "    </tr>\n",
       "  </thead>\n",
       "  <tbody>\n",
       "    <tr>\n",
       "      <th>alg0</th>\n",
       "      <td>1</td>\n",
       "      <td>2</td>\n",
       "      <td>2</td>\n",
       "      <td>2</td>\n",
       "      <td>2</td>\n",
       "    </tr>\n",
       "    <tr>\n",
       "      <th>alg1</th>\n",
       "      <td>0</td>\n",
       "      <td>1</td>\n",
       "      <td>1</td>\n",
       "      <td>1</td>\n",
       "      <td>2</td>\n",
       "    </tr>\n",
       "    <tr>\n",
       "      <th>alg2</th>\n",
       "      <td>0</td>\n",
       "      <td>1</td>\n",
       "      <td>1</td>\n",
       "      <td>1</td>\n",
       "      <td>2</td>\n",
       "    </tr>\n",
       "    <tr>\n",
       "      <th>alg3</th>\n",
       "      <td>0</td>\n",
       "      <td>1</td>\n",
       "      <td>1</td>\n",
       "      <td>1</td>\n",
       "      <td>1</td>\n",
       "    </tr>\n",
       "    <tr>\n",
       "      <th>alg4</th>\n",
       "      <td>0</td>\n",
       "      <td>0</td>\n",
       "      <td>0</td>\n",
       "      <td>1</td>\n",
       "      <td>1</td>\n",
       "    </tr>\n",
       "  </tbody>\n",
       "</table>\n",
       "</div>"
      ],
      "text/plain": [
       "      alg0  alg1  alg2  alg3  alg4\n",
       "alg0     1     2     2     2     2\n",
       "alg1     0     1     1     1     2\n",
       "alg2     0     1     1     1     2\n",
       "alg3     0     1     1     1     1\n",
       "alg4     0     0     0     1     1"
      ]
     },
     "execution_count": 98,
     "metadata": {},
     "output_type": "execute_result"
    }
   ],
   "source": [
    "pd.DataFrame(compareAlgs.comparision_matrix)"
   ]
  },
  {
   "cell_type": "code",
   "execution_count": 99,
   "id": "4b3301ba",
   "metadata": {},
   "outputs": [
    {
     "data": {
      "text/plain": [
       "['alg0', 'alg1', 'alg2', 'alg3', 'alg4']"
      ]
     },
     "execution_count": 99,
     "metadata": {},
     "output_type": "execute_result"
    }
   ],
   "source": [
    "rank.h0"
   ]
  },
  {
   "cell_type": "code",
   "execution_count": 101,
   "id": "ce5cec22",
   "metadata": {},
   "outputs": [
    {
     "data": {
      "image/svg+xml": [
       "<?xml version=\"1.0\" encoding=\"UTF-8\" standalone=\"no\"?>\n",
       "<!DOCTYPE svg PUBLIC \"-//W3C//DTD SVG 1.1//EN\"\n",
       " \"http://www.w3.org/Graphics/SVG/1.1/DTD/svg11.dtd\">\n",
       "<!-- Generated by graphviz version 2.40.1 (20161225.0304)\n",
       " -->\n",
       "<!-- Title: %3 Pages: 1 -->\n",
       "<svg width=\"221pt\" height=\"188pt\"\n",
       " viewBox=\"0.00 0.00 220.99 188.00\" xmlns=\"http://www.w3.org/2000/svg\" xmlns:xlink=\"http://www.w3.org/1999/xlink\">\n",
       "<g id=\"graph0\" class=\"graph\" transform=\"scale(1 1) rotate(0) translate(4 184)\">\n",
       "<title>%3</title>\n",
       "<polygon fill=\"#ffffff\" stroke=\"transparent\" points=\"-4,4 -4,-184 216.9947,-184 216.9947,4 -4,4\"/>\n",
       "<!-- alg0 -->\n",
       "<g id=\"node1\" class=\"node\">\n",
       "<title>alg0</title>\n",
       "<ellipse fill=\"#f0efed\" stroke=\"#f0efed\" cx=\"135\" cy=\"-162\" rx=\"27\" ry=\"18\"/>\n",
       "<text text-anchor=\"middle\" x=\"135\" y=\"-157.8\" font-family=\"Times,serif\" font-size=\"14.00\" fill=\"#000000\">alg0</text>\n",
       "</g>\n",
       "<!-- alg1 -->\n",
       "<g id=\"node2\" class=\"node\">\n",
       "<title>alg1</title>\n",
       "<ellipse fill=\"#f0efed\" stroke=\"#f0efed\" cx=\"27\" cy=\"-90\" rx=\"27\" ry=\"18\"/>\n",
       "<text text-anchor=\"middle\" x=\"27\" y=\"-85.8\" font-family=\"Times,serif\" font-size=\"14.00\" fill=\"#000000\">alg1</text>\n",
       "</g>\n",
       "<!-- alg0&#45;&gt;alg1 -->\n",
       "<g id=\"edge1\" class=\"edge\">\n",
       "<title>alg0&#45;&gt;alg1</title>\n",
       "<path fill=\"none\" stroke=\"#000000\" d=\"M115.6918,-149.1278C98.6445,-137.763 73.5981,-121.0654 54.4656,-108.3104\"/>\n",
       "<polygon fill=\"#000000\" stroke=\"#000000\" points=\"56.4031,-105.3956 46.1411,-102.7607 52.5201,-111.2199 56.4031,-105.3956\"/>\n",
       "</g>\n",
       "<!-- alg2 -->\n",
       "<g id=\"node3\" class=\"node\">\n",
       "<title>alg2</title>\n",
       "<ellipse fill=\"#f0efed\" stroke=\"#f0efed\" cx=\"99\" cy=\"-90\" rx=\"27\" ry=\"18\"/>\n",
       "<text text-anchor=\"middle\" x=\"99\" y=\"-85.8\" font-family=\"Times,serif\" font-size=\"14.00\" fill=\"#000000\">alg2</text>\n",
       "</g>\n",
       "<!-- alg0&#45;&gt;alg2 -->\n",
       "<g id=\"edge2\" class=\"edge\">\n",
       "<title>alg0&#45;&gt;alg2</title>\n",
       "<path fill=\"none\" stroke=\"#000000\" d=\"M126.2854,-144.5708C122.0403,-136.0807 116.8464,-125.6929 112.1337,-116.2674\"/>\n",
       "<polygon fill=\"#000000\" stroke=\"#000000\" points=\"115.237,-114.6477 107.6343,-107.2687 108.976,-117.7782 115.237,-114.6477\"/>\n",
       "</g>\n",
       "<!-- alg3 -->\n",
       "<g id=\"node4\" class=\"node\">\n",
       "<title>alg3</title>\n",
       "<ellipse fill=\"#f0efed\" stroke=\"#f0efed\" cx=\"171\" cy=\"-90\" rx=\"27\" ry=\"18\"/>\n",
       "<text text-anchor=\"middle\" x=\"171\" y=\"-85.8\" font-family=\"Times,serif\" font-size=\"14.00\" fill=\"#000000\">alg3</text>\n",
       "</g>\n",
       "<!-- alg0&#45;&gt;alg3 -->\n",
       "<g id=\"edge3\" class=\"edge\">\n",
       "<title>alg0&#45;&gt;alg3</title>\n",
       "<path fill=\"none\" stroke=\"#000000\" d=\"M143.7146,-144.5708C147.9597,-136.0807 153.1536,-125.6929 157.8663,-116.2674\"/>\n",
       "<polygon fill=\"#000000\" stroke=\"#000000\" points=\"161.024,-117.7782 162.3657,-107.2687 154.763,-114.6477 161.024,-117.7782\"/>\n",
       "</g>\n",
       "<!-- alg4 -->\n",
       "<g id=\"node5\" class=\"node\">\n",
       "<title>alg4</title>\n",
       "<ellipse fill=\"#f0efed\" stroke=\"#f0efed\" cx=\"99\" cy=\"-18\" rx=\"27\" ry=\"18\"/>\n",
       "<text text-anchor=\"middle\" x=\"99\" y=\"-13.8\" font-family=\"Times,serif\" font-size=\"14.00\" fill=\"#000000\">alg4</text>\n",
       "</g>\n",
       "<!-- alg0&#45;&gt;alg4 -->\n",
       "<g id=\"edge4\" class=\"edge\">\n",
       "<title>alg0&#45;&gt;alg4</title>\n",
       "<path fill=\"none\" stroke=\"#000000\" d=\"M157.8054,-151.9595C174.8141,-143.0986 196.7979,-128.4041 207,-108 214.1554,-93.6892 215.4117,-85.6104 207,-72 191.4049,-46.7666 160.0527,-32.93 135.1277,-25.6006\"/>\n",
       "<polygon fill=\"#000000\" stroke=\"#000000\" points=\"135.8163,-22.1612 125.2493,-22.9289 133.9887,-28.9184 135.8163,-22.1612\"/>\n",
       "</g>\n",
       "<!-- alg1&#45;&gt;alg4 -->\n",
       "<g id=\"edge5\" class=\"edge\">\n",
       "<title>alg1&#45;&gt;alg4</title>\n",
       "<path fill=\"none\" stroke=\"#000000\" d=\"M42.2693,-74.7307C52.197,-64.803 65.3153,-51.6847 76.4363,-40.5637\"/>\n",
       "<polygon fill=\"#000000\" stroke=\"#000000\" points=\"79.1564,-42.7933 83.7527,-33.2473 74.2067,-37.8436 79.1564,-42.7933\"/>\n",
       "</g>\n",
       "<!-- alg2&#45;&gt;alg4 -->\n",
       "<g id=\"edge6\" class=\"edge\">\n",
       "<title>alg2&#45;&gt;alg4</title>\n",
       "<path fill=\"none\" stroke=\"#000000\" d=\"M99,-71.8314C99,-64.131 99,-54.9743 99,-46.4166\"/>\n",
       "<polygon fill=\"#000000\" stroke=\"#000000\" points=\"102.5001,-46.4132 99,-36.4133 95.5001,-46.4133 102.5001,-46.4132\"/>\n",
       "</g>\n",
       "</g>\n",
       "</svg>\n"
      ],
      "text/plain": [
       "<graphviz.graphs.Digraph at 0x7fc82eabe580>"
      ]
     },
     "execution_count": 101,
     "metadata": {},
     "output_type": "execute_result"
    }
   ],
   "source": [
    "rank.graph.visualize()"
   ]
  },
  {
   "cell_type": "code",
   "execution_count": 75,
   "id": "fa5f6816",
   "metadata": {},
   "outputs": [
    {
     "data": {
      "text/plain": [
       "2"
      ]
     },
     "execution_count": 75,
     "metadata": {},
     "output_type": "execute_result"
    }
   ],
   "source": [
    "compareAlgs.compare('alg1','alg0')"
   ]
  },
  {
   "cell_type": "code",
   "execution_count": 76,
   "id": "57c370bc",
   "metadata": {},
   "outputs": [
    {
     "data": {
      "text/plain": [
       "{'alg0': ['alg4', 'alg4'],\n",
       " 'alg1': ['alg0'],\n",
       " 'alg2': ['alg0'],\n",
       " 'alg3': ['alg0'],\n",
       " 'alg4': ['alg0', 'alg1', 'alg2']}"
      ]
     },
     "execution_count": 76,
     "metadata": {},
     "output_type": "execute_result"
    }
   ],
   "source": [
    "rank.dfr"
   ]
  },
  {
   "cell_type": "code",
   "execution_count": 77,
   "id": "34dde17e",
   "metadata": {},
   "outputs": [
    {
     "data": {
      "image/png": "[encoded data removed]",
      "text/plain": [
       "<Figure size 720x216 with 1 Axes>"
      ]
     },
     "metadata": {
      "needs_background": "light"
     },
     "output_type": "display_data"
    }
   ],
   "source": [
    "mv = MeasurementsVisualizer(ms.get_alg_measurements(), h0)\n",
    "fig = mv.show_measurements_boxplots(scale=0.6)"
   ]
  },
  {
   "cell_type": "code",
   "execution_count": null,
   "id": "6655f117",
   "metadata": {},
   "outputs": [],
   "source": []
  }
 ],
 "metadata": {
  "kernelspec": {
   "display_name": "Python 3 (ipykernel)",
   "language": "python",
   "name": "python3"
  },
  "language_info": {
   "codemirror_mode": {
    "name": "ipython",
    "version": 3
   },
   "file_extension": ".py",
   "mimetype": "text/x-python",
   "name": "python",
   "nbconvert_exporter": "python",
   "pygments_lexer": "ipython3",
   "version": "3.9.7"
  }
 },
 "nbformat": 4,
 "nbformat_minor": 5
}
