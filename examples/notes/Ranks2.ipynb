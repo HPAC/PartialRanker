{
 "cells": [
  {
   "cell_type": "code",
   "execution_count": 1,
   "id": "fb830403",
   "metadata": {},
   "outputs": [],
   "source": [
    "import pandas as pd\n",
    "import graphviz"
   ]
  },
  {
   "cell_type": "code",
   "execution_count": 2,
   "id": "08a4a21d",
   "metadata": {},
   "outputs": [],
   "source": [
    "class Node:\n",
    "    def __init__(self,name):\n",
    "        self.name = name\n",
    "        self.in_nodes = set()\n",
    "        self.out_nodes = set()\n",
    "        \n",
    "    def add_in_node(self, node):\n",
    "        self.in_nodes.add(node)\n",
    "        \n",
    "    def remove_in_node(self, node):\n",
    "        self.in_nodes.remove(node)\n",
    "        \n",
    "    def add_out_node(self, node):\n",
    "        self.out_nodes.add(node)\n",
    "        \n",
    "    def remove_out_node(self, node):\n",
    "        self.out_nodes.remove(node)\n",
    "        \n",
    "    def depth(self):\n",
    "        depth = 0\n",
    "        if self.in_nodes:\n",
    "            depth = max([ n.depth() + 1 for n in self.in_nodes])\n",
    "        return depth\n",
    "                          \n",
    "    def __str__(self):\n",
    "        return \"{}\".format(self.name)\n",
    "\n",
    "class Graph:\n",
    "    def __init__(self):\n",
    "        self.nodes = {}\n",
    "        self.edges_in = {}\n",
    "        self.edges_out = {}\n",
    "        self.node_depth = {}\n",
    "    \n",
    "    def add_node(self,node):\n",
    "        self.nodes[node]  = Node(node)\n",
    "        self.edges_in[node] = []\n",
    "        self.edges_out[node] = []\n",
    "        self.node_depth[node] = 0\n",
    "        \n",
    "        \n",
    "    def add_edge(self, node_x, node_y):\n",
    "        if node_y not in self.edges_out[node_x]:\n",
    "            print(\"Adding edge from {} to {}\".format(node_x,node_y))\n",
    "            self.edges_out[node_x].append(node_y)\n",
    "            self.nodes[node_x].add_out_node(self.nodes[node_y])\n",
    "\n",
    "            self.edges_in[node_y].append(node_x)\n",
    "            self.nodes[node_y].add_in_node(self.nodes[node_x])\n",
    "    \n",
    "        \n",
    "    def remove_edge(self, node_x, node_y):\n",
    "        print(\"Removing edge from {} to {}\".format(node_x,node_y))\n",
    "        try:\n",
    "            self.edges_out[node_x].remove(node_y)\n",
    "            self.nodes[node_x].remove_out_node(self.nodes[node_y])    \n",
    "            \n",
    "            self.edges_in[node_y].remove(node_x)\n",
    "            self.nodes[node_y].remove_in_node(self.nodes[node_x]) \n",
    "            \n",
    "        except ValueError:\n",
    "            print(\"Edge does not exist\")\n",
    "     \n",
    "    def calculate_node_depth(self):\n",
    "        for alg,node in self.nodes.items():\n",
    "            self.node_depth[alg] = node.depth()\n",
    "            \n",
    "    def get_nodes_at_depth(self,depth):\n",
    "        #self.calculate_node_depth()\n",
    "        df = pd.DataFrame(self.node_depth.items())\n",
    "        return list(df.loc[df[1] == depth][0])\n",
    "    \n",
    "    def visualize(self,highlight_nodes=[]):\n",
    "        g = graphviz.Digraph()\n",
    "        for node in self.nodes.keys():\n",
    "            color='#f0efed'\n",
    "            if node in highlight_nodes:\n",
    "                color = '#f2ecc7'\n",
    "            g.node(node,style='filled',color=color)\n",
    "        for node1,v in self.edges_out.items():\n",
    "            for node2 in v:\n",
    "                g.edge(node1, node2)\n",
    "        return g\n",
    "        "
   ]
  },
  {
   "cell_type": "code",
   "execution_count": 3,
   "id": "e1ba515d",
   "metadata": {},
   "outputs": [],
   "source": [
    "class Rank:\n",
    "    def __init__(self, graph):\n",
    "        self.graph = graph\n",
    "        self.start = self.graph.get_nodes_at_depth(0)[0]\n",
    "        self.preset = graph.edges_in.copy()\n",
    "        self.visited_sets = []\n",
    "        self.deleted_sets = []\n",
    "                \n",
    "    def next_unvisited_preset2(self,start):\n",
    "        queue = []\n",
    "        queue.append(start)\n",
    "        while queue:\n",
    "            alg = queue.pop(0)\n",
    "            in_nodes = self.graph.edges_in[alg].copy()\n",
    "            unvisited = []\n",
    "            for node in in_nodes:\n",
    "                node_set = {node,alg}\n",
    "                if node_set not in self.visited_sets:\n",
    "                    unvisited.append(node)\n",
    "                    self.visited_sets.append(node_set)\n",
    "                    \n",
    "            if unvisited:\n",
    "                return (unvisited, alg)\n",
    "            \n",
    "            elif self.graph.edges_out[alg]:\n",
    "                for alg_x in self.graph.edges_out[alg]:\n",
    "                    queue.append(alg_x)\n",
    "        return (None,None)\n",
    "    \n",
    "    \n",
    "    \n",
    "    def compare_preset(self, preset, alg_y):\n",
    "        x_gt_y = []\n",
    "        x_eq_y = []\n",
    "        for alg_x in preset:\n",
    "            ret = compare(alg_x,alg_y)\n",
    "            if ret == 2:\n",
    "                x_gt_y.append(alg_x)\n",
    "            elif ret == 1:\n",
    "                x_eq_y.append(alg_x)\n",
    "        return (x_gt_y, x_eq_y)\n",
    "    \n",
    "    def add_edges_from_depth(self,depth,alg_y):\n",
    "        add_edges=[]\n",
    "        if depth>=0:\n",
    "            add_edges.append(self.graph.get_nodes_at_depth(depth))\n",
    "          \n",
    "        for alg_x in add_edges:\n",
    "            self.graph.add_edge(alg_x,alg_y)\n",
    "            \n",
    "    \n",
    "    def reverse_edges(self, x_gt_y, alg_y):\n",
    "        #depth = self.graph.node_depth[alg_y]-2\n",
    "        for alg_x in x_gt_y:\n",
    "            self.graph.remove_edge(alg_x,alg_y)\n",
    "            self.graph.add_edge(alg_y,alg_x)\n",
    "            \n",
    "    def remove_edges_from_nodes(self, from_nodes,alg_y):\n",
    "        for alg_x in from_nodes:\n",
    "            self.graph.remove_edge(alg_x,alg_y)\n",
    "            \n",
    "    def add_edges_from_nodes(self, from_nodes,alg_y):\n",
    "        for alg_x in from_nodes:\n",
    "            #print(\"adding edge from  {} to {}\".format(alg_x, alg_y))\n",
    "            if {alg_x, alg_y} not in self.deleted_sets:\n",
    "                self.graph.add_edge(alg_x,alg_y)\n",
    "            \n",
    "            \n",
    "    def remove_edges_to_nodes(self, to_nodes,alg_x):\n",
    "        for alg_y in to_nodes:\n",
    "            self.graph.remove_edge(alg_x,alg_y)\n",
    "            \n",
    "    def add_edges_to_nodes(self, to_nodes,alg_x):\n",
    "        for alg_y in to_nodes:\n",
    "            if {alg_y, alg_x} not in self.deleted_sets:\n",
    "                self.graph.add_edge(alg_x,alg_y)\n",
    "            \n",
    "    \n",
    "    def modify_graph(self,preset,alg_y):\n",
    "        x_gt_y, x_eq_y = self.compare_preset(preset, alg_y)\n",
    "            \n",
    "        if x_gt_y or len(x_eq_y) == len(preset):\n",
    "            self.graph.calculate_node_depth()\n",
    "            depth_above = self.graph.node_depth[alg_y]-2\n",
    "            depth_below = self.graph.node_depth[alg_y]+1\n",
    "            from_nodes = self.graph.get_nodes_at_depth(depth_above)\n",
    "            to_nodes = self.graph.get_nodes_at_depth(depth_below)\n",
    "\n",
    "            self.add_edges_from_nodes(from_nodes,alg_y)\n",
    "            for alg_x in x_gt_y:\n",
    "                self.remove_edges_from_nodes(from_nodes,alg_x)\n",
    "\n",
    "\n",
    "        self.reverse_edges(x_gt_y,alg_y)\n",
    "        self.remove_edges_from_nodes(x_eq_y,alg_y)\n",
    "        for alg_x in x_eq_y:\n",
    "            self.deleted_sets.append({alg_x, alg_y})\n",
    "\n",
    "        if x_gt_y:\n",
    "            self.remove_edges_to_nodes(to_nodes, alg_y)\n",
    "            for alg_x in x_gt_y:\n",
    "                self.add_edges_to_nodes(to_nodes,alg_x)\n",
    "\n",
    "        elif len(x_eq_y) == len(preset):\n",
    "            self.graph.calculate_node_depth()\n",
    "            d_ = []\n",
    "            for alg_x in to_nodes:\n",
    "                if self.graph.node_depth[alg_x] != self.graph.node_depth[alg_y]+1:\n",
    "                    self.remove_edges_to_nodes([alg_x,],alg_y)\n",
    "                    #d_.append(alg_x)\n",
    "\n",
    "            \n",
    "            equivalent_nodes = self.graph.get_nodes_at_depth(self.graph.node_depth[alg_y])\n",
    "            to_nodes_ = self.graph.edges_out[alg_y].copy()\n",
    "            for _x in to_nodes_:\n",
    "                if _x not in d_:\n",
    "                    self.add_edges_from_nodes(equivalent_nodes,_x)\n",
    "                \n",
    "\n",
    "    def rank_nodes(self):\n",
    "        root = self.start\n",
    "        d_graphs = []\n",
    "        \n",
    "        preset,alg_y = self.next_unvisited_preset2(root)\n",
    "        print(preset, alg_y)\n",
    "        while preset:\n",
    "            d_graphs.append(self.graph.visualize([alg_y,]))\n",
    "            self.modify_graph(preset,alg_y)\n",
    "            preset,alg_y = self.next_unvisited_preset2(alg_y) \n",
    "            print(preset, alg_y)\n",
    "\n",
    "        d_graphs.append(self.graph.visualize([alg_y,]))\n",
    "        return d_graphs\n",
    "            \n",
    "            \n",
    "        "
   ]
  },
  {
   "cell_type": "code",
   "execution_count": 4,
   "id": "f667d570",
   "metadata": {},
   "outputs": [],
   "source": [
    "def init_graph(h0):\n",
    "    graph = Graph()\n",
    "    \n",
    "    for alg in h0:\n",
    "        graph.add_node(alg)\n",
    "        \n",
    "    for i in range(len(h0)):\n",
    "        if i!=len(h0)-1:\n",
    "            graph.add_edge(h0[i], h0[i+1])\n",
    "          \n",
    "    graph.calculate_node_depth()\n",
    "    return graph"
   ]
  },
  {
   "cell_type": "code",
   "execution_count": 5,
   "id": "bdf2254a",
   "metadata": {},
   "outputs": [],
   "source": [
    "def compare(alg1, alg2):\n",
    "    return 1"
   ]
  },
  {
   "cell_type": "code",
   "execution_count": 6,
   "id": "2951b7e7",
   "metadata": {},
   "outputs": [
    {
     "name": "stdout",
     "output_type": "stream",
     "text": [
      "Adding edge from alg0 to alg1\n",
      "Adding edge from alg1 to alg2\n",
      "Adding edge from alg2 to alg3\n"
     ]
    }
   ],
   "source": [
    "h0 = ['alg0', 'alg1', 'alg2', 'alg3']\n",
    "g = init_graph(h0)"
   ]
  },
  {
   "cell_type": "code",
   "execution_count": 7,
   "id": "aa964851",
   "metadata": {},
   "outputs": [
    {
     "data": {
      "image/svg+xml": [
       "<?xml version=\"1.0\" encoding=\"UTF-8\" standalone=\"no\"?>\n",
       "<!DOCTYPE svg PUBLIC \"-//W3C//DTD SVG 1.1//EN\"\n",
       " \"http://www.w3.org/Graphics/SVG/1.1/DTD/svg11.dtd\">\n",
       "<!-- Generated by graphviz version 2.40.1 (20161225.0304)\n",
       " -->\n",
       "<!-- Title: %3 Pages: 1 -->\n",
       "<svg width=\"62pt\" height=\"260pt\"\n",
       " viewBox=\"0.00 0.00 62.00 260.00\" xmlns=\"http://www.w3.org/2000/svg\" xmlns:xlink=\"http://www.w3.org/1999/xlink\">\n",
       "<g id=\"graph0\" class=\"graph\" transform=\"scale(1 1) rotate(0) translate(4 256)\">\n",
       "<title>%3</title>\n",
       "<polygon fill=\"#ffffff\" stroke=\"transparent\" points=\"-4,4 -4,-256 58,-256 58,4 -4,4\"/>\n",
       "<!-- alg0 -->\n",
       "<g id=\"node1\" class=\"node\">\n",
       "<title>alg0</title>\n",
       "<ellipse fill=\"#f0efed\" stroke=\"#f0efed\" cx=\"27\" cy=\"-234\" rx=\"27\" ry=\"18\"/>\n",
       "<text text-anchor=\"middle\" x=\"27\" y=\"-229.8\" font-family=\"Times,serif\" font-size=\"14.00\" fill=\"#000000\">alg0</text>\n",
       "</g>\n",
       "<!-- alg1 -->\n",
       "<g id=\"node2\" class=\"node\">\n",
       "<title>alg1</title>\n",
       "<ellipse fill=\"#f2ecc7\" stroke=\"#f2ecc7\" cx=\"27\" cy=\"-162\" rx=\"27\" ry=\"18\"/>\n",
       "<text text-anchor=\"middle\" x=\"27\" y=\"-157.8\" font-family=\"Times,serif\" font-size=\"14.00\" fill=\"#000000\">alg1</text>\n",
       "</g>\n",
       "<!-- alg0&#45;&gt;alg1 -->\n",
       "<g id=\"edge1\" class=\"edge\">\n",
       "<title>alg0&#45;&gt;alg1</title>\n",
       "<path fill=\"none\" stroke=\"#000000\" d=\"M27,-215.8314C27,-208.131 27,-198.9743 27,-190.4166\"/>\n",
       "<polygon fill=\"#000000\" stroke=\"#000000\" points=\"30.5001,-190.4132 27,-180.4133 23.5001,-190.4133 30.5001,-190.4132\"/>\n",
       "</g>\n",
       "<!-- alg2 -->\n",
       "<g id=\"node3\" class=\"node\">\n",
       "<title>alg2</title>\n",
       "<ellipse fill=\"#f0efed\" stroke=\"#f0efed\" cx=\"27\" cy=\"-90\" rx=\"27\" ry=\"18\"/>\n",
       "<text text-anchor=\"middle\" x=\"27\" y=\"-85.8\" font-family=\"Times,serif\" font-size=\"14.00\" fill=\"#000000\">alg2</text>\n",
       "</g>\n",
       "<!-- alg1&#45;&gt;alg2 -->\n",
       "<g id=\"edge2\" class=\"edge\">\n",
       "<title>alg1&#45;&gt;alg2</title>\n",
       "<path fill=\"none\" stroke=\"#000000\" d=\"M27,-143.8314C27,-136.131 27,-126.9743 27,-118.4166\"/>\n",
       "<polygon fill=\"#000000\" stroke=\"#000000\" points=\"30.5001,-118.4132 27,-108.4133 23.5001,-118.4133 30.5001,-118.4132\"/>\n",
       "</g>\n",
       "<!-- alg3 -->\n",
       "<g id=\"node4\" class=\"node\">\n",
       "<title>alg3</title>\n",
       "<ellipse fill=\"#f0efed\" stroke=\"#f0efed\" cx=\"27\" cy=\"-18\" rx=\"27\" ry=\"18\"/>\n",
       "<text text-anchor=\"middle\" x=\"27\" y=\"-13.8\" font-family=\"Times,serif\" font-size=\"14.00\" fill=\"#000000\">alg3</text>\n",
       "</g>\n",
       "<!-- alg2&#45;&gt;alg3 -->\n",
       "<g id=\"edge3\" class=\"edge\">\n",
       "<title>alg2&#45;&gt;alg3</title>\n",
       "<path fill=\"none\" stroke=\"#000000\" d=\"M27,-71.8314C27,-64.131 27,-54.9743 27,-46.4166\"/>\n",
       "<polygon fill=\"#000000\" stroke=\"#000000\" points=\"30.5001,-46.4132 27,-36.4133 23.5001,-46.4133 30.5001,-46.4132\"/>\n",
       "</g>\n",
       "</g>\n",
       "</svg>\n"
      ],
      "text/plain": [
       "<graphviz.graphs.Digraph at 0x7fe4c78c3e80>"
      ]
     },
     "execution_count": 7,
     "metadata": {},
     "output_type": "execute_result"
    }
   ],
   "source": [
    "g.visualize(['alg1'])"
   ]
  },
  {
   "cell_type": "code",
   "execution_count": 8,
   "id": "f5f699d2",
   "metadata": {},
   "outputs": [],
   "source": [
    "rank = Rank(g)"
   ]
  },
  {
   "cell_type": "code",
   "execution_count": 9,
   "id": "25926b0c",
   "metadata": {},
   "outputs": [
    {
     "name": "stdout",
     "output_type": "stream",
     "text": [
      "['alg0'] alg1\n",
      "Removing edge from alg0 to alg1\n",
      "Adding edge from alg0 to alg2\n",
      "['alg1', 'alg0'] alg2\n",
      "Removing edge from alg1 to alg2\n",
      "Removing edge from alg0 to alg2\n",
      "Adding edge from alg0 to alg3\n",
      "Adding edge from alg1 to alg3\n",
      "['alg2', 'alg0', 'alg1'] alg3\n",
      "Removing edge from alg2 to alg3\n",
      "Removing edge from alg0 to alg3\n",
      "Removing edge from alg1 to alg3\n",
      "None None\n"
     ]
    }
   ],
   "source": [
    "history = rank.rank_nodes()"
   ]
  },
  {
   "cell_type": "code",
   "execution_count": 10,
   "id": "6c811ba0",
   "metadata": {},
   "outputs": [
    {
     "data": {
      "image/svg+xml": [
       "<?xml version=\"1.0\" encoding=\"UTF-8\" standalone=\"no\"?>\n",
       "<!DOCTYPE svg PUBLIC \"-//W3C//DTD SVG 1.1//EN\"\n",
       " \"http://www.w3.org/Graphics/SVG/1.1/DTD/svg11.dtd\">\n",
       "<!-- Generated by graphviz version 2.40.1 (20161225.0304)\n",
       " -->\n",
       "<!-- Title: %3 Pages: 1 -->\n",
       "<svg width=\"278pt\" height=\"44pt\"\n",
       " viewBox=\"0.00 0.00 278.00 44.00\" xmlns=\"http://www.w3.org/2000/svg\" xmlns:xlink=\"http://www.w3.org/1999/xlink\">\n",
       "<g id=\"graph0\" class=\"graph\" transform=\"scale(1 1) rotate(0) translate(4 40)\">\n",
       "<title>%3</title>\n",
       "<polygon fill=\"#ffffff\" stroke=\"transparent\" points=\"-4,4 -4,-40 274,-40 274,4 -4,4\"/>\n",
       "<!-- alg0 -->\n",
       "<g id=\"node1\" class=\"node\">\n",
       "<title>alg0</title>\n",
       "<ellipse fill=\"#f0efed\" stroke=\"#f0efed\" cx=\"27\" cy=\"-18\" rx=\"27\" ry=\"18\"/>\n",
       "<text text-anchor=\"middle\" x=\"27\" y=\"-13.8\" font-family=\"Times,serif\" font-size=\"14.00\" fill=\"#000000\">alg0</text>\n",
       "</g>\n",
       "<!-- alg1 -->\n",
       "<g id=\"node2\" class=\"node\">\n",
       "<title>alg1</title>\n",
       "<ellipse fill=\"#f0efed\" stroke=\"#f0efed\" cx=\"99\" cy=\"-18\" rx=\"27\" ry=\"18\"/>\n",
       "<text text-anchor=\"middle\" x=\"99\" y=\"-13.8\" font-family=\"Times,serif\" font-size=\"14.00\" fill=\"#000000\">alg1</text>\n",
       "</g>\n",
       "<!-- alg2 -->\n",
       "<g id=\"node3\" class=\"node\">\n",
       "<title>alg2</title>\n",
       "<ellipse fill=\"#f0efed\" stroke=\"#f0efed\" cx=\"171\" cy=\"-18\" rx=\"27\" ry=\"18\"/>\n",
       "<text text-anchor=\"middle\" x=\"171\" y=\"-13.8\" font-family=\"Times,serif\" font-size=\"14.00\" fill=\"#000000\">alg2</text>\n",
       "</g>\n",
       "<!-- alg3 -->\n",
       "<g id=\"node4\" class=\"node\">\n",
       "<title>alg3</title>\n",
       "<ellipse fill=\"#f0efed\" stroke=\"#f0efed\" cx=\"243\" cy=\"-18\" rx=\"27\" ry=\"18\"/>\n",
       "<text text-anchor=\"middle\" x=\"243\" y=\"-13.8\" font-family=\"Times,serif\" font-size=\"14.00\" fill=\"#000000\">alg3</text>\n",
       "</g>\n",
       "</g>\n",
       "</svg>\n"
      ],
      "text/plain": [
       "<graphviz.graphs.Digraph at 0x7fe4c78c3a90>"
      ]
     },
     "execution_count": 10,
     "metadata": {},
     "output_type": "execute_result"
    }
   ],
   "source": [
    "history[-1]"
   ]
  },
  {
   "cell_type": "markdown",
   "id": "399eb47c",
   "metadata": {},
   "source": [
    "### Real Example"
   ]
  },
  {
   "cell_type": "code",
   "execution_count": 11,
   "id": "eff88c79",
   "metadata": {},
   "outputs": [],
   "source": [
    "from algorithm_ranking import MeasurementsVisualizer, MeasurementsSimulator, RankVariants"
   ]
  },
  {
   "cell_type": "code",
   "execution_count": 12,
   "id": "f322dab0",
   "metadata": {},
   "outputs": [],
   "source": [
    "cfg = {}\n",
    "cfg['alg0']  = [0.1,0.02] #[mean, std]\n",
    "cfg['alg1']  = [0.15,0.01]\n",
    "cfg['alg2']  = [0.16,0.02]\n",
    "cfg['alg3']  = [0.17,0.04]\n",
    "cfg['alg4']  = [0.20,0.02]\n",
    "h0 = list(cfg.keys())"
   ]
  },
  {
   "cell_type": "code",
   "execution_count": 13,
   "id": "2f082556",
   "metadata": {},
   "outputs": [],
   "source": [
    "ms = MeasurementsSimulator(cfg, 'normal')     "
   ]
  },
  {
   "cell_type": "code",
   "execution_count": 14,
   "id": "7f0b575d",
   "metadata": {},
   "outputs": [],
   "source": [
    "ms.measure(30,1)"
   ]
  },
  {
   "cell_type": "code",
   "execution_count": 15,
   "id": "d8e0e255",
   "metadata": {},
   "outputs": [],
   "source": [
    "data = ms.get_alg_measurements()"
   ]
  },
  {
   "cell_type": "code",
   "execution_count": 16,
   "id": "e76f1ad2",
   "metadata": {},
   "outputs": [],
   "source": [
    "h0 = list(cfg.keys())\n",
    "mv = MeasurementsVisualizer(data, h0)"
   ]
  },
  {
   "cell_type": "code",
   "execution_count": 17,
   "id": "c24bc3a0",
   "metadata": {},
   "outputs": [
    {
     "data": {
      "image/png": "[encoded data removed]",
      "text/plain": [
       "<Figure size 720x540 with 1 Axes>"
      ]
     },
     "metadata": {
      "needs_background": "light"
     },
     "output_type": "display_data"
    }
   ],
   "source": [
    "fig = mv.show_measurements_violinplot(h0)"
   ]
  },
  {
   "cell_type": "code",
   "execution_count": 18,
   "id": "465fbfff",
   "metadata": {},
   "outputs": [],
   "source": [
    "#fig.savefig('v-hypo1.pdf')"
   ]
  },
  {
   "cell_type": "code",
   "execution_count": 19,
   "id": "d9d2d0a6",
   "metadata": {},
   "outputs": [],
   "source": [
    "rv = RankVariants(data,h0)"
   ]
  },
  {
   "cell_type": "code",
   "execution_count": 20,
   "id": "e71adf9b",
   "metadata": {},
   "outputs": [],
   "source": [
    "#h0.reverse()"
   ]
  },
  {
   "cell_type": "code",
   "execution_count": 21,
   "id": "2353db67",
   "metadata": {},
   "outputs": [
    {
     "data": {
      "text/plain": [
       "['alg0', 'alg1', 'alg2', 'alg3', 'alg4']"
      ]
     },
     "execution_count": 21,
     "metadata": {},
     "output_type": "execute_result"
    }
   ],
   "source": [
    "h0"
   ]
  },
  {
   "cell_type": "code",
   "execution_count": 22,
   "id": "640908e4",
   "metadata": {},
   "outputs": [],
   "source": [
    "compare = rv.compareAlgs"
   ]
  },
  {
   "cell_type": "code",
   "execution_count": 23,
   "id": "d1b4de89",
   "metadata": {},
   "outputs": [
    {
     "data": {
      "text/plain": [
       "1"
      ]
     },
     "execution_count": 23,
     "metadata": {},
     "output_type": "execute_result"
    }
   ],
   "source": [
    "compare('alg1','alg2')"
   ]
  },
  {
   "cell_type": "code",
   "execution_count": 24,
   "id": "d13be6de",
   "metadata": {},
   "outputs": [
    {
     "name": "stdout",
     "output_type": "stream",
     "text": [
      "Adding edge from alg0 to alg1\n",
      "Adding edge from alg1 to alg2\n",
      "Adding edge from alg2 to alg3\n",
      "Adding edge from alg3 to alg4\n"
     ]
    }
   ],
   "source": [
    "g = init_graph(h0)"
   ]
  },
  {
   "cell_type": "code",
   "execution_count": 25,
   "id": "d173297e",
   "metadata": {},
   "outputs": [
    {
     "data": {
      "image/svg+xml": [
       "<?xml version=\"1.0\" encoding=\"UTF-8\" standalone=\"no\"?>\n",
       "<!DOCTYPE svg PUBLIC \"-//W3C//DTD SVG 1.1//EN\"\n",
       " \"http://www.w3.org/Graphics/SVG/1.1/DTD/svg11.dtd\">\n",
       "<!-- Generated by graphviz version 2.40.1 (20161225.0304)\n",
       " -->\n",
       "<!-- Title: %3 Pages: 1 -->\n",
       "<svg width=\"62pt\" height=\"332pt\"\n",
       " viewBox=\"0.00 0.00 62.00 332.00\" xmlns=\"http://www.w3.org/2000/svg\" xmlns:xlink=\"http://www.w3.org/1999/xlink\">\n",
       "<g id=\"graph0\" class=\"graph\" transform=\"scale(1 1) rotate(0) translate(4 328)\">\n",
       "<title>%3</title>\n",
       "<polygon fill=\"#ffffff\" stroke=\"transparent\" points=\"-4,4 -4,-328 58,-328 58,4 -4,4\"/>\n",
       "<!-- alg0 -->\n",
       "<g id=\"node1\" class=\"node\">\n",
       "<title>alg0</title>\n",
       "<ellipse fill=\"#f0efed\" stroke=\"#f0efed\" cx=\"27\" cy=\"-306\" rx=\"27\" ry=\"18\"/>\n",
       "<text text-anchor=\"middle\" x=\"27\" y=\"-301.8\" font-family=\"Times,serif\" font-size=\"14.00\" fill=\"#000000\">alg0</text>\n",
       "</g>\n",
       "<!-- alg1 -->\n",
       "<g id=\"node2\" class=\"node\">\n",
       "<title>alg1</title>\n",
       "<ellipse fill=\"#f0efed\" stroke=\"#f0efed\" cx=\"27\" cy=\"-234\" rx=\"27\" ry=\"18\"/>\n",
       "<text text-anchor=\"middle\" x=\"27\" y=\"-229.8\" font-family=\"Times,serif\" font-size=\"14.00\" fill=\"#000000\">alg1</text>\n",
       "</g>\n",
       "<!-- alg0&#45;&gt;alg1 -->\n",
       "<g id=\"edge1\" class=\"edge\">\n",
       "<title>alg0&#45;&gt;alg1</title>\n",
       "<path fill=\"none\" stroke=\"#000000\" d=\"M27,-287.8314C27,-280.131 27,-270.9743 27,-262.4166\"/>\n",
       "<polygon fill=\"#000000\" stroke=\"#000000\" points=\"30.5001,-262.4132 27,-252.4133 23.5001,-262.4133 30.5001,-262.4132\"/>\n",
       "</g>\n",
       "<!-- alg2 -->\n",
       "<g id=\"node3\" class=\"node\">\n",
       "<title>alg2</title>\n",
       "<ellipse fill=\"#f0efed\" stroke=\"#f0efed\" cx=\"27\" cy=\"-162\" rx=\"27\" ry=\"18\"/>\n",
       "<text text-anchor=\"middle\" x=\"27\" y=\"-157.8\" font-family=\"Times,serif\" font-size=\"14.00\" fill=\"#000000\">alg2</text>\n",
       "</g>\n",
       "<!-- alg1&#45;&gt;alg2 -->\n",
       "<g id=\"edge2\" class=\"edge\">\n",
       "<title>alg1&#45;&gt;alg2</title>\n",
       "<path fill=\"none\" stroke=\"#000000\" d=\"M27,-215.8314C27,-208.131 27,-198.9743 27,-190.4166\"/>\n",
       "<polygon fill=\"#000000\" stroke=\"#000000\" points=\"30.5001,-190.4132 27,-180.4133 23.5001,-190.4133 30.5001,-190.4132\"/>\n",
       "</g>\n",
       "<!-- alg3 -->\n",
       "<g id=\"node4\" class=\"node\">\n",
       "<title>alg3</title>\n",
       "<ellipse fill=\"#f0efed\" stroke=\"#f0efed\" cx=\"27\" cy=\"-90\" rx=\"27\" ry=\"18\"/>\n",
       "<text text-anchor=\"middle\" x=\"27\" y=\"-85.8\" font-family=\"Times,serif\" font-size=\"14.00\" fill=\"#000000\">alg3</text>\n",
       "</g>\n",
       "<!-- alg2&#45;&gt;alg3 -->\n",
       "<g id=\"edge3\" class=\"edge\">\n",
       "<title>alg2&#45;&gt;alg3</title>\n",
       "<path fill=\"none\" stroke=\"#000000\" d=\"M27,-143.8314C27,-136.131 27,-126.9743 27,-118.4166\"/>\n",
       "<polygon fill=\"#000000\" stroke=\"#000000\" points=\"30.5001,-118.4132 27,-108.4133 23.5001,-118.4133 30.5001,-118.4132\"/>\n",
       "</g>\n",
       "<!-- alg4 -->\n",
       "<g id=\"node5\" class=\"node\">\n",
       "<title>alg4</title>\n",
       "<ellipse fill=\"#f0efed\" stroke=\"#f0efed\" cx=\"27\" cy=\"-18\" rx=\"27\" ry=\"18\"/>\n",
       "<text text-anchor=\"middle\" x=\"27\" y=\"-13.8\" font-family=\"Times,serif\" font-size=\"14.00\" fill=\"#000000\">alg4</text>\n",
       "</g>\n",
       "<!-- alg3&#45;&gt;alg4 -->\n",
       "<g id=\"edge4\" class=\"edge\">\n",
       "<title>alg3&#45;&gt;alg4</title>\n",
       "<path fill=\"none\" stroke=\"#000000\" d=\"M27,-71.8314C27,-64.131 27,-54.9743 27,-46.4166\"/>\n",
       "<polygon fill=\"#000000\" stroke=\"#000000\" points=\"30.5001,-46.4132 27,-36.4133 23.5001,-46.4133 30.5001,-46.4132\"/>\n",
       "</g>\n",
       "</g>\n",
       "</svg>\n"
      ],
      "text/plain": [
       "<graphviz.graphs.Digraph at 0x7fe4c8808df0>"
      ]
     },
     "execution_count": 25,
     "metadata": {},
     "output_type": "execute_result"
    }
   ],
   "source": [
    "g.visualize()"
   ]
  },
  {
   "cell_type": "code",
   "execution_count": 27,
   "id": "477d73eb",
   "metadata": {},
   "outputs": [
    {
     "data": {
      "text/plain": [
       "'dfg-hypo-h0.pdf.pdf'"
      ]
     },
     "execution_count": 27,
     "metadata": {},
     "output_type": "execute_result"
    }
   ],
   "source": [
    "g.visualize().render('dfg-hypo-h0.pdf')"
   ]
  },
  {
   "cell_type": "code",
   "execution_count": 476,
   "id": "24680a5a",
   "metadata": {},
   "outputs": [],
   "source": [
    "rank = Rank(g)"
   ]
  },
  {
   "cell_type": "code",
   "execution_count": 477,
   "id": "cca16628",
   "metadata": {},
   "outputs": [
    {
     "name": "stdout",
     "output_type": "stream",
     "text": [
      "['alg0'] alg1\n",
      "['alg1'] alg2\n",
      "Adding edge from alg0 to alg2\n",
      "Removing edge from alg1 to alg2\n",
      "Adding edge from alg1 to alg3\n",
      "['alg0'] alg2\n",
      "['alg2', 'alg1'] alg3\n",
      "Adding edge from alg0 to alg3\n",
      "Removing edge from alg2 to alg3\n",
      "Removing edge from alg1 to alg3\n",
      "Adding edge from alg1 to alg4\n",
      "Adding edge from alg2 to alg4\n",
      "['alg0'] alg3\n",
      "['alg3', 'alg1', 'alg2'] alg4\n",
      "Removing edge from alg3 to alg4\n",
      "None None\n"
     ]
    }
   ],
   "source": [
    "history = rank.rank_nodes()"
   ]
  },
  {
   "cell_type": "code",
   "execution_count": 478,
   "id": "1783769e",
   "metadata": {},
   "outputs": [
    {
     "data": {
      "image/svg+xml": [
       "<?xml version=\"1.0\" encoding=\"UTF-8\" standalone=\"no\"?>\n",
       "<!DOCTYPE svg PUBLIC \"-//W3C//DTD SVG 1.1//EN\"\n",
       " \"http://www.w3.org/Graphics/SVG/1.1/DTD/svg11.dtd\">\n",
       "<!-- Generated by graphviz version 2.40.1 (20161225.0304)\n",
       " -->\n",
       "<!-- Title: %3 Pages: 1 -->\n",
       "<svg width=\"206pt\" height=\"188pt\"\n",
       " viewBox=\"0.00 0.00 206.00 188.00\" xmlns=\"http://www.w3.org/2000/svg\" xmlns:xlink=\"http://www.w3.org/1999/xlink\">\n",
       "<g id=\"graph0\" class=\"graph\" transform=\"scale(1 1) rotate(0) translate(4 184)\">\n",
       "<title>%3</title>\n",
       "<polygon fill=\"#ffffff\" stroke=\"transparent\" points=\"-4,4 -4,-184 202,-184 202,4 -4,4\"/>\n",
       "<!-- alg0 -->\n",
       "<g id=\"node1\" class=\"node\">\n",
       "<title>alg0</title>\n",
       "<ellipse fill=\"#f0efed\" stroke=\"#f0efed\" cx=\"99\" cy=\"-162\" rx=\"27\" ry=\"18\"/>\n",
       "<text text-anchor=\"middle\" x=\"99\" y=\"-157.8\" font-family=\"Times,serif\" font-size=\"14.00\" fill=\"#000000\">alg0</text>\n",
       "</g>\n",
       "<!-- alg1 -->\n",
       "<g id=\"node2\" class=\"node\">\n",
       "<title>alg1</title>\n",
       "<ellipse fill=\"#f0efed\" stroke=\"#f0efed\" cx=\"27\" cy=\"-90\" rx=\"27\" ry=\"18\"/>\n",
       "<text text-anchor=\"middle\" x=\"27\" y=\"-85.8\" font-family=\"Times,serif\" font-size=\"14.00\" fill=\"#000000\">alg1</text>\n",
       "</g>\n",
       "<!-- alg0&#45;&gt;alg1 -->\n",
       "<g id=\"edge1\" class=\"edge\">\n",
       "<title>alg0&#45;&gt;alg1</title>\n",
       "<path fill=\"none\" stroke=\"#000000\" d=\"M83.7307,-146.7307C73.803,-136.803 60.6847,-123.6847 49.5637,-112.5637\"/>\n",
       "<polygon fill=\"#000000\" stroke=\"#000000\" points=\"51.7933,-109.8436 42.2473,-105.2473 46.8436,-114.7933 51.7933,-109.8436\"/>\n",
       "</g>\n",
       "<!-- alg2 -->\n",
       "<g id=\"node3\" class=\"node\">\n",
       "<title>alg2</title>\n",
       "<ellipse fill=\"#f0efed\" stroke=\"#f0efed\" cx=\"99\" cy=\"-90\" rx=\"27\" ry=\"18\"/>\n",
       "<text text-anchor=\"middle\" x=\"99\" y=\"-85.8\" font-family=\"Times,serif\" font-size=\"14.00\" fill=\"#000000\">alg2</text>\n",
       "</g>\n",
       "<!-- alg0&#45;&gt;alg2 -->\n",
       "<g id=\"edge2\" class=\"edge\">\n",
       "<title>alg0&#45;&gt;alg2</title>\n",
       "<path fill=\"none\" stroke=\"#000000\" d=\"M99,-143.8314C99,-136.131 99,-126.9743 99,-118.4166\"/>\n",
       "<polygon fill=\"#000000\" stroke=\"#000000\" points=\"102.5001,-118.4132 99,-108.4133 95.5001,-118.4133 102.5001,-118.4132\"/>\n",
       "</g>\n",
       "<!-- alg3 -->\n",
       "<g id=\"node4\" class=\"node\">\n",
       "<title>alg3</title>\n",
       "<ellipse fill=\"#f0efed\" stroke=\"#f0efed\" cx=\"171\" cy=\"-90\" rx=\"27\" ry=\"18\"/>\n",
       "<text text-anchor=\"middle\" x=\"171\" y=\"-85.8\" font-family=\"Times,serif\" font-size=\"14.00\" fill=\"#000000\">alg3</text>\n",
       "</g>\n",
       "<!-- alg0&#45;&gt;alg3 -->\n",
       "<g id=\"edge3\" class=\"edge\">\n",
       "<title>alg0&#45;&gt;alg3</title>\n",
       "<path fill=\"none\" stroke=\"#000000\" d=\"M114.2693,-146.7307C124.197,-136.803 137.3153,-123.6847 148.4363,-112.5637\"/>\n",
       "<polygon fill=\"#000000\" stroke=\"#000000\" points=\"151.1564,-114.7933 155.7527,-105.2473 146.2067,-109.8436 151.1564,-114.7933\"/>\n",
       "</g>\n",
       "<!-- alg4 -->\n",
       "<g id=\"node5\" class=\"node\">\n",
       "<title>alg4</title>\n",
       "<ellipse fill=\"#f0efed\" stroke=\"#f0efed\" cx=\"63\" cy=\"-18\" rx=\"27\" ry=\"18\"/>\n",
       "<text text-anchor=\"middle\" x=\"63\" y=\"-13.8\" font-family=\"Times,serif\" font-size=\"14.00\" fill=\"#000000\">alg4</text>\n",
       "</g>\n",
       "<!-- alg1&#45;&gt;alg4 -->\n",
       "<g id=\"edge4\" class=\"edge\">\n",
       "<title>alg1&#45;&gt;alg4</title>\n",
       "<path fill=\"none\" stroke=\"#000000\" d=\"M35.7146,-72.5708C39.9597,-64.0807 45.1536,-53.6929 49.8663,-44.2674\"/>\n",
       "<polygon fill=\"#000000\" stroke=\"#000000\" points=\"53.024,-45.7782 54.3657,-35.2687 46.763,-42.6477 53.024,-45.7782\"/>\n",
       "</g>\n",
       "<!-- alg2&#45;&gt;alg4 -->\n",
       "<g id=\"edge5\" class=\"edge\">\n",
       "<title>alg2&#45;&gt;alg4</title>\n",
       "<path fill=\"none\" stroke=\"#000000\" d=\"M90.2854,-72.5708C86.0403,-64.0807 80.8464,-53.6929 76.1337,-44.2674\"/>\n",
       "<polygon fill=\"#000000\" stroke=\"#000000\" points=\"79.237,-42.6477 71.6343,-35.2687 72.976,-45.7782 79.237,-42.6477\"/>\n",
       "</g>\n",
       "</g>\n",
       "</svg>\n"
      ],
      "text/plain": [
       "<graphviz.graphs.Digraph at 0x7fb24a6ad130>"
      ]
     },
     "execution_count": 478,
     "metadata": {},
     "output_type": "execute_result"
    }
   ],
   "source": [
    "history[6]"
   ]
  },
  {
   "cell_type": "code",
   "execution_count": 480,
   "id": "8088e93e",
   "metadata": {},
   "outputs": [
    {
     "data": {
      "text/plain": [
       "'dfg-hypo1.pdf.pdf'"
      ]
     },
     "execution_count": 480,
     "metadata": {},
     "output_type": "execute_result"
    }
   ],
   "source": [
    "history[6].render(\"dfg-hypo1.pdf\")"
   ]
  },
  {
   "cell_type": "code",
   "execution_count": null,
   "id": "5c42bf0a",
   "metadata": {},
   "outputs": [],
   "source": []
  }
 ],
 "metadata": {
  "kernelspec": {
   "display_name": "Python 3 (ipykernel)",
   "language": "python",
   "name": "python3"
  },
  "language_info": {
   "codemirror_mode": {
    "name": "ipython",
    "version": 3
   },
   "file_extension": ".py",
   "mimetype": "text/x-python",
   "name": "python",
   "nbconvert_exporter": "python",
   "pygments_lexer": "ipython3",
   "version": "3.9.7"
  }
 },
 "nbformat": 4,
 "nbformat_minor": 5
}
