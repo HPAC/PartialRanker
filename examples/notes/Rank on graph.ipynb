{
 "cells": [
  {
   "cell_type": "code",
   "execution_count": 24,
   "id": "da074f2a",
   "metadata": {},
   "outputs": [],
   "source": [
    "import pandas as pd\n",
    "import graphviz"
   ]
  },
  {
   "cell_type": "code",
   "execution_count": 331,
   "id": "b602007c",
   "metadata": {},
   "outputs": [],
   "source": [
    "class Node:\n",
    "    def __init__(self,name):\n",
    "        self.name = name\n",
    "        self.in_nodes = set()\n",
    "        self.out_nodes = set()\n",
    "        \n",
    "    def add_in_node(self, node):\n",
    "        self.in_nodes.add(node)\n",
    "        \n",
    "    def remove_in_node(self, node):\n",
    "        self.in_nodes.remove(node)\n",
    "        \n",
    "    def add_out_node(self, node):\n",
    "        self.out_nodes.add(node)\n",
    "        \n",
    "    def remove_out_node(self, node):\n",
    "        self.out_nodes.remove(node)\n",
    "        \n",
    "    def depth(self):\n",
    "        depth = 0\n",
    "        if self.in_nodes:\n",
    "            depth = max([ n.depth() + 1 for n in self.in_nodes])\n",
    "        return depth\n",
    "                          \n",
    "    def __str__(self):\n",
    "        return \"{}\".format(self.name)\n",
    "\n",
    "class Graph:\n",
    "    def __init__(self):\n",
    "        self.nodes = {}\n",
    "        self.edges_in = {}\n",
    "        self.edges_out = {}\n",
    "        self.node_depth = {}\n",
    "    \n",
    "    def add_node(self,node):\n",
    "        self.nodes[node]  = Node(node)\n",
    "        self.edges_in[node] = []\n",
    "        self.edges_out[node] = []\n",
    "        self.node_depth[node] = 0\n",
    "        \n",
    "        \n",
    "#     def calculate_depth(self,):\n",
    "        \n",
    "#         for node in self.edges_out[root]:\n",
    "#             self.node_depth[node] = depth +1\n",
    "#             self.calculate_depth(node,depth+1)\n",
    "            \n",
    "        \n",
    "#     def calculate_node_depth(self, node):\n",
    "#         depths = [-1,]\n",
    "#         for in_node in self.edges_in[node]:\n",
    "#             print(\"calc: \", in_node)\n",
    "#             depths.append(self.node_depth[in_node])\n",
    "#         d = max(depths)\n",
    "#         self.node_depth[node] = d+1\n",
    "#         for out_node in self.edges_out[node]:\n",
    "            \n",
    "#         for k,v in self.node_depth.items():\n",
    "#             print(v,d)\n",
    "#             if v>=d:\n",
    "#                 v = v+1\n",
    "        \n",
    "    def add_edge(self, node_x, node_y):\n",
    "        if node_y not in self.edges_out[node_x]:\n",
    "            print(\"Adding edge from {} to {}\".format(node_x,node_y))\n",
    "            self.edges_out[node_x].append(node_y)\n",
    "            self.nodes[node_x].add_out_node(self.nodes[node_y])\n",
    "\n",
    "            self.edges_in[node_y].append(node_x)\n",
    "            self.nodes[node_y].add_in_node(self.nodes[node_x])\n",
    "        \n",
    "        #self.node_depth[node_y] =  self.calculate_node_depth(node_y)\n",
    "        \n",
    "    def remove_edge(self, node_x, node_y):\n",
    "        print(\"Removing edge from {} to {}\".format(node_x,node_y))\n",
    "        try:\n",
    "            self.edges_out[node_x].remove(node_y)\n",
    "            self.nodes[node_x].remove_out_node(self.nodes[node_y])    \n",
    "            \n",
    "            self.edges_in[node_y].remove(node_x)\n",
    "            self.nodes[node_y].remove_in_node(self.nodes[node_x]) \n",
    "            \n",
    "            #self.node_depth[node_y] =  self.calculate_node_depth(node_y)\n",
    "        except ValueError:\n",
    "            print(\"Edge does not exist\")\n",
    "     \n",
    "    def calculate_node_depth(self):\n",
    "        for alg,node in self.nodes.items():\n",
    "            self.node_depth[alg] = node.depth()\n",
    "            \n",
    "    def get_nodes_at_depth(self,depth):\n",
    "        #self.calculate_node_depth()\n",
    "        df = pd.DataFrame(self.node_depth.items())\n",
    "        return list(df.loc[df[1] == depth][0])\n",
    "    \n",
    "    def visualize(self):\n",
    "        g = graphviz.Digraph()\n",
    "        for node in self.nodes.keys():\n",
    "            g.node(node)\n",
    "        for node1,v in self.edges_out.items():\n",
    "            for node2 in v:\n",
    "                g.edge(node1, node2)\n",
    "        return g\n",
    "        "
   ]
  },
  {
   "cell_type": "code",
   "execution_count": 294,
   "id": "14bc6064",
   "metadata": {},
   "outputs": [],
   "source": [
    "g = Graph()"
   ]
  },
  {
   "cell_type": "code",
   "execution_count": 295,
   "id": "8f88cb63",
   "metadata": {},
   "outputs": [],
   "source": [
    "g.add_node('A')\n",
    "g.add_node('B')\n",
    "g.add_node('C')"
   ]
  },
  {
   "cell_type": "code",
   "execution_count": 296,
   "id": "d8e4b427",
   "metadata": {},
   "outputs": [],
   "source": [
    "g.calculate_node_depth()"
   ]
  },
  {
   "cell_type": "code",
   "execution_count": 297,
   "id": "9a429bf9",
   "metadata": {},
   "outputs": [
    {
     "data": {
      "text/plain": [
       "{'A': 0, 'B': 0, 'C': 0}"
      ]
     },
     "execution_count": 297,
     "metadata": {},
     "output_type": "execute_result"
    }
   ],
   "source": [
    "g.node_depth"
   ]
  },
  {
   "cell_type": "code",
   "execution_count": 298,
   "id": "ca4b215e",
   "metadata": {},
   "outputs": [
    {
     "data": {
      "text/plain": [
       "['A', 'B', 'C']"
      ]
     },
     "execution_count": 298,
     "metadata": {},
     "output_type": "execute_result"
    }
   ],
   "source": [
    "g.get_nodes_at_depth(0)"
   ]
  },
  {
   "cell_type": "code",
   "execution_count": 299,
   "id": "1ed8379c",
   "metadata": {},
   "outputs": [
    {
     "name": "stdout",
     "output_type": "stream",
     "text": [
      "Adding edge from A to B\n",
      "Adding edge from B to C\n"
     ]
    }
   ],
   "source": [
    "g.add_edge('A','B')\n",
    "g.add_edge('B','C')"
   ]
  },
  {
   "cell_type": "code",
   "execution_count": 300,
   "id": "13b45e99",
   "metadata": {},
   "outputs": [
    {
     "data": {
      "text/plain": [
       "{'A': 0, 'B': 1, 'C': 2}"
      ]
     },
     "execution_count": 300,
     "metadata": {},
     "output_type": "execute_result"
    }
   ],
   "source": [
    "g.calculate_node_depth()\n",
    "g.node_depth"
   ]
  },
  {
   "cell_type": "code",
   "execution_count": 301,
   "id": "ddc873e4",
   "metadata": {},
   "outputs": [
    {
     "data": {
      "image/svg+xml": [
       "<?xml version=\"1.0\" encoding=\"UTF-8\" standalone=\"no\"?>\n",
       "<!DOCTYPE svg PUBLIC \"-//W3C//DTD SVG 1.1//EN\"\n",
       " \"http://www.w3.org/Graphics/SVG/1.1/DTD/svg11.dtd\">\n",
       "<!-- Generated by graphviz version 2.40.1 (20161225.0304)\n",
       " -->\n",
       "<!-- Title: %3 Pages: 1 -->\n",
       "<svg width=\"62pt\" height=\"188pt\"\n",
       " viewBox=\"0.00 0.00 62.00 188.00\" xmlns=\"http://www.w3.org/2000/svg\" xmlns:xlink=\"http://www.w3.org/1999/xlink\">\n",
       "<g id=\"graph0\" class=\"graph\" transform=\"scale(1 1) rotate(0) translate(4 184)\">\n",
       "<title>%3</title>\n",
       "<polygon fill=\"#ffffff\" stroke=\"transparent\" points=\"-4,4 -4,-184 58,-184 58,4 -4,4\"/>\n",
       "<!-- A -->\n",
       "<g id=\"node1\" class=\"node\">\n",
       "<title>A</title>\n",
       "<ellipse fill=\"none\" stroke=\"#000000\" cx=\"27\" cy=\"-162\" rx=\"27\" ry=\"18\"/>\n",
       "<text text-anchor=\"middle\" x=\"27\" y=\"-157.8\" font-family=\"Times,serif\" font-size=\"14.00\" fill=\"#000000\">A</text>\n",
       "</g>\n",
       "<!-- B -->\n",
       "<g id=\"node2\" class=\"node\">\n",
       "<title>B</title>\n",
       "<ellipse fill=\"none\" stroke=\"#000000\" cx=\"27\" cy=\"-90\" rx=\"27\" ry=\"18\"/>\n",
       "<text text-anchor=\"middle\" x=\"27\" y=\"-85.8\" font-family=\"Times,serif\" font-size=\"14.00\" fill=\"#000000\">B</text>\n",
       "</g>\n",
       "<!-- A&#45;&gt;B -->\n",
       "<g id=\"edge1\" class=\"edge\">\n",
       "<title>A&#45;&gt;B</title>\n",
       "<path fill=\"none\" stroke=\"#000000\" d=\"M27,-143.8314C27,-136.131 27,-126.9743 27,-118.4166\"/>\n",
       "<polygon fill=\"#000000\" stroke=\"#000000\" points=\"30.5001,-118.4132 27,-108.4133 23.5001,-118.4133 30.5001,-118.4132\"/>\n",
       "</g>\n",
       "<!-- C -->\n",
       "<g id=\"node3\" class=\"node\">\n",
       "<title>C</title>\n",
       "<ellipse fill=\"none\" stroke=\"#000000\" cx=\"27\" cy=\"-18\" rx=\"27\" ry=\"18\"/>\n",
       "<text text-anchor=\"middle\" x=\"27\" y=\"-13.8\" font-family=\"Times,serif\" font-size=\"14.00\" fill=\"#000000\">C</text>\n",
       "</g>\n",
       "<!-- B&#45;&gt;C -->\n",
       "<g id=\"edge2\" class=\"edge\">\n",
       "<title>B&#45;&gt;C</title>\n",
       "<path fill=\"none\" stroke=\"#000000\" d=\"M27,-71.8314C27,-64.131 27,-54.9743 27,-46.4166\"/>\n",
       "<polygon fill=\"#000000\" stroke=\"#000000\" points=\"30.5001,-46.4132 27,-36.4133 23.5001,-46.4133 30.5001,-46.4132\"/>\n",
       "</g>\n",
       "</g>\n",
       "</svg>\n"
      ],
      "text/plain": [
       "<graphviz.graphs.Digraph at 0x7fce4ded9dc0>"
      ]
     },
     "execution_count": 301,
     "metadata": {},
     "output_type": "execute_result"
    }
   ],
   "source": [
    "g.visualize()"
   ]
  },
  {
   "cell_type": "code",
   "execution_count": 302,
   "id": "bd2c45c1",
   "metadata": {},
   "outputs": [
    {
     "name": "stdout",
     "output_type": "stream",
     "text": [
      "Removing edge from A to B\n",
      "Adding edge from A to C\n",
      "Adding edge from B to C\n"
     ]
    }
   ],
   "source": [
    "g.remove_edge('A','B')\n",
    "g.add_edge('A','C')\n",
    "g.add_edge('B','C')"
   ]
  },
  {
   "cell_type": "code",
   "execution_count": 303,
   "id": "a866bd1e",
   "metadata": {},
   "outputs": [
    {
     "data": {
      "text/plain": [
       "{'A': 0, 'B': 0, 'C': 1}"
      ]
     },
     "execution_count": 303,
     "metadata": {},
     "output_type": "execute_result"
    }
   ],
   "source": [
    "g.calculate_node_depth()\n",
    "g.node_depth"
   ]
  },
  {
   "cell_type": "code",
   "execution_count": 304,
   "id": "f7b1f98e",
   "metadata": {},
   "outputs": [
    {
     "data": {
      "image/svg+xml": [
       "<?xml version=\"1.0\" encoding=\"UTF-8\" standalone=\"no\"?>\n",
       "<!DOCTYPE svg PUBLIC \"-//W3C//DTD SVG 1.1//EN\"\n",
       " \"http://www.w3.org/Graphics/SVG/1.1/DTD/svg11.dtd\">\n",
       "<!-- Generated by graphviz version 2.40.1 (20161225.0304)\n",
       " -->\n",
       "<!-- Title: %3 Pages: 1 -->\n",
       "<svg width=\"134pt\" height=\"116pt\"\n",
       " viewBox=\"0.00 0.00 134.00 116.00\" xmlns=\"http://www.w3.org/2000/svg\" xmlns:xlink=\"http://www.w3.org/1999/xlink\">\n",
       "<g id=\"graph0\" class=\"graph\" transform=\"scale(1 1) rotate(0) translate(4 112)\">\n",
       "<title>%3</title>\n",
       "<polygon fill=\"#ffffff\" stroke=\"transparent\" points=\"-4,4 -4,-112 130,-112 130,4 -4,4\"/>\n",
       "<!-- A -->\n",
       "<g id=\"node1\" class=\"node\">\n",
       "<title>A</title>\n",
       "<ellipse fill=\"none\" stroke=\"#000000\" cx=\"27\" cy=\"-90\" rx=\"27\" ry=\"18\"/>\n",
       "<text text-anchor=\"middle\" x=\"27\" y=\"-85.8\" font-family=\"Times,serif\" font-size=\"14.00\" fill=\"#000000\">A</text>\n",
       "</g>\n",
       "<!-- C -->\n",
       "<g id=\"node3\" class=\"node\">\n",
       "<title>C</title>\n",
       "<ellipse fill=\"none\" stroke=\"#000000\" cx=\"63\" cy=\"-18\" rx=\"27\" ry=\"18\"/>\n",
       "<text text-anchor=\"middle\" x=\"63\" y=\"-13.8\" font-family=\"Times,serif\" font-size=\"14.00\" fill=\"#000000\">C</text>\n",
       "</g>\n",
       "<!-- A&#45;&gt;C -->\n",
       "<g id=\"edge1\" class=\"edge\">\n",
       "<title>A&#45;&gt;C</title>\n",
       "<path fill=\"none\" stroke=\"#000000\" d=\"M35.7146,-72.5708C39.9597,-64.0807 45.1536,-53.6929 49.8663,-44.2674\"/>\n",
       "<polygon fill=\"#000000\" stroke=\"#000000\" points=\"53.024,-45.7782 54.3657,-35.2687 46.763,-42.6477 53.024,-45.7782\"/>\n",
       "</g>\n",
       "<!-- B -->\n",
       "<g id=\"node2\" class=\"node\">\n",
       "<title>B</title>\n",
       "<ellipse fill=\"none\" stroke=\"#000000\" cx=\"99\" cy=\"-90\" rx=\"27\" ry=\"18\"/>\n",
       "<text text-anchor=\"middle\" x=\"99\" y=\"-85.8\" font-family=\"Times,serif\" font-size=\"14.00\" fill=\"#000000\">B</text>\n",
       "</g>\n",
       "<!-- B&#45;&gt;C -->\n",
       "<g id=\"edge2\" class=\"edge\">\n",
       "<title>B&#45;&gt;C</title>\n",
       "<path fill=\"none\" stroke=\"#000000\" d=\"M90.2854,-72.5708C86.0403,-64.0807 80.8464,-53.6929 76.1337,-44.2674\"/>\n",
       "<polygon fill=\"#000000\" stroke=\"#000000\" points=\"79.237,-42.6477 71.6343,-35.2687 72.976,-45.7782 79.237,-42.6477\"/>\n",
       "</g>\n",
       "</g>\n",
       "</svg>\n"
      ],
      "text/plain": [
       "<graphviz.graphs.Digraph at 0x7fce4ded9070>"
      ]
     },
     "execution_count": 304,
     "metadata": {},
     "output_type": "execute_result"
    }
   ],
   "source": [
    "g.visualize()"
   ]
  },
  {
   "cell_type": "code",
   "execution_count": 130,
   "id": "68230aec",
   "metadata": {},
   "outputs": [
    {
     "data": {
      "text/plain": [
       "{'A': ['B'], 'B': []}"
      ]
     },
     "execution_count": 130,
     "metadata": {},
     "output_type": "execute_result"
    }
   ],
   "source": [
    "g.edges_out"
   ]
  },
  {
   "cell_type": "code",
   "execution_count": 172,
   "id": "b0f990b4",
   "metadata": {},
   "outputs": [
    {
     "data": {
      "text/plain": [
       "(['A', 'B', 'C'], [])"
      ]
     },
     "execution_count": 172,
     "metadata": {},
     "output_type": "execute_result"
    }
   ],
   "source": [
    "g.calculate_node_depth()\n",
    "g.get_nodes_at_depth(0), g.get_nodes_at_depth(1)"
   ]
  },
  {
   "cell_type": "code",
   "execution_count": 173,
   "id": "54e8668e",
   "metadata": {},
   "outputs": [
    {
     "name": "stdout",
     "output_type": "stream",
     "text": [
      "Edge does not exist\n"
     ]
    }
   ],
   "source": [
    "g.remove_edge('A','B')"
   ]
  },
  {
   "cell_type": "code",
   "execution_count": 174,
   "id": "6f2ac24a",
   "metadata": {},
   "outputs": [
    {
     "data": {
      "text/plain": [
       "(['A', 'B', 'C'], [])"
      ]
     },
     "execution_count": 174,
     "metadata": {},
     "output_type": "execute_result"
    }
   ],
   "source": [
    "g.calculate_node_depth()\n",
    "g.get_nodes_at_depth(0), g.get_nodes_at_depth(1)"
   ]
  },
  {
   "cell_type": "code",
   "execution_count": 182,
   "id": "f3641476",
   "metadata": {},
   "outputs": [
    {
     "data": {
      "image/svg+xml": [
       "<?xml version=\"1.0\" encoding=\"UTF-8\" standalone=\"no\"?>\n",
       "<!DOCTYPE svg PUBLIC \"-//W3C//DTD SVG 1.1//EN\"\n",
       " \"http://www.w3.org/Graphics/SVG/1.1/DTD/svg11.dtd\">\n",
       "<!-- Generated by graphviz version 2.40.1 (20161225.0304)\n",
       " -->\n",
       "<!-- Title: %3 Pages: 1 -->\n",
       "<svg width=\"62pt\" height=\"188pt\"\n",
       " viewBox=\"0.00 0.00 62.00 188.00\" xmlns=\"http://www.w3.org/2000/svg\" xmlns:xlink=\"http://www.w3.org/1999/xlink\">\n",
       "<g id=\"graph0\" class=\"graph\" transform=\"scale(1 1) rotate(0) translate(4 184)\">\n",
       "<title>%3</title>\n",
       "<polygon fill=\"#ffffff\" stroke=\"transparent\" points=\"-4,4 -4,-184 58,-184 58,4 -4,4\"/>\n",
       "<!-- A -->\n",
       "<g id=\"node1\" class=\"node\">\n",
       "<title>A</title>\n",
       "<ellipse fill=\"none\" stroke=\"#000000\" cx=\"27\" cy=\"-162\" rx=\"27\" ry=\"18\"/>\n",
       "<text text-anchor=\"middle\" x=\"27\" y=\"-157.8\" font-family=\"Times,serif\" font-size=\"14.00\" fill=\"#000000\">A</text>\n",
       "</g>\n",
       "<!-- B -->\n",
       "<g id=\"node2\" class=\"node\">\n",
       "<title>B</title>\n",
       "<ellipse fill=\"none\" stroke=\"#000000\" cx=\"27\" cy=\"-90\" rx=\"27\" ry=\"18\"/>\n",
       "<text text-anchor=\"middle\" x=\"27\" y=\"-85.8\" font-family=\"Times,serif\" font-size=\"14.00\" fill=\"#000000\">B</text>\n",
       "</g>\n",
       "<!-- A&#45;&gt;B -->\n",
       "<g id=\"edge1\" class=\"edge\">\n",
       "<title>A&#45;&gt;B</title>\n",
       "<path fill=\"none\" stroke=\"#000000\" d=\"M27,-143.8314C27,-136.131 27,-126.9743 27,-118.4166\"/>\n",
       "<polygon fill=\"#000000\" stroke=\"#000000\" points=\"30.5001,-118.4132 27,-108.4133 23.5001,-118.4133 30.5001,-118.4132\"/>\n",
       "</g>\n",
       "<!-- C -->\n",
       "<g id=\"node3\" class=\"node\">\n",
       "<title>C</title>\n",
       "<ellipse fill=\"none\" stroke=\"#000000\" cx=\"27\" cy=\"-18\" rx=\"27\" ry=\"18\"/>\n",
       "<text text-anchor=\"middle\" x=\"27\" y=\"-13.8\" font-family=\"Times,serif\" font-size=\"14.00\" fill=\"#000000\">C</text>\n",
       "</g>\n",
       "<!-- B&#45;&gt;C -->\n",
       "<g id=\"edge2\" class=\"edge\">\n",
       "<title>B&#45;&gt;C</title>\n",
       "<path fill=\"none\" stroke=\"#000000\" d=\"M27,-71.8314C27,-64.131 27,-54.9743 27,-46.4166\"/>\n",
       "<polygon fill=\"#000000\" stroke=\"#000000\" points=\"30.5001,-46.4132 27,-36.4133 23.5001,-46.4133 30.5001,-46.4132\"/>\n",
       "</g>\n",
       "</g>\n",
       "</svg>\n"
      ],
      "text/plain": [
       "<graphviz.graphs.Digraph at 0x7fce5c792670>"
      ]
     },
     "execution_count": 182,
     "metadata": {},
     "output_type": "execute_result"
    }
   ],
   "source": [
    "g.visualize()"
   ]
  },
  {
   "cell_type": "code",
   "execution_count": 262,
   "id": "b727d796",
   "metadata": {},
   "outputs": [],
   "source": [
    "def init_graph(h0):\n",
    "    graph = Graph()\n",
    "    \n",
    "    for alg in h0:\n",
    "        graph.add_node(alg)\n",
    "        \n",
    "    for i in range(len(h0)):\n",
    "        if i!=len(h0)-1:\n",
    "            graph.add_edge(h0[i], h0[i+1])\n",
    "          \n",
    "    graph.calculate_node_depth()\n",
    "    return graph"
   ]
  },
  {
   "cell_type": "code",
   "execution_count": 263,
   "id": "47dad0b6",
   "metadata": {},
   "outputs": [],
   "source": [
    "h0 = ['alg0', 'alg1', 'alg2', 'alg3']\n",
    "g = init_graph(h0)"
   ]
  },
  {
   "cell_type": "code",
   "execution_count": 264,
   "id": "203bddf3",
   "metadata": {},
   "outputs": [
    {
     "data": {
      "text/plain": [
       "{'alg0': 0, 'alg1': 1, 'alg2': 2, 'alg3': 3}"
      ]
     },
     "execution_count": 264,
     "metadata": {},
     "output_type": "execute_result"
    }
   ],
   "source": [
    "g.node_depth"
   ]
  },
  {
   "cell_type": "code",
   "execution_count": 265,
   "id": "a560970a",
   "metadata": {},
   "outputs": [],
   "source": [
    "g.remove_edge('alg0','alg1')"
   ]
  },
  {
   "cell_type": "code",
   "execution_count": 266,
   "id": "e0bb4053",
   "metadata": {},
   "outputs": [
    {
     "data": {
      "image/svg+xml": [
       "<?xml version=\"1.0\" encoding=\"UTF-8\" standalone=\"no\"?>\n",
       "<!DOCTYPE svg PUBLIC \"-//W3C//DTD SVG 1.1//EN\"\n",
       " \"http://www.w3.org/Graphics/SVG/1.1/DTD/svg11.dtd\">\n",
       "<!-- Generated by graphviz version 2.40.1 (20161225.0304)\n",
       " -->\n",
       "<!-- Title: %3 Pages: 1 -->\n",
       "<svg width=\"134pt\" height=\"188pt\"\n",
       " viewBox=\"0.00 0.00 134.00 188.00\" xmlns=\"http://www.w3.org/2000/svg\" xmlns:xlink=\"http://www.w3.org/1999/xlink\">\n",
       "<g id=\"graph0\" class=\"graph\" transform=\"scale(1 1) rotate(0) translate(4 184)\">\n",
       "<title>%3</title>\n",
       "<polygon fill=\"#ffffff\" stroke=\"transparent\" points=\"-4,4 -4,-184 130,-184 130,4 -4,4\"/>\n",
       "<!-- alg0 -->\n",
       "<g id=\"node1\" class=\"node\">\n",
       "<title>alg0</title>\n",
       "<ellipse fill=\"none\" stroke=\"#000000\" cx=\"27\" cy=\"-162\" rx=\"27\" ry=\"18\"/>\n",
       "<text text-anchor=\"middle\" x=\"27\" y=\"-157.8\" font-family=\"Times,serif\" font-size=\"14.00\" fill=\"#000000\">alg0</text>\n",
       "</g>\n",
       "<!-- alg1 -->\n",
       "<g id=\"node2\" class=\"node\">\n",
       "<title>alg1</title>\n",
       "<ellipse fill=\"none\" stroke=\"#000000\" cx=\"99\" cy=\"-162\" rx=\"27\" ry=\"18\"/>\n",
       "<text text-anchor=\"middle\" x=\"99\" y=\"-157.8\" font-family=\"Times,serif\" font-size=\"14.00\" fill=\"#000000\">alg1</text>\n",
       "</g>\n",
       "<!-- alg2 -->\n",
       "<g id=\"node3\" class=\"node\">\n",
       "<title>alg2</title>\n",
       "<ellipse fill=\"none\" stroke=\"#000000\" cx=\"99\" cy=\"-90\" rx=\"27\" ry=\"18\"/>\n",
       "<text text-anchor=\"middle\" x=\"99\" y=\"-85.8\" font-family=\"Times,serif\" font-size=\"14.00\" fill=\"#000000\">alg2</text>\n",
       "</g>\n",
       "<!-- alg1&#45;&gt;alg2 -->\n",
       "<g id=\"edge1\" class=\"edge\">\n",
       "<title>alg1&#45;&gt;alg2</title>\n",
       "<path fill=\"none\" stroke=\"#000000\" d=\"M99,-143.8314C99,-136.131 99,-126.9743 99,-118.4166\"/>\n",
       "<polygon fill=\"#000000\" stroke=\"#000000\" points=\"102.5001,-118.4132 99,-108.4133 95.5001,-118.4133 102.5001,-118.4132\"/>\n",
       "</g>\n",
       "<!-- alg3 -->\n",
       "<g id=\"node4\" class=\"node\">\n",
       "<title>alg3</title>\n",
       "<ellipse fill=\"none\" stroke=\"#000000\" cx=\"99\" cy=\"-18\" rx=\"27\" ry=\"18\"/>\n",
       "<text text-anchor=\"middle\" x=\"99\" y=\"-13.8\" font-family=\"Times,serif\" font-size=\"14.00\" fill=\"#000000\">alg3</text>\n",
       "</g>\n",
       "<!-- alg2&#45;&gt;alg3 -->\n",
       "<g id=\"edge2\" class=\"edge\">\n",
       "<title>alg2&#45;&gt;alg3</title>\n",
       "<path fill=\"none\" stroke=\"#000000\" d=\"M99,-71.8314C99,-64.131 99,-54.9743 99,-46.4166\"/>\n",
       "<polygon fill=\"#000000\" stroke=\"#000000\" points=\"102.5001,-46.4132 99,-36.4133 95.5001,-46.4133 102.5001,-46.4132\"/>\n",
       "</g>\n",
       "</g>\n",
       "</svg>\n"
      ],
      "text/plain": [
       "<graphviz.graphs.Digraph at 0x7fce34090580>"
      ]
     },
     "execution_count": 266,
     "metadata": {},
     "output_type": "execute_result"
    }
   ],
   "source": [
    "g.visualize()"
   ]
  },
  {
   "cell_type": "code",
   "execution_count": 191,
   "id": "d4c99b79",
   "metadata": {},
   "outputs": [
    {
     "data": {
      "text/plain": [
       "{'alg0': 0, 'alg1': 0, 'alg2': 1, 'alg3': 2}"
      ]
     },
     "execution_count": 191,
     "metadata": {},
     "output_type": "execute_result"
    }
   ],
   "source": [
    "g.calculate_node_depth()\n",
    "g.node_depth"
   ]
  },
  {
   "cell_type": "code",
   "execution_count": 347,
   "id": "7ed4a8fd",
   "metadata": {},
   "outputs": [],
   "source": [
    "def compare(alg1, alg2):\n",
    "    return 0\n",
    "\n",
    "class Rank:\n",
    "    def __init__(self, graph):\n",
    "        self.graph = graph\n",
    "        self.start = self.graph.get_nodes_at_depth(0)[0]\n",
    "        self.preset = graph.edges_in.copy()\n",
    "        self.visited_sets = []\n",
    "                \n",
    "    def next_unvisited_preset2(self,start):\n",
    "        queue = []\n",
    "        queue.append(start)\n",
    "        while queue:\n",
    "            alg = queue.pop(0)\n",
    "            in_nodes = self.graph.edges_in[alg].copy()\n",
    "            unvisited = []\n",
    "            for node in in_nodes:\n",
    "                node_set = {node,alg}\n",
    "                if node_set not in self.visited_sets:\n",
    "                    unvisited.append(node)\n",
    "                    self.visited_sets.append(node_set)\n",
    "                    \n",
    "            if unvisited:\n",
    "                return (unvisited, alg)\n",
    "            \n",
    "            elif self.graph.edges_out[alg]:\n",
    "                for alg_x in self.graph.edges_out[alg]:\n",
    "                    queue.append(alg_x)\n",
    "        return (None,None)\n",
    "    \n",
    "    \n",
    "#     def next_unvisited_preset(self,start):\n",
    "#         queue = []\n",
    "#         queue.append(start)\n",
    "#         while queue:\n",
    "#             alg = queue.pop(0)\n",
    "#             if self.preset[alg]:\n",
    "#                 preset = self.preset[alg].copy()\n",
    "#                 self.preset[alg] = []\n",
    "#                 return (preset, alg)\n",
    "#             elif self.graph.edges_out[alg]:\n",
    "#                 for alg_x in self.graph.edges_out[alg]:\n",
    "#                     queue.append(alg_x)\n",
    "#         return (None,None)\n",
    "    \n",
    "    def compare_preset(self, preset, alg_y):\n",
    "        x_gt_y = []\n",
    "        x_eq_y = []\n",
    "        for alg_x in preset:\n",
    "            ret = compare(alg_x,alg_y)\n",
    "            if ret == 1:\n",
    "                x_gt_y.append(alg_x)\n",
    "            elif ret == -1:\n",
    "                x_eq_y.append(alg_x)\n",
    "        return (x_gt_y, x_eq_y)\n",
    "    \n",
    "    def add_edges_from_depth(self,depth,alg_y):\n",
    "        add_edges=[]\n",
    "        if depth>=0:\n",
    "            add_edges.append(self.graph.get_nodes_at_depth(depth))\n",
    "          \n",
    "        for alg_x in add_edges:\n",
    "            self.graph.add_edge(alg_x,alg_y)\n",
    "            \n",
    "    \n",
    "    def reverse_edges(self, x_gt_y, alg_y):\n",
    "        #depth = self.graph.node_depth[alg_y]-2\n",
    "        for alg_x in x_gt_y:\n",
    "            self.graph.remove_edge(alg_x,alg_y)\n",
    "            self.graph.add_edge(alg_y,alg_x)\n",
    "            \n",
    "    def remove_edges_from_nodes(self, from_nodes,alg_y):\n",
    "        for alg_x in from_nodes:\n",
    "            self.graph.remove_edge(alg_x,alg_y)\n",
    "            \n",
    "    def add_edges_from_nodes(self, from_nodes,alg_y):\n",
    "        for alg_x in from_nodes:\n",
    "            #print(\"adding edge from  {} to {}\".format(alg_x, alg_y))\n",
    "            self.graph.add_edge(alg_x,alg_y)\n",
    "            \n",
    "            \n",
    "    def remove_edges_to_nodes(self, to_nodes,alg_x):\n",
    "        for alg_y in to_nodes:\n",
    "            self.graph.remove_edge(alg_x,alg_y)\n",
    "            \n",
    "    def add_edges_to_nodes(self, to_nodes,alg_x):\n",
    "        for alg_y in to_nodes:\n",
    "            self.graph.add_edge(alg_x,alg_y)\n",
    "       \n",
    "    \n",
    "    def modify_graph(self,preset,alg_y):\n",
    "        x_gt_y, x_eq_y = self.compare_preset(preset, alg_y)\n",
    "            \n",
    "        if x_gt_y or len(x_eq_y) == len(preset):\n",
    "            self.graph.calculate_node_depth()\n",
    "            depth_above = self.graph.node_depth[alg_y]-2\n",
    "            depth_below = self.graph.node_depth[alg_y]+1\n",
    "            from_nodes = self.graph.get_nodes_at_depth(depth_above)\n",
    "            to_nodes = self.graph.get_nodes_at_depth(depth_below)\n",
    "\n",
    "            self.add_edges_from_nodes(from_nodes,alg_y)\n",
    "            for alg_x in x_gt_y:\n",
    "                self.remove_edges_from_nodes(from_nodes,alg_x)\n",
    "\n",
    "\n",
    "        self.reverse_edges(x_gt_y,alg_y)\n",
    "        self.remove_edges_from_nodes(x_eq_y,alg_y)\n",
    "\n",
    "        if x_gt_y:\n",
    "            self.remove_edges_to_nodes(to_nodes, alg_y)\n",
    "            for alg_x in x_gt_y:\n",
    "                self.add_edges_to_nodes(to_nodes,alg_x)\n",
    "\n",
    "        elif len(x_eq_y) == len(preset):\n",
    "            self.graph.calculate_node_depth()\n",
    "            for alg_x in to_nodes:\n",
    "                if self.graph.node_depth[alg_x] != self.graph.node_depth[alg_y]+1:\n",
    "                    self.remove_edges_to_nodes([alg_x,],alg_y)\n",
    "\n",
    "            \n",
    "            equivalent_nodes = self.graph.get_nodes_at_depth(self.graph.node_depth[alg_y])\n",
    "            to_nodes_ = self.graph.edges_out[alg_y].copy()\n",
    "            for _x in to_nodes_:\n",
    "                self.add_edges_from_nodes(equivalent_nodes,_x)\n",
    "                \n",
    "\n",
    "    def rank_nodes(self):\n",
    "        root = self.start\n",
    "        d_graphs = []\n",
    "        \n",
    "        preset,alg_y = self.next_unvisited_preset2(root)\n",
    "        print(preset, alg_y)\n",
    "        while preset:\n",
    "            self.modify_graph(preset,alg_y)\n",
    "            d_graphs.append(self.graph.visualize())\n",
    "            preset,alg_y = self.next_unvisited_preset2(alg_y)    \n",
    "            print(preset, alg_y)\n",
    "\n",
    "        return d_graphs\n",
    "            \n",
    "            \n",
    "            \n",
    "            \n",
    "\n",
    "                    \n",
    "            \n",
    "        \n",
    "        \n",
    "            \n",
    "            \n",
    "        \n"
   ]
  },
  {
   "cell_type": "code",
   "execution_count": 348,
   "id": "8a9b72e6",
   "metadata": {},
   "outputs": [],
   "source": [
    "rank = Rank(g)"
   ]
  },
  {
   "cell_type": "code",
   "execution_count": 349,
   "id": "71bca756",
   "metadata": {},
   "outputs": [
    {
     "data": {
      "text/plain": [
       "[]"
      ]
     },
     "execution_count": 349,
     "metadata": {},
     "output_type": "execute_result"
    }
   ],
   "source": [
    "rank.visited_sets"
   ]
  },
  {
   "cell_type": "code",
   "execution_count": 350,
   "id": "5d6bce21",
   "metadata": {},
   "outputs": [
    {
     "data": {
      "text/plain": [
       "(None, None)"
      ]
     },
     "execution_count": 350,
     "metadata": {},
     "output_type": "execute_result"
    }
   ],
   "source": [
    "rank.next_unvisited_preset2('alg0')"
   ]
  },
  {
   "cell_type": "code",
   "execution_count": 351,
   "id": "fbc078b5",
   "metadata": {},
   "outputs": [
    {
     "name": "stdout",
     "output_type": "stream",
     "text": [
      "Adding edge from alg0 to alg1\n",
      "Adding edge from alg1 to alg2\n",
      "Adding edge from alg2 to alg3\n"
     ]
    }
   ],
   "source": [
    "h0 = ['alg0', 'alg1', 'alg2', 'alg3']\n",
    "g = init_graph(h0)\n",
    "rank = Rank(g)"
   ]
  },
  {
   "cell_type": "code",
   "execution_count": 352,
   "id": "8973b200",
   "metadata": {},
   "outputs": [
    {
     "name": "stdout",
     "output_type": "stream",
     "text": [
      "['alg0'] alg1\n",
      "['alg1'] alg2\n",
      "['alg2'] alg3\n",
      "None None\n"
     ]
    }
   ],
   "source": [
    "history = rank.rank_nodes()"
   ]
  },
  {
   "cell_type": "code",
   "execution_count": 353,
   "id": "e8697ea2",
   "metadata": {},
   "outputs": [
    {
     "data": {
      "text/plain": [
       "3"
      ]
     },
     "execution_count": 353,
     "metadata": {},
     "output_type": "execute_result"
    }
   ],
   "source": [
    "len(history)"
   ]
  },
  {
   "cell_type": "code",
   "execution_count": 354,
   "id": "1a10f6a4",
   "metadata": {},
   "outputs": [
    {
     "data": {
      "image/svg+xml": [
       "<?xml version=\"1.0\" encoding=\"UTF-8\" standalone=\"no\"?>\n",
       "<!DOCTYPE svg PUBLIC \"-//W3C//DTD SVG 1.1//EN\"\n",
       " \"http://www.w3.org/Graphics/SVG/1.1/DTD/svg11.dtd\">\n",
       "<!-- Generated by graphviz version 2.40.1 (20161225.0304)\n",
       " -->\n",
       "<!-- Title: %3 Pages: 1 -->\n",
       "<svg width=\"62pt\" height=\"260pt\"\n",
       " viewBox=\"0.00 0.00 62.00 260.00\" xmlns=\"http://www.w3.org/2000/svg\" xmlns:xlink=\"http://www.w3.org/1999/xlink\">\n",
       "<g id=\"graph0\" class=\"graph\" transform=\"scale(1 1) rotate(0) translate(4 256)\">\n",
       "<title>%3</title>\n",
       "<polygon fill=\"#ffffff\" stroke=\"transparent\" points=\"-4,4 -4,-256 58,-256 58,4 -4,4\"/>\n",
       "<!-- alg0 -->\n",
       "<g id=\"node1\" class=\"node\">\n",
       "<title>alg0</title>\n",
       "<ellipse fill=\"none\" stroke=\"#000000\" cx=\"27\" cy=\"-234\" rx=\"27\" ry=\"18\"/>\n",
       "<text text-anchor=\"middle\" x=\"27\" y=\"-229.8\" font-family=\"Times,serif\" font-size=\"14.00\" fill=\"#000000\">alg0</text>\n",
       "</g>\n",
       "<!-- alg1 -->\n",
       "<g id=\"node2\" class=\"node\">\n",
       "<title>alg1</title>\n",
       "<ellipse fill=\"none\" stroke=\"#000000\" cx=\"27\" cy=\"-162\" rx=\"27\" ry=\"18\"/>\n",
       "<text text-anchor=\"middle\" x=\"27\" y=\"-157.8\" font-family=\"Times,serif\" font-size=\"14.00\" fill=\"#000000\">alg1</text>\n",
       "</g>\n",
       "<!-- alg0&#45;&gt;alg1 -->\n",
       "<g id=\"edge1\" class=\"edge\">\n",
       "<title>alg0&#45;&gt;alg1</title>\n",
       "<path fill=\"none\" stroke=\"#000000\" d=\"M27,-215.8314C27,-208.131 27,-198.9743 27,-190.4166\"/>\n",
       "<polygon fill=\"#000000\" stroke=\"#000000\" points=\"30.5001,-190.4132 27,-180.4133 23.5001,-190.4133 30.5001,-190.4132\"/>\n",
       "</g>\n",
       "<!-- alg2 -->\n",
       "<g id=\"node3\" class=\"node\">\n",
       "<title>alg2</title>\n",
       "<ellipse fill=\"none\" stroke=\"#000000\" cx=\"27\" cy=\"-90\" rx=\"27\" ry=\"18\"/>\n",
       "<text text-anchor=\"middle\" x=\"27\" y=\"-85.8\" font-family=\"Times,serif\" font-size=\"14.00\" fill=\"#000000\">alg2</text>\n",
       "</g>\n",
       "<!-- alg1&#45;&gt;alg2 -->\n",
       "<g id=\"edge2\" class=\"edge\">\n",
       "<title>alg1&#45;&gt;alg2</title>\n",
       "<path fill=\"none\" stroke=\"#000000\" d=\"M27,-143.8314C27,-136.131 27,-126.9743 27,-118.4166\"/>\n",
       "<polygon fill=\"#000000\" stroke=\"#000000\" points=\"30.5001,-118.4132 27,-108.4133 23.5001,-118.4133 30.5001,-118.4132\"/>\n",
       "</g>\n",
       "<!-- alg3 -->\n",
       "<g id=\"node4\" class=\"node\">\n",
       "<title>alg3</title>\n",
       "<ellipse fill=\"none\" stroke=\"#000000\" cx=\"27\" cy=\"-18\" rx=\"27\" ry=\"18\"/>\n",
       "<text text-anchor=\"middle\" x=\"27\" y=\"-13.8\" font-family=\"Times,serif\" font-size=\"14.00\" fill=\"#000000\">alg3</text>\n",
       "</g>\n",
       "<!-- alg2&#45;&gt;alg3 -->\n",
       "<g id=\"edge3\" class=\"edge\">\n",
       "<title>alg2&#45;&gt;alg3</title>\n",
       "<path fill=\"none\" stroke=\"#000000\" d=\"M27,-71.8314C27,-64.131 27,-54.9743 27,-46.4166\"/>\n",
       "<polygon fill=\"#000000\" stroke=\"#000000\" points=\"30.5001,-46.4132 27,-36.4133 23.5001,-46.4133 30.5001,-46.4132\"/>\n",
       "</g>\n",
       "</g>\n",
       "</svg>\n"
      ],
      "text/plain": [
       "<graphviz.graphs.Digraph at 0x7fce60152400>"
      ]
     },
     "execution_count": 354,
     "metadata": {},
     "output_type": "execute_result"
    }
   ],
   "source": [
    "history[0]"
   ]
  },
  {
   "cell_type": "code",
   "execution_count": 355,
   "id": "070075a6",
   "metadata": {},
   "outputs": [
    {
     "data": {
      "image/svg+xml": [
       "<?xml version=\"1.0\" encoding=\"UTF-8\" standalone=\"no\"?>\n",
       "<!DOCTYPE svg PUBLIC \"-//W3C//DTD SVG 1.1//EN\"\n",
       " \"http://www.w3.org/Graphics/SVG/1.1/DTD/svg11.dtd\">\n",
       "<!-- Generated by graphviz version 2.40.1 (20161225.0304)\n",
       " -->\n",
       "<!-- Title: %3 Pages: 1 -->\n",
       "<svg width=\"62pt\" height=\"260pt\"\n",
       " viewBox=\"0.00 0.00 62.00 260.00\" xmlns=\"http://www.w3.org/2000/svg\" xmlns:xlink=\"http://www.w3.org/1999/xlink\">\n",
       "<g id=\"graph0\" class=\"graph\" transform=\"scale(1 1) rotate(0) translate(4 256)\">\n",
       "<title>%3</title>\n",
       "<polygon fill=\"#ffffff\" stroke=\"transparent\" points=\"-4,4 -4,-256 58,-256 58,4 -4,4\"/>\n",
       "<!-- alg0 -->\n",
       "<g id=\"node1\" class=\"node\">\n",
       "<title>alg0</title>\n",
       "<ellipse fill=\"none\" stroke=\"#000000\" cx=\"27\" cy=\"-234\" rx=\"27\" ry=\"18\"/>\n",
       "<text text-anchor=\"middle\" x=\"27\" y=\"-229.8\" font-family=\"Times,serif\" font-size=\"14.00\" fill=\"#000000\">alg0</text>\n",
       "</g>\n",
       "<!-- alg1 -->\n",
       "<g id=\"node2\" class=\"node\">\n",
       "<title>alg1</title>\n",
       "<ellipse fill=\"none\" stroke=\"#000000\" cx=\"27\" cy=\"-162\" rx=\"27\" ry=\"18\"/>\n",
       "<text text-anchor=\"middle\" x=\"27\" y=\"-157.8\" font-family=\"Times,serif\" font-size=\"14.00\" fill=\"#000000\">alg1</text>\n",
       "</g>\n",
       "<!-- alg0&#45;&gt;alg1 -->\n",
       "<g id=\"edge1\" class=\"edge\">\n",
       "<title>alg0&#45;&gt;alg1</title>\n",
       "<path fill=\"none\" stroke=\"#000000\" d=\"M27,-215.8314C27,-208.131 27,-198.9743 27,-190.4166\"/>\n",
       "<polygon fill=\"#000000\" stroke=\"#000000\" points=\"30.5001,-190.4132 27,-180.4133 23.5001,-190.4133 30.5001,-190.4132\"/>\n",
       "</g>\n",
       "<!-- alg2 -->\n",
       "<g id=\"node3\" class=\"node\">\n",
       "<title>alg2</title>\n",
       "<ellipse fill=\"none\" stroke=\"#000000\" cx=\"27\" cy=\"-90\" rx=\"27\" ry=\"18\"/>\n",
       "<text text-anchor=\"middle\" x=\"27\" y=\"-85.8\" font-family=\"Times,serif\" font-size=\"14.00\" fill=\"#000000\">alg2</text>\n",
       "</g>\n",
       "<!-- alg1&#45;&gt;alg2 -->\n",
       "<g id=\"edge2\" class=\"edge\">\n",
       "<title>alg1&#45;&gt;alg2</title>\n",
       "<path fill=\"none\" stroke=\"#000000\" d=\"M27,-143.8314C27,-136.131 27,-126.9743 27,-118.4166\"/>\n",
       "<polygon fill=\"#000000\" stroke=\"#000000\" points=\"30.5001,-118.4132 27,-108.4133 23.5001,-118.4133 30.5001,-118.4132\"/>\n",
       "</g>\n",
       "<!-- alg3 -->\n",
       "<g id=\"node4\" class=\"node\">\n",
       "<title>alg3</title>\n",
       "<ellipse fill=\"none\" stroke=\"#000000\" cx=\"27\" cy=\"-18\" rx=\"27\" ry=\"18\"/>\n",
       "<text text-anchor=\"middle\" x=\"27\" y=\"-13.8\" font-family=\"Times,serif\" font-size=\"14.00\" fill=\"#000000\">alg3</text>\n",
       "</g>\n",
       "<!-- alg2&#45;&gt;alg3 -->\n",
       "<g id=\"edge3\" class=\"edge\">\n",
       "<title>alg2&#45;&gt;alg3</title>\n",
       "<path fill=\"none\" stroke=\"#000000\" d=\"M27,-71.8314C27,-64.131 27,-54.9743 27,-46.4166\"/>\n",
       "<polygon fill=\"#000000\" stroke=\"#000000\" points=\"30.5001,-46.4132 27,-36.4133 23.5001,-46.4133 30.5001,-46.4132\"/>\n",
       "</g>\n",
       "</g>\n",
       "</svg>\n"
      ],
      "text/plain": [
       "<graphviz.graphs.Digraph at 0x7fce5ce70d90>"
      ]
     },
     "execution_count": 355,
     "metadata": {},
     "output_type": "execute_result"
    }
   ],
   "source": [
    "history[1]"
   ]
  },
  {
   "cell_type": "code",
   "execution_count": 346,
   "id": "f095f7c4",
   "metadata": {},
   "outputs": [
    {
     "data": {
      "image/svg+xml": [
       "<?xml version=\"1.0\" encoding=\"UTF-8\" standalone=\"no\"?>\n",
       "<!DOCTYPE svg PUBLIC \"-//W3C//DTD SVG 1.1//EN\"\n",
       " \"http://www.w3.org/Graphics/SVG/1.1/DTD/svg11.dtd\">\n",
       "<!-- Generated by graphviz version 2.40.1 (20161225.0304)\n",
       " -->\n",
       "<!-- Title: %3 Pages: 1 -->\n",
       "<svg width=\"278pt\" height=\"44pt\"\n",
       " viewBox=\"0.00 0.00 278.00 44.00\" xmlns=\"http://www.w3.org/2000/svg\" xmlns:xlink=\"http://www.w3.org/1999/xlink\">\n",
       "<g id=\"graph0\" class=\"graph\" transform=\"scale(1 1) rotate(0) translate(4 40)\">\n",
       "<title>%3</title>\n",
       "<polygon fill=\"#ffffff\" stroke=\"transparent\" points=\"-4,4 -4,-40 274,-40 274,4 -4,4\"/>\n",
       "<!-- alg0 -->\n",
       "<g id=\"node1\" class=\"node\">\n",
       "<title>alg0</title>\n",
       "<ellipse fill=\"none\" stroke=\"#000000\" cx=\"27\" cy=\"-18\" rx=\"27\" ry=\"18\"/>\n",
       "<text text-anchor=\"middle\" x=\"27\" y=\"-13.8\" font-family=\"Times,serif\" font-size=\"14.00\" fill=\"#000000\">alg0</text>\n",
       "</g>\n",
       "<!-- alg1 -->\n",
       "<g id=\"node2\" class=\"node\">\n",
       "<title>alg1</title>\n",
       "<ellipse fill=\"none\" stroke=\"#000000\" cx=\"99\" cy=\"-18\" rx=\"27\" ry=\"18\"/>\n",
       "<text text-anchor=\"middle\" x=\"99\" y=\"-13.8\" font-family=\"Times,serif\" font-size=\"14.00\" fill=\"#000000\">alg1</text>\n",
       "</g>\n",
       "<!-- alg2 -->\n",
       "<g id=\"node3\" class=\"node\">\n",
       "<title>alg2</title>\n",
       "<ellipse fill=\"none\" stroke=\"#000000\" cx=\"171\" cy=\"-18\" rx=\"27\" ry=\"18\"/>\n",
       "<text text-anchor=\"middle\" x=\"171\" y=\"-13.8\" font-family=\"Times,serif\" font-size=\"14.00\" fill=\"#000000\">alg2</text>\n",
       "</g>\n",
       "<!-- alg3 -->\n",
       "<g id=\"node4\" class=\"node\">\n",
       "<title>alg3</title>\n",
       "<ellipse fill=\"none\" stroke=\"#000000\" cx=\"243\" cy=\"-18\" rx=\"27\" ry=\"18\"/>\n",
       "<text text-anchor=\"middle\" x=\"243\" y=\"-13.8\" font-family=\"Times,serif\" font-size=\"14.00\" fill=\"#000000\">alg3</text>\n",
       "</g>\n",
       "</g>\n",
       "</svg>\n"
      ],
      "text/plain": [
       "<graphviz.graphs.Digraph at 0x7fce5ffb4220>"
      ]
     },
     "execution_count": 346,
     "metadata": {},
     "output_type": "execute_result"
    }
   ],
   "source": [
    "history[2]"
   ]
  },
  {
   "cell_type": "code",
   "execution_count": 339,
   "id": "1e544935",
   "metadata": {},
   "outputs": [],
   "source": [
    "#     def queue(self, start):\n",
    "#         next_ = None\n",
    "#         if self.preset[start]: #if .start is not empty:\n",
    "#             next_ = (self.preset[start].pop(0), start)\n",
    "#         elif self.edges[start]: #if start. is not empty\n",
    "#             i = 0\n",
    "#             next_ = self.queue(self.edges[start][i])\n",
    "#             while not next_ and i < len(self.edges[start])-1:\n",
    "#                 i = i+1\n",
    "#                 next_ = self.queue(self.edges[start][i])\n",
    "#         return next_\n",
    "    \n",
    "    \n",
    "#     def swap_edges(self, preset, alg_y):\n",
    "        \n",
    "#         x = []\n",
    "#         for alg_x in preset:\n",
    "#             x = x+self.preset[alg_x]\n",
    "#         x = list(set(x))\n",
    "        \n",
    "        \n",
    "        \n",
    "#         self.edges[alg1].remove(alg2)\n",
    "        \n",
    "#         tmp = self.edges[alg1].copy()\n",
    "#         self.edges[alg1] = self.edges[alg2].copy()\n",
    "#         self.edges[alg2] = tmp\n",
    "        \n",
    "#         self.edges[alg2].append(alg1)\n",
    "        \n",
    "#         #add incomoming edges to alg2 from algs in equivalent sets\n",
    "  \n",
    "\n",
    "#     def compare_presets(self, preset, alg_y):\n",
    "#         x_gt_y = []\n",
    "#         x_eq_y = []\n",
    "#         for alg_x in preset:\n",
    "#             ret = compare(alg_x,alg_y)\n",
    "#             if ret == 1:\n",
    "#                 x_gt_y.append(alg_x)\n",
    "#             elif ret == -1:\n",
    "#                 x_eq_y.append(alg_x)\n",
    "        \n",
    "        \n",
    "        \n",
    "            \n",
    "        \n",
    "        \n",
    "        \n",
    "    \n",
    "#     def rank_variants(self):\n",
    "        \n",
    "#         root = self.start\n",
    "        \n",
    "#         presets,alg = self.bfs_next(root)\n",
    "        \n",
    "#         rets = []\n",
    "#         for alg_in in presets:\n",
    "#             rets.append(compare(preset,alg))\n",
    "            \n",
    "#         promote = False\n",
    "#         if rets.count(1)>1 or rets.count(-1) == len(rets)\n",
    "#             promote = True\n",
    "            \n",
    "#         if pr\n",
    "            \n",
    "            \n",
    "#             self.preset[alg].remove(preset)\n",
    "            \n",
    "#         if ret.count(1) >= 1:\n",
    "#             ## update  rank\n",
    "            \n",
    "        \n",
    "        \n",
    "        \n",
    "#         while alg2 == alg:\n",
    "#             alg1,alg2 = self.bfs_next(alg)\n",
    "#             l.append(alg1)\n",
    "            \n",
    "        \n",
    "#         queue = []\n",
    "#         rank =0\n",
    "#         queue.append(rank)\n",
    "        \n",
    "#         while queue:\n",
    "#             rank = queue.sort().pop(0)\n",
    "#             r_k = self.rank[rank]\n",
    "            \n",
    "#             for alg in r_k:\n",
    "#                 alg1, alg2 = self.bfs_next(alg)\n",
    "            \n",
    "        \n",
    "#         start = self.start\n",
    "#         next_ = self.queue(start)\n",
    "        \n",
    "#         while next_:\n",
    "#             alg1, alg2 = next_\n",
    "#             ret = compare(alg1, alg2)\n",
    "            \n",
    "#             if ret == 1:\n",
    "#                 self.swap_edges(alg1,alg2)\n",
    "            \n",
    "#             next_ = self.queue(alg2) \n",
    "    \n",
    "            \n",
    "            \n",
    "            \n",
    "        "
   ]
  },
  {
   "cell_type": "code",
   "execution_count": null,
   "id": "199c3e99",
   "metadata": {},
   "outputs": [],
   "source": []
  }
 ],
 "metadata": {
  "kernelspec": {
   "display_name": "Python 3 (ipykernel)",
   "language": "python",
   "name": "python3"
  },
  "language_info": {
   "codemirror_mode": {
    "name": "ipython",
    "version": 3
   },
   "file_extension": ".py",
   "mimetype": "text/x-python",
   "name": "python",
   "nbconvert_exporter": "python",
   "pygments_lexer": "ipython3",
   "version": "3.9.7"
  }
 },
 "nbformat": 4,
 "nbformat_minor": 5
}
