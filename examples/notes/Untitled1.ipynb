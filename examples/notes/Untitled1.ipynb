{
 "cells": [
  {
   "cell_type": "code",
   "execution_count": 1,
   "id": "2f7f55d2",
   "metadata": {},
   "outputs": [],
   "source": [
    "from algorithm_ranking import RankVariants, MeasurementsVisualizer, MeasurementsManager"
   ]
  },
  {
   "cell_type": "code",
   "execution_count": 2,
   "id": "4308cb16",
   "metadata": {},
   "outputs": [],
   "source": [
    "import pandas as pd\n",
    "import numpy as np"
   ]
  },
  {
   "cell_type": "code",
   "execution_count": 102,
   "id": "e9195cb0",
   "metadata": {},
   "outputs": [],
   "source": [
    "import graphviz\n",
    "from collections import defaultdict"
   ]
  },
  {
   "cell_type": "code",
   "execution_count": 237,
   "id": "eb09d276",
   "metadata": {},
   "outputs": [],
   "source": [
    "class Node:\n",
    "    def __init__(self, name):\n",
    "        self.name = name\n",
    "        self.in_nodes = set()\n",
    "        self.out_nodes = set()\n",
    "        \n",
    "    def add_in_node(self, node):\n",
    "        self.in_nodes.add(node)\n",
    "        \n",
    "    def remove_in_node(self, node):\n",
    "        self.in_nodes.remove(node)\n",
    "        \n",
    "    def add_out_node(self, node):\n",
    "        self.out_nodes.add(node)\n",
    "        \n",
    "    def remove_out_node(self, node):\n",
    "        self.out_nodes.remove(node)\n",
    "        \n",
    "    def depth(self):\n",
    "        depth = 0\n",
    "        if self.in_nodes:\n",
    "            depth = max([ n.depth() + 1 for n in self.in_nodes])\n",
    "        return depth\n",
    "                          \n",
    "    def __str__(self):\n",
    "        return \"{}\".format(self.name)\n",
    "    \n",
    "\n",
    "def compare(alg1, alg2):\n",
    "    return 0\n",
    "    \n",
    "\n",
    "class Graph:\n",
    "    \n",
    "    def __init__(self, h0):\n",
    "        \n",
    "        self.rank = {}\n",
    "        self.in_nodes = {}\n",
    "        self.out_nodes = {}\n",
    "        self.h0 = h0\n",
    "        \n",
    "        for i in range(len(h0)):\n",
    "            self.rank[i] = [h0[i],]\n",
    "            self.in_nodes[h0[i]] = []\n",
    "            self.out_nodes[h0[i]] = []\n",
    "            \n",
    "            if i!=0:\n",
    "                self.in_nodes[h0[i]].append(h0[i-1])\n",
    "            if i!=len(h0)-1:\n",
    "                self.out_nodes[h0[i]].append(h0[i+1])\n",
    "            \n",
    "        \n",
    "            \n",
    "    def BFS(self):\n",
    "        \n",
    "        queue = self.h0.copy()\n",
    "        \n",
    "        while queue:\n",
    "            \n",
    "            node = queue.pop(0)\n",
    "            new_out_nodes = self.out_nodes[node].copy()\n",
    "            \n",
    "            for out_node in self.out_nodes[node]:\n",
    "                ret = compare(node, out_node)\n",
    "                if ret == -1:\n",
    "                    new_out_nodes.remove(out_node)\n",
    "                \n",
    "            \n",
    "            \n",
    "            \n",
    "            promote = True\n",
    "            in_nodes_copy = node.in_nodes.copy()\n",
    "            for in_node in in_nodes_copy:\n",
    "                ret = compare(in_node, node)\n",
    "                if ret == -1:\n",
    "                    node.remove_in_node(in_node)\n",
    "                elif ret == 1:\n",
    "                    node.remove_in_node(in_node)\n",
    "                    in_node.add_in_node(node)\n",
    "                elif ret == 0:\n",
    "                    promote= False\n",
    "                    \n",
    "            if promote:\n",
    "                new_in_nodes = set()\n",
    "                for n in in_nodes_copy:\n",
    "                    for in_node in n.in_nodes:\n",
    "                        new_in_nodes.add(in_node)\n",
    "                        \n",
    "                node.in_nodes = new_in_nodes.copy()\n",
    "                \n",
    "            \n",
    "                        \n",
    "                \n",
    "                        \n",
    "                        \n",
    "                \n",
    "                    \n",
    "                    \n",
    "            \n",
    "                \n",
    "        \n",
    "        "
   ]
  },
  {
   "cell_type": "code",
   "execution_count": 238,
   "id": "06047a94",
   "metadata": {},
   "outputs": [],
   "source": [
    "h0 = ['alg0', 'alg1', 'alg2', 'alg3']"
   ]
  },
  {
   "cell_type": "code",
   "execution_count": 239,
   "id": "249c05b4",
   "metadata": {},
   "outputs": [],
   "source": [
    "g = Graph(h0)"
   ]
  },
  {
   "cell_type": "code",
   "execution_count": 240,
   "id": "6297c842",
   "metadata": {},
   "outputs": [
    {
     "data": {
      "text/plain": [
       "{0: ['alg0'], 1: ['alg1'], 2: ['alg2'], 3: ['alg3']}"
      ]
     },
     "execution_count": 240,
     "metadata": {},
     "output_type": "execute_result"
    }
   ],
   "source": [
    "g.rank"
   ]
  },
  {
   "cell_type": "code",
   "execution_count": 235,
   "id": "13ff5fa7",
   "metadata": {},
   "outputs": [
    {
     "data": {
      "text/plain": [
       "{'alg0': set(), 'alg1': {'alg0'}, 'alg2': {'alg1'}, 'alg3': {'alg2'}}"
      ]
     },
     "execution_count": 235,
     "metadata": {},
     "output_type": "execute_result"
    }
   ],
   "source": [
    "g.in_nodes"
   ]
  },
  {
   "cell_type": "code",
   "execution_count": 236,
   "id": "f41c3bac",
   "metadata": {},
   "outputs": [
    {
     "data": {
      "text/plain": [
       "{'alg0': {'alg1'}, 'alg1': {'alg2'}, 'alg2': {'alg3'}, 'alg3': set()}"
      ]
     },
     "execution_count": 236,
     "metadata": {},
     "output_type": "execute_result"
    }
   ],
   "source": [
    "g.out_nodes"
   ]
  },
  {
   "cell_type": "code",
   "execution_count": null,
   "id": "659161b0",
   "metadata": {},
   "outputs": [],
   "source": []
  },
  {
   "cell_type": "code",
   "execution_count": 137,
   "id": "122a6911",
   "metadata": {},
   "outputs": [
    {
     "data": {
      "text/plain": [
       "['blah', ('alg1', 'alg2'), ('alg2', 'alg3')]"
      ]
     },
     "execution_count": 137,
     "metadata": {},
     "output_type": "execute_result"
    }
   ],
   "source": [
    "l"
   ]
  },
  {
   "cell_type": "code",
   "execution_count": null,
   "id": "36f090a6",
   "metadata": {},
   "outputs": [],
   "source": []
  },
  {
   "cell_type": "code",
   "execution_count": 61,
   "id": "72ad0462",
   "metadata": {},
   "outputs": [],
   "source": [
    "g = graphviz.Digraph()"
   ]
  },
  {
   "cell_type": "code",
   "execution_count": 62,
   "id": "96342d76",
   "metadata": {},
   "outputs": [],
   "source": [
    "#g.attr('node', style='filled', color='#f5f5d3')"
   ]
  },
  {
   "cell_type": "code",
   "execution_count": 63,
   "id": "d195a700",
   "metadata": {},
   "outputs": [],
   "source": [
    "h0 = ['alg0', 'alg1', 'alg2', 'alg3']"
   ]
  },
  {
   "cell_type": "code",
   "execution_count": 64,
   "id": "d75a6507",
   "metadata": {},
   "outputs": [],
   "source": [
    "for alg in h0:\n",
    "    g.node(alg)"
   ]
  },
  {
   "cell_type": "code",
   "execution_count": 65,
   "id": "7f089fe4",
   "metadata": {},
   "outputs": [
    {
     "data": {
      "image/svg+xml": [
       "<?xml version=\"1.0\" encoding=\"UTF-8\" standalone=\"no\"?>\n",
       "<!DOCTYPE svg PUBLIC \"-//W3C//DTD SVG 1.1//EN\"\n",
       " \"http://www.w3.org/Graphics/SVG/1.1/DTD/svg11.dtd\">\n",
       "<!-- Generated by graphviz version 2.40.1 (20161225.0304)\n",
       " -->\n",
       "<!-- Title: %3 Pages: 1 -->\n",
       "<svg width=\"278pt\" height=\"44pt\"\n",
       " viewBox=\"0.00 0.00 278.00 44.00\" xmlns=\"http://www.w3.org/2000/svg\" xmlns:xlink=\"http://www.w3.org/1999/xlink\">\n",
       "<g id=\"graph0\" class=\"graph\" transform=\"scale(1 1) rotate(0) translate(4 40)\">\n",
       "<title>%3</title>\n",
       "<polygon fill=\"#ffffff\" stroke=\"transparent\" points=\"-4,4 -4,-40 274,-40 274,4 -4,4\"/>\n",
       "<!-- alg0 -->\n",
       "<g id=\"node1\" class=\"node\">\n",
       "<title>alg0</title>\n",
       "<ellipse fill=\"none\" stroke=\"#000000\" cx=\"27\" cy=\"-18\" rx=\"27\" ry=\"18\"/>\n",
       "<text text-anchor=\"middle\" x=\"27\" y=\"-13.8\" font-family=\"Times,serif\" font-size=\"14.00\" fill=\"#000000\">alg0</text>\n",
       "</g>\n",
       "<!-- alg1 -->\n",
       "<g id=\"node2\" class=\"node\">\n",
       "<title>alg1</title>\n",
       "<ellipse fill=\"none\" stroke=\"#000000\" cx=\"99\" cy=\"-18\" rx=\"27\" ry=\"18\"/>\n",
       "<text text-anchor=\"middle\" x=\"99\" y=\"-13.8\" font-family=\"Times,serif\" font-size=\"14.00\" fill=\"#000000\">alg1</text>\n",
       "</g>\n",
       "<!-- alg2 -->\n",
       "<g id=\"node3\" class=\"node\">\n",
       "<title>alg2</title>\n",
       "<ellipse fill=\"none\" stroke=\"#000000\" cx=\"171\" cy=\"-18\" rx=\"27\" ry=\"18\"/>\n",
       "<text text-anchor=\"middle\" x=\"171\" y=\"-13.8\" font-family=\"Times,serif\" font-size=\"14.00\" fill=\"#000000\">alg2</text>\n",
       "</g>\n",
       "<!-- alg3 -->\n",
       "<g id=\"node4\" class=\"node\">\n",
       "<title>alg3</title>\n",
       "<ellipse fill=\"none\" stroke=\"#000000\" cx=\"243\" cy=\"-18\" rx=\"27\" ry=\"18\"/>\n",
       "<text text-anchor=\"middle\" x=\"243\" y=\"-13.8\" font-family=\"Times,serif\" font-size=\"14.00\" fill=\"#000000\">alg3</text>\n",
       "</g>\n",
       "</g>\n",
       "</svg>\n"
      ],
      "text/plain": [
       "<graphviz.graphs.Digraph at 0x7fea6f125730>"
      ]
     },
     "execution_count": 65,
     "metadata": {},
     "output_type": "execute_result"
    }
   ],
   "source": [
    "g"
   ]
  },
  {
   "cell_type": "code",
   "execution_count": 66,
   "id": "f0618221",
   "metadata": {},
   "outputs": [],
   "source": [
    "for i in range(len(h0)-1):\n",
    "    g.edge(h0[i], h0[i+1])"
   ]
  },
  {
   "cell_type": "code",
   "execution_count": 67,
   "id": "0715c3a7",
   "metadata": {},
   "outputs": [
    {
     "data": {
      "image/svg+xml": [
       "<?xml version=\"1.0\" encoding=\"UTF-8\" standalone=\"no\"?>\n",
       "<!DOCTYPE svg PUBLIC \"-//W3C//DTD SVG 1.1//EN\"\n",
       " \"http://www.w3.org/Graphics/SVG/1.1/DTD/svg11.dtd\">\n",
       "<!-- Generated by graphviz version 2.40.1 (20161225.0304)\n",
       " -->\n",
       "<!-- Title: %3 Pages: 1 -->\n",
       "<svg width=\"62pt\" height=\"260pt\"\n",
       " viewBox=\"0.00 0.00 62.00 260.00\" xmlns=\"http://www.w3.org/2000/svg\" xmlns:xlink=\"http://www.w3.org/1999/xlink\">\n",
       "<g id=\"graph0\" class=\"graph\" transform=\"scale(1 1) rotate(0) translate(4 256)\">\n",
       "<title>%3</title>\n",
       "<polygon fill=\"#ffffff\" stroke=\"transparent\" points=\"-4,4 -4,-256 58,-256 58,4 -4,4\"/>\n",
       "<!-- alg0 -->\n",
       "<g id=\"node1\" class=\"node\">\n",
       "<title>alg0</title>\n",
       "<ellipse fill=\"none\" stroke=\"#000000\" cx=\"27\" cy=\"-234\" rx=\"27\" ry=\"18\"/>\n",
       "<text text-anchor=\"middle\" x=\"27\" y=\"-229.8\" font-family=\"Times,serif\" font-size=\"14.00\" fill=\"#000000\">alg0</text>\n",
       "</g>\n",
       "<!-- alg1 -->\n",
       "<g id=\"node2\" class=\"node\">\n",
       "<title>alg1</title>\n",
       "<ellipse fill=\"none\" stroke=\"#000000\" cx=\"27\" cy=\"-162\" rx=\"27\" ry=\"18\"/>\n",
       "<text text-anchor=\"middle\" x=\"27\" y=\"-157.8\" font-family=\"Times,serif\" font-size=\"14.00\" fill=\"#000000\">alg1</text>\n",
       "</g>\n",
       "<!-- alg0&#45;&gt;alg1 -->\n",
       "<g id=\"edge1\" class=\"edge\">\n",
       "<title>alg0&#45;&gt;alg1</title>\n",
       "<path fill=\"none\" stroke=\"#000000\" d=\"M27,-215.8314C27,-208.131 27,-198.9743 27,-190.4166\"/>\n",
       "<polygon fill=\"#000000\" stroke=\"#000000\" points=\"30.5001,-190.4132 27,-180.4133 23.5001,-190.4133 30.5001,-190.4132\"/>\n",
       "</g>\n",
       "<!-- alg2 -->\n",
       "<g id=\"node3\" class=\"node\">\n",
       "<title>alg2</title>\n",
       "<ellipse fill=\"none\" stroke=\"#000000\" cx=\"27\" cy=\"-90\" rx=\"27\" ry=\"18\"/>\n",
       "<text text-anchor=\"middle\" x=\"27\" y=\"-85.8\" font-family=\"Times,serif\" font-size=\"14.00\" fill=\"#000000\">alg2</text>\n",
       "</g>\n",
       "<!-- alg1&#45;&gt;alg2 -->\n",
       "<g id=\"edge2\" class=\"edge\">\n",
       "<title>alg1&#45;&gt;alg2</title>\n",
       "<path fill=\"none\" stroke=\"#000000\" d=\"M27,-143.8314C27,-136.131 27,-126.9743 27,-118.4166\"/>\n",
       "<polygon fill=\"#000000\" stroke=\"#000000\" points=\"30.5001,-118.4132 27,-108.4133 23.5001,-118.4133 30.5001,-118.4132\"/>\n",
       "</g>\n",
       "<!-- alg3 -->\n",
       "<g id=\"node4\" class=\"node\">\n",
       "<title>alg3</title>\n",
       "<ellipse fill=\"none\" stroke=\"#000000\" cx=\"27\" cy=\"-18\" rx=\"27\" ry=\"18\"/>\n",
       "<text text-anchor=\"middle\" x=\"27\" y=\"-13.8\" font-family=\"Times,serif\" font-size=\"14.00\" fill=\"#000000\">alg3</text>\n",
       "</g>\n",
       "<!-- alg2&#45;&gt;alg3 -->\n",
       "<g id=\"edge3\" class=\"edge\">\n",
       "<title>alg2&#45;&gt;alg3</title>\n",
       "<path fill=\"none\" stroke=\"#000000\" d=\"M27,-71.8314C27,-64.131 27,-54.9743 27,-46.4166\"/>\n",
       "<polygon fill=\"#000000\" stroke=\"#000000\" points=\"30.5001,-46.4132 27,-36.4133 23.5001,-46.4133 30.5001,-46.4132\"/>\n",
       "</g>\n",
       "</g>\n",
       "</svg>\n"
      ],
      "text/plain": [
       "<graphviz.graphs.Digraph at 0x7fea6f125730>"
      ]
     },
     "execution_count": 67,
     "metadata": {},
     "output_type": "execute_result"
    }
   ],
   "source": [
    "g"
   ]
  },
  {
   "cell_type": "code",
   "execution_count": 54,
   "id": "9669a2ad",
   "metadata": {},
   "outputs": [
    {
     "data": {
      "image/svg+xml": [
       "<?xml version=\"1.0\" encoding=\"UTF-8\" standalone=\"no\"?>\n",
       "<!DOCTYPE svg PUBLIC \"-//W3C//DTD SVG 1.1//EN\"\n",
       " \"http://www.w3.org/Graphics/SVG/1.1/DTD/svg11.dtd\">\n",
       "<!-- Generated by graphviz version 2.40.1 (20161225.0304)\n",
       " -->\n",
       "<!-- Title: %3 Pages: 1 -->\n",
       "<svg width=\"278pt\" height=\"44pt\"\n",
       " viewBox=\"0.00 0.00 278.00 44.00\" xmlns=\"http://www.w3.org/2000/svg\" xmlns:xlink=\"http://www.w3.org/1999/xlink\">\n",
       "<g id=\"graph0\" class=\"graph\" transform=\"scale(1 1) rotate(0) translate(4 40)\">\n",
       "<title>%3</title>\n",
       "<polygon fill=\"#ffffff\" stroke=\"transparent\" points=\"-4,4 -4,-40 274,-40 274,4 -4,4\"/>\n",
       "<!-- alg0 -->\n",
       "<g id=\"node1\" class=\"node\">\n",
       "<title>alg0</title>\n",
       "<ellipse fill=\"#f5f5d3\" stroke=\"#f5f5d3\" cx=\"27\" cy=\"-18\" rx=\"27\" ry=\"18\"/>\n",
       "<text text-anchor=\"middle\" x=\"27\" y=\"-13.8\" font-family=\"Times,serif\" font-size=\"14.00\" fill=\"#000000\">alg0</text>\n",
       "</g>\n",
       "<!-- alg1 -->\n",
       "<g id=\"node2\" class=\"node\">\n",
       "<title>alg1</title>\n",
       "<ellipse fill=\"none\" stroke=\"#000000\" cx=\"99\" cy=\"-18\" rx=\"27\" ry=\"18\"/>\n",
       "<text text-anchor=\"middle\" x=\"99\" y=\"-13.8\" font-family=\"Times,serif\" font-size=\"14.00\" fill=\"#000000\">alg1</text>\n",
       "</g>\n",
       "<!-- alg2 -->\n",
       "<g id=\"node3\" class=\"node\">\n",
       "<title>alg2</title>\n",
       "<ellipse fill=\"none\" stroke=\"#000000\" cx=\"171\" cy=\"-18\" rx=\"27\" ry=\"18\"/>\n",
       "<text text-anchor=\"middle\" x=\"171\" y=\"-13.8\" font-family=\"Times,serif\" font-size=\"14.00\" fill=\"#000000\">alg2</text>\n",
       "</g>\n",
       "<!-- alg3 -->\n",
       "<g id=\"node4\" class=\"node\">\n",
       "<title>alg3</title>\n",
       "<ellipse fill=\"none\" stroke=\"#000000\" cx=\"243\" cy=\"-18\" rx=\"27\" ry=\"18\"/>\n",
       "<text text-anchor=\"middle\" x=\"243\" y=\"-13.8\" font-family=\"Times,serif\" font-size=\"14.00\" fill=\"#000000\">alg3</text>\n",
       "</g>\n",
       "</g>\n",
       "</svg>\n"
      ],
      "text/plain": [
       "<graphviz.graphs.Digraph at 0x7fea6f16ab20>"
      ]
     },
     "execution_count": 54,
     "metadata": {},
     "output_type": "execute_result"
    }
   ],
   "source": [
    "g"
   ]
  },
  {
   "cell_type": "code",
   "execution_count": 33,
   "id": "109de4c6",
   "metadata": {},
   "outputs": [
    {
     "data": {
      "image/svg+xml": [
       "<?xml version=\"1.0\" encoding=\"UTF-8\" standalone=\"no\"?>\n",
       "<!DOCTYPE svg PUBLIC \"-//W3C//DTD SVG 1.1//EN\"\n",
       " \"http://www.w3.org/Graphics/SVG/1.1/DTD/svg11.dtd\">\n",
       "<!-- Generated by graphviz version 2.40.1 (20161225.0304)\n",
       " -->\n",
       "<!-- Title: %3 Pages: 1 -->\n",
       "<svg width=\"69pt\" height=\"116pt\"\n",
       " viewBox=\"0.00 0.00 69.48 116.00\" xmlns=\"http://www.w3.org/2000/svg\" xmlns:xlink=\"http://www.w3.org/1999/xlink\">\n",
       "<g id=\"graph0\" class=\"graph\" transform=\"scale(1 1) rotate(0) translate(4 112)\">\n",
       "<title>%3</title>\n",
       "<polygon fill=\"#ffffff\" stroke=\"transparent\" points=\"-4,4 -4,-112 65.4774,-112 65.4774,4 -4,4\"/>\n",
       "<!-- hello -->\n",
       "<g id=\"node1\" class=\"node\">\n",
       "<title>hello</title>\n",
       "<ellipse fill=\"none\" stroke=\"#000000\" cx=\"30.7387\" cy=\"-90\" rx=\"27.5804\" ry=\"18\"/>\n",
       "<text text-anchor=\"middle\" x=\"30.7387\" y=\"-85.8\" font-family=\"Times,serif\" font-size=\"14.00\" fill=\"#000000\">hello</text>\n",
       "</g>\n",
       "<!-- world -->\n",
       "<g id=\"node2\" class=\"node\">\n",
       "<title>world</title>\n",
       "<ellipse fill=\"none\" stroke=\"#000000\" cx=\"30.7387\" cy=\"-18\" rx=\"30.9793\" ry=\"18\"/>\n",
       "<text text-anchor=\"middle\" x=\"30.7387\" y=\"-13.8\" font-family=\"Times,serif\" font-size=\"14.00\" fill=\"#000000\">world</text>\n",
       "</g>\n",
       "<!-- hello&#45;&gt;world -->\n",
       "<g id=\"edge1\" class=\"edge\">\n",
       "<title>hello&#45;&gt;world</title>\n",
       "<path fill=\"none\" stroke=\"#0000ff\" d=\"M30.7387,-71.8314C30.7387,-64.131 30.7387,-54.9743 30.7387,-46.4166\"/>\n",
       "<polygon fill=\"#0000ff\" stroke=\"#0000ff\" points=\"34.2388,-46.4132 30.7387,-36.4133 27.2388,-46.4133 34.2388,-46.4132\"/>\n",
       "</g>\n",
       "</g>\n",
       "</svg>\n"
      ],
      "text/plain": [
       "<graphviz.graphs.Digraph at 0x7fe1b4f8cf10>"
      ]
     },
     "execution_count": 33,
     "metadata": {},
     "output_type": "execute_result"
    }
   ],
   "source": [
    "graph"
   ]
  },
  {
   "cell_type": "code",
   "execution_count": 28,
   "id": "2194a057",
   "metadata": {},
   "outputs": [
    {
     "data": {
      "image/svg+xml": [
       "<?xml version=\"1.0\" encoding=\"UTF-8\" standalone=\"no\"?>\n",
       "<!DOCTYPE svg PUBLIC \"-//W3C//DTD SVG 1.1//EN\"\n",
       " \"http://www.w3.org/Graphics/SVG/1.1/DTD/svg11.dtd\">\n",
       "<!-- Generated by graphviz version 2.40.1 (20161225.0304)\n",
       " -->\n",
       "<!-- Title: %3 Pages: 1 -->\n",
       "<svg width=\"69pt\" height=\"116pt\"\n",
       " viewBox=\"0.00 0.00 69.48 116.00\" xmlns=\"http://www.w3.org/2000/svg\" xmlns:xlink=\"http://www.w3.org/1999/xlink\">\n",
       "<g id=\"graph0\" class=\"graph\" transform=\"scale(1 1) rotate(0) translate(4 112)\">\n",
       "<title>%3</title>\n",
       "<polygon fill=\"#ffffff\" stroke=\"transparent\" points=\"-4,4 -4,-112 65.4774,-112 65.4774,4 -4,4\"/>\n",
       "<!-- hello -->\n",
       "<g id=\"node1\" class=\"node\">\n",
       "<title>hello</title>\n",
       "<ellipse fill=\"#d3d3d3\" stroke=\"#000000\" cx=\"30.7387\" cy=\"-90\" rx=\"27.5804\" ry=\"18\"/>\n",
       "<text text-anchor=\"middle\" x=\"30.7387\" y=\"-85.8\" font-family=\"Times,serif\" font-size=\"14.00\" fill=\"#000000\">hello</text>\n",
       "</g>\n",
       "<!-- world -->\n",
       "<g id=\"node2\" class=\"node\">\n",
       "<title>world</title>\n",
       "<ellipse fill=\"#d3d3d3\" stroke=\"#000000\" cx=\"30.7387\" cy=\"-18\" rx=\"30.9793\" ry=\"18\"/>\n",
       "<text text-anchor=\"middle\" x=\"30.7387\" y=\"-13.8\" font-family=\"Times,serif\" font-size=\"14.00\" fill=\"#000000\">world</text>\n",
       "</g>\n",
       "<!-- hello&#45;&gt;world -->\n",
       "<g id=\"edge1\" class=\"edge\">\n",
       "<title>hello&#45;&gt;world</title>\n",
       "<path fill=\"none\" stroke=\"#000000\" d=\"M30.7387,-71.8314C30.7387,-64.131 30.7387,-54.9743 30.7387,-46.4166\"/>\n",
       "<polygon fill=\"#000000\" stroke=\"#000000\" points=\"34.2388,-46.4132 30.7387,-36.4133 27.2388,-46.4133 34.2388,-46.4132\"/>\n",
       "</g>\n",
       "</g>\n",
       "</svg>\n"
      ],
      "text/plain": [
       "<graphviz.graphs.Digraph at 0x7fe1b4f8c9d0>"
      ]
     },
     "execution_count": 28,
     "metadata": {},
     "output_type": "execute_result"
    }
   ],
   "source": [
    "graph.attr(color='blue')\n",
    "graph.node_attr['style'] = 'filled'\n",
    "graph"
   ]
  },
  {
   "cell_type": "code",
   "execution_count": 143,
   "id": "0f0b9eb6",
   "metadata": {},
   "outputs": [],
   "source": [
    "a = ['a']"
   ]
  },
  {
   "cell_type": "code",
   "execution_count": 144,
   "id": "031ddc92",
   "metadata": {},
   "outputs": [
    {
     "name": "stdout",
     "output_type": "stream",
     "text": [
      "y\n"
     ]
    }
   ],
   "source": [
    "if a:\n",
    "    print(\"y\")"
   ]
  },
  {
   "cell_type": "code",
   "execution_count": 195,
   "id": "78b3f27b",
   "metadata": {},
   "outputs": [],
   "source": [
    "x = {'a','b'}"
   ]
  },
  {
   "cell_type": "code",
   "execution_count": 196,
   "id": "634e7588",
   "metadata": {},
   "outputs": [
    {
     "data": {
      "text/plain": [
       "{'a', 'b'}"
      ]
     },
     "execution_count": 196,
     "metadata": {},
     "output_type": "execute_result"
    }
   ],
   "source": [
    "x"
   ]
  },
  {
   "cell_type": "code",
   "execution_count": 197,
   "id": "214b5258",
   "metadata": {},
   "outputs": [],
   "source": [
    "x.add('a')"
   ]
  },
  {
   "cell_type": "code",
   "execution_count": 198,
   "id": "16d65fd4",
   "metadata": {},
   "outputs": [
    {
     "data": {
      "text/plain": [
       "{'a', 'b'}"
      ]
     },
     "execution_count": 198,
     "metadata": {},
     "output_type": "execute_result"
    }
   ],
   "source": [
    "x"
   ]
  },
  {
   "cell_type": "code",
   "execution_count": 200,
   "id": "59d69019",
   "metadata": {},
   "outputs": [
    {
     "name": "stdout",
     "output_type": "stream",
     "text": [
      "a\n",
      "b\n"
     ]
    }
   ],
   "source": [
    "for z in x:\n",
    "    print(z)"
   ]
  },
  {
   "cell_type": "code",
   "execution_count": 201,
   "id": "519655e0",
   "metadata": {},
   "outputs": [
    {
     "data": {
      "text/plain": [
       "2"
      ]
     },
     "execution_count": 201,
     "metadata": {},
     "output_type": "execute_result"
    }
   ],
   "source": [
    "len(x)"
   ]
  },
  {
   "cell_type": "code",
   "execution_count": 202,
   "id": "5438a809",
   "metadata": {},
   "outputs": [
    {
     "data": {
      "text/plain": [
       "{'a', 'b'}"
      ]
     },
     "execution_count": 202,
     "metadata": {},
     "output_type": "execute_result"
    }
   ],
   "source": [
    "x"
   ]
  },
  {
   "cell_type": "code",
   "execution_count": 204,
   "id": "0ecba944",
   "metadata": {},
   "outputs": [],
   "source": [
    "x.remove('a')"
   ]
  },
  {
   "cell_type": "code",
   "execution_count": 205,
   "id": "0caa397a",
   "metadata": {},
   "outputs": [
    {
     "data": {
      "text/plain": [
       "{'b'}"
      ]
     },
     "execution_count": 205,
     "metadata": {},
     "output_type": "execute_result"
    }
   ],
   "source": [
    "x"
   ]
  },
  {
   "cell_type": "code",
   "execution_count": 215,
   "id": "fed90e13",
   "metadata": {},
   "outputs": [],
   "source": [
    "x = set()"
   ]
  },
  {
   "cell_type": "code",
   "execution_count": 216,
   "id": "ddd8cf09",
   "metadata": {},
   "outputs": [
    {
     "data": {
      "text/plain": [
       "set()"
      ]
     },
     "execution_count": 216,
     "metadata": {},
     "output_type": "execute_result"
    }
   ],
   "source": [
    "x"
   ]
  },
  {
   "cell_type": "code",
   "execution_count": 217,
   "id": "b09f6ce6",
   "metadata": {},
   "outputs": [],
   "source": [
    "if x:\n",
    "    print(\"y\")"
   ]
  },
  {
   "cell_type": "code",
   "execution_count": 218,
   "id": "0d4d7efc",
   "metadata": {},
   "outputs": [
    {
     "data": {
      "text/plain": [
       "0"
      ]
     },
     "execution_count": 218,
     "metadata": {},
     "output_type": "execute_result"
    }
   ],
   "source": [
    "len(x)"
   ]
  },
  {
   "cell_type": "code",
   "execution_count": 224,
   "id": "2a25c3cc",
   "metadata": {},
   "outputs": [],
   "source": [
    "x.add('a')"
   ]
  },
  {
   "cell_type": "code",
   "execution_count": 229,
   "id": "c016cc85",
   "metadata": {},
   "outputs": [
    {
     "data": {
      "text/plain": [
       "set()"
      ]
     },
     "execution_count": 229,
     "metadata": {},
     "output_type": "execute_result"
    }
   ],
   "source": [
    "x"
   ]
  },
  {
   "cell_type": "code",
   "execution_count": 226,
   "id": "601f03f9",
   "metadata": {},
   "outputs": [
    {
     "data": {
      "text/plain": [
       "'a'"
      ]
     },
     "execution_count": 226,
     "metadata": {},
     "output_type": "execute_result"
    }
   ],
   "source": [
    "x.pop()"
   ]
  },
  {
   "cell_type": "code",
   "execution_count": null,
   "id": "c808eb7a",
   "metadata": {},
   "outputs": [],
   "source": []
  },
  {
   "cell_type": "code",
   "execution_count": 227,
   "id": "9da793f4",
   "metadata": {},
   "outputs": [
    {
     "data": {
      "text/plain": [
       "set()"
      ]
     },
     "execution_count": 227,
     "metadata": {},
     "output_type": "execute_result"
    }
   ],
   "source": []
  },
  {
   "cell_type": "code",
   "execution_count": null,
   "id": "4e3d2ffd",
   "metadata": {},
   "outputs": [],
   "source": []
  }
 ],
 "metadata": {
  "kernelspec": {
   "display_name": "Python 3 (ipykernel)",
   "language": "python",
   "name": "python3"
  },
  "language_info": {
   "codemirror_mode": {
    "name": "ipython",
    "version": 3
   },
   "file_extension": ".py",
   "mimetype": "text/x-python",
   "name": "python",
   "nbconvert_exporter": "python",
   "pygments_lexer": "ipython3",
   "version": "3.9.7"
  }
 },
 "nbformat": 4,
 "nbformat_minor": 5
}
