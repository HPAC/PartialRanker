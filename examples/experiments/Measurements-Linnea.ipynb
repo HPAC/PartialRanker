{
 "cells": [
  {
   "cell_type": "code",
   "execution_count": 3,
   "id": "495ce081",
   "metadata": {},
   "outputs": [],
   "source": [
    "from algorithm_ranking import MeasurementsVisualizer, MeasurementsManager, RankVariantsSort2\n",
    "from am4pa.linnea import LinneaConfig, MeasurementsLinnea"
   ]
  },
  {
   "cell_type": "code",
   "execution_count": 16,
   "id": "2c912274",
   "metadata": {},
   "outputs": [],
   "source": [
    "linnea_config = LinneaConfig(\"MatrixChain4\",4)\n",
    "linnea_config.set_local_directory(\"../linnea/matrix-chain-4/\")\n",
    "linnea_config.setup_backend_details(server=\"login18-1.hpc.itc.rwth-aachen.de\",\n",
    "                                   uname = \"as641651\",\n",
    "                                   init_script=\"~/.analyzer\",\n",
    "                                   backend_dir=\"~/PhD/va4algs-exps/matrix-chain-4/\")\n"
   ]
  },
  {
   "cell_type": "code",
   "execution_count": 17,
   "id": "b038be00",
   "metadata": {},
   "outputs": [],
   "source": [
    "linnea_config.connect_backend()"
   ]
  },
  {
   "cell_type": "code",
   "execution_count": 18,
   "id": "cc65980e",
   "metadata": {},
   "outputs": [
    {
     "data": {
      "text/plain": [
       "True"
      ]
     },
     "execution_count": 18,
     "metadata": {},
     "output_type": "execute_result"
    }
   ],
   "source": [
    "linnea_config.check_backend_folder_sync()"
   ]
  },
  {
   "cell_type": "code",
   "execution_count": 19,
   "id": "9f72b361",
   "metadata": {},
   "outputs": [],
   "source": [
    "op_sizes = [\"1000\",\"1000\",\"1000\",\"1000\",\"1000\"]\n",
    "ms = MeasurementsLinnea(linnea_config,op_sizes)"
   ]
  },
  {
   "cell_type": "code",
   "execution_count": 20,
   "id": "89a9f75c",
   "metadata": {},
   "outputs": [
    {
     "name": "stdout",
     "output_type": "stream",
     "text": [
      "source ~/.analyzer; cd ~/PhD/va4algs-exps/matrix-chain-4; python generate-variants-linnea.py 1000 1000 1000 1000 1000 --threads=4\n",
      "['New solution:................6e+09\\n', 'No further generation steps possible.\\n', '----------------------------------\\n', 'Number of nodes:                 8\\n', 'Solution nodes:                  1\\n', 'Data:                        5e+06\\n', 'Best solution:               6e+09\\n', 'Intensity:                 1.2e+03\\n', 'Number of algorithms:            6\\n', 'Generated Variants.\\n']\n",
      "\u001b[92mSuccess: Backend interactive run: Generate variants\u001b[0m\n"
     ]
    }
   ],
   "source": [
    "ms.generate_variants()"
   ]
  },
  {
   "cell_type": "code",
   "execution_count": 21,
   "id": "33865d41",
   "metadata": {},
   "outputs": [
    {
     "name": "stdout",
     "output_type": "stream",
     "text": [
      "scp as641651@login18-1.hpc.itc.rwth-aachen.de:~/PhD/va4algs-exps/matrix-chain-4/experiments/1000_1000_1000_1000_1000/case_table.csv ../linnea/matrix-chain-4/cluster-data/1000_1000_1000_1000_1000\n",
      "b''\n"
     ]
    },
    {
     "data": {
      "text/plain": [
       "['algorithm0',\n",
       " 'algorithm2',\n",
       " 'algorithm4',\n",
       " 'algorithm1',\n",
       " 'algorithm5',\n",
       " 'algorithm3']"
      ]
     },
     "execution_count": 21,
     "metadata": {},
     "output_type": "execute_result"
    }
   ],
   "source": [
    "ms.gather_competing_variants()"
   ]
  },
  {
   "cell_type": "code",
   "execution_count": 22,
   "id": "67edfaf8",
   "metadata": {},
   "outputs": [
    {
     "name": "stdout",
     "output_type": "stream",
     "text": [
      "source ~/.analyzer; cd ~/PhD/va4algs-exps/matrix-chain-4/experiments/1000_1000_1000_1000_1000; python generate-measurements-script.py --algs algorithm0 algorithm2 algorithm4 algorithm1 algorithm5 algorithm3 --rep 30 --threads 4 --id 1\n",
      "[]\n",
      "\u001b[92mSuccess: Backend interactive run: Generate Measurement script 1\u001b[0m\n",
      "Running Measurements Backend batch\n",
      "source ~/.analyzer; cd ~/PhD/va4algs-exps/matrix-chain-4/experiments/1000_1000_1000_1000_1000; sbatch submit.sh julia 'runner_competing_1.jl '\n",
      "['Submitted batch job 31421861\\n']\n",
      "\u001b[92mSuccess: Backend batch run: Measurements from runner_competing_1.jl\u001b[0m\n"
     ]
    }
   ],
   "source": [
    "ms.measure(30,1,bSlrum=True)"
   ]
  },
  {
   "cell_type": "code",
   "execution_count": 25,
   "id": "b2ec1112",
   "metadata": {},
   "outputs": [
    {
     "name": "stdout",
     "output_type": "stream",
     "text": [
      "['             JOBID PARTITION                           NAME     USER    STATE       TIME TIME_LIMI  NODES NODELIST(REASON)\\n']\n"
     ]
    },
    {
     "data": {
      "text/plain": [
       "0"
      ]
     },
     "execution_count": 25,
     "metadata": {},
     "output_type": "execute_result"
    }
   ],
   "source": [
    "linnea_config.bm.check_slrum_status(ms.runner.job_name)"
   ]
  },
  {
   "cell_type": "code",
   "execution_count": 26,
   "id": "ac98f28e",
   "metadata": {},
   "outputs": [
    {
     "name": "stdout",
     "output_type": "stream",
     "text": [
      "scp as641651@login18-1.hpc.itc.rwth-aachen.de:~/PhD/va4algs-exps/matrix-chain-4/experiments/1000_1000_1000_1000_1000/run_times_competing_1.csv ../linnea/matrix-chain-4/cluster-data/1000_1000_1000_1000_1000\n",
      "b''\n"
     ]
    }
   ],
   "source": [
    "ms.collect_measurements(1)"
   ]
  },
  {
   "cell_type": "code",
   "execution_count": 28,
   "id": "b5c1490e",
   "metadata": {},
   "outputs": [],
   "source": [
    "#ms.get_alg_measurements()"
   ]
  },
  {
   "cell_type": "code",
   "execution_count": 31,
   "id": "8b803d93",
   "metadata": {},
   "outputs": [],
   "source": [
    "ms.h0.sort()"
   ]
  },
  {
   "cell_type": "code",
   "execution_count": 32,
   "id": "9e2d7b7c",
   "metadata": {},
   "outputs": [
    {
     "data": {
      "text/plain": [
       "['algorithm0',\n",
       " 'algorithm1',\n",
       " 'algorithm2',\n",
       " 'algorithm3',\n",
       " 'algorithm4',\n",
       " 'algorithm5']"
      ]
     },
     "execution_count": 32,
     "metadata": {},
     "output_type": "execute_result"
    }
   ],
   "source": [
    "ms.h0"
   ]
  },
  {
   "cell_type": "code",
   "execution_count": 37,
   "id": "0bf00275",
   "metadata": {},
   "outputs": [
    {
     "data": {
      "image/png": "[encoded data removed]",
      "text/plain": [
       "<Figure size 720x648 with 1 Axes>"
      ]
     },
     "metadata": {
      "needs_background": "light"
     },
     "output_type": "display_data"
    }
   ],
   "source": [
    "mv = MeasurementsVisualizer(ms.get_alg_measurements(), ms.h0)\n",
    "fig = mv.show_measurements_boxplots()"
   ]
  },
  {
   "cell_type": "code",
   "execution_count": 38,
   "id": "cd435d13",
   "metadata": {},
   "outputs": [],
   "source": [
    "rv = RankVariantsSort2(ms.get_alg_measurements(), ms.h0)"
   ]
  },
  {
   "cell_type": "code",
   "execution_count": 39,
   "id": "343c501c",
   "metadata": {},
   "outputs": [
    {
     "name": "stdout",
     "output_type": "stream",
     "text": [
      "['algorithm0', 'algorithm1', 'algorithm2', 'algorithm3', 'algorithm4', 'algorithm5']\n",
      "[0 1 2 3 4 5]\n",
      "\n",
      "\n",
      "compare algorithm0 and algorithm1\n",
      "['algorithm0', 'algorithm1', 'algorithm2', 'algorithm3', 'algorithm4', 'algorithm5']\n",
      "[0 0 1 2 3 4]\n",
      "\n",
      "\n",
      "compare algorithm2 and algorithm1\n",
      "['algorithm0', 'algorithm2', 'algorithm1', 'algorithm3', 'algorithm4', 'algorithm5']\n",
      "[0 0 1 2 3 4]\n",
      "\n",
      "\n",
      "compare algorithm1 and algorithm3\n",
      "['algorithm0', 'algorithm2', 'algorithm1', 'algorithm3', 'algorithm4', 'algorithm5']\n",
      "[0 0 1 1 2 3]\n",
      "\n",
      "\n",
      "compare algorithm3 and algorithm4\n",
      "['algorithm0', 'algorithm2', 'algorithm1', 'algorithm3', 'algorithm4', 'algorithm5']\n",
      "[0 0 1 1 1 2]\n",
      "\n",
      "\n",
      "compare algorithm4 and algorithm5\n",
      "['algorithm0', 'algorithm2', 'algorithm1', 'algorithm3', 'algorithm4', 'algorithm5']\n",
      "[0 0 1 1 1 1]\n",
      "\n",
      "\n",
      "compare algorithm0 and algorithm2\n",
      "['algorithm0', 'algorithm2', 'algorithm1', 'algorithm3', 'algorithm4', 'algorithm5']\n",
      "[0 0 1 1 1 1]\n",
      "\n",
      "\n",
      "compare algorithm2 and algorithm1\n",
      "['algorithm0', 'algorithm2', 'algorithm1', 'algorithm3', 'algorithm4', 'algorithm5']\n",
      "[0 0 1 1 1 1]\n",
      "\n",
      "\n",
      "compare algorithm1 and algorithm3\n",
      "['algorithm0', 'algorithm2', 'algorithm1', 'algorithm3', 'algorithm4', 'algorithm5']\n",
      "[0 0 1 1 1 1]\n",
      "\n",
      "\n",
      "compare algorithm3 and algorithm4\n",
      "['algorithm0', 'algorithm2', 'algorithm1', 'algorithm3', 'algorithm4', 'algorithm5']\n",
      "[0 0 1 1 1 1]\n",
      "\n",
      "\n",
      "compare algorithm0 and algorithm2\n",
      "['algorithm0', 'algorithm2', 'algorithm1', 'algorithm3', 'algorithm4', 'algorithm5']\n",
      "[0 0 1 1 1 1]\n",
      "\n",
      "\n",
      "compare algorithm2 and algorithm1\n",
      "['algorithm0', 'algorithm2', 'algorithm1', 'algorithm3', 'algorithm4', 'algorithm5']\n",
      "[0 0 1 1 1 1]\n",
      "\n",
      "\n",
      "compare algorithm1 and algorithm3\n",
      "['algorithm0', 'algorithm2', 'algorithm1', 'algorithm3', 'algorithm4', 'algorithm5']\n",
      "[0 0 1 1 1 1]\n",
      "\n",
      "\n",
      "compare algorithm0 and algorithm2\n",
      "['algorithm0', 'algorithm2', 'algorithm1', 'algorithm3', 'algorithm4', 'algorithm5']\n",
      "[0 0 1 1 1 1]\n",
      "\n",
      "\n",
      "compare algorithm2 and algorithm1\n",
      "['algorithm0', 'algorithm2', 'algorithm1', 'algorithm3', 'algorithm4', 'algorithm5']\n",
      "[0 0 1 1 1 1]\n",
      "\n",
      "\n",
      "compare algorithm0 and algorithm2\n",
      "['algorithm0', 'algorithm2', 'algorithm1', 'algorithm3', 'algorithm4', 'algorithm5']\n",
      "[0 0 1 1 1 1]\n",
      "\n",
      "\n"
     ]
    },
    {
     "data": {
      "text/html": [
       "<div>\n",
       "<style scoped>\n",
       "    .dataframe tbody tr th:only-of-type {\n",
       "        vertical-align: middle;\n",
       "    }\n",
       "\n",
       "    .dataframe tbody tr th {\n",
       "        vertical-align: top;\n",
       "    }\n",
       "\n",
       "    .dataframe thead th {\n",
       "        text-align: right;\n",
       "    }\n",
       "</style>\n",
       "<table border=\"1\" class=\"dataframe\">\n",
       "  <thead>\n",
       "    <tr style=\"text-align: right;\">\n",
       "      <th></th>\n",
       "      <th>case:concept:name</th>\n",
       "      <th>case:rank:q75-q25</th>\n",
       "    </tr>\n",
       "  </thead>\n",
       "  <tbody>\n",
       "    <tr>\n",
       "      <th>0</th>\n",
       "      <td>algorithm0</td>\n",
       "      <td>0</td>\n",
       "    </tr>\n",
       "    <tr>\n",
       "      <th>1</th>\n",
       "      <td>algorithm2</td>\n",
       "      <td>0</td>\n",
       "    </tr>\n",
       "    <tr>\n",
       "      <th>2</th>\n",
       "      <td>algorithm1</td>\n",
       "      <td>1</td>\n",
       "    </tr>\n",
       "    <tr>\n",
       "      <th>3</th>\n",
       "      <td>algorithm3</td>\n",
       "      <td>1</td>\n",
       "    </tr>\n",
       "    <tr>\n",
       "      <th>4</th>\n",
       "      <td>algorithm4</td>\n",
       "      <td>1</td>\n",
       "    </tr>\n",
       "    <tr>\n",
       "      <th>5</th>\n",
       "      <td>algorithm5</td>\n",
       "      <td>1</td>\n",
       "    </tr>\n",
       "  </tbody>\n",
       "</table>\n",
       "</div>"
      ],
      "text/plain": [
       "  case:concept:name  case:rank:q75-q25\n",
       "0        algorithm0                  0\n",
       "1        algorithm2                  0\n",
       "2        algorithm1                  1\n",
       "3        algorithm3                  1\n",
       "4        algorithm4                  1\n",
       "5        algorithm5                  1"
      ]
     },
     "execution_count": 39,
     "metadata": {},
     "output_type": "execute_result"
    }
   ],
   "source": [
    "rv.rank_variants(debug=True)"
   ]
  },
  {
   "cell_type": "code",
   "execution_count": null,
   "id": "d19f1a07",
   "metadata": {},
   "outputs": [],
   "source": []
  }
 ],
 "metadata": {
  "kernelspec": {
   "display_name": "Python 3 (ipykernel)",
   "language": "python",
   "name": "python3"
  },
  "language_info": {
   "codemirror_mode": {
    "name": "ipython",
    "version": 3
   },
   "file_extension": ".py",
   "mimetype": "text/x-python",
   "name": "python",
   "nbconvert_exporter": "python",
   "pygments_lexer": "ipython3",
   "version": "3.9.7"
  }
 },
 "nbformat": 4,
 "nbformat_minor": 5
}
