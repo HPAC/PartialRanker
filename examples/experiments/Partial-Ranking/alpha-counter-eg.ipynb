{
 "cells": [
  {
   "cell_type": "code",
   "execution_count": 1,
   "id": "9c9752fd",
   "metadata": {},
   "outputs": [],
   "source": [
    "from algorithm_ranking import MeasurementsSimulator, MeasurementsVisualizer, RankVariantsSort2, RankVariantsDFGTr"
   ]
  },
  {
   "cell_type": "code",
   "execution_count": 2,
   "id": "66992ff2",
   "metadata": {},
   "outputs": [],
   "source": [
    "import pandas as pd\n",
    "import numpy as np"
   ]
  },
  {
   "cell_type": "code",
   "execution_count": 44,
   "id": "62d76cdd",
   "metadata": {},
   "outputs": [],
   "source": [
    "cfg = {}\n",
    "cfg['t0']  = [0.2,0.01] #[mean, std]\n",
    "cfg['t1']  = [0.2,0.01]\n",
    "cfg['t2']  = [0.23,0.05]\n",
    "cfg['t3']  = [0.24,0.01]\n",
    "cfg['t4']  = [0.24,0.01]\n",
    "h0 = list(cfg.keys())"
   ]
  },
  {
   "cell_type": "code",
   "execution_count": 45,
   "id": "031425e2",
   "metadata": {},
   "outputs": [],
   "source": [
    "ms = MeasurementsSimulator(cfg, 'normal',seed=1459) \n",
    "ms.measure(20,1)"
   ]
  },
  {
   "cell_type": "code",
   "execution_count": 46,
   "id": "e7a7ebdc",
   "metadata": {},
   "outputs": [
    {
     "data": {
      "image/png": "[encoded data removed]",
      "text/plain": [
       "<Figure size 720x540 with 1 Axes>"
      ]
     },
     "metadata": {
      "needs_background": "light"
     },
     "output_type": "display_data"
    }
   ],
   "source": [
    "mv = MeasurementsVisualizer(ms.get_alg_measurements(), h0)\n",
    "fig = mv.show_measurements_boxplots(tick_size=18)"
   ]
  },
  {
   "cell_type": "code",
   "execution_count": 47,
   "id": "0bedb69c",
   "metadata": {},
   "outputs": [],
   "source": [
    "#fig.savefig(\"counter-1.pdf\", format=\"pdf\", bbox_inches=\"tight\")"
   ]
  },
  {
   "cell_type": "code",
   "execution_count": 48,
   "id": "9a2a57e7",
   "metadata": {},
   "outputs": [],
   "source": [
    "#h0 = ['t0','t1','t2','t3','t4']\n",
    "h0 = ['t0','t1','t3','t4','t2']\n",
    "\n",
    "rv = RankVariantsSort2(ms.get_alg_measurements(), h0)"
   ]
  },
  {
   "cell_type": "code",
   "execution_count": 49,
   "id": "45597540",
   "metadata": {},
   "outputs": [],
   "source": [
    "q_maxs=[75, 70, 65, 60]\n",
    "q_mins=[25, 30, 35, 40]\n",
    "\n",
    "df_r, qlims, avg_rels, rels = rv.rank_variants_reliable(q_maxs=q_maxs, q_mins=q_mins)"
   ]
  },
  {
   "cell_type": "code",
   "execution_count": 50,
   "id": "31918bfa",
   "metadata": {},
   "outputs": [
    {
     "data": {
      "text/html": [
       "<div>\n",
       "<style scoped>\n",
       "    .dataframe tbody tr th:only-of-type {\n",
       "        vertical-align: middle;\n",
       "    }\n",
       "\n",
       "    .dataframe tbody tr th {\n",
       "        vertical-align: top;\n",
       "    }\n",
       "\n",
       "    .dataframe thead th {\n",
       "        text-align: right;\n",
       "    }\n",
       "</style>\n",
       "<table border=\"1\" class=\"dataframe\">\n",
       "  <thead>\n",
       "    <tr style=\"text-align: right;\">\n",
       "      <th></th>\n",
       "      <th>case:concept:name</th>\n",
       "      <th>case:mean-rank</th>\n",
       "      <th>case:rank:q75-q25</th>\n",
       "      <th>case:rank:q70-q30</th>\n",
       "      <th>case:rank:q65-q35</th>\n",
       "    </tr>\n",
       "  </thead>\n",
       "  <tbody>\n",
       "    <tr>\n",
       "      <th>0</th>\n",
       "      <td>t0</td>\n",
       "      <td>0.00</td>\n",
       "      <td>0</td>\n",
       "      <td>0</td>\n",
       "      <td>0</td>\n",
       "    </tr>\n",
       "    <tr>\n",
       "      <th>1</th>\n",
       "      <td>t1</td>\n",
       "      <td>0.00</td>\n",
       "      <td>0</td>\n",
       "      <td>0</td>\n",
       "      <td>0</td>\n",
       "    </tr>\n",
       "    <tr>\n",
       "      <th>2</th>\n",
       "      <td>t3</td>\n",
       "      <td>1.25</td>\n",
       "      <td>1</td>\n",
       "      <td>1</td>\n",
       "      <td>1</td>\n",
       "    </tr>\n",
       "    <tr>\n",
       "      <th>3</th>\n",
       "      <td>t4</td>\n",
       "      <td>1.00</td>\n",
       "      <td>1</td>\n",
       "      <td>1</td>\n",
       "      <td>1</td>\n",
       "    </tr>\n",
       "    <tr>\n",
       "      <th>4</th>\n",
       "      <td>t2</td>\n",
       "      <td>1.25</td>\n",
       "      <td>1</td>\n",
       "      <td>1</td>\n",
       "      <td>1</td>\n",
       "    </tr>\n",
       "  </tbody>\n",
       "</table>\n",
       "</div>"
      ],
      "text/plain": [
       "  case:concept:name  case:mean-rank  case:rank:q75-q25  case:rank:q70-q30  \\\n",
       "0                t0            0.00                  0                  0   \n",
       "1                t1            0.00                  0                  0   \n",
       "2                t3            1.25                  1                  1   \n",
       "3                t4            1.00                  1                  1   \n",
       "4                t2            1.25                  1                  1   \n",
       "\n",
       "   case:rank:q65-q35  \n",
       "0                  0  \n",
       "1                  0  \n",
       "2                  1  \n",
       "3                  1  \n",
       "4                  1  "
      ]
     },
     "execution_count": 50,
     "metadata": {},
     "output_type": "execute_result"
    }
   ],
   "source": [
    "df_r[['case:concept:name', 'case:mean-rank']+qlims]"
   ]
  },
  {
   "cell_type": "code",
   "execution_count": 51,
   "id": "5f34606f",
   "metadata": {},
   "outputs": [
    {
     "data": {
      "text/html": [
       "<div>\n",
       "<style scoped>\n",
       "    .dataframe tbody tr th:only-of-type {\n",
       "        vertical-align: middle;\n",
       "    }\n",
       "\n",
       "    .dataframe tbody tr th {\n",
       "        vertical-align: top;\n",
       "    }\n",
       "\n",
       "    .dataframe thead th {\n",
       "        text-align: right;\n",
       "    }\n",
       "</style>\n",
       "<table border=\"1\" class=\"dataframe\">\n",
       "  <thead>\n",
       "    <tr style=\"text-align: right;\">\n",
       "      <th></th>\n",
       "      <th>case:concept:name</th>\n",
       "      <th>case:rank:q75-q25</th>\n",
       "    </tr>\n",
       "  </thead>\n",
       "  <tbody>\n",
       "    <tr>\n",
       "      <th>0</th>\n",
       "      <td>t0</td>\n",
       "      <td>0</td>\n",
       "    </tr>\n",
       "    <tr>\n",
       "      <th>1</th>\n",
       "      <td>t1</td>\n",
       "      <td>0</td>\n",
       "    </tr>\n",
       "    <tr>\n",
       "      <th>2</th>\n",
       "      <td>t3</td>\n",
       "      <td>1</td>\n",
       "    </tr>\n",
       "    <tr>\n",
       "      <th>3</th>\n",
       "      <td>t4</td>\n",
       "      <td>1</td>\n",
       "    </tr>\n",
       "    <tr>\n",
       "      <th>4</th>\n",
       "      <td>t2</td>\n",
       "      <td>1</td>\n",
       "    </tr>\n",
       "  </tbody>\n",
       "</table>\n",
       "</div>"
      ],
      "text/plain": [
       "  case:concept:name  case:rank:q75-q25\n",
       "0                t0                  0\n",
       "1                t1                  0\n",
       "2                t3                  1\n",
       "3                t4                  1\n",
       "4                t2                  1"
      ]
     },
     "execution_count": 51,
     "metadata": {},
     "output_type": "execute_result"
    }
   ],
   "source": [
    "rv.rank_variants()"
   ]
  },
  {
   "cell_type": "code",
   "execution_count": 52,
   "id": "b472c876",
   "metadata": {},
   "outputs": [
    {
     "data": {
      "text/plain": [
       "{'case:rank:q75-q25': -0.1,\n",
       " 'case:rank:q70-q30': -0.1,\n",
       " 'case:rank:q65-q35': -0.1,\n",
       " 'case:rank:q60-q40': -0.3}"
      ]
     },
     "execution_count": 52,
     "metadata": {},
     "output_type": "execute_result"
    }
   ],
   "source": [
    "avg_rels"
   ]
  },
  {
   "cell_type": "code",
   "execution_count": 53,
   "id": "3989b5a5",
   "metadata": {},
   "outputs": [],
   "source": [
    "rvDFG = RankVariantsDFGTr(ms.get_alg_measurements(), h0)"
   ]
  },
  {
   "cell_type": "code",
   "execution_count": 54,
   "id": "c2dd1081",
   "metadata": {},
   "outputs": [
    {
     "data": {
      "text/html": [
       "<div>\n",
       "<style scoped>\n",
       "    .dataframe tbody tr th:only-of-type {\n",
       "        vertical-align: middle;\n",
       "    }\n",
       "\n",
       "    .dataframe tbody tr th {\n",
       "        vertical-align: top;\n",
       "    }\n",
       "\n",
       "    .dataframe thead th {\n",
       "        text-align: right;\n",
       "    }\n",
       "</style>\n",
       "<table border=\"1\" class=\"dataframe\">\n",
       "  <thead>\n",
       "    <tr style=\"text-align: right;\">\n",
       "      <th></th>\n",
       "      <th>case:concept:name</th>\n",
       "      <th>case:rank:q75-q25</th>\n",
       "    </tr>\n",
       "  </thead>\n",
       "  <tbody>\n",
       "    <tr>\n",
       "      <th>0</th>\n",
       "      <td>t0</td>\n",
       "      <td>0</td>\n",
       "    </tr>\n",
       "    <tr>\n",
       "      <th>1</th>\n",
       "      <td>t1</td>\n",
       "      <td>0</td>\n",
       "    </tr>\n",
       "    <tr>\n",
       "      <th>2</th>\n",
       "      <td>t2</td>\n",
       "      <td>0</td>\n",
       "    </tr>\n",
       "    <tr>\n",
       "      <th>3</th>\n",
       "      <td>t3</td>\n",
       "      <td>1</td>\n",
       "    </tr>\n",
       "    <tr>\n",
       "      <th>4</th>\n",
       "      <td>t4</td>\n",
       "      <td>1</td>\n",
       "    </tr>\n",
       "  </tbody>\n",
       "</table>\n",
       "</div>"
      ],
      "text/plain": [
       "  case:concept:name  case:rank:q75-q25\n",
       "0                t0                  0\n",
       "1                t1                  0\n",
       "2                t2                  0\n",
       "3                t3                  1\n",
       "4                t4                  1"
      ]
     },
     "execution_count": 54,
     "metadata": {},
     "output_type": "execute_result"
    }
   ],
   "source": [
    "rvDFG.rank_variants()"
   ]
  },
  {
   "cell_type": "code",
   "execution_count": 55,
   "id": "f4c02d61",
   "metadata": {},
   "outputs": [],
   "source": [
    "q_maxs=[75, 70, 65, 60]\n",
    "q_mins=[25, 30, 35, 40]\n",
    "\n",
    "df_r, qlims, avg_rels, rels = rvDFG.rank_variants_reliable(q_maxs=q_maxs, q_mins=q_mins)"
   ]
  },
  {
   "cell_type": "code",
   "execution_count": 56,
   "id": "f83cf906",
   "metadata": {},
   "outputs": [
    {
     "data": {
      "text/html": [
       "<div>\n",
       "<style scoped>\n",
       "    .dataframe tbody tr th:only-of-type {\n",
       "        vertical-align: middle;\n",
       "    }\n",
       "\n",
       "    .dataframe tbody tr th {\n",
       "        vertical-align: top;\n",
       "    }\n",
       "\n",
       "    .dataframe thead th {\n",
       "        text-align: right;\n",
       "    }\n",
       "</style>\n",
       "<table border=\"1\" class=\"dataframe\">\n",
       "  <thead>\n",
       "    <tr style=\"text-align: right;\">\n",
       "      <th></th>\n",
       "      <th>case:concept:name</th>\n",
       "      <th>case:mean-rank</th>\n",
       "      <th>case:rank:q75-q25</th>\n",
       "      <th>case:rank:q70-q30</th>\n",
       "      <th>case:rank:q65-q35</th>\n",
       "    </tr>\n",
       "  </thead>\n",
       "  <tbody>\n",
       "    <tr>\n",
       "      <th>0</th>\n",
       "      <td>t0</td>\n",
       "      <td>0.00</td>\n",
       "      <td>0</td>\n",
       "      <td>0</td>\n",
       "      <td>0</td>\n",
       "    </tr>\n",
       "    <tr>\n",
       "      <th>1</th>\n",
       "      <td>t1</td>\n",
       "      <td>0.00</td>\n",
       "      <td>0</td>\n",
       "      <td>0</td>\n",
       "      <td>0</td>\n",
       "    </tr>\n",
       "    <tr>\n",
       "      <th>2</th>\n",
       "      <td>t2</td>\n",
       "      <td>0.50</td>\n",
       "      <td>0</td>\n",
       "      <td>0</td>\n",
       "      <td>1</td>\n",
       "    </tr>\n",
       "    <tr>\n",
       "      <th>3</th>\n",
       "      <td>t3</td>\n",
       "      <td>1.25</td>\n",
       "      <td>1</td>\n",
       "      <td>1</td>\n",
       "      <td>1</td>\n",
       "    </tr>\n",
       "    <tr>\n",
       "      <th>4</th>\n",
       "      <td>t4</td>\n",
       "      <td>1.00</td>\n",
       "      <td>1</td>\n",
       "      <td>1</td>\n",
       "      <td>1</td>\n",
       "    </tr>\n",
       "  </tbody>\n",
       "</table>\n",
       "</div>"
      ],
      "text/plain": [
       "  case:concept:name  case:mean-rank  case:rank:q75-q25  case:rank:q70-q30  \\\n",
       "0                t0            0.00                  0                  0   \n",
       "1                t1            0.00                  0                  0   \n",
       "2                t2            0.50                  0                  0   \n",
       "3                t3            1.25                  1                  1   \n",
       "4                t4            1.00                  1                  1   \n",
       "\n",
       "   case:rank:q65-q35  \n",
       "0                  0  \n",
       "1                  0  \n",
       "2                  1  \n",
       "3                  1  \n",
       "4                  1  "
      ]
     },
     "execution_count": 56,
     "metadata": {},
     "output_type": "execute_result"
    }
   ],
   "source": [
    "df_r[['case:concept:name', 'case:mean-rank']+qlims]"
   ]
  },
  {
   "cell_type": "code",
   "execution_count": 57,
   "id": "aeda74dd",
   "metadata": {},
   "outputs": [
    {
     "data": {
      "text/plain": [
       "{'case:rank:q75-q25': -0.15,\n",
       " 'case:rank:q70-q30': -0.15,\n",
       " 'case:rank:q65-q35': -0.15,\n",
       " 'case:rank:q60-q40': -0.25}"
      ]
     },
     "execution_count": 57,
     "metadata": {},
     "output_type": "execute_result"
    }
   ],
   "source": [
    "avg_rels"
   ]
  },
  {
   "cell_type": "code",
   "execution_count": 58,
   "id": "8cfcb7a7",
   "metadata": {},
   "outputs": [],
   "source": [
    "cfg = {}\n",
    "cfg['t0']  = [0.2,0.04] #[mean, std]\n",
    "cfg['t1']  = [0.21,0.03]\n",
    "cfg['t2']  = [0.22,0.02]\n",
    "cfg['t3']  = [0.235,0.01]\n",
    "cfg['t4']  = [0.245,0.005]\n",
    "h0 = list(cfg.keys())"
   ]
  },
  {
   "cell_type": "code",
   "execution_count": 59,
   "id": "8ac0b7b9",
   "metadata": {},
   "outputs": [],
   "source": [
    "ms = MeasurementsSimulator(cfg, 'normal',seed=1459) \n",
    "ms.measure(20,1)"
   ]
  },
  {
   "cell_type": "code",
   "execution_count": 60,
   "id": "c2264724",
   "metadata": {},
   "outputs": [
    {
     "data": {
      "image/png": "[encoded data removed]",
      "text/plain": [
       "<Figure size 720x540 with 1 Axes>"
      ]
     },
     "metadata": {
      "needs_background": "light"
     },
     "output_type": "display_data"
    }
   ],
   "source": [
    "mv = MeasurementsVisualizer(ms.get_alg_measurements(), h0)\n",
    "fig = mv.show_measurements_boxplots(tick_size=18)"
   ]
  },
  {
   "cell_type": "code",
   "execution_count": 61,
   "id": "a5016f16",
   "metadata": {},
   "outputs": [],
   "source": [
    "#fig.savefig(\"counter-2.pdf\", format=\"pdf\", bbox_inches=\"tight\")"
   ]
  },
  {
   "cell_type": "code",
   "execution_count": 62,
   "id": "7782036b",
   "metadata": {},
   "outputs": [],
   "source": [
    "rv = RankVariantsSort2(ms.get_alg_measurements(), h0)"
   ]
  },
  {
   "cell_type": "code",
   "execution_count": 63,
   "id": "eddd299a",
   "metadata": {},
   "outputs": [],
   "source": [
    "q_maxs=[75, 70, 65, 60]\n",
    "q_mins=[25, 30, 35, 40]\n",
    "\n",
    "df_r, qlims, avg_rels, rels = rv.rank_variants_reliable(q_maxs=q_maxs, q_mins=q_mins)"
   ]
  },
  {
   "cell_type": "code",
   "execution_count": 64,
   "id": "2e6def35",
   "metadata": {},
   "outputs": [
    {
     "data": {
      "text/html": [
       "<div>\n",
       "<style scoped>\n",
       "    .dataframe tbody tr th:only-of-type {\n",
       "        vertical-align: middle;\n",
       "    }\n",
       "\n",
       "    .dataframe tbody tr th {\n",
       "        vertical-align: top;\n",
       "    }\n",
       "\n",
       "    .dataframe thead th {\n",
       "        text-align: right;\n",
       "    }\n",
       "</style>\n",
       "<table border=\"1\" class=\"dataframe\">\n",
       "  <thead>\n",
       "    <tr style=\"text-align: right;\">\n",
       "      <th></th>\n",
       "      <th>case:concept:name</th>\n",
       "      <th>case:mean-rank</th>\n",
       "      <th>case:rank:q65-q35</th>\n",
       "    </tr>\n",
       "  </thead>\n",
       "  <tbody>\n",
       "    <tr>\n",
       "      <th>0</th>\n",
       "      <td>t0</td>\n",
       "      <td>0.00</td>\n",
       "      <td>0</td>\n",
       "    </tr>\n",
       "    <tr>\n",
       "      <th>1</th>\n",
       "      <td>t1</td>\n",
       "      <td>0.00</td>\n",
       "      <td>0</td>\n",
       "    </tr>\n",
       "    <tr>\n",
       "      <th>2</th>\n",
       "      <td>t2</td>\n",
       "      <td>0.50</td>\n",
       "      <td>1</td>\n",
       "    </tr>\n",
       "    <tr>\n",
       "      <th>3</th>\n",
       "      <td>t3</td>\n",
       "      <td>0.75</td>\n",
       "      <td>1</td>\n",
       "    </tr>\n",
       "    <tr>\n",
       "      <th>4</th>\n",
       "      <td>t4</td>\n",
       "      <td>1.25</td>\n",
       "      <td>2</td>\n",
       "    </tr>\n",
       "  </tbody>\n",
       "</table>\n",
       "</div>"
      ],
      "text/plain": [
       "  case:concept:name  case:mean-rank  case:rank:q65-q35\n",
       "0                t0            0.00                  0\n",
       "1                t1            0.00                  0\n",
       "2                t2            0.50                  1\n",
       "3                t3            0.75                  1\n",
       "4                t4            1.25                  2"
      ]
     },
     "execution_count": 64,
     "metadata": {},
     "output_type": "execute_result"
    }
   ],
   "source": [
    "df_r[['case:concept:name', 'case:mean-rank']+qlims]"
   ]
  },
  {
   "cell_type": "code",
   "execution_count": 65,
   "id": "ae057a7f",
   "metadata": {},
   "outputs": [
    {
     "data": {
      "text/html": [
       "<div>\n",
       "<style scoped>\n",
       "    .dataframe tbody tr th:only-of-type {\n",
       "        vertical-align: middle;\n",
       "    }\n",
       "\n",
       "    .dataframe tbody tr th {\n",
       "        vertical-align: top;\n",
       "    }\n",
       "\n",
       "    .dataframe thead th {\n",
       "        text-align: right;\n",
       "    }\n",
       "</style>\n",
       "<table border=\"1\" class=\"dataframe\">\n",
       "  <thead>\n",
       "    <tr style=\"text-align: right;\">\n",
       "      <th></th>\n",
       "      <th>case:concept:name</th>\n",
       "      <th>case:rank:q75-q25</th>\n",
       "    </tr>\n",
       "  </thead>\n",
       "  <tbody>\n",
       "    <tr>\n",
       "      <th>0</th>\n",
       "      <td>t0</td>\n",
       "      <td>0</td>\n",
       "    </tr>\n",
       "    <tr>\n",
       "      <th>1</th>\n",
       "      <td>t1</td>\n",
       "      <td>0</td>\n",
       "    </tr>\n",
       "    <tr>\n",
       "      <th>2</th>\n",
       "      <td>t2</td>\n",
       "      <td>0</td>\n",
       "    </tr>\n",
       "    <tr>\n",
       "      <th>3</th>\n",
       "      <td>t3</td>\n",
       "      <td>0</td>\n",
       "    </tr>\n",
       "    <tr>\n",
       "      <th>4</th>\n",
       "      <td>t4</td>\n",
       "      <td>0</td>\n",
       "    </tr>\n",
       "  </tbody>\n",
       "</table>\n",
       "</div>"
      ],
      "text/plain": [
       "  case:concept:name  case:rank:q75-q25\n",
       "0                t0                  0\n",
       "1                t1                  0\n",
       "2                t2                  0\n",
       "3                t3                  0\n",
       "4                t4                  0"
      ]
     },
     "execution_count": 65,
     "metadata": {},
     "output_type": "execute_result"
    }
   ],
   "source": [
    "rv.rank_variants()"
   ]
  },
  {
   "cell_type": "code",
   "execution_count": 66,
   "id": "226fc674",
   "metadata": {},
   "outputs": [],
   "source": [
    "rvDFG = RankVariantsDFGTr(ms.get_alg_measurements(), h0)"
   ]
  },
  {
   "cell_type": "code",
   "execution_count": 67,
   "id": "ea54a552",
   "metadata": {},
   "outputs": [
    {
     "data": {
      "text/html": [
       "<div>\n",
       "<style scoped>\n",
       "    .dataframe tbody tr th:only-of-type {\n",
       "        vertical-align: middle;\n",
       "    }\n",
       "\n",
       "    .dataframe tbody tr th {\n",
       "        vertical-align: top;\n",
       "    }\n",
       "\n",
       "    .dataframe thead th {\n",
       "        text-align: right;\n",
       "    }\n",
       "</style>\n",
       "<table border=\"1\" class=\"dataframe\">\n",
       "  <thead>\n",
       "    <tr style=\"text-align: right;\">\n",
       "      <th></th>\n",
       "      <th>case:concept:name</th>\n",
       "      <th>case:rank:q75-q25</th>\n",
       "    </tr>\n",
       "  </thead>\n",
       "  <tbody>\n",
       "    <tr>\n",
       "      <th>0</th>\n",
       "      <td>t0</td>\n",
       "      <td>0</td>\n",
       "    </tr>\n",
       "    <tr>\n",
       "      <th>1</th>\n",
       "      <td>t1</td>\n",
       "      <td>0</td>\n",
       "    </tr>\n",
       "    <tr>\n",
       "      <th>2</th>\n",
       "      <td>t2</td>\n",
       "      <td>0</td>\n",
       "    </tr>\n",
       "    <tr>\n",
       "      <th>3</th>\n",
       "      <td>t3</td>\n",
       "      <td>1</td>\n",
       "    </tr>\n",
       "    <tr>\n",
       "      <th>4</th>\n",
       "      <td>t4</td>\n",
       "      <td>1</td>\n",
       "    </tr>\n",
       "  </tbody>\n",
       "</table>\n",
       "</div>"
      ],
      "text/plain": [
       "  case:concept:name  case:rank:q75-q25\n",
       "0                t0                  0\n",
       "1                t1                  0\n",
       "2                t2                  0\n",
       "3                t3                  1\n",
       "4                t4                  1"
      ]
     },
     "execution_count": 67,
     "metadata": {},
     "output_type": "execute_result"
    }
   ],
   "source": [
    "rvDFG.rank_variants()"
   ]
  },
  {
   "cell_type": "code",
   "execution_count": 68,
   "id": "48921796",
   "metadata": {},
   "outputs": [
    {
     "data": {
      "text/html": [
       "<div>\n",
       "<style scoped>\n",
       "    .dataframe tbody tr th:only-of-type {\n",
       "        vertical-align: middle;\n",
       "    }\n",
       "\n",
       "    .dataframe tbody tr th {\n",
       "        vertical-align: top;\n",
       "    }\n",
       "\n",
       "    .dataframe thead th {\n",
       "        text-align: right;\n",
       "    }\n",
       "</style>\n",
       "<table border=\"1\" class=\"dataframe\">\n",
       "  <thead>\n",
       "    <tr style=\"text-align: right;\">\n",
       "      <th></th>\n",
       "      <th>case:concept:name</th>\n",
       "      <th>case:mean-rank</th>\n",
       "      <th>case:rank:q65-q35</th>\n",
       "    </tr>\n",
       "  </thead>\n",
       "  <tbody>\n",
       "    <tr>\n",
       "      <th>0</th>\n",
       "      <td>t0</td>\n",
       "      <td>0.00</td>\n",
       "      <td>0</td>\n",
       "    </tr>\n",
       "    <tr>\n",
       "      <th>1</th>\n",
       "      <td>t1</td>\n",
       "      <td>0.00</td>\n",
       "      <td>0</td>\n",
       "    </tr>\n",
       "    <tr>\n",
       "      <th>2</th>\n",
       "      <td>t2</td>\n",
       "      <td>0.50</td>\n",
       "      <td>1</td>\n",
       "    </tr>\n",
       "    <tr>\n",
       "      <th>3</th>\n",
       "      <td>t3</td>\n",
       "      <td>1.25</td>\n",
       "      <td>1</td>\n",
       "    </tr>\n",
       "    <tr>\n",
       "      <th>4</th>\n",
       "      <td>t4</td>\n",
       "      <td>1.75</td>\n",
       "      <td>2</td>\n",
       "    </tr>\n",
       "  </tbody>\n",
       "</table>\n",
       "</div>"
      ],
      "text/plain": [
       "  case:concept:name  case:mean-rank  case:rank:q65-q35\n",
       "0                t0            0.00                  0\n",
       "1                t1            0.00                  0\n",
       "2                t2            0.50                  1\n",
       "3                t3            1.25                  1\n",
       "4                t4            1.75                  2"
      ]
     },
     "execution_count": 68,
     "metadata": {},
     "output_type": "execute_result"
    }
   ],
   "source": [
    "q_maxs=[75, 70, 65, 60]\n",
    "q_mins=[25, 30, 35, 40]\n",
    "\n",
    "df_r, qlims, avg_rels, rels = rvDFG.rank_variants_reliable(q_maxs=q_maxs, q_mins=q_mins)\n",
    "df_r[['case:concept:name', 'case:mean-rank']+qlims]"
   ]
  },
  {
   "cell_type": "code",
   "execution_count": null,
   "id": "9f5e8ad6",
   "metadata": {},
   "outputs": [],
   "source": []
  }
 ],
 "metadata": {
  "kernelspec": {
   "display_name": "Python 3 (ipykernel)",
   "language": "python",
   "name": "python3"
  },
  "language_info": {
   "codemirror_mode": {
    "name": "ipython",
    "version": 3
   },
   "file_extension": ".py",
   "mimetype": "text/x-python",
   "name": "python",
   "nbconvert_exporter": "python",
   "pygments_lexer": "ipython3",
   "version": "3.9.7"
  }
 },
 "nbformat": 4,
 "nbformat_minor": 5
}
