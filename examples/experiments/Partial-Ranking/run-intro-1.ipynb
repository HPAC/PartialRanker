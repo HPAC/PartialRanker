{
 "cells": [
  {
   "cell_type": "code",
   "execution_count": 1,
   "id": "a207c691",
   "metadata": {},
   "outputs": [],
   "source": [
    "from algorithm_ranking import MeasurementsVisualizer, MeasurementsManager, RankVariantsSort2\n",
    "from am4pa.linnea import LinneaConfig, MeasurementsLinnea"
   ]
  },
  {
   "cell_type": "code",
   "execution_count": 2,
   "id": "e991dbfd",
   "metadata": {},
   "outputs": [],
   "source": [
    "linnea_config = LinneaConfig(\"MatrixChain4\",12)\n",
    "linnea_config.set_local_directory(\"linnea/matrix-chain-4/\")\n",
    "linnea_config.setup_backend_details(server=\"login18-1.hpc.itc.rwth-aachen.de\",\n",
    "                                   uname = \"as641651\",\n",
    "                                   init_script=\"~/.analyzer\",\n",
    "                                   backend_dir=\"~/PhD/PartialRanking/linnea/matrix-chain-4/\")"
   ]
  },
  {
   "cell_type": "code",
   "execution_count": 3,
   "id": "01cb088e",
   "metadata": {},
   "outputs": [],
   "source": [
    "linnea_config.connect_backend()"
   ]
  },
  {
   "cell_type": "code",
   "execution_count": 4,
   "id": "da3fedb7",
   "metadata": {},
   "outputs": [
    {
     "data": {
      "text/plain": [
       "True"
      ]
     },
     "execution_count": 4,
     "metadata": {},
     "output_type": "execute_result"
    }
   ],
   "source": [
    "linnea_config.check_backend_folder_sync()"
   ]
  },
  {
   "cell_type": "code",
   "execution_count": 5,
   "id": "e48d8b72",
   "metadata": {},
   "outputs": [],
   "source": [
    "op_sizes = [\"1000\",\"1000\",\"1000\",\"1000\",\"1000\"]\n",
    "ms = MeasurementsLinnea(linnea_config,op_sizes)\n",
    "bRun = False"
   ]
  },
  {
   "cell_type": "code",
   "execution_count": 6,
   "id": "e3e3a1e0",
   "metadata": {},
   "outputs": [],
   "source": [
    "ms.generate_variants(bGenerate=bRun)"
   ]
  },
  {
   "cell_type": "code",
   "execution_count": 7,
   "id": "9f89823b",
   "metadata": {},
   "outputs": [
    {
     "name": "stdout",
     "output_type": "stream",
     "text": [
      "scp as641651@login18-1.hpc.itc.rwth-aachen.de:~/PhD/PartialRanking/linnea/matrix-chain-4/experiments/1000_1000_1000_1000_1000/case_table.csv linnea/matrix-chain-4/cluster-data/1000_1000_1000_1000_1000\n",
      "b''\n"
     ]
    },
    {
     "data": {
      "text/plain": [
       "['algorithm0',\n",
       " 'algorithm2',\n",
       " 'algorithm4',\n",
       " 'algorithm1',\n",
       " 'algorithm5',\n",
       " 'algorithm3']"
      ]
     },
     "execution_count": 7,
     "metadata": {},
     "output_type": "execute_result"
    }
   ],
   "source": [
    "ms.gather_competing_variants()"
   ]
  },
  {
   "cell_type": "code",
   "execution_count": 8,
   "id": "893fb077",
   "metadata": {},
   "outputs": [],
   "source": [
    "if bRun:\n",
    "    ms.measure(20,1,bSlrum=True)"
   ]
  },
  {
   "cell_type": "code",
   "execution_count": 9,
   "id": "4ed62927",
   "metadata": {},
   "outputs": [
    {
     "name": "stdout",
     "output_type": "stream",
     "text": [
      "['             JOBID PARTITION                           NAME     USER    STATE       TIME TIME_LIMI  NODES NODELIST(REASON)\\n']\n"
     ]
    },
    {
     "data": {
      "text/plain": [
       "0"
      ]
     },
     "execution_count": 9,
     "metadata": {},
     "output_type": "execute_result"
    }
   ],
   "source": [
    "linnea_config.bm.check_slrum_status(ms.runner.job_name)"
   ]
  },
  {
   "cell_type": "code",
   "execution_count": 10,
   "id": "22adf0b3",
   "metadata": {},
   "outputs": [
    {
     "name": "stdout",
     "output_type": "stream",
     "text": [
      "removing  linnea/matrix-chain-4/cluster-data/1000_1000_1000_1000_1000/case_table.csv\n",
      "removing  linnea/matrix-chain-4/cluster-data/1000_1000_1000_1000_1000/run_times_competing_2.csv\n",
      "scp as641651@login18-1.hpc.itc.rwth-aachen.de:~/PhD/PartialRanking/linnea/matrix-chain-4/experiments/1000_1000_1000_1000_1000/run_times_competing_1.csv linnea/matrix-chain-4/cluster-data/1000_1000_1000_1000_1000\n",
      "b''\n"
     ]
    }
   ],
   "source": [
    "ms.data_collector.delete_local_data()\n",
    "ms.collect_measurements(1)"
   ]
  },
  {
   "cell_type": "code",
   "execution_count": 11,
   "id": "b3fa3dd9",
   "metadata": {},
   "outputs": [],
   "source": [
    "ms.h0.sort()"
   ]
  },
  {
   "cell_type": "code",
   "execution_count": 12,
   "id": "e96ff58b",
   "metadata": {},
   "outputs": [
    {
     "data": {
      "image/png": "[encoded data removed]",
      "text/plain": [
       "<Figure size 720x648 with 1 Axes>"
      ]
     },
     "metadata": {
      "needs_background": "light"
     },
     "output_type": "display_data"
    }
   ],
   "source": [
    "mv = MeasurementsVisualizer(ms.get_alg_measurements(), ms.h0)\n",
    "fig = mv.show_measurements_boxplots()"
   ]
  },
  {
   "cell_type": "code",
   "execution_count": 13,
   "id": "7e3c75fe",
   "metadata": {},
   "outputs": [],
   "source": [
    "#fig.savefig(\"run-intro-1.pdf\", format=\"pdf\", bbox_inches=\"tight\")"
   ]
  },
  {
   "cell_type": "code",
   "execution_count": 71,
   "id": "2e011bf6",
   "metadata": {},
   "outputs": [
    {
     "name": "stdout",
     "output_type": "stream",
     "text": [
      "scp as641651@login18-1.hpc.itc.rwth-aachen.de:~/PhD/PartialRanking/linnea/matrix-chain-4/experiments/1000_1000_1000_1000_1000/event_meta_table.csv linnea/matrix-chain-4/cluster-data/1000_1000_1000_1000_1000\n",
      "b''\n"
     ]
    }
   ],
   "source": [
    "df = ms.data_collector.get_meta_table()"
   ]
  },
  {
   "cell_type": "code",
   "execution_count": 77,
   "id": "34d7bf3f",
   "metadata": {},
   "outputs": [
    {
     "name": "stdout",
     "output_type": "stream",
     "text": [
      "['tmp3 = (C D)', 'tmp5 = (B tmp3)', 'tmp6 = (A tmp5)']\n",
      "['tmp1 = (A B)', 'tmp3 = (C D)', 'tmp6 = (tmp1 tmp3)']\n",
      "['tmp2 = (B C)', 'tmp4 = (A tmp2)', 'tmp6 = (tmp4 D)']\n",
      "['tmp3 = (C D)', 'tmp1 = (A B)', 'tmp6 = (tmp1 tmp3)']\n",
      "['tmp2 = (B C)', 'tmp5 = (tmp2 D)', 'tmp6 = (A tmp5)']\n",
      "['tmp1 = (A B)', 'tmp4 = (tmp1 C)', 'tmp6 = (tmp4 D)']\n"
     ]
    }
   ],
   "source": [
    "print(df[df['case:concept:name']=='algorithm0']['concept:operation'].tolist())\n",
    "print(df[df['case:concept:name']=='algorithm1']['concept:operation'].tolist())\n",
    "print(df[df['case:concept:name']=='algorithm2']['concept:operation'].tolist())\n",
    "print(df[df['case:concept:name']=='algorithm3']['concept:operation'].tolist())\n",
    "print(df[df['case:concept:name']=='algorithm4']['concept:operation'].tolist())\n",
    "print(df[df['case:concept:name']=='algorithm5']['concept:operation'].tolist())"
   ]
  },
  {
   "cell_type": "code",
   "execution_count": 90,
   "id": "2e505fbc",
   "metadata": {},
   "outputs": [],
   "source": [
    "remap = {\n",
    "    'algorithm0':'algorithm5', #((AB)C)D\n",
    "    'algorithm1':'algorithm2', #(A(BC))D\n",
    "    'algorithm2':'algorithm1', #(AB)(CD)\n",
    "    'algorithm3':'algorithm3', #(CD)(AB)\n",
    "    'algorithm4':'algorithm4', #A((BC)D)\n",
    "    'algorithm5':'algorithm0' #A(B(CD))\n",
    "}"
   ]
  },
  {
   "cell_type": "code",
   "execution_count": 91,
   "id": "b2a4d3b6",
   "metadata": {},
   "outputs": [
    {
     "data": {
      "text/plain": [
       "['algorithm0',\n",
       " 'algorithm1',\n",
       " 'algorithm2',\n",
       " 'algorithm3',\n",
       " 'algorithm4',\n",
       " 'algorithm5']"
      ]
     },
     "execution_count": 91,
     "metadata": {},
     "output_type": "execute_result"
    }
   ],
   "source": [
    "ms.h0"
   ]
  },
  {
   "cell_type": "code",
   "execution_count": 92,
   "id": "0d993a56",
   "metadata": {},
   "outputs": [],
   "source": [
    "remapped = {}\n",
    "\n",
    "for alg in ms.h0:\n",
    "    remapped[alg]  = ms.get_alg_measurements()[remap[alg]]"
   ]
  },
  {
   "cell_type": "code",
   "execution_count": 93,
   "id": "db968c0c",
   "metadata": {},
   "outputs": [
    {
     "data": {
      "image/png": "[encoded data removed]",
      "text/plain": [
       "<Figure size 720x648 with 1 Axes>"
      ]
     },
     "metadata": {
      "needs_background": "light"
     },
     "output_type": "display_data"
    }
   ],
   "source": [
    "mv = MeasurementsVisualizer(remapped, ms.h0)\n",
    "fig = mv.show_measurements_boxplots()"
   ]
  },
  {
   "cell_type": "code",
   "execution_count": 89,
   "id": "ab036f39",
   "metadata": {},
   "outputs": [],
   "source": [
    "fig.savefig(\"run-intro-1.pdf\", format=\"pdf\", bbox_inches=\"tight\")"
   ]
  },
  {
   "cell_type": "code",
   "execution_count": null,
   "id": "5819ad18",
   "metadata": {},
   "outputs": [],
   "source": []
  }
 ],
 "metadata": {
  "kernelspec": {
   "display_name": "Python 3 (ipykernel)",
   "language": "python",
   "name": "python3"
  },
  "language_info": {
   "codemirror_mode": {
    "name": "ipython",
    "version": 3
   },
   "file_extension": ".py",
   "mimetype": "text/x-python",
   "name": "python",
   "nbconvert_exporter": "python",
   "pygments_lexer": "ipython3",
   "version": "3.9.7"
  }
 },
 "nbformat": 4,
 "nbformat_minor": 5
}
