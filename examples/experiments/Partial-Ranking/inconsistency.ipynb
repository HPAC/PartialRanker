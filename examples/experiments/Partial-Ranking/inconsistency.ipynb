{
 "cells": [
  {
   "cell_type": "code",
   "execution_count": 17,
   "id": "223dd50d",
   "metadata": {},
   "outputs": [
    {
     "data": {
      "image/png": "[encoded data removed]",
      "text/plain": [
       "<Figure size 432x288 with 1 Axes>"
      ]
     },
     "metadata": {
      "needs_background": "light"
     },
     "output_type": "display_data"
    }
   ],
   "source": [
    "import numpy as np\n",
    "import matplotlib.pyplot as plt\n",
    "\n",
    "def sigmoid(x):\n",
    "    #return 1 / (1 + np.exp(-x))\n",
    "    return  -(x*np.log2(x))  - ((1-x)*np.log2((1-x)))\n",
    "\n",
    "x = np.linspace(0.00001, 0.99999, 100)\n",
    "y = sigmoid(x)\n",
    "\n",
    "plt.plot(x, y)\n",
    "plt.xlabel('$p(\\mathbf{t}_i)$', fontsize=14)\n",
    "plt.ylabel('$\\kappa(\\mathbf{t}_i)$', fontsize=14)\n",
    "#plt.title('The inconsistency function for a given $\\mathbf{t}_i$')\n",
    "plt.grid(True)\n",
    "#plt.show()\n",
    "plt.savefig('inconsistency.pdf', format=\"pdf\", bbox_inches=\"tight\")"
   ]
  },
  {
   "cell_type": "code",
   "execution_count": 16,
   "id": "e4ab4d66",
   "metadata": {},
   "outputs": [
    {
     "data": {
      "text/plain": [
       "<Figure size 432x288 with 0 Axes>"
      ]
     },
     "metadata": {},
     "output_type": "display_data"
    }
   ],
   "source": []
  },
  {
   "cell_type": "code",
   "execution_count": 4,
   "id": "ee7cb9e7",
   "metadata": {},
   "outputs": [
    {
     "data": {
      "text/plain": [
       "0.5"
      ]
     },
     "execution_count": 4,
     "metadata": {},
     "output_type": "execute_result"
    }
   ],
   "source": [
    "np.exp(0.5)/(np.exp(0.5) + np.exp(0.5))"
   ]
  },
  {
   "cell_type": "code",
   "execution_count": null,
   "id": "62e6137a",
   "metadata": {},
   "outputs": [],
   "source": []
  },
  {
   "cell_type": "code",
   "execution_count": 11,
   "id": "fb76eebc",
   "metadata": {},
   "outputs": [
    {
     "data": {
      "text/plain": [
       "0.0"
      ]
     },
     "execution_count": 11,
     "metadata": {},
     "output_type": "execute_result"
    }
   ],
   "source": [
    "np.sinh(0)"
   ]
  },
  {
   "cell_type": "code",
   "execution_count": 13,
   "id": "2492441b",
   "metadata": {},
   "outputs": [
    {
     "data": {
      "text/plain": [
       "1.9"
      ]
     },
     "execution_count": 13,
     "metadata": {},
     "output_type": "execute_result"
    }
   ],
   "source": [
    "np.abs(2*10 - 1)/10."
   ]
  },
  {
   "cell_type": "code",
   "execution_count": 42,
   "id": "dcd351df",
   "metadata": {},
   "outputs": [
    {
     "data": {
      "text/plain": [
       "0.5287712379549449"
      ]
     },
     "execution_count": 42,
     "metadata": {},
     "output_type": "execute_result"
    }
   ],
   "source": [
    "-(0.4*np.log2(0.4))"
   ]
  },
  {
   "cell_type": "code",
   "execution_count": null,
   "id": "dc2a3bc4",
   "metadata": {},
   "outputs": [],
   "source": []
  },
  {
   "cell_type": "code",
   "execution_count": null,
   "id": "15308263",
   "metadata": {},
   "outputs": [],
   "source": []
  }
 ],
 "metadata": {
  "kernelspec": {
   "display_name": "Python 3 (ipykernel)",
   "language": "python",
   "name": "python3"
  },
  "language_info": {
   "codemirror_mode": {
    "name": "ipython",
    "version": 3
   },
   "file_extension": ".py",
   "mimetype": "text/x-python",
   "name": "python",
   "nbconvert_exporter": "python",
   "pygments_lexer": "ipython3",
   "version": "3.9.7"
  }
 },
 "nbformat": 4,
 "nbformat_minor": 5
}
