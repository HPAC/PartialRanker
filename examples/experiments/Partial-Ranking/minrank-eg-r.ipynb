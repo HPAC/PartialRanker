{
 "cells": [
  {
   "cell_type": "code",
   "execution_count": 1,
   "id": "5722016b",
   "metadata": {},
   "outputs": [],
   "source": [
    "from algorithm_ranking import MeasurementsSimulator, MeasurementsVisualizer, RankVariantsSort2, RankVariantsDFGTr, RankVariantsDFGBrute"
   ]
  },
  {
   "cell_type": "code",
   "execution_count": 2,
   "id": "d47c7456",
   "metadata": {},
   "outputs": [],
   "source": [
    "import pandas as pd\n",
    "import numpy as np\n",
    "import random"
   ]
  },
  {
   "cell_type": "code",
   "execution_count": 65,
   "id": "c7a44ad4",
   "metadata": {},
   "outputs": [],
   "source": [
    "n1 = [0.2, 0.02]\n",
    "n2 = [0.3,0.02]\n",
    "cfg = {}\n",
    "\n",
    "for i in range(5):\n",
    "    cfg['t{}'.format(i)] = n1\n",
    "\n",
    "for i in range(5,10):\n",
    "    cfg['t{}'.format(i)] = n2\n",
    "#cfg\n",
    "h0 = list(cfg.keys())"
   ]
  },
  {
   "cell_type": "code",
   "execution_count": 66,
   "id": "1a84f835",
   "metadata": {},
   "outputs": [],
   "source": [
    "ms = MeasurementsSimulator(cfg, 'normal',seed=119) #5, 61 (149, 5, eg for not always the min rank)\n",
    "ms.measure(3,1) # 3 and 10#"
   ]
  },
  {
   "cell_type": "code",
   "execution_count": 67,
   "id": "971904e5",
   "metadata": {},
   "outputs": [],
   "source": [
    "\n",
    "#fig = mv.show_measurements_boxplots(tick_size=12, scale=0.4)"
   ]
  },
  {
   "cell_type": "code",
   "execution_count": 68,
   "id": "dc05393d",
   "metadata": {},
   "outputs": [
    {
     "data": {
      "text/html": [
       "<div>\n",
       "<style scoped>\n",
       "    .dataframe tbody tr th:only-of-type {\n",
       "        vertical-align: middle;\n",
       "    }\n",
       "\n",
       "    .dataframe tbody tr th {\n",
       "        vertical-align: top;\n",
       "    }\n",
       "\n",
       "    .dataframe thead th {\n",
       "        text-align: right;\n",
       "    }\n",
       "</style>\n",
       "<table border=\"1\" class=\"dataframe\">\n",
       "  <thead>\n",
       "    <tr style=\"text-align: right;\">\n",
       "      <th></th>\n",
       "      <th>case:concept:name</th>\n",
       "      <th>case:rank:q75-q25</th>\n",
       "    </tr>\n",
       "  </thead>\n",
       "  <tbody>\n",
       "    <tr>\n",
       "      <th>0</th>\n",
       "      <td>t1</td>\n",
       "      <td>0</td>\n",
       "    </tr>\n",
       "    <tr>\n",
       "      <th>1</th>\n",
       "      <td>t2</td>\n",
       "      <td>0</td>\n",
       "    </tr>\n",
       "    <tr>\n",
       "      <th>2</th>\n",
       "      <td>t4</td>\n",
       "      <td>0</td>\n",
       "    </tr>\n",
       "    <tr>\n",
       "      <th>3</th>\n",
       "      <td>t3</td>\n",
       "      <td>0</td>\n",
       "    </tr>\n",
       "    <tr>\n",
       "      <th>4</th>\n",
       "      <td>t0</td>\n",
       "      <td>0</td>\n",
       "    </tr>\n",
       "    <tr>\n",
       "      <th>5</th>\n",
       "      <td>t8</td>\n",
       "      <td>1</td>\n",
       "    </tr>\n",
       "    <tr>\n",
       "      <th>6</th>\n",
       "      <td>t5</td>\n",
       "      <td>1</td>\n",
       "    </tr>\n",
       "    <tr>\n",
       "      <th>7</th>\n",
       "      <td>t9</td>\n",
       "      <td>1</td>\n",
       "    </tr>\n",
       "    <tr>\n",
       "      <th>8</th>\n",
       "      <td>t7</td>\n",
       "      <td>1</td>\n",
       "    </tr>\n",
       "    <tr>\n",
       "      <th>9</th>\n",
       "      <td>t6</td>\n",
       "      <td>2</td>\n",
       "    </tr>\n",
       "  </tbody>\n",
       "</table>\n",
       "</div>"
      ],
      "text/plain": [
       "  case:concept:name  case:rank:q75-q25\n",
       "0                t1                  0\n",
       "1                t2                  0\n",
       "2                t4                  0\n",
       "3                t3                  0\n",
       "4                t0                  0\n",
       "5                t8                  1\n",
       "6                t5                  1\n",
       "7                t9                  1\n",
       "8                t7                  1\n",
       "9                t6                  2"
      ]
     },
     "execution_count": 68,
     "metadata": {},
     "output_type": "execute_result"
    }
   ],
   "source": [
    "rvDFG = RankVariantsDFGTr(ms.get_alg_measurements(), h0)\n",
    "rvDFG.rank_variants()\n",
    "h0_ = rvDFG.graph.get_separable_arrangement()\n",
    "rv2 = RankVariantsSort2(ms.get_alg_measurements(), h0_)\n",
    "rv2.rank_variants()"
   ]
  },
  {
   "cell_type": "code",
   "execution_count": 69,
   "id": "248d4b1f",
   "metadata": {},
   "outputs": [
    {
     "data": {
      "image/png": "[encoded data removed]",
      "text/plain": [
       "<Figure size 720x288 with 1 Axes>"
      ]
     },
     "metadata": {
      "needs_background": "light"
     },
     "output_type": "display_data"
    }
   ],
   "source": [
    "mv = MeasurementsVisualizer(ms.get_alg_measurements(), h0_)\n",
    "fig = mv.show_measurements_boxplots(tick_size=12, scale=0.4)"
   ]
  },
  {
   "cell_type": "code",
   "execution_count": 70,
   "id": "66367722",
   "metadata": {},
   "outputs": [],
   "source": [
    "fig.savefig(\"gviz/minrank-eg1-r.svg\", format=\"svg\", bbox_inches=\"tight\")"
   ]
  },
  {
   "cell_type": "code",
   "execution_count": 71,
   "id": "366da078",
   "metadata": {},
   "outputs": [
    {
     "data": {
      "text/html": [
       "<div>\n",
       "<style scoped>\n",
       "    .dataframe tbody tr th:only-of-type {\n",
       "        vertical-align: middle;\n",
       "    }\n",
       "\n",
       "    .dataframe tbody tr th {\n",
       "        vertical-align: top;\n",
       "    }\n",
       "\n",
       "    .dataframe thead th {\n",
       "        text-align: right;\n",
       "    }\n",
       "</style>\n",
       "<table border=\"1\" class=\"dataframe\">\n",
       "  <thead>\n",
       "    <tr style=\"text-align: right;\">\n",
       "      <th></th>\n",
       "      <th>case:concept:name</th>\n",
       "      <th>case:rank:q75-q25</th>\n",
       "    </tr>\n",
       "  </thead>\n",
       "  <tbody>\n",
       "    <tr>\n",
       "      <th>0</th>\n",
       "      <td>t0</td>\n",
       "      <td>0</td>\n",
       "    </tr>\n",
       "    <tr>\n",
       "      <th>1</th>\n",
       "      <td>t1</td>\n",
       "      <td>0</td>\n",
       "    </tr>\n",
       "    <tr>\n",
       "      <th>2</th>\n",
       "      <td>t3</td>\n",
       "      <td>0</td>\n",
       "    </tr>\n",
       "    <tr>\n",
       "      <th>3</th>\n",
       "      <td>t4</td>\n",
       "      <td>0</td>\n",
       "    </tr>\n",
       "    <tr>\n",
       "      <th>4</th>\n",
       "      <td>t2</td>\n",
       "      <td>1</td>\n",
       "    </tr>\n",
       "    <tr>\n",
       "      <th>5</th>\n",
       "      <td>t6</td>\n",
       "      <td>2</td>\n",
       "    </tr>\n",
       "    <tr>\n",
       "      <th>6</th>\n",
       "      <td>t8</td>\n",
       "      <td>3</td>\n",
       "    </tr>\n",
       "    <tr>\n",
       "      <th>7</th>\n",
       "      <td>t5</td>\n",
       "      <td>3</td>\n",
       "    </tr>\n",
       "    <tr>\n",
       "      <th>8</th>\n",
       "      <td>t7</td>\n",
       "      <td>3</td>\n",
       "    </tr>\n",
       "    <tr>\n",
       "      <th>9</th>\n",
       "      <td>t9</td>\n",
       "      <td>3</td>\n",
       "    </tr>\n",
       "  </tbody>\n",
       "</table>\n",
       "</div>"
      ],
      "text/plain": [
       "  case:concept:name  case:rank:q75-q25\n",
       "0                t0                  0\n",
       "1                t1                  0\n",
       "2                t3                  0\n",
       "3                t4                  0\n",
       "4                t2                  1\n",
       "5                t6                  2\n",
       "6                t8                  3\n",
       "7                t5                  3\n",
       "8                t7                  3\n",
       "9                t9                  3"
      ]
     },
     "execution_count": 71,
     "metadata": {},
     "output_type": "execute_result"
    }
   ],
   "source": [
    "n1 = [0.2, 0.02]\n",
    "n2 = [0.3,0.02]\n",
    "cfg = {}\n",
    "\n",
    "for i in range(5):\n",
    "    cfg['t{}'.format(i)] = n1\n",
    "\n",
    "for i in range(5,10):\n",
    "    cfg['t{}'.format(i)] = n2\n",
    "#cfg\n",
    "h0 = list(cfg.keys())\n",
    "\n",
    "ms = MeasurementsSimulator(cfg, 'normal',seed=43) #5, 61 (149, 5, eg for not always the min rank)\n",
    "ms.measure(3,1) # 3 and 10#\n",
    "rvDFG = RankVariantsDFGTr(ms.get_alg_measurements(), h0)\n",
    "rvDFG.rank_variants()\n",
    "h0_ = rvDFG.graph.get_separable_arrangement()\n",
    "rv2 = RankVariantsSort2(ms.get_alg_measurements(), h0_)\n",
    "rv2.rank_variants()"
   ]
  },
  {
   "cell_type": "code",
   "execution_count": 72,
   "id": "d6477434",
   "metadata": {},
   "outputs": [
    {
     "data": {
      "image/png": "[encoded data removed]",
      "text/plain": [
       "<Figure size 720x288 with 1 Axes>"
      ]
     },
     "metadata": {
      "needs_background": "light"
     },
     "output_type": "display_data"
    }
   ],
   "source": [
    "mv = MeasurementsVisualizer(ms.get_alg_measurements(), h0_)\n",
    "fig = mv.show_measurements_boxplots(tick_size=12, scale=0.4)"
   ]
  },
  {
   "cell_type": "code",
   "execution_count": 73,
   "id": "11317ec1",
   "metadata": {},
   "outputs": [],
   "source": [
    "fig.savefig(\"gviz/minrank-eg2-r.svg\", format=\"svg\", bbox_inches=\"tight\")"
   ]
  },
  {
   "cell_type": "code",
   "execution_count": 64,
   "id": "4f5c6593",
   "metadata": {},
   "outputs": [],
   "source": [
    "# rvDFG.graph.transitivity_reduction()\n",
    "# g = rvDFG.graph.visualize()\n",
    "# g"
   ]
  },
  {
   "cell_type": "code",
   "execution_count": 14,
   "id": "c8bbc76a",
   "metadata": {},
   "outputs": [],
   "source": [
    "n1 = [0.2, 0.25, 0.30, 0.35,0.40, 0.45]\n",
    "cfg = {}\n",
    "\n",
    "for i in range(len(n1)):\n",
    "    cfg['t{}'.format(i)] = [n1[i], 0.02]\n",
    "\n",
    "cfg['t6']= [0.35,0.27]\n",
    "#cfg\n",
    "h0 = list(cfg.keys())"
   ]
  },
  {
   "cell_type": "code",
   "execution_count": 15,
   "id": "792e129c",
   "metadata": {},
   "outputs": [
    {
     "data": {
      "image/png": "[encoded data removed]",
      "text/plain": [
       "<Figure size 720x252 with 1 Axes>"
      ]
     },
     "metadata": {
      "needs_background": "light"
     },
     "output_type": "display_data"
    }
   ],
   "source": [
    "ms = MeasurementsSimulator(cfg, 'normal',seed=43) #5, 61 (149, 5, eg for not always the min rank)\n",
    "ms.measure(15,1) # 3 and 10#\n",
    "mv = MeasurementsVisualizer(ms.get_alg_measurements(), h0)\n",
    "fig = mv.show_measurements_boxplots(tick_size=12, scale=0.5)"
   ]
  },
  {
   "cell_type": "code",
   "execution_count": 16,
   "id": "466a7bbb",
   "metadata": {},
   "outputs": [
    {
     "data": {
      "text/html": [
       "<div>\n",
       "<style scoped>\n",
       "    .dataframe tbody tr th:only-of-type {\n",
       "        vertical-align: middle;\n",
       "    }\n",
       "\n",
       "    .dataframe tbody tr th {\n",
       "        vertical-align: top;\n",
       "    }\n",
       "\n",
       "    .dataframe thead th {\n",
       "        text-align: right;\n",
       "    }\n",
       "</style>\n",
       "<table border=\"1\" class=\"dataframe\">\n",
       "  <thead>\n",
       "    <tr style=\"text-align: right;\">\n",
       "      <th></th>\n",
       "      <th>case:concept:name</th>\n",
       "      <th>case:rank:q75-q25</th>\n",
       "    </tr>\n",
       "  </thead>\n",
       "  <tbody>\n",
       "    <tr>\n",
       "      <th>0</th>\n",
       "      <td>t0</td>\n",
       "      <td>0</td>\n",
       "    </tr>\n",
       "    <tr>\n",
       "      <th>1</th>\n",
       "      <td>t6</td>\n",
       "      <td>0</td>\n",
       "    </tr>\n",
       "    <tr>\n",
       "      <th>2</th>\n",
       "      <td>t1</td>\n",
       "      <td>0</td>\n",
       "    </tr>\n",
       "    <tr>\n",
       "      <th>3</th>\n",
       "      <td>t2</td>\n",
       "      <td>1</td>\n",
       "    </tr>\n",
       "    <tr>\n",
       "      <th>4</th>\n",
       "      <td>t3</td>\n",
       "      <td>2</td>\n",
       "    </tr>\n",
       "    <tr>\n",
       "      <th>5</th>\n",
       "      <td>t4</td>\n",
       "      <td>3</td>\n",
       "    </tr>\n",
       "    <tr>\n",
       "      <th>6</th>\n",
       "      <td>t5</td>\n",
       "      <td>4</td>\n",
       "    </tr>\n",
       "  </tbody>\n",
       "</table>\n",
       "</div>"
      ],
      "text/plain": [
       "  case:concept:name  case:rank:q75-q25\n",
       "0                t0                  0\n",
       "1                t6                  0\n",
       "2                t1                  0\n",
       "3                t2                  1\n",
       "4                t3                  2\n",
       "5                t4                  3\n",
       "6                t5                  4"
      ]
     },
     "execution_count": 16,
     "metadata": {},
     "output_type": "execute_result"
    }
   ],
   "source": [
    "rvDFG = RankVariantsDFGTr(ms.get_alg_measurements(), h0)\n",
    "rvDFG.rank_variants()\n",
    "h0_ = rvDFG.graph.get_separable_arrangement()\n",
    "rv2 = RankVariantsSort2(ms.get_alg_measurements(), h0_)\n",
    "rv2.rank_variants()"
   ]
  },
  {
   "cell_type": "code",
   "execution_count": 17,
   "id": "aee45bcf",
   "metadata": {},
   "outputs": [
    {
     "data": {
      "image/png": "[encoded data removed]",
      "text/plain": [
       "<Figure size 720x252 with 1 Axes>"
      ]
     },
     "metadata": {
      "needs_background": "light"
     },
     "output_type": "display_data"
    }
   ],
   "source": [
    "mv = MeasurementsVisualizer(ms.get_alg_measurements(), h0_)\n",
    "fig = mv.show_measurements_boxplots(tick_size=12, scale=0.5)"
   ]
  },
  {
   "cell_type": "code",
   "execution_count": 120,
   "id": "2db0cf9b",
   "metadata": {},
   "outputs": [],
   "source": [
    "fig.savefig(\"gviz/minrank-eg3-r.svg\", format=\"svg\", bbox_inches=\"tight\")"
   ]
  },
  {
   "cell_type": "code",
   "execution_count": 18,
   "id": "71661d5a",
   "metadata": {},
   "outputs": [
    {
     "data": {
      "image/svg+xml": [
       "<?xml version=\"1.0\" encoding=\"UTF-8\" standalone=\"no\"?>\n",
       "<!DOCTYPE svg PUBLIC \"-//W3C//DTD SVG 1.1//EN\"\n",
       " \"http://www.w3.org/Graphics/SVG/1.1/DTD/svg11.dtd\">\n",
       "<!-- Generated by graphviz version 2.40.1 (20161225.0304)\n",
       " -->\n",
       "<!-- Title: %3 Pages: 1 -->\n",
       "<svg width=\"134pt\" height=\"404pt\"\n",
       " viewBox=\"0.00 0.00 134.00 404.00\" xmlns=\"http://www.w3.org/2000/svg\" xmlns:xlink=\"http://www.w3.org/1999/xlink\">\n",
       "<g id=\"graph0\" class=\"graph\" transform=\"scale(1 1) rotate(0) translate(4 400)\">\n",
       "<title>%3</title>\n",
       "<polygon fill=\"#ffffff\" stroke=\"transparent\" points=\"-4,4 -4,-400 130,-400 130,4 -4,4\"/>\n",
       "<!-- t0 -->\n",
       "<g id=\"node1\" class=\"node\">\n",
       "<title>t0</title>\n",
       "<ellipse fill=\"#f0efed\" stroke=\"#f0efed\" cx=\"27\" cy=\"-378\" rx=\"27\" ry=\"18\"/>\n",
       "<text text-anchor=\"middle\" x=\"27\" y=\"-373.8\" font-family=\"Times,serif\" font-size=\"14.00\" fill=\"#000000\">t0</text>\n",
       "</g>\n",
       "<!-- t1 -->\n",
       "<g id=\"node2\" class=\"node\">\n",
       "<title>t1</title>\n",
       "<ellipse fill=\"#f0efed\" stroke=\"#f0efed\" cx=\"27\" cy=\"-306\" rx=\"27\" ry=\"18\"/>\n",
       "<text text-anchor=\"middle\" x=\"27\" y=\"-301.8\" font-family=\"Times,serif\" font-size=\"14.00\" fill=\"#000000\">t1</text>\n",
       "</g>\n",
       "<!-- t0&#45;&gt;t1 -->\n",
       "<g id=\"edge1\" class=\"edge\">\n",
       "<title>t0&#45;&gt;t1</title>\n",
       "<path fill=\"none\" stroke=\"#000000\" d=\"M27,-359.8314C27,-352.131 27,-342.9743 27,-334.4166\"/>\n",
       "<polygon fill=\"#000000\" stroke=\"#000000\" points=\"30.5001,-334.4132 27,-324.4133 23.5001,-334.4133 30.5001,-334.4132\"/>\n",
       "</g>\n",
       "<!-- t2 -->\n",
       "<g id=\"node3\" class=\"node\">\n",
       "<title>t2</title>\n",
       "<ellipse fill=\"#f0efed\" stroke=\"#f0efed\" cx=\"27\" cy=\"-234\" rx=\"27\" ry=\"18\"/>\n",
       "<text text-anchor=\"middle\" x=\"27\" y=\"-229.8\" font-family=\"Times,serif\" font-size=\"14.00\" fill=\"#000000\">t2</text>\n",
       "</g>\n",
       "<!-- t1&#45;&gt;t2 -->\n",
       "<g id=\"edge2\" class=\"edge\">\n",
       "<title>t1&#45;&gt;t2</title>\n",
       "<path fill=\"none\" stroke=\"#000000\" d=\"M27,-287.8314C27,-280.131 27,-270.9743 27,-262.4166\"/>\n",
       "<polygon fill=\"#000000\" stroke=\"#000000\" points=\"30.5001,-262.4132 27,-252.4133 23.5001,-262.4133 30.5001,-262.4132\"/>\n",
       "</g>\n",
       "<!-- t3 -->\n",
       "<g id=\"node4\" class=\"node\">\n",
       "<title>t3</title>\n",
       "<ellipse fill=\"#f0efed\" stroke=\"#f0efed\" cx=\"27\" cy=\"-162\" rx=\"27\" ry=\"18\"/>\n",
       "<text text-anchor=\"middle\" x=\"27\" y=\"-157.8\" font-family=\"Times,serif\" font-size=\"14.00\" fill=\"#000000\">t3</text>\n",
       "</g>\n",
       "<!-- t2&#45;&gt;t3 -->\n",
       "<g id=\"edge3\" class=\"edge\">\n",
       "<title>t2&#45;&gt;t3</title>\n",
       "<path fill=\"none\" stroke=\"#000000\" d=\"M27,-215.8314C27,-208.131 27,-198.9743 27,-190.4166\"/>\n",
       "<polygon fill=\"#000000\" stroke=\"#000000\" points=\"30.5001,-190.4132 27,-180.4133 23.5001,-190.4133 30.5001,-190.4132\"/>\n",
       "</g>\n",
       "<!-- t4 -->\n",
       "<g id=\"node5\" class=\"node\">\n",
       "<title>t4</title>\n",
       "<ellipse fill=\"#f0efed\" stroke=\"#f0efed\" cx=\"27\" cy=\"-90\" rx=\"27\" ry=\"18\"/>\n",
       "<text text-anchor=\"middle\" x=\"27\" y=\"-85.8\" font-family=\"Times,serif\" font-size=\"14.00\" fill=\"#000000\">t4</text>\n",
       "</g>\n",
       "<!-- t3&#45;&gt;t4 -->\n",
       "<g id=\"edge4\" class=\"edge\">\n",
       "<title>t3&#45;&gt;t4</title>\n",
       "<path fill=\"none\" stroke=\"#000000\" d=\"M27,-143.8314C27,-136.131 27,-126.9743 27,-118.4166\"/>\n",
       "<polygon fill=\"#000000\" stroke=\"#000000\" points=\"30.5001,-118.4132 27,-108.4133 23.5001,-118.4133 30.5001,-118.4132\"/>\n",
       "</g>\n",
       "<!-- t5 -->\n",
       "<g id=\"node6\" class=\"node\">\n",
       "<title>t5</title>\n",
       "<ellipse fill=\"#f0efed\" stroke=\"#f0efed\" cx=\"27\" cy=\"-18\" rx=\"27\" ry=\"18\"/>\n",
       "<text text-anchor=\"middle\" x=\"27\" y=\"-13.8\" font-family=\"Times,serif\" font-size=\"14.00\" fill=\"#000000\">t5</text>\n",
       "</g>\n",
       "<!-- t4&#45;&gt;t5 -->\n",
       "<g id=\"edge5\" class=\"edge\">\n",
       "<title>t4&#45;&gt;t5</title>\n",
       "<path fill=\"none\" stroke=\"#000000\" d=\"M27,-71.8314C27,-64.131 27,-54.9743 27,-46.4166\"/>\n",
       "<polygon fill=\"#000000\" stroke=\"#000000\" points=\"30.5001,-46.4132 27,-36.4133 23.5001,-46.4133 30.5001,-46.4132\"/>\n",
       "</g>\n",
       "<!-- t6 -->\n",
       "<g id=\"node7\" class=\"node\">\n",
       "<title>t6</title>\n",
       "<ellipse fill=\"#f0efed\" stroke=\"#f0efed\" cx=\"99\" cy=\"-378\" rx=\"27\" ry=\"18\"/>\n",
       "<text text-anchor=\"middle\" x=\"99\" y=\"-373.8\" font-family=\"Times,serif\" font-size=\"14.00\" fill=\"#000000\">t6</text>\n",
       "</g>\n",
       "</g>\n",
       "</svg>\n"
      ],
      "text/plain": [
       "<graphviz.graphs.Digraph at 0x7fea007bb880>"
      ]
     },
     "execution_count": 18,
     "metadata": {},
     "output_type": "execute_result"
    }
   ],
   "source": [
    "rvDFG.graph.transitivity_reduction()\n",
    "g = rvDFG.graph.visualize()\n",
    "g"
   ]
  },
  {
   "cell_type": "code",
   "execution_count": 19,
   "id": "b7191320",
   "metadata": {},
   "outputs": [
    {
     "data": {
      "text/plain": [
       "'gviz/minrank-eg3-dfg.svg'"
      ]
     },
     "execution_count": 19,
     "metadata": {},
     "output_type": "execute_result"
    }
   ],
   "source": [
    "g.render(filename='gviz/minrank-eg3-dfg', format='svg')"
   ]
  },
  {
   "cell_type": "code",
   "execution_count": 20,
   "id": "8026759c",
   "metadata": {},
   "outputs": [],
   "source": [
    "cfg = {}\n",
    "cfg['t0']  = [0.2,0.04] #[mean, std]\n",
    "cfg['t1']  = [0.21,0.03]\n",
    "cfg['t2']  = [0.22,0.02]\n",
    "cfg['t3']  = [0.235,0.01]\n",
    "cfg['t4']  = [0.245,0.005]\n",
    "h0 = list(cfg.keys())\n",
    "ms = MeasurementsSimulator(cfg, 'normal',seed=1459) \n",
    "ms.measure(20,1)"
   ]
  },
  {
   "cell_type": "code",
   "execution_count": 21,
   "id": "f759ae4f",
   "metadata": {},
   "outputs": [
    {
     "data": {
      "image/png": "[encoded data removed]",
      "text/plain": [
       "<Figure size 720x252 with 1 Axes>"
      ]
     },
     "metadata": {
      "needs_background": "light"
     },
     "output_type": "display_data"
    }
   ],
   "source": [
    "mv = MeasurementsVisualizer(ms.get_alg_measurements(), h0)\n",
    "fig = mv.show_measurements_boxplots(tick_size=18, scale=0.7)"
   ]
  },
  {
   "cell_type": "code",
   "execution_count": 11,
   "id": "8d8dd540",
   "metadata": {},
   "outputs": [],
   "source": [
    "fig.savefig(\"gviz/minrank-eg5-r.svg\", format=\"svg\", bbox_inches=\"tight\")"
   ]
  },
  {
   "cell_type": "code",
   "execution_count": 22,
   "id": "3c46e1f8",
   "metadata": {},
   "outputs": [
    {
     "data": {
      "text/html": [
       "<div>\n",
       "<style scoped>\n",
       "    .dataframe tbody tr th:only-of-type {\n",
       "        vertical-align: middle;\n",
       "    }\n",
       "\n",
       "    .dataframe tbody tr th {\n",
       "        vertical-align: top;\n",
       "    }\n",
       "\n",
       "    .dataframe thead th {\n",
       "        text-align: right;\n",
       "    }\n",
       "</style>\n",
       "<table border=\"1\" class=\"dataframe\">\n",
       "  <thead>\n",
       "    <tr style=\"text-align: right;\">\n",
       "      <th></th>\n",
       "      <th>case:concept:name</th>\n",
       "      <th>case:rank:q75-q25</th>\n",
       "    </tr>\n",
       "  </thead>\n",
       "  <tbody>\n",
       "    <tr>\n",
       "      <th>0</th>\n",
       "      <td>t0</td>\n",
       "      <td>0</td>\n",
       "    </tr>\n",
       "    <tr>\n",
       "      <th>1</th>\n",
       "      <td>t1</td>\n",
       "      <td>0</td>\n",
       "    </tr>\n",
       "    <tr>\n",
       "      <th>2</th>\n",
       "      <td>t2</td>\n",
       "      <td>0</td>\n",
       "    </tr>\n",
       "    <tr>\n",
       "      <th>3</th>\n",
       "      <td>t3</td>\n",
       "      <td>0</td>\n",
       "    </tr>\n",
       "    <tr>\n",
       "      <th>4</th>\n",
       "      <td>t4</td>\n",
       "      <td>0</td>\n",
       "    </tr>\n",
       "  </tbody>\n",
       "</table>\n",
       "</div>"
      ],
      "text/plain": [
       "  case:concept:name  case:rank:q75-q25\n",
       "0                t0                  0\n",
       "1                t1                  0\n",
       "2                t2                  0\n",
       "3                t3                  0\n",
       "4                t4                  0"
      ]
     },
     "execution_count": 22,
     "metadata": {},
     "output_type": "execute_result"
    }
   ],
   "source": [
    "rvDFG = RankVariantsDFGTr(ms.get_alg_measurements(), h0)\n",
    "rvDFG.rank_variants()\n",
    "h0_ = rvDFG.graph.get_separable_arrangement()\n",
    "rv2 = RankVariantsSort2(ms.get_alg_measurements(), h0_)\n",
    "rv2.rank_variants()"
   ]
  },
  {
   "cell_type": "code",
   "execution_count": 23,
   "id": "d2f4c1cf",
   "metadata": {},
   "outputs": [
    {
     "data": {
      "image/svg+xml": [
       "<?xml version=\"1.0\" encoding=\"UTF-8\" standalone=\"no\"?>\n",
       "<!DOCTYPE svg PUBLIC \"-//W3C//DTD SVG 1.1//EN\"\n",
       " \"http://www.w3.org/Graphics/SVG/1.1/DTD/svg11.dtd\">\n",
       "<!-- Generated by graphviz version 2.40.1 (20161225.0304)\n",
       " -->\n",
       "<!-- Title: %3 Pages: 1 -->\n",
       "<svg width=\"206pt\" height=\"116pt\"\n",
       " viewBox=\"0.00 0.00 206.00 116.00\" xmlns=\"http://www.w3.org/2000/svg\" xmlns:xlink=\"http://www.w3.org/1999/xlink\">\n",
       "<g id=\"graph0\" class=\"graph\" transform=\"scale(1 1) rotate(0) translate(4 112)\">\n",
       "<title>%3</title>\n",
       "<polygon fill=\"#ffffff\" stroke=\"transparent\" points=\"-4,4 -4,-112 202,-112 202,4 -4,4\"/>\n",
       "<!-- t0 -->\n",
       "<g id=\"node1\" class=\"node\">\n",
       "<title>t0</title>\n",
       "<ellipse fill=\"#f0efed\" stroke=\"#f0efed\" cx=\"99\" cy=\"-90\" rx=\"27\" ry=\"18\"/>\n",
       "<text text-anchor=\"middle\" x=\"99\" y=\"-85.8\" font-family=\"Times,serif\" font-size=\"14.00\" fill=\"#000000\">t0</text>\n",
       "</g>\n",
       "<!-- t3 -->\n",
       "<g id=\"node4\" class=\"node\">\n",
       "<title>t3</title>\n",
       "<ellipse fill=\"#f0efed\" stroke=\"#f0efed\" cx=\"27\" cy=\"-18\" rx=\"27\" ry=\"18\"/>\n",
       "<text text-anchor=\"middle\" x=\"27\" y=\"-13.8\" font-family=\"Times,serif\" font-size=\"14.00\" fill=\"#000000\">t3</text>\n",
       "</g>\n",
       "<!-- t0&#45;&gt;t3 -->\n",
       "<g id=\"edge1\" class=\"edge\">\n",
       "<title>t0&#45;&gt;t3</title>\n",
       "<path fill=\"none\" stroke=\"#000000\" d=\"M83.7307,-74.7307C73.803,-64.803 60.6847,-51.6847 49.5637,-40.5637\"/>\n",
       "<polygon fill=\"#000000\" stroke=\"#000000\" points=\"51.7933,-37.8436 42.2473,-33.2473 46.8436,-42.7933 51.7933,-37.8436\"/>\n",
       "</g>\n",
       "<!-- t4 -->\n",
       "<g id=\"node5\" class=\"node\">\n",
       "<title>t4</title>\n",
       "<ellipse fill=\"#f0efed\" stroke=\"#f0efed\" cx=\"99\" cy=\"-18\" rx=\"27\" ry=\"18\"/>\n",
       "<text text-anchor=\"middle\" x=\"99\" y=\"-13.8\" font-family=\"Times,serif\" font-size=\"14.00\" fill=\"#000000\">t4</text>\n",
       "</g>\n",
       "<!-- t0&#45;&gt;t4 -->\n",
       "<g id=\"edge2\" class=\"edge\">\n",
       "<title>t0&#45;&gt;t4</title>\n",
       "<path fill=\"none\" stroke=\"#000000\" d=\"M99,-71.8314C99,-64.131 99,-54.9743 99,-46.4166\"/>\n",
       "<polygon fill=\"#000000\" stroke=\"#000000\" points=\"102.5001,-46.4132 99,-36.4133 95.5001,-46.4133 102.5001,-46.4132\"/>\n",
       "</g>\n",
       "<!-- t1 -->\n",
       "<g id=\"node2\" class=\"node\">\n",
       "<title>t1</title>\n",
       "<ellipse fill=\"#f0efed\" stroke=\"#f0efed\" cx=\"27\" cy=\"-90\" rx=\"27\" ry=\"18\"/>\n",
       "<text text-anchor=\"middle\" x=\"27\" y=\"-85.8\" font-family=\"Times,serif\" font-size=\"14.00\" fill=\"#000000\">t1</text>\n",
       "</g>\n",
       "<!-- t1&#45;&gt;t3 -->\n",
       "<g id=\"edge3\" class=\"edge\">\n",
       "<title>t1&#45;&gt;t3</title>\n",
       "<path fill=\"none\" stroke=\"#000000\" d=\"M27,-71.8314C27,-64.131 27,-54.9743 27,-46.4166\"/>\n",
       "<polygon fill=\"#000000\" stroke=\"#000000\" points=\"30.5001,-46.4132 27,-36.4133 23.5001,-46.4133 30.5001,-46.4132\"/>\n",
       "</g>\n",
       "<!-- t1&#45;&gt;t4 -->\n",
       "<g id=\"edge4\" class=\"edge\">\n",
       "<title>t1&#45;&gt;t4</title>\n",
       "<path fill=\"none\" stroke=\"#000000\" d=\"M42.2693,-74.7307C52.197,-64.803 65.3153,-51.6847 76.4363,-40.5637\"/>\n",
       "<polygon fill=\"#000000\" stroke=\"#000000\" points=\"79.1564,-42.7933 83.7527,-33.2473 74.2067,-37.8436 79.1564,-42.7933\"/>\n",
       "</g>\n",
       "<!-- t2 -->\n",
       "<g id=\"node3\" class=\"node\">\n",
       "<title>t2</title>\n",
       "<ellipse fill=\"#f0efed\" stroke=\"#f0efed\" cx=\"171\" cy=\"-90\" rx=\"27\" ry=\"18\"/>\n",
       "<text text-anchor=\"middle\" x=\"171\" y=\"-85.8\" font-family=\"Times,serif\" font-size=\"14.00\" fill=\"#000000\">t2</text>\n",
       "</g>\n",
       "<!-- t2&#45;&gt;t4 -->\n",
       "<g id=\"edge5\" class=\"edge\">\n",
       "<title>t2&#45;&gt;t4</title>\n",
       "<path fill=\"none\" stroke=\"#000000\" d=\"M155.7307,-74.7307C145.803,-64.803 132.6847,-51.6847 121.5637,-40.5637\"/>\n",
       "<polygon fill=\"#000000\" stroke=\"#000000\" points=\"123.7933,-37.8436 114.2473,-33.2473 118.8436,-42.7933 123.7933,-37.8436\"/>\n",
       "</g>\n",
       "</g>\n",
       "</svg>\n"
      ],
      "text/plain": [
       "<graphviz.graphs.Digraph at 0x7fea0038cd60>"
      ]
     },
     "execution_count": 23,
     "metadata": {},
     "output_type": "execute_result"
    }
   ],
   "source": [
    "rvDFG.graph.transitivity_reduction()\n",
    "g = rvDFG.graph.visualize()\n",
    "g"
   ]
  },
  {
   "cell_type": "code",
   "execution_count": 24,
   "id": "6c793658",
   "metadata": {},
   "outputs": [
    {
     "data": {
      "text/plain": [
       "'gviz/minrank-eg5-dfg.svg'"
      ]
     },
     "execution_count": 24,
     "metadata": {},
     "output_type": "execute_result"
    }
   ],
   "source": [
    "g.render(filename='gviz/minrank-eg5-dfg', format='svg')"
   ]
  },
  {
   "cell_type": "code",
   "execution_count": null,
   "id": "b862473c",
   "metadata": {},
   "outputs": [],
   "source": []
  }
 ],
 "metadata": {
  "kernelspec": {
   "display_name": "Python 3 (ipykernel)",
   "language": "python",
   "name": "python3"
  },
  "language_info": {
   "codemirror_mode": {
    "name": "ipython",
    "version": 3
   },
   "file_extension": ".py",
   "mimetype": "text/x-python",
   "name": "python",
   "nbconvert_exporter": "python",
   "pygments_lexer": "ipython3",
   "version": "3.9.7"
  }
 },
 "nbformat": 4,
 "nbformat_minor": 5
}
