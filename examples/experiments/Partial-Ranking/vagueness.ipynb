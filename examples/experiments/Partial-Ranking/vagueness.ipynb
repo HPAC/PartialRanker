{
 "cells": [
  {
   "cell_type": "code",
   "execution_count": 1,
   "id": "ae95cf96",
   "metadata": {},
   "outputs": [],
   "source": [
    "from algorithm_ranking import MeasurementsSimulator, MeasurementsVisualizer, RankVariantsDFGTr, RankVariantsSort2"
   ]
  },
  {
   "cell_type": "code",
   "execution_count": 2,
   "id": "959dc24b",
   "metadata": {},
   "outputs": [],
   "source": [
    "import pandas as pd\n",
    "import numpy as np"
   ]
  },
  {
   "cell_type": "code",
   "execution_count": 3,
   "id": "d1c09c6a",
   "metadata": {},
   "outputs": [],
   "source": [
    "cfg = {}\n",
    "cfg['t0']  = [0.22,0.01] #[mean, std]\n",
    "cfg['t1']  = [0.2,0.025]\n",
    "cfg['t2']  = [0.18,0.01]\n",
    "cfg['t3']  = [0.221,0.003]\n",
    "cfg['t4']  = [0.30,0.02] #[mean, std]\n",
    "cfg['t5']  = [0.31,0.01]\n",
    "cfg['t6']  = [0.29,0.025]\n",
    "cfg['t7']  = [0.30,0.01]\n",
    "h0 = list(cfg.keys())"
   ]
  },
  {
   "cell_type": "code",
   "execution_count": 4,
   "id": "4f170a95",
   "metadata": {},
   "outputs": [],
   "source": [
    "ms = MeasurementsSimulator(cfg, 'normal',seed=159) \n",
    "ms.measure(15,1)"
   ]
  },
  {
   "cell_type": "code",
   "execution_count": 5,
   "id": "3ecb0137",
   "metadata": {},
   "outputs": [
    {
     "data": {
      "image/png": "[encoded data removed]",
      "text/plain": [
       "<Figure size 720x576 with 1 Axes>"
      ]
     },
     "metadata": {
      "needs_background": "light"
     },
     "output_type": "display_data"
    }
   ],
   "source": [
    "mv = MeasurementsVisualizer(ms.get_alg_measurements(), h0)\n",
    "fig = mv.show_measurements_boxplots(tick_size=14,scale=1.0)"
   ]
  },
  {
   "cell_type": "code",
   "execution_count": 6,
   "id": "1bb11ec8",
   "metadata": {},
   "outputs": [],
   "source": [
    "fig.savefig(\"vagueness.pdf\", format=\"pdf\", bbox_inches=\"tight\")"
   ]
  },
  {
   "cell_type": "code",
   "execution_count": 111,
   "id": "08ec1dfe",
   "metadata": {},
   "outputs": [],
   "source": [
    "rv = RankVariantsDFGTr(ms.get_alg_measurements(), h0)"
   ]
  },
  {
   "cell_type": "code",
   "execution_count": 112,
   "id": "5a8eb8da",
   "metadata": {},
   "outputs": [
    {
     "data": {
      "text/html": [
       "<div>\n",
       "<style scoped>\n",
       "    .dataframe tbody tr th:only-of-type {\n",
       "        vertical-align: middle;\n",
       "    }\n",
       "\n",
       "    .dataframe tbody tr th {\n",
       "        vertical-align: top;\n",
       "    }\n",
       "\n",
       "    .dataframe thead th {\n",
       "        text-align: right;\n",
       "    }\n",
       "</style>\n",
       "<table border=\"1\" class=\"dataframe\">\n",
       "  <thead>\n",
       "    <tr style=\"text-align: right;\">\n",
       "      <th></th>\n",
       "      <th>case:concept:name</th>\n",
       "      <th>case:rank:q75-q25</th>\n",
       "    </tr>\n",
       "  </thead>\n",
       "  <tbody>\n",
       "    <tr>\n",
       "      <th>0</th>\n",
       "      <td>t1</td>\n",
       "      <td>0</td>\n",
       "    </tr>\n",
       "    <tr>\n",
       "      <th>1</th>\n",
       "      <td>t2</td>\n",
       "      <td>0</td>\n",
       "    </tr>\n",
       "    <tr>\n",
       "      <th>2</th>\n",
       "      <td>t0</td>\n",
       "      <td>1</td>\n",
       "    </tr>\n",
       "    <tr>\n",
       "      <th>3</th>\n",
       "      <td>t3</td>\n",
       "      <td>1</td>\n",
       "    </tr>\n",
       "    <tr>\n",
       "      <th>4</th>\n",
       "      <td>t4</td>\n",
       "      <td>2</td>\n",
       "    </tr>\n",
       "    <tr>\n",
       "      <th>5</th>\n",
       "      <td>t6</td>\n",
       "      <td>2</td>\n",
       "    </tr>\n",
       "    <tr>\n",
       "      <th>6</th>\n",
       "      <td>t5</td>\n",
       "      <td>3</td>\n",
       "    </tr>\n",
       "    <tr>\n",
       "      <th>7</th>\n",
       "      <td>t7</td>\n",
       "      <td>3</td>\n",
       "    </tr>\n",
       "  </tbody>\n",
       "</table>\n",
       "</div>"
      ],
      "text/plain": [
       "  case:concept:name  case:rank:q75-q25\n",
       "0                t1                  0\n",
       "1                t2                  0\n",
       "2                t0                  1\n",
       "3                t3                  1\n",
       "4                t4                  2\n",
       "5                t6                  2\n",
       "6                t5                  3\n",
       "7                t7                  3"
      ]
     },
     "execution_count": 112,
     "metadata": {},
     "output_type": "execute_result"
    }
   ],
   "source": [
    "rv.rank_variants()"
   ]
  },
  {
   "cell_type": "code",
   "execution_count": 113,
   "id": "beaf952c",
   "metadata": {},
   "outputs": [
    {
     "data": {
      "image/svg+xml": [
       "<?xml version=\"1.0\" encoding=\"UTF-8\" standalone=\"no\"?>\n",
       "<!DOCTYPE svg PUBLIC \"-//W3C//DTD SVG 1.1//EN\"\n",
       " \"http://www.w3.org/Graphics/SVG/1.1/DTD/svg11.dtd\">\n",
       "<!-- Generated by graphviz version 2.40.1 (20161225.0304)\n",
       " -->\n",
       "<!-- Title: %3 Pages: 1 -->\n",
       "<svg width=\"170pt\" height=\"260pt\"\n",
       " viewBox=\"0.00 0.00 170.00 260.00\" xmlns=\"http://www.w3.org/2000/svg\" xmlns:xlink=\"http://www.w3.org/1999/xlink\">\n",
       "<g id=\"graph0\" class=\"graph\" transform=\"scale(1 1) rotate(0) translate(4 256)\">\n",
       "<title>%3</title>\n",
       "<polygon fill=\"#ffffff\" stroke=\"transparent\" points=\"-4,4 -4,-256 166,-256 166,4 -4,4\"/>\n",
       "<!-- t0 -->\n",
       "<g id=\"node1\" class=\"node\">\n",
       "<title>t0</title>\n",
       "<ellipse fill=\"#f0efed\" stroke=\"#f0efed\" cx=\"63\" cy=\"-162\" rx=\"27\" ry=\"18\"/>\n",
       "<text text-anchor=\"middle\" x=\"63\" y=\"-157.8\" font-family=\"Times,serif\" font-size=\"14.00\" fill=\"#000000\">t0</text>\n",
       "</g>\n",
       "<!-- t4 -->\n",
       "<g id=\"node5\" class=\"node\">\n",
       "<title>t4</title>\n",
       "<ellipse fill=\"#f0efed\" stroke=\"#f0efed\" cx=\"63\" cy=\"-90\" rx=\"27\" ry=\"18\"/>\n",
       "<text text-anchor=\"middle\" x=\"63\" y=\"-85.8\" font-family=\"Times,serif\" font-size=\"14.00\" fill=\"#000000\">t4</text>\n",
       "</g>\n",
       "<!-- t0&#45;&gt;t4 -->\n",
       "<g id=\"edge1\" class=\"edge\">\n",
       "<title>t0&#45;&gt;t4</title>\n",
       "<path fill=\"none\" stroke=\"#000000\" d=\"M63,-143.8314C63,-136.131 63,-126.9743 63,-118.4166\"/>\n",
       "<polygon fill=\"#000000\" stroke=\"#000000\" points=\"66.5001,-118.4132 63,-108.4133 59.5001,-118.4133 66.5001,-118.4132\"/>\n",
       "</g>\n",
       "<!-- t6 -->\n",
       "<g id=\"node7\" class=\"node\">\n",
       "<title>t6</title>\n",
       "<ellipse fill=\"#f0efed\" stroke=\"#f0efed\" cx=\"135\" cy=\"-90\" rx=\"27\" ry=\"18\"/>\n",
       "<text text-anchor=\"middle\" x=\"135\" y=\"-85.8\" font-family=\"Times,serif\" font-size=\"14.00\" fill=\"#000000\">t6</text>\n",
       "</g>\n",
       "<!-- t0&#45;&gt;t6 -->\n",
       "<g id=\"edge2\" class=\"edge\">\n",
       "<title>t0&#45;&gt;t6</title>\n",
       "<path fill=\"none\" stroke=\"#000000\" d=\"M78.2693,-146.7307C88.197,-136.803 101.3153,-123.6847 112.4363,-112.5637\"/>\n",
       "<polygon fill=\"#000000\" stroke=\"#000000\" points=\"115.1564,-114.7933 119.7527,-105.2473 110.2067,-109.8436 115.1564,-114.7933\"/>\n",
       "</g>\n",
       "<!-- t1 -->\n",
       "<g id=\"node2\" class=\"node\">\n",
       "<title>t1</title>\n",
       "<ellipse fill=\"#f0efed\" stroke=\"#f0efed\" cx=\"135\" cy=\"-234\" rx=\"27\" ry=\"18\"/>\n",
       "<text text-anchor=\"middle\" x=\"135\" y=\"-229.8\" font-family=\"Times,serif\" font-size=\"14.00\" fill=\"#000000\">t1</text>\n",
       "</g>\n",
       "<!-- t3 -->\n",
       "<g id=\"node4\" class=\"node\">\n",
       "<title>t3</title>\n",
       "<ellipse fill=\"#f0efed\" stroke=\"#f0efed\" cx=\"135\" cy=\"-162\" rx=\"27\" ry=\"18\"/>\n",
       "<text text-anchor=\"middle\" x=\"135\" y=\"-157.8\" font-family=\"Times,serif\" font-size=\"14.00\" fill=\"#000000\">t3</text>\n",
       "</g>\n",
       "<!-- t1&#45;&gt;t3 -->\n",
       "<g id=\"edge3\" class=\"edge\">\n",
       "<title>t1&#45;&gt;t3</title>\n",
       "<path fill=\"none\" stroke=\"#000000\" d=\"M135,-215.8314C135,-208.131 135,-198.9743 135,-190.4166\"/>\n",
       "<polygon fill=\"#000000\" stroke=\"#000000\" points=\"138.5001,-190.4132 135,-180.4133 131.5001,-190.4133 138.5001,-190.4132\"/>\n",
       "</g>\n",
       "<!-- t2 -->\n",
       "<g id=\"node3\" class=\"node\">\n",
       "<title>t2</title>\n",
       "<ellipse fill=\"#f0efed\" stroke=\"#f0efed\" cx=\"63\" cy=\"-234\" rx=\"27\" ry=\"18\"/>\n",
       "<text text-anchor=\"middle\" x=\"63\" y=\"-229.8\" font-family=\"Times,serif\" font-size=\"14.00\" fill=\"#000000\">t2</text>\n",
       "</g>\n",
       "<!-- t2&#45;&gt;t0 -->\n",
       "<g id=\"edge5\" class=\"edge\">\n",
       "<title>t2&#45;&gt;t0</title>\n",
       "<path fill=\"none\" stroke=\"#000000\" d=\"M63,-215.8314C63,-208.131 63,-198.9743 63,-190.4166\"/>\n",
       "<polygon fill=\"#000000\" stroke=\"#000000\" points=\"66.5001,-190.4132 63,-180.4133 59.5001,-190.4133 66.5001,-190.4132\"/>\n",
       "</g>\n",
       "<!-- t2&#45;&gt;t3 -->\n",
       "<g id=\"edge4\" class=\"edge\">\n",
       "<title>t2&#45;&gt;t3</title>\n",
       "<path fill=\"none\" stroke=\"#000000\" d=\"M78.2693,-218.7307C88.197,-208.803 101.3153,-195.6847 112.4363,-184.5637\"/>\n",
       "<polygon fill=\"#000000\" stroke=\"#000000\" points=\"115.1564,-186.7933 119.7527,-177.2473 110.2067,-181.8436 115.1564,-186.7933\"/>\n",
       "</g>\n",
       "<!-- t3&#45;&gt;t4 -->\n",
       "<g id=\"edge6\" class=\"edge\">\n",
       "<title>t3&#45;&gt;t4</title>\n",
       "<path fill=\"none\" stroke=\"#000000\" d=\"M119.7307,-146.7307C109.803,-136.803 96.6847,-123.6847 85.5637,-112.5637\"/>\n",
       "<polygon fill=\"#000000\" stroke=\"#000000\" points=\"87.7933,-109.8436 78.2473,-105.2473 82.8436,-114.7933 87.7933,-109.8436\"/>\n",
       "</g>\n",
       "<!-- t3&#45;&gt;t6 -->\n",
       "<g id=\"edge7\" class=\"edge\">\n",
       "<title>t3&#45;&gt;t6</title>\n",
       "<path fill=\"none\" stroke=\"#000000\" d=\"M135,-143.8314C135,-136.131 135,-126.9743 135,-118.4166\"/>\n",
       "<polygon fill=\"#000000\" stroke=\"#000000\" points=\"138.5001,-118.4132 135,-108.4133 131.5001,-118.4133 138.5001,-118.4132\"/>\n",
       "</g>\n",
       "<!-- t5 -->\n",
       "<g id=\"node6\" class=\"node\">\n",
       "<title>t5</title>\n",
       "<ellipse fill=\"#f0efed\" stroke=\"#f0efed\" cx=\"27\" cy=\"-18\" rx=\"27\" ry=\"18\"/>\n",
       "<text text-anchor=\"middle\" x=\"27\" y=\"-13.8\" font-family=\"Times,serif\" font-size=\"14.00\" fill=\"#000000\">t5</text>\n",
       "</g>\n",
       "<!-- t4&#45;&gt;t5 -->\n",
       "<g id=\"edge8\" class=\"edge\">\n",
       "<title>t4&#45;&gt;t5</title>\n",
       "<path fill=\"none\" stroke=\"#000000\" d=\"M54.2854,-72.5708C50.0403,-64.0807 44.8464,-53.6929 40.1337,-44.2674\"/>\n",
       "<polygon fill=\"#000000\" stroke=\"#000000\" points=\"43.237,-42.6477 35.6343,-35.2687 36.976,-45.7782 43.237,-42.6477\"/>\n",
       "</g>\n",
       "<!-- t7 -->\n",
       "<g id=\"node8\" class=\"node\">\n",
       "<title>t7</title>\n",
       "<ellipse fill=\"#f0efed\" stroke=\"#f0efed\" cx=\"99\" cy=\"-18\" rx=\"27\" ry=\"18\"/>\n",
       "<text text-anchor=\"middle\" x=\"99\" y=\"-13.8\" font-family=\"Times,serif\" font-size=\"14.00\" fill=\"#000000\">t7</text>\n",
       "</g>\n",
       "<!-- t4&#45;&gt;t7 -->\n",
       "<g id=\"edge9\" class=\"edge\">\n",
       "<title>t4&#45;&gt;t7</title>\n",
       "<path fill=\"none\" stroke=\"#000000\" d=\"M71.7146,-72.5708C75.9597,-64.0807 81.1536,-53.6929 85.8663,-44.2674\"/>\n",
       "<polygon fill=\"#000000\" stroke=\"#000000\" points=\"89.024,-45.7782 90.3657,-35.2687 82.763,-42.6477 89.024,-45.7782\"/>\n",
       "</g>\n",
       "</g>\n",
       "</svg>\n"
      ],
      "text/plain": [
       "<graphviz.graphs.Digraph at 0x7fd3f155a3d0>"
      ]
     },
     "execution_count": 113,
     "metadata": {},
     "output_type": "execute_result"
    }
   ],
   "source": [
    "rv.graph.transitivity_reduction()\n",
    "rv.graph.visualize()"
   ]
  },
  {
   "cell_type": "code",
   "execution_count": null,
   "id": "a459d068",
   "metadata": {},
   "outputs": [],
   "source": [
    "#1) 1st alg No connections to last alg\n",
    "#2) Order in terms of decreasing outgoing edges"
   ]
  },
  {
   "cell_type": "code",
   "execution_count": 114,
   "id": "c90ac4f9",
   "metadata": {},
   "outputs": [],
   "source": [
    "h0_ = ['t2','t1','t0','t3','t4','t6','t5','t7']"
   ]
  },
  {
   "cell_type": "code",
   "execution_count": 117,
   "id": "2cfa82c9",
   "metadata": {},
   "outputs": [],
   "source": [
    "rv2 = RankVariantsSort2(ms.get_alg_measurements(), h0_)"
   ]
  },
  {
   "cell_type": "code",
   "execution_count": 118,
   "id": "fe307f53",
   "metadata": {},
   "outputs": [
    {
     "data": {
      "text/html": [
       "<div>\n",
       "<style scoped>\n",
       "    .dataframe tbody tr th:only-of-type {\n",
       "        vertical-align: middle;\n",
       "    }\n",
       "\n",
       "    .dataframe tbody tr th {\n",
       "        vertical-align: top;\n",
       "    }\n",
       "\n",
       "    .dataframe thead th {\n",
       "        text-align: right;\n",
       "    }\n",
       "</style>\n",
       "<table border=\"1\" class=\"dataframe\">\n",
       "  <thead>\n",
       "    <tr style=\"text-align: right;\">\n",
       "      <th></th>\n",
       "      <th>case:concept:name</th>\n",
       "      <th>case:rank:q75-q25</th>\n",
       "    </tr>\n",
       "  </thead>\n",
       "  <tbody>\n",
       "    <tr>\n",
       "      <th>0</th>\n",
       "      <td>t2</td>\n",
       "      <td>0</td>\n",
       "    </tr>\n",
       "    <tr>\n",
       "      <th>1</th>\n",
       "      <td>t1</td>\n",
       "      <td>0</td>\n",
       "    </tr>\n",
       "    <tr>\n",
       "      <th>2</th>\n",
       "      <td>t0</td>\n",
       "      <td>0</td>\n",
       "    </tr>\n",
       "    <tr>\n",
       "      <th>3</th>\n",
       "      <td>t3</td>\n",
       "      <td>0</td>\n",
       "    </tr>\n",
       "    <tr>\n",
       "      <th>4</th>\n",
       "      <td>t4</td>\n",
       "      <td>1</td>\n",
       "    </tr>\n",
       "    <tr>\n",
       "      <th>5</th>\n",
       "      <td>t6</td>\n",
       "      <td>1</td>\n",
       "    </tr>\n",
       "    <tr>\n",
       "      <th>6</th>\n",
       "      <td>t5</td>\n",
       "      <td>1</td>\n",
       "    </tr>\n",
       "    <tr>\n",
       "      <th>7</th>\n",
       "      <td>t7</td>\n",
       "      <td>1</td>\n",
       "    </tr>\n",
       "  </tbody>\n",
       "</table>\n",
       "</div>"
      ],
      "text/plain": [
       "  case:concept:name  case:rank:q75-q25\n",
       "0                t2                  0\n",
       "1                t1                  0\n",
       "2                t0                  0\n",
       "3                t3                  0\n",
       "4                t4                  1\n",
       "5                t6                  1\n",
       "6                t5                  1\n",
       "7                t7                  1"
      ]
     },
     "execution_count": 118,
     "metadata": {},
     "output_type": "execute_result"
    }
   ],
   "source": [
    "rv2.rank_variants()"
   ]
  },
  {
   "cell_type": "code",
   "execution_count": 120,
   "id": "8dfa7324",
   "metadata": {},
   "outputs": [
    {
     "data": {
      "image/png": "[encoded data removed]",
      "text/plain": [
       "<Figure size 720x576 with 1 Axes>"
      ]
     },
     "metadata": {
      "needs_background": "light"
     },
     "output_type": "display_data"
    }
   ],
   "source": [
    "mv = MeasurementsVisualizer(ms.get_alg_measurements(), h0_)\n",
    "fig = mv.show_measurements_boxplots(tick_size=14,scale=1.0)"
   ]
  },
  {
   "cell_type": "code",
   "execution_count": null,
   "id": "0bdd790e",
   "metadata": {},
   "outputs": [],
   "source": []
  }
 ],
 "metadata": {
  "kernelspec": {
   "display_name": "Python 3 (ipykernel)",
   "language": "python",
   "name": "python3"
  },
  "language_info": {
   "codemirror_mode": {
    "name": "ipython",
    "version": 3
   },
   "file_extension": ".py",
   "mimetype": "text/x-python",
   "name": "python",
   "nbconvert_exporter": "python",
   "pygments_lexer": "ipython3",
   "version": "3.9.7"
  }
 },
 "nbformat": 4,
 "nbformat_minor": 5
}
