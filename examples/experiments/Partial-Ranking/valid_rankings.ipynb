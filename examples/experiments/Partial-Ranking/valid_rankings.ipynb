{
 "cells": [
  {
   "cell_type": "code",
   "execution_count": 7,
   "id": "a04db4af",
   "metadata": {},
   "outputs": [],
   "source": [
    "from algorithm_ranking import MeasurementsSimulator, MeasurementsVisualizer, RankVariantsSort2"
   ]
  },
  {
   "cell_type": "code",
   "execution_count": 2,
   "id": "60b6ae55",
   "metadata": {},
   "outputs": [],
   "source": [
    "import pandas as pd\n",
    "import numpy as np"
   ]
  },
  {
   "cell_type": "code",
   "execution_count": 13,
   "id": "08c4e90f",
   "metadata": {},
   "outputs": [],
   "source": [
    "cfg = {}\n",
    "cfg['t0']  = [0.2,0.02] #[mean, std]\n",
    "cfg['t1']  = [0.2,0.01]\n",
    "cfg['t2']  = [0.2,0.01]\n",
    "cfg['t3']  = [0.18,0.01]\n",
    "h0 = list(cfg.keys())"
   ]
  },
  {
   "cell_type": "code",
   "execution_count": 14,
   "id": "227972d0",
   "metadata": {},
   "outputs": [],
   "source": [
    "ms = MeasurementsSimulator(cfg, 'normal',seed=159) \n",
    "ms.measure(10,1)"
   ]
  },
  {
   "cell_type": "code",
   "execution_count": 25,
   "id": "78fa9415",
   "metadata": {},
   "outputs": [
    {
     "data": {
      "image/png": "[encoded data removed]",
      "text/plain": [
       "<Figure size 720x432 with 1 Axes>"
      ]
     },
     "metadata": {
      "needs_background": "light"
     },
     "output_type": "display_data"
    }
   ],
   "source": [
    "mv = MeasurementsVisualizer(ms.get_alg_measurements(), h0)\n",
    "fig = mv.show_measurements_boxplots(tick_size=18)"
   ]
  },
  {
   "cell_type": "code",
   "execution_count": 26,
   "id": "05568820",
   "metadata": {},
   "outputs": [],
   "source": [
    "fig.savefig(\"valid-2.pdf\", format=\"pdf\", bbox_inches=\"tight\")"
   ]
  },
  {
   "cell_type": "code",
   "execution_count": 27,
   "id": "c238bf4c",
   "metadata": {},
   "outputs": [],
   "source": [
    "h0 = ['t1', 't3', 't0', 't2']\n",
    "rv = RankVariantsSort2(ms.get_alg_measurements(), h0)"
   ]
  },
  {
   "cell_type": "code",
   "execution_count": 28,
   "id": "0e743166",
   "metadata": {},
   "outputs": [
    {
     "name": "stdout",
     "output_type": "stream",
     "text": [
      "['t1', 't3', 't0', 't2']\n",
      "[0 1 2 3]\n",
      "\n",
      "\n",
      "compare t3 and t1\n",
      "['t3', 't1', 't0', 't2']\n",
      "[0 1 2 3]\n",
      "\n",
      "\n",
      "compare t1 and t0\n",
      "['t3', 't1', 't0', 't2']\n",
      "[0 1 1 2]\n",
      "\n",
      "\n",
      "compare t0 and t2\n",
      "['t3', 't1', 't0', 't2']\n",
      "[0 1 1 1]\n",
      "\n",
      "\n",
      "compare t3 and t1\n",
      "['t3', 't1', 't0', 't2']\n",
      "[0 1 1 1]\n",
      "\n",
      "\n",
      "compare t1 and t0\n",
      "['t3', 't1', 't0', 't2']\n",
      "[0 1 1 1]\n",
      "\n",
      "\n",
      "compare t3 and t1\n",
      "['t3', 't1', 't0', 't2']\n",
      "[0 1 1 1]\n",
      "\n",
      "\n"
     ]
    },
    {
     "data": {
      "text/html": [
       "<div>\n",
       "<style scoped>\n",
       "    .dataframe tbody tr th:only-of-type {\n",
       "        vertical-align: middle;\n",
       "    }\n",
       "\n",
       "    .dataframe tbody tr th {\n",
       "        vertical-align: top;\n",
       "    }\n",
       "\n",
       "    .dataframe thead th {\n",
       "        text-align: right;\n",
       "    }\n",
       "</style>\n",
       "<table border=\"1\" class=\"dataframe\">\n",
       "  <thead>\n",
       "    <tr style=\"text-align: right;\">\n",
       "      <th></th>\n",
       "      <th>case:concept:name</th>\n",
       "      <th>case:rank:q75-q25</th>\n",
       "    </tr>\n",
       "  </thead>\n",
       "  <tbody>\n",
       "    <tr>\n",
       "      <th>0</th>\n",
       "      <td>t3</td>\n",
       "      <td>0</td>\n",
       "    </tr>\n",
       "    <tr>\n",
       "      <th>1</th>\n",
       "      <td>t1</td>\n",
       "      <td>1</td>\n",
       "    </tr>\n",
       "    <tr>\n",
       "      <th>2</th>\n",
       "      <td>t0</td>\n",
       "      <td>1</td>\n",
       "    </tr>\n",
       "    <tr>\n",
       "      <th>3</th>\n",
       "      <td>t2</td>\n",
       "      <td>1</td>\n",
       "    </tr>\n",
       "  </tbody>\n",
       "</table>\n",
       "</div>"
      ],
      "text/plain": [
       "  case:concept:name  case:rank:q75-q25\n",
       "0                t3                  0\n",
       "1                t1                  1\n",
       "2                t0                  1\n",
       "3                t2                  1"
      ]
     },
     "execution_count": 28,
     "metadata": {},
     "output_type": "execute_result"
    }
   ],
   "source": [
    "rv.rank_variants(debug=True)"
   ]
  },
  {
   "cell_type": "code",
   "execution_count": 9,
   "id": "a647410a",
   "metadata": {},
   "outputs": [],
   "source": [
    "cfg = {}\n",
    "cfg['alg1']  = [0.2,0.02] #[mean, std]\n",
    "cfg['alg2']  = [0.2,0.02]\n",
    "cfg['alg3']  = [0.25,0.02]\n",
    "cfg['alg4']  = [0.25,0.02]\n",
    "h0 = list(cfg.keys())"
   ]
  },
  {
   "cell_type": "code",
   "execution_count": 30,
   "id": "dc401310",
   "metadata": {},
   "outputs": [],
   "source": [
    "ms = MeasurementsSimulator(cfg, 'normal',seed=181) \n",
    "ms.measure(10,1)"
   ]
  },
  {
   "cell_type": "code",
   "execution_count": 31,
   "id": "91136776",
   "metadata": {},
   "outputs": [
    {
     "data": {
      "image/png": "[encoded data removed]",
      "text/plain": [
       "<Figure size 720x432 with 1 Axes>"
      ]
     },
     "metadata": {
      "needs_background": "light"
     },
     "output_type": "display_data"
    }
   ],
   "source": [
    "mv = MeasurementsVisualizer(ms.get_alg_measurements(), h0)\n",
    "fig = mv.show_measurements_boxplots(tick_size=18)"
   ]
  },
  {
   "cell_type": "code",
   "execution_count": 32,
   "id": "8e5976df",
   "metadata": {},
   "outputs": [],
   "source": [
    "fig.savefig(\"valid-1.pdf\", format=\"pdf\", bbox_inches=\"tight\")"
   ]
  },
  {
   "cell_type": "code",
   "execution_count": null,
   "id": "fceb3ad1",
   "metadata": {},
   "outputs": [],
   "source": []
  }
 ],
 "metadata": {
  "kernelspec": {
   "display_name": "Python 3 (ipykernel)",
   "language": "python",
   "name": "python3"
  },
  "language_info": {
   "codemirror_mode": {
    "name": "ipython",
    "version": 3
   },
   "file_extension": ".py",
   "mimetype": "text/x-python",
   "name": "python",
   "nbconvert_exporter": "python",
   "pygments_lexer": "ipython3",
   "version": "3.9.7"
  }
 },
 "nbformat": 4,
 "nbformat_minor": 5
}
