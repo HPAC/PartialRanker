{
 "cells": [
  {
   "cell_type": "code",
   "execution_count": 1,
   "id": "1406cbe3",
   "metadata": {},
   "outputs": [],
   "source": [
    "from algorithm_ranking import MeasurementsSimulator, MeasurementsVisualizer, MeasurementsManager, RankVariantsSort2"
   ]
  },
  {
   "cell_type": "code",
   "execution_count": 2,
   "id": "ba52df81",
   "metadata": {},
   "outputs": [],
   "source": [
    "import pandas as pd\n",
    "import numpy as np"
   ]
  },
  {
   "cell_type": "markdown",
   "id": "c3afac0d",
   "metadata": {},
   "source": [
    "### Experiment 1"
   ]
  },
  {
   "cell_type": "code",
   "execution_count": 3,
   "id": "eacbcfb3",
   "metadata": {},
   "outputs": [
    {
     "data": {
      "text/plain": [
       "['alg1', 'alg2', 'alg3', 'alg4']"
      ]
     },
     "execution_count": 3,
     "metadata": {},
     "output_type": "execute_result"
    }
   ],
   "source": [
    "cfg = {}\n",
    "cfg['alg1']  = [0.2,0.02] #[mean, std]\n",
    "cfg['alg2']  = [0.2,0.01]\n",
    "cfg['alg3']  = [0.2,0.01]\n",
    "cfg['alg4']  = [0.18,0.01]\n",
    "h0 = list(cfg.keys())\n",
    "h0"
   ]
  },
  {
   "cell_type": "code",
   "execution_count": 4,
   "id": "e10331b2",
   "metadata": {},
   "outputs": [],
   "source": [
    "ms = MeasurementsSimulator(cfg, 'normal',seed=159) \n",
    "ms.measure(10,1)"
   ]
  },
  {
   "cell_type": "code",
   "execution_count": 5,
   "id": "0ce04f2a",
   "metadata": {},
   "outputs": [
    {
     "data": {
      "image/png": "[encoded data removed]",
      "text/plain": [
       "<Figure size 720x432 with 1 Axes>"
      ]
     },
     "metadata": {
      "needs_background": "light"
     },
     "output_type": "display_data"
    }
   ],
   "source": [
    "mv = MeasurementsVisualizer(ms.get_alg_measurements(), h0)\n",
    "fig = mv.show_measurements_boxplots()"
   ]
  },
  {
   "cell_type": "code",
   "execution_count": 6,
   "id": "6d95bac0",
   "metadata": {},
   "outputs": [
    {
     "data": {
      "text/plain": [
       "['alg1', 'alg2', 'alg3', 'alg4']"
      ]
     },
     "execution_count": 6,
     "metadata": {},
     "output_type": "execute_result"
    }
   ],
   "source": [
    "rv = RankVariantsSort2(ms.get_alg_measurements(), h0)\n",
    "h0"
   ]
  },
  {
   "cell_type": "code",
   "execution_count": 7,
   "id": "aa2402b8",
   "metadata": {},
   "outputs": [
    {
     "name": "stdout",
     "output_type": "stream",
     "text": [
      "['alg1', 'alg2', 'alg3', 'alg4']\n",
      "[0 1 2 3]\n",
      "\n",
      "\n",
      "compare alg1 and alg2\n",
      "['alg1', 'alg2', 'alg3', 'alg4']\n",
      "[0 0 1 2]\n",
      "\n",
      "\n",
      "compare alg2 and alg3\n",
      "['alg1', 'alg2', 'alg3', 'alg4']\n",
      "[0 0 1 2]\n",
      "\n",
      "\n",
      "compare alg4 and alg3\n",
      "['alg1', 'alg2', 'alg4', 'alg3']\n",
      "[0 0 1 2]\n",
      "\n",
      "\n",
      "compare alg1 and alg2\n",
      "['alg1', 'alg2', 'alg4', 'alg3']\n",
      "[0 0 1 2]\n",
      "\n",
      "\n",
      "compare alg4 and alg2\n",
      "['alg1', 'alg4', 'alg2', 'alg3']\n",
      "[0 0 1 2]\n",
      "\n",
      "\n",
      "compare alg4 and alg1\n",
      "['alg4', 'alg1', 'alg2', 'alg3']\n",
      "[0 1 1 2]\n",
      "\n",
      "\n"
     ]
    },
    {
     "data": {
      "text/html": [
       "<div>\n",
       "<style scoped>\n",
       "    .dataframe tbody tr th:only-of-type {\n",
       "        vertical-align: middle;\n",
       "    }\n",
       "\n",
       "    .dataframe tbody tr th {\n",
       "        vertical-align: top;\n",
       "    }\n",
       "\n",
       "    .dataframe thead th {\n",
       "        text-align: right;\n",
       "    }\n",
       "</style>\n",
       "<table border=\"1\" class=\"dataframe\">\n",
       "  <thead>\n",
       "    <tr style=\"text-align: right;\">\n",
       "      <th></th>\n",
       "      <th>case:concept:name</th>\n",
       "      <th>case:rank:q75-q25</th>\n",
       "    </tr>\n",
       "  </thead>\n",
       "  <tbody>\n",
       "    <tr>\n",
       "      <th>0</th>\n",
       "      <td>alg4</td>\n",
       "      <td>0</td>\n",
       "    </tr>\n",
       "    <tr>\n",
       "      <th>1</th>\n",
       "      <td>alg1</td>\n",
       "      <td>1</td>\n",
       "    </tr>\n",
       "    <tr>\n",
       "      <th>2</th>\n",
       "      <td>alg2</td>\n",
       "      <td>1</td>\n",
       "    </tr>\n",
       "    <tr>\n",
       "      <th>3</th>\n",
       "      <td>alg3</td>\n",
       "      <td>2</td>\n",
       "    </tr>\n",
       "  </tbody>\n",
       "</table>\n",
       "</div>"
      ],
      "text/plain": [
       "  case:concept:name  case:rank:q75-q25\n",
       "0              alg4                  0\n",
       "1              alg1                  1\n",
       "2              alg2                  1\n",
       "3              alg3                  2"
      ]
     },
     "execution_count": 7,
     "metadata": {},
     "output_type": "execute_result"
    }
   ],
   "source": [
    "rv.rank_variants(debug=True)"
   ]
  },
  {
   "cell_type": "code",
   "execution_count": 8,
   "id": "5aeb616d",
   "metadata": {},
   "outputs": [
    {
     "data": {
      "text/plain": [
       "5"
      ]
     },
     "execution_count": 8,
     "metadata": {},
     "output_type": "execute_result"
    }
   ],
   "source": [
    "rv.compare_algs.num_comparisons"
   ]
  },
  {
   "cell_type": "markdown",
   "id": "23e6acb3",
   "metadata": {},
   "source": [
    "### Experiment 2"
   ]
  },
  {
   "cell_type": "code",
   "execution_count": 9,
   "id": "9ef820cf",
   "metadata": {},
   "outputs": [],
   "source": [
    "cfg = {}\n",
    "cfg['alg1']  = [0.2,0.02] # [mean, std]\n",
    "cfg['alg2']  = [0.2,0.01]\n",
    "cfg['alg3']  = [0.2,0.01]\n",
    "cfg['alg4']  = [0.19,0.01]\n",
    "ms = MeasurementsSimulator(cfg, 'normal',seed=129)    \n",
    "rep_steps = 20\n",
    "run_id= 1\n",
    "ms.measure(rep_steps=rep_steps, run_id=run_id)"
   ]
  },
  {
   "cell_type": "code",
   "execution_count": 10,
   "id": "dcf391da",
   "metadata": {},
   "outputs": [
    {
     "data": {
      "text/plain": [
       "['alg1', 'alg2', 'alg3', 'alg4']"
      ]
     },
     "execution_count": 10,
     "metadata": {},
     "output_type": "execute_result"
    }
   ],
   "source": [
    "h0 = list(cfg.keys())\n",
    "h0"
   ]
  },
  {
   "cell_type": "code",
   "execution_count": 11,
   "id": "1d700551",
   "metadata": {},
   "outputs": [
    {
     "data": {
      "image/png": "[encoded data removed]",
      "text/plain": [
       "<Figure size 720x432 with 1 Axes>"
      ]
     },
     "metadata": {
      "needs_background": "light"
     },
     "output_type": "display_data"
    }
   ],
   "source": [
    "mv = MeasurementsVisualizer(ms.get_alg_measurements(), h0)\n",
    "fig = mv.show_measurements_boxplots()"
   ]
  },
  {
   "cell_type": "code",
   "execution_count": 12,
   "id": "1753544b",
   "metadata": {},
   "outputs": [],
   "source": [
    "rv = RankVariantsSort2(ms.get_alg_measurements(), h0)"
   ]
  },
  {
   "cell_type": "code",
   "execution_count": 13,
   "id": "0b9101c2",
   "metadata": {},
   "outputs": [
    {
     "name": "stdout",
     "output_type": "stream",
     "text": [
      "['alg1', 'alg2', 'alg3', 'alg4']\n",
      "[0 1 2 3]\n",
      "\n",
      "\n",
      "compare alg1 and alg2\n",
      "['alg1', 'alg2', 'alg3', 'alg4']\n",
      "[0 0 1 2]\n",
      "\n",
      "\n",
      "compare alg2 and alg3\n",
      "['alg1', 'alg2', 'alg3', 'alg4']\n",
      "[0 0 0 1]\n",
      "\n",
      "\n",
      "compare alg4 and alg3\n",
      "['alg1', 'alg2', 'alg4', 'alg3']\n",
      "[0 0 0 1]\n",
      "\n",
      "\n",
      "compare alg1 and alg2\n",
      "['alg1', 'alg2', 'alg4', 'alg3']\n",
      "[0 0 0 1]\n",
      "\n",
      "\n",
      "compare alg4 and alg2\n",
      "['alg1', 'alg4', 'alg2', 'alg3']\n",
      "[0 0 1 1]\n",
      "\n",
      "\n",
      "compare alg1 and alg4\n",
      "['alg1', 'alg4', 'alg2', 'alg3']\n",
      "[0 0 1 1]\n",
      "\n",
      "\n"
     ]
    },
    {
     "data": {
      "text/html": [
       "<div>\n",
       "<style scoped>\n",
       "    .dataframe tbody tr th:only-of-type {\n",
       "        vertical-align: middle;\n",
       "    }\n",
       "\n",
       "    .dataframe tbody tr th {\n",
       "        vertical-align: top;\n",
       "    }\n",
       "\n",
       "    .dataframe thead th {\n",
       "        text-align: right;\n",
       "    }\n",
       "</style>\n",
       "<table border=\"1\" class=\"dataframe\">\n",
       "  <thead>\n",
       "    <tr style=\"text-align: right;\">\n",
       "      <th></th>\n",
       "      <th>case:concept:name</th>\n",
       "      <th>case:rank:q75-q25</th>\n",
       "    </tr>\n",
       "  </thead>\n",
       "  <tbody>\n",
       "    <tr>\n",
       "      <th>0</th>\n",
       "      <td>alg1</td>\n",
       "      <td>0</td>\n",
       "    </tr>\n",
       "    <tr>\n",
       "      <th>1</th>\n",
       "      <td>alg4</td>\n",
       "      <td>0</td>\n",
       "    </tr>\n",
       "    <tr>\n",
       "      <th>2</th>\n",
       "      <td>alg2</td>\n",
       "      <td>1</td>\n",
       "    </tr>\n",
       "    <tr>\n",
       "      <th>3</th>\n",
       "      <td>alg3</td>\n",
       "      <td>1</td>\n",
       "    </tr>\n",
       "  </tbody>\n",
       "</table>\n",
       "</div>"
      ],
      "text/plain": [
       "  case:concept:name  case:rank:q75-q25\n",
       "0              alg1                  0\n",
       "1              alg4                  0\n",
       "2              alg2                  1\n",
       "3              alg3                  1"
      ]
     },
     "execution_count": 13,
     "metadata": {},
     "output_type": "execute_result"
    }
   ],
   "source": [
    "rv.rank_variants(debug=True)"
   ]
  },
  {
   "cell_type": "code",
   "execution_count": 14,
   "id": "32922965",
   "metadata": {},
   "outputs": [
    {
     "data": {
      "text/plain": [
       "5"
      ]
     },
     "execution_count": 14,
     "metadata": {},
     "output_type": "execute_result"
    }
   ],
   "source": [
    "rv.compare_algs.num_comparisons"
   ]
  },
  {
   "cell_type": "code",
   "execution_count": 15,
   "id": "a726b806",
   "metadata": {},
   "outputs": [],
   "source": [
    "cfg = {}\n",
    "cfg['alg1']  = [0.1,0.01] # [mean, std]\n",
    "cfg['alg2']  = [0.1,0.01]\n",
    "cfg['alg3']  = [0.15,0.1]\n",
    "cfg['alg4']  = [0.17,0.01]\n",
    "cfg['alg5']  = [0.17,0.01]\n",
    "ms = MeasurementsSimulator(cfg, 'normal',seed=129)    \n",
    "rep_steps = 20\n",
    "run_id= 1\n",
    "ms.measure(rep_steps=rep_steps, run_id=run_id)\n",
    "h0 = list(cfg.keys())"
   ]
  },
  {
   "cell_type": "code",
   "execution_count": 16,
   "id": "2ad9f7bb",
   "metadata": {},
   "outputs": [
    {
     "data": {
      "image/png": "[encoded data removed]",
      "text/plain": [
       "<Figure size 720x540 with 1 Axes>"
      ]
     },
     "metadata": {
      "needs_background": "light"
     },
     "output_type": "display_data"
    }
   ],
   "source": [
    "mv = MeasurementsVisualizer(ms.get_alg_measurements(), h0)\n",
    "fig = mv.show_measurements_boxplots()"
   ]
  },
  {
   "cell_type": "code",
   "execution_count": 17,
   "id": "239ded53",
   "metadata": {},
   "outputs": [],
   "source": [
    "rv = RankVariantsSort2(ms.get_alg_measurements(), h0)"
   ]
  },
  {
   "cell_type": "code",
   "execution_count": 18,
   "id": "73b48f0e",
   "metadata": {},
   "outputs": [
    {
     "data": {
      "text/html": [
       "<div>\n",
       "<style scoped>\n",
       "    .dataframe tbody tr th:only-of-type {\n",
       "        vertical-align: middle;\n",
       "    }\n",
       "\n",
       "    .dataframe tbody tr th {\n",
       "        vertical-align: top;\n",
       "    }\n",
       "\n",
       "    .dataframe thead th {\n",
       "        text-align: right;\n",
       "    }\n",
       "</style>\n",
       "<table border=\"1\" class=\"dataframe\">\n",
       "  <thead>\n",
       "    <tr style=\"text-align: right;\">\n",
       "      <th></th>\n",
       "      <th>case:concept:name</th>\n",
       "      <th>case:rank:q75-q25</th>\n",
       "    </tr>\n",
       "  </thead>\n",
       "  <tbody>\n",
       "    <tr>\n",
       "      <th>0</th>\n",
       "      <td>alg1</td>\n",
       "      <td>0</td>\n",
       "    </tr>\n",
       "    <tr>\n",
       "      <th>1</th>\n",
       "      <td>alg2</td>\n",
       "      <td>0</td>\n",
       "    </tr>\n",
       "    <tr>\n",
       "      <th>2</th>\n",
       "      <td>alg3</td>\n",
       "      <td>0</td>\n",
       "    </tr>\n",
       "    <tr>\n",
       "      <th>3</th>\n",
       "      <td>alg4</td>\n",
       "      <td>0</td>\n",
       "    </tr>\n",
       "    <tr>\n",
       "      <th>4</th>\n",
       "      <td>alg5</td>\n",
       "      <td>0</td>\n",
       "    </tr>\n",
       "  </tbody>\n",
       "</table>\n",
       "</div>"
      ],
      "text/plain": [
       "  case:concept:name  case:rank:q75-q25\n",
       "0              alg1                  0\n",
       "1              alg2                  0\n",
       "2              alg3                  0\n",
       "3              alg4                  0\n",
       "4              alg5                  0"
      ]
     },
     "execution_count": 18,
     "metadata": {},
     "output_type": "execute_result"
    }
   ],
   "source": [
    "rv.rank_variants()"
   ]
  },
  {
   "cell_type": "code",
   "execution_count": 19,
   "id": "2cc0fdae",
   "metadata": {},
   "outputs": [
    {
     "data": {
      "text/plain": [
       "4"
      ]
     },
     "execution_count": 19,
     "metadata": {},
     "output_type": "execute_result"
    }
   ],
   "source": [
    "rv.compare_algs.num_comparisons"
   ]
  },
  {
   "cell_type": "code",
   "execution_count": 20,
   "id": "5300e0c6",
   "metadata": {},
   "outputs": [],
   "source": [
    "#df = pd.DataFrame(ms.alg_measurements).T"
   ]
  },
  {
   "cell_type": "markdown",
   "id": "44bc53cf",
   "metadata": {},
   "source": [
    "### Fix: Sort by IQR"
   ]
  },
  {
   "cell_type": "code",
   "execution_count": 21,
   "id": "d698ac02",
   "metadata": {},
   "outputs": [
    {
     "data": {
      "text/html": [
       "<div>\n",
       "<style scoped>\n",
       "    .dataframe tbody tr th:only-of-type {\n",
       "        vertical-align: middle;\n",
       "    }\n",
       "\n",
       "    .dataframe tbody tr th {\n",
       "        vertical-align: top;\n",
       "    }\n",
       "\n",
       "    .dataframe thead th {\n",
       "        text-align: right;\n",
       "    }\n",
       "</style>\n",
       "<table border=\"1\" class=\"dataframe\">\n",
       "  <thead>\n",
       "    <tr style=\"text-align: right;\">\n",
       "      <th></th>\n",
       "      <th>algs</th>\n",
       "      <th>iqr</th>\n",
       "    </tr>\n",
       "  </thead>\n",
       "  <tbody>\n",
       "    <tr>\n",
       "      <th>2</th>\n",
       "      <td>alg3</td>\n",
       "      <td>0.076122</td>\n",
       "    </tr>\n",
       "    <tr>\n",
       "      <th>4</th>\n",
       "      <td>alg5</td>\n",
       "      <td>0.013971</td>\n",
       "    </tr>\n",
       "    <tr>\n",
       "      <th>3</th>\n",
       "      <td>alg4</td>\n",
       "      <td>0.012610</td>\n",
       "    </tr>\n",
       "    <tr>\n",
       "      <th>0</th>\n",
       "      <td>alg1</td>\n",
       "      <td>0.011360</td>\n",
       "    </tr>\n",
       "    <tr>\n",
       "      <th>1</th>\n",
       "      <td>alg2</td>\n",
       "      <td>0.007940</td>\n",
       "    </tr>\n",
       "  </tbody>\n",
       "</table>\n",
       "</div>"
      ],
      "text/plain": [
       "   algs       iqr\n",
       "2  alg3  0.076122\n",
       "4  alg5  0.013971\n",
       "3  alg4  0.012610\n",
       "0  alg1  0.011360\n",
       "1  alg2  0.007940"
      ]
     },
     "execution_count": 21,
     "metadata": {},
     "output_type": "execute_result"
    }
   ],
   "source": [
    "algs = []\n",
    "iqrs = []\n",
    "for k,v in ms.alg_measurements.items():\n",
    "    algs.append(k)\n",
    "    q75,q25 = np.percentile(v,[75,25])\n",
    "    iqrs.append(q75-q25)\n",
    "df = pd.DataFrame({\"algs\":algs,\"iqr\":iqrs})\n",
    "df = df.sort_values(by=['iqr'],ascending=False)\n",
    "df"
   ]
  },
  {
   "cell_type": "code",
   "execution_count": 22,
   "id": "ba5af29d",
   "metadata": {},
   "outputs": [
    {
     "data": {
      "text/plain": [
       "['alg3', 'alg5', 'alg4', 'alg1', 'alg2']"
      ]
     },
     "execution_count": 22,
     "metadata": {},
     "output_type": "execute_result"
    }
   ],
   "source": [
    "h0_ = df['algs'].tolist()\n",
    "h0_"
   ]
  },
  {
   "cell_type": "code",
   "execution_count": 23,
   "id": "811f9e9b",
   "metadata": {},
   "outputs": [
    {
     "data": {
      "text/html": [
       "<div>\n",
       "<style scoped>\n",
       "    .dataframe tbody tr th:only-of-type {\n",
       "        vertical-align: middle;\n",
       "    }\n",
       "\n",
       "    .dataframe tbody tr th {\n",
       "        vertical-align: top;\n",
       "    }\n",
       "\n",
       "    .dataframe thead th {\n",
       "        text-align: right;\n",
       "    }\n",
       "</style>\n",
       "<table border=\"1\" class=\"dataframe\">\n",
       "  <thead>\n",
       "    <tr style=\"text-align: right;\">\n",
       "      <th></th>\n",
       "      <th>algs</th>\n",
       "      <th>iqr</th>\n",
       "    </tr>\n",
       "  </thead>\n",
       "  <tbody>\n",
       "    <tr>\n",
       "      <th>2</th>\n",
       "      <td>alg3</td>\n",
       "      <td>0.076122</td>\n",
       "    </tr>\n",
       "    <tr>\n",
       "      <th>4</th>\n",
       "      <td>alg5</td>\n",
       "      <td>0.013971</td>\n",
       "    </tr>\n",
       "    <tr>\n",
       "      <th>3</th>\n",
       "      <td>alg4</td>\n",
       "      <td>0.012610</td>\n",
       "    </tr>\n",
       "    <tr>\n",
       "      <th>0</th>\n",
       "      <td>alg1</td>\n",
       "      <td>0.011360</td>\n",
       "    </tr>\n",
       "    <tr>\n",
       "      <th>1</th>\n",
       "      <td>alg2</td>\n",
       "      <td>0.007940</td>\n",
       "    </tr>\n",
       "  </tbody>\n",
       "</table>\n",
       "</div>"
      ],
      "text/plain": [
       "   algs       iqr\n",
       "2  alg3  0.076122\n",
       "4  alg5  0.013971\n",
       "3  alg4  0.012610\n",
       "0  alg1  0.011360\n",
       "1  alg2  0.007940"
      ]
     },
     "execution_count": 23,
     "metadata": {},
     "output_type": "execute_result"
    }
   ],
   "source": [
    "rv = RankVariantsSort2(ms.get_alg_measurements(), h0)\n",
    "rv.sort_h0_by_iqr()"
   ]
  },
  {
   "cell_type": "code",
   "execution_count": 24,
   "id": "207d538a",
   "metadata": {},
   "outputs": [
    {
     "name": "stdout",
     "output_type": "stream",
     "text": [
      "['alg3', 'alg5', 'alg4', 'alg1', 'alg2']\n",
      "[0 1 2 3 4]\n",
      "\n",
      "\n",
      "compare alg3 and alg5\n",
      "['alg3', 'alg5', 'alg4', 'alg1', 'alg2']\n",
      "[0 0 1 2 3]\n",
      "\n",
      "\n",
      "compare alg5 and alg4\n",
      "['alg3', 'alg5', 'alg4', 'alg1', 'alg2']\n",
      "[0 0 0 1 2]\n",
      "\n",
      "\n",
      "compare alg1 and alg4\n",
      "['alg3', 'alg5', 'alg1', 'alg4', 'alg2']\n",
      "[0 0 0 1 2]\n",
      "\n",
      "\n",
      "compare alg2 and alg4\n",
      "['alg3', 'alg5', 'alg1', 'alg2', 'alg4']\n",
      "[0 0 0 1 2]\n",
      "\n",
      "\n",
      "compare alg3 and alg5\n",
      "['alg3', 'alg5', 'alg1', 'alg2', 'alg4']\n",
      "[0 0 0 1 2]\n",
      "\n",
      "\n",
      "compare alg1 and alg5\n",
      "['alg3', 'alg1', 'alg5', 'alg2', 'alg4']\n",
      "[0 0 1 1 2]\n",
      "\n",
      "\n",
      "compare alg2 and alg5\n",
      "['alg3', 'alg1', 'alg2', 'alg5', 'alg4']\n",
      "[0 0 1 2 2]\n",
      "\n",
      "\n",
      "compare alg3 and alg1\n",
      "['alg3', 'alg1', 'alg2', 'alg5', 'alg4']\n",
      "[0 0 1 2 2]\n",
      "\n",
      "\n",
      "compare alg1 and alg2\n",
      "['alg3', 'alg1', 'alg2', 'alg5', 'alg4']\n",
      "[0 0 0 1 1]\n",
      "\n",
      "\n",
      "compare alg3 and alg1\n",
      "['alg3', 'alg1', 'alg2', 'alg5', 'alg4']\n",
      "[0 0 0 1 1]\n",
      "\n",
      "\n"
     ]
    },
    {
     "data": {
      "text/html": [
       "<div>\n",
       "<style scoped>\n",
       "    .dataframe tbody tr th:only-of-type {\n",
       "        vertical-align: middle;\n",
       "    }\n",
       "\n",
       "    .dataframe tbody tr th {\n",
       "        vertical-align: top;\n",
       "    }\n",
       "\n",
       "    .dataframe thead th {\n",
       "        text-align: right;\n",
       "    }\n",
       "</style>\n",
       "<table border=\"1\" class=\"dataframe\">\n",
       "  <thead>\n",
       "    <tr style=\"text-align: right;\">\n",
       "      <th></th>\n",
       "      <th>case:concept:name</th>\n",
       "      <th>case:rank:q75-q25</th>\n",
       "    </tr>\n",
       "  </thead>\n",
       "  <tbody>\n",
       "    <tr>\n",
       "      <th>0</th>\n",
       "      <td>alg3</td>\n",
       "      <td>0</td>\n",
       "    </tr>\n",
       "    <tr>\n",
       "      <th>1</th>\n",
       "      <td>alg1</td>\n",
       "      <td>0</td>\n",
       "    </tr>\n",
       "    <tr>\n",
       "      <th>2</th>\n",
       "      <td>alg2</td>\n",
       "      <td>0</td>\n",
       "    </tr>\n",
       "    <tr>\n",
       "      <th>3</th>\n",
       "      <td>alg5</td>\n",
       "      <td>1</td>\n",
       "    </tr>\n",
       "    <tr>\n",
       "      <th>4</th>\n",
       "      <td>alg4</td>\n",
       "      <td>1</td>\n",
       "    </tr>\n",
       "  </tbody>\n",
       "</table>\n",
       "</div>"
      ],
      "text/plain": [
       "  case:concept:name  case:rank:q75-q25\n",
       "0              alg3                  0\n",
       "1              alg1                  0\n",
       "2              alg2                  0\n",
       "3              alg5                  1\n",
       "4              alg4                  1"
      ]
     },
     "execution_count": 24,
     "metadata": {},
     "output_type": "execute_result"
    }
   ],
   "source": [
    "rv.rank_variants(debug=True)"
   ]
  },
  {
   "cell_type": "code",
   "execution_count": 25,
   "id": "99202081",
   "metadata": {},
   "outputs": [
    {
     "data": {
      "text/plain": [
       "8"
      ]
     },
     "execution_count": 25,
     "metadata": {},
     "output_type": "execute_result"
    }
   ],
   "source": [
    "rv.compare_algs.num_comparisons"
   ]
  },
  {
   "cell_type": "code",
   "execution_count": 26,
   "id": "ff32c571",
   "metadata": {},
   "outputs": [
    {
     "data": {
      "image/png": "[encoded data removed]",
      "text/plain": [
       "<Figure size 720x540 with 1 Axes>"
      ]
     },
     "metadata": {
      "needs_background": "light"
     },
     "output_type": "display_data"
    }
   ],
   "source": [
    "fig = mv.show_measurements_boxplots(rv.alg_seq_h0)"
   ]
  },
  {
   "cell_type": "code",
   "execution_count": null,
   "id": "2d336991",
   "metadata": {},
   "outputs": [],
   "source": []
  },
  {
   "cell_type": "code",
   "execution_count": null,
   "id": "935ab475",
   "metadata": {},
   "outputs": [],
   "source": []
  }
 ],
 "metadata": {
  "kernelspec": {
   "display_name": "Python 3 (ipykernel)",
   "language": "python",
   "name": "python3"
  },
  "language_info": {
   "codemirror_mode": {
    "name": "ipython",
    "version": 3
   },
   "file_extension": ".py",
   "mimetype": "text/x-python",
   "name": "python",
   "nbconvert_exporter": "python",
   "pygments_lexer": "ipython3",
   "version": "3.9.7"
  }
 },
 "nbformat": 4,
 "nbformat_minor": 5
}
