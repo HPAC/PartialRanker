{
 "cells": [
  {
   "cell_type": "code",
   "execution_count": 17,
   "id": "c2f10b84",
   "metadata": {},
   "outputs": [],
   "source": [
    "from typing import List\n",
    "from collections import Counter"
   ]
  },
  {
   "cell_type": "code",
   "execution_count": 4,
   "id": "85ce506e",
   "metadata": {},
   "outputs": [],
   "source": [
    "def binary_search(arr:List[int], x) -> int:\n",
    "    low = 0\n",
    "    high = len(arr)\n",
    "    \n",
    "    while low<=high:\n",
    "        mid = (low+high)//2\n",
    "        if arr[mid] == x:\n",
    "            return mid\n",
    "        elif arr[mid] < x: # [..., a_m, ..., x] on right of mid\n",
    "            low = mid + 1\n",
    "        else: # on left of mid\n",
    "            high = mid -1\n",
    "    return -1"
   ]
  },
  {
   "cell_type": "code",
   "execution_count": 10,
   "id": "d0b7cd73",
   "metadata": {},
   "outputs": [
    {
     "data": {
      "text/plain": [
       "[1, 2, 3, 4, 5, 6, 7, 8, 9]"
      ]
     },
     "execution_count": 10,
     "metadata": {},
     "output_type": "execute_result"
    }
   ],
   "source": [
    "l = list(range(1,10))\n",
    "l"
   ]
  },
  {
   "cell_type": "code",
   "execution_count": 12,
   "id": "8c693ad1",
   "metadata": {},
   "outputs": [
    {
     "data": {
      "text/plain": [
       "8"
      ]
     },
     "execution_count": 12,
     "metadata": {},
     "output_type": "execute_result"
    }
   ],
   "source": [
    "binary_search(l,9)"
   ]
  },
  {
   "cell_type": "code",
   "execution_count": 89,
   "id": "bcf18218",
   "metadata": {},
   "outputs": [
    {
     "data": {
      "text/plain": [
       "[0, 1, 1, 2, 2, 3, 3, 4, 4, 5, 5, 6, 6, 7, 7, 8, 8, 9, 9]"
      ]
     },
     "execution_count": 89,
     "metadata": {},
     "output_type": "execute_result"
    }
   ],
   "source": [
    "l = []\n",
    "for i in range(10):\n",
    "    l.append(i)\n",
    "    l.append(i)\n",
    "l.remove(0)\n",
    "l"
   ]
  },
  {
   "cell_type": "code",
   "execution_count": 90,
   "id": "f8151313",
   "metadata": {},
   "outputs": [
    {
     "data": {
      "text/plain": [
       "1"
      ]
     },
     "execution_count": 90,
     "metadata": {},
     "output_type": "execute_result"
    }
   ],
   "source": [
    "l.count(0)"
   ]
  },
  {
   "cell_type": "code",
   "execution_count": 91,
   "id": "523da09e",
   "metadata": {},
   "outputs": [
    {
     "data": {
      "text/plain": [
       "Counter({0: 1, 1: 2, 2: 2, 3: 2, 4: 2, 5: 2, 6: 2, 7: 2, 8: 2, 9: 2})"
      ]
     },
     "execution_count": 91,
     "metadata": {},
     "output_type": "execute_result"
    }
   ],
   "source": [
    "Counter(l)"
   ]
  },
  {
   "cell_type": "code",
   "execution_count": 92,
   "id": "36d10846",
   "metadata": {},
   "outputs": [],
   "source": [
    "def single_el(arr:List) -> int:\n",
    "    low = 0\n",
    "    high = len(arr)-1\n",
    "    while low<=high:\n",
    "        mid = (low+high)//2\n",
    "        print(mid,arr[mid])\n",
    "        if mid == len(arr)-1:\n",
    "            return arr[mid]\n",
    "        if arr[mid] == arr[mid-1]:\n",
    "            if mid%2 != 0:\n",
    "                low = mid+1\n",
    "            else:\n",
    "                high = mid-1\n",
    "        elif arr[mid] == arr[mid+1]:\n",
    "            if (mid+1)%2 != 0:\n",
    "                low = mid+1\n",
    "            else:\n",
    "                high = mid-1\n",
    "        else:\n",
    "            return arr[mid]"
   ]
  },
  {
   "cell_type": "code",
   "execution_count": 93,
   "id": "ef62c287",
   "metadata": {},
   "outputs": [
    {
     "name": "stdout",
     "output_type": "stream",
     "text": [
      "9 5\n",
      "4 2\n",
      "1 1\n",
      "0 0\n"
     ]
    },
    {
     "data": {
      "text/plain": [
       "0"
      ]
     },
     "execution_count": 93,
     "metadata": {},
     "output_type": "execute_result"
    }
   ],
   "source": [
    "single_el(l)"
   ]
  },
  {
   "cell_type": "code",
   "execution_count": 108,
   "id": "d23376c5",
   "metadata": {},
   "outputs": [
    {
     "data": {
      "text/plain": [
       "'dnivara'"
      ]
     },
     "execution_count": 108,
     "metadata": {},
     "output_type": "execute_result"
    }
   ],
   "source": [
    "s = \"aravind\"\n",
    "s[:7][::-1]"
   ]
  },
  {
   "cell_type": "code",
   "execution_count": 105,
   "id": "f546f460",
   "metadata": {},
   "outputs": [
    {
     "data": {
      "text/plain": [
       "7"
      ]
     },
     "execution_count": 105,
     "metadata": {},
     "output_type": "execute_result"
    }
   ],
   "source": [
    "len(s)"
   ]
  },
  {
   "cell_type": "code",
   "execution_count": 112,
   "id": "a806c71c",
   "metadata": {},
   "outputs": [
    {
     "data": {
      "text/plain": [
       "'ar'"
      ]
     },
     "execution_count": 112,
     "metadata": {},
     "output_type": "execute_result"
    }
   ],
   "source": [
    "s[:2]"
   ]
  },
  {
   "cell_type": "code",
   "execution_count": 127,
   "id": "e5365269",
   "metadata": {},
   "outputs": [
    {
     "name": "stdout",
     "output_type": "stream",
     "text": [
      "0 aravind\n",
      "4 ind\n"
     ]
    }
   ],
   "source": [
    "for i in list(range(0,6,4)):\n",
    "    print(i,s[i:])"
   ]
  },
  {
   "cell_type": "code",
   "execution_count": 163,
   "id": "11206eff",
   "metadata": {},
   "outputs": [],
   "source": [
    "def reverseStr(s,k):\n",
    "    if k == 1 or len(s) == 1:\n",
    "        return s\n",
    "    r = \"\"\n",
    "    for i in range(0,len(s), 2*k):\n",
    "        x = s[i:(i+2*k)]\n",
    "        print(i,x)\n",
    "        r = r+x[:k][::-1] + x[k:]\n",
    "    return r\n",
    "        "
   ]
  },
  {
   "cell_type": "code",
   "execution_count": 164,
   "id": "2c9402cb",
   "metadata": {},
   "outputs": [
    {
     "name": "stdout",
     "output_type": "stream",
     "text": [
      "0 abcdef\n",
      "6 g\n"
     ]
    },
    {
     "data": {
      "text/plain": [
       "'cbadefg'"
      ]
     },
     "execution_count": 164,
     "metadata": {},
     "output_type": "execute_result"
    }
   ],
   "source": [
    "reverseStr(\"abcdefg\",3)"
   ]
  },
  {
   "cell_type": "code",
   "execution_count": 165,
   "id": "3335a094",
   "metadata": {},
   "outputs": [
    {
     "data": {
      "text/plain": [
       "[0, 1, 2, 3, 4, 5, 6, 7, 8, 9]"
      ]
     },
     "execution_count": 165,
     "metadata": {},
     "output_type": "execute_result"
    }
   ],
   "source": [
    "list(range(0,10))"
   ]
  },
  {
   "cell_type": "code",
   "execution_count": null,
   "id": "1ef8e77c",
   "metadata": {},
   "outputs": [],
   "source": []
  },
  {
   "cell_type": "code",
   "execution_count": null,
   "id": "4a740899",
   "metadata": {},
   "outputs": [],
   "source": []
  }
 ],
 "metadata": {
  "kernelspec": {
   "display_name": "Python 3 (ipykernel)",
   "language": "python",
   "name": "python3"
  },
  "language_info": {
   "codemirror_mode": {
    "name": "ipython",
    "version": 3
   },
   "file_extension": ".py",
   "mimetype": "text/x-python",
   "name": "python",
   "nbconvert_exporter": "python",
   "pygments_lexer": "ipython3",
   "version": "3.9.7"
  }
 },
 "nbformat": 4,
 "nbformat_minor": 5
}
