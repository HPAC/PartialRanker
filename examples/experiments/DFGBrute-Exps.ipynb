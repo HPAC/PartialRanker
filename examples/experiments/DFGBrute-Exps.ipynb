{
 "cells": [
  {
   "cell_type": "code",
   "execution_count": 1,
   "id": "b05f5b82",
   "metadata": {},
   "outputs": [],
   "source": [
    "from algorithm_ranking import MeasurementsSimulator, MeasurementsVisualizer, RankVariantsDFGBrute"
   ]
  },
  {
   "cell_type": "code",
   "execution_count": 2,
   "id": "fe7af298",
   "metadata": {},
   "outputs": [],
   "source": [
    "import pandas as pd\n",
    "import numpy as np"
   ]
  },
  {
   "cell_type": "markdown",
   "id": "47d90edf",
   "metadata": {},
   "source": [
    "### Experiment 1"
   ]
  },
  {
   "cell_type": "code",
   "execution_count": 3,
   "id": "0a0afcdc",
   "metadata": {},
   "outputs": [
    {
     "data": {
      "text/plain": [
       "['alg1', 'alg2', 'alg3', 'alg4']"
      ]
     },
     "execution_count": 3,
     "metadata": {},
     "output_type": "execute_result"
    }
   ],
   "source": [
    "cfg = {}\n",
    "cfg['alg1']  = [0.2,0.02] #[mean, std]\n",
    "cfg['alg2']  = [0.2,0.01]\n",
    "cfg['alg3']  = [0.2,0.01]\n",
    "cfg['alg4']  = [0.18,0.01]\n",
    "h0 = list(cfg.keys())\n",
    "h0"
   ]
  },
  {
   "cell_type": "code",
   "execution_count": 4,
   "id": "0f28ee90",
   "metadata": {},
   "outputs": [],
   "source": [
    "ms = MeasurementsSimulator(cfg, 'normal',seed=159) \n",
    "ms.measure(10,1)"
   ]
  },
  {
   "cell_type": "code",
   "execution_count": 5,
   "id": "0537a23a",
   "metadata": {},
   "outputs": [
    {
     "data": {
      "image/png": "[encoded data removed]",
      "text/plain": [
       "<Figure size 720x432 with 1 Axes>"
      ]
     },
     "metadata": {
      "needs_background": "light"
     },
     "output_type": "display_data"
    }
   ],
   "source": [
    "mv = MeasurementsVisualizer(ms.get_alg_measurements(), h0)\n",
    "fig = mv.show_measurements_boxplots()"
   ]
  },
  {
   "cell_type": "code",
   "execution_count": 6,
   "id": "964a0a2c",
   "metadata": {},
   "outputs": [
    {
     "data": {
      "text/plain": [
       "['alg1', 'alg2', 'alg3', 'alg4']"
      ]
     },
     "execution_count": 6,
     "metadata": {},
     "output_type": "execute_result"
    }
   ],
   "source": [
    "rv = RankVariantsDFGBrute(ms.get_alg_measurements(), h0)\n",
    "h0"
   ]
  },
  {
   "cell_type": "code",
   "execution_count": 7,
   "id": "c2dca14f",
   "metadata": {},
   "outputs": [
    {
     "name": "stdout",
     "output_type": "stream",
     "text": [
      "comparing alg1 and alg2\n",
      "comparing alg2 and alg3\n",
      "Adding edge from alg2 to alg3\n",
      "comparing alg3 and alg4\n",
      "Adding edge from alg4 to alg3\n",
      "comparing alg1 and alg3\n",
      "comparing alg2 and alg4\n",
      "Adding edge from alg4 to alg2\n",
      "comparing alg1 and alg4\n",
      "Adding edge from alg4 to alg1\n",
      "Removing edge from alg4 to alg3\n"
     ]
    },
    {
     "data": {
      "text/html": [
       "<div>\n",
       "<style scoped>\n",
       "    .dataframe tbody tr th:only-of-type {\n",
       "        vertical-align: middle;\n",
       "    }\n",
       "\n",
       "    .dataframe tbody tr th {\n",
       "        vertical-align: top;\n",
       "    }\n",
       "\n",
       "    .dataframe thead th {\n",
       "        text-align: right;\n",
       "    }\n",
       "</style>\n",
       "<table border=\"1\" class=\"dataframe\">\n",
       "  <thead>\n",
       "    <tr style=\"text-align: right;\">\n",
       "      <th></th>\n",
       "      <th>case:concept:name</th>\n",
       "      <th>case:rank:q75-q25</th>\n",
       "    </tr>\n",
       "  </thead>\n",
       "  <tbody>\n",
       "    <tr>\n",
       "      <th>0</th>\n",
       "      <td>alg4</td>\n",
       "      <td>0</td>\n",
       "    </tr>\n",
       "    <tr>\n",
       "      <th>1</th>\n",
       "      <td>alg1</td>\n",
       "      <td>1</td>\n",
       "    </tr>\n",
       "    <tr>\n",
       "      <th>2</th>\n",
       "      <td>alg2</td>\n",
       "      <td>1</td>\n",
       "    </tr>\n",
       "    <tr>\n",
       "      <th>3</th>\n",
       "      <td>alg3</td>\n",
       "      <td>2</td>\n",
       "    </tr>\n",
       "  </tbody>\n",
       "</table>\n",
       "</div>"
      ],
      "text/plain": [
       "  case:concept:name  case:rank:q75-q25\n",
       "0              alg4                  0\n",
       "1              alg1                  1\n",
       "2              alg2                  1\n",
       "3              alg3                  2"
      ]
     },
     "execution_count": 7,
     "metadata": {},
     "output_type": "execute_result"
    }
   ],
   "source": [
    "rv.rank_variants(debug=True)"
   ]
  },
  {
   "cell_type": "code",
   "execution_count": 8,
   "id": "138e6463",
   "metadata": {},
   "outputs": [
    {
     "data": {
      "image/svg+xml": [
       "<?xml version=\"1.0\" encoding=\"UTF-8\" standalone=\"no\"?>\n",
       "<!DOCTYPE svg PUBLIC \"-//W3C//DTD SVG 1.1//EN\"\n",
       " \"http://www.w3.org/Graphics/SVG/1.1/DTD/svg11.dtd\">\n",
       "<!-- Generated by graphviz version 2.40.1 (20161225.0304)\n",
       " -->\n",
       "<!-- Title: %3 Pages: 1 -->\n",
       "<svg width=\"134pt\" height=\"188pt\"\n",
       " viewBox=\"0.00 0.00 134.00 188.00\" xmlns=\"http://www.w3.org/2000/svg\" xmlns:xlink=\"http://www.w3.org/1999/xlink\">\n",
       "<g id=\"graph0\" class=\"graph\" transform=\"scale(1 1) rotate(0) translate(4 184)\">\n",
       "<title>%3</title>\n",
       "<polygon fill=\"#ffffff\" stroke=\"transparent\" points=\"-4,4 -4,-184 130,-184 130,4 -4,4\"/>\n",
       "<!-- alg1 -->\n",
       "<g id=\"node1\" class=\"node\">\n",
       "<title>alg1</title>\n",
       "<ellipse fill=\"#f0efed\" stroke=\"#f0efed\" cx=\"27\" cy=\"-90\" rx=\"27\" ry=\"18\"/>\n",
       "<text text-anchor=\"middle\" x=\"27\" y=\"-85.8\" font-family=\"Times,serif\" font-size=\"14.00\" fill=\"#000000\">alg1</text>\n",
       "</g>\n",
       "<!-- alg2 -->\n",
       "<g id=\"node2\" class=\"node\">\n",
       "<title>alg2</title>\n",
       "<ellipse fill=\"#f0efed\" stroke=\"#f0efed\" cx=\"99\" cy=\"-90\" rx=\"27\" ry=\"18\"/>\n",
       "<text text-anchor=\"middle\" x=\"99\" y=\"-85.8\" font-family=\"Times,serif\" font-size=\"14.00\" fill=\"#000000\">alg2</text>\n",
       "</g>\n",
       "<!-- alg3 -->\n",
       "<g id=\"node3\" class=\"node\">\n",
       "<title>alg3</title>\n",
       "<ellipse fill=\"#f0efed\" stroke=\"#f0efed\" cx=\"99\" cy=\"-18\" rx=\"27\" ry=\"18\"/>\n",
       "<text text-anchor=\"middle\" x=\"99\" y=\"-13.8\" font-family=\"Times,serif\" font-size=\"14.00\" fill=\"#000000\">alg3</text>\n",
       "</g>\n",
       "<!-- alg2&#45;&gt;alg3 -->\n",
       "<g id=\"edge1\" class=\"edge\">\n",
       "<title>alg2&#45;&gt;alg3</title>\n",
       "<path fill=\"none\" stroke=\"#000000\" d=\"M99,-71.8314C99,-64.131 99,-54.9743 99,-46.4166\"/>\n",
       "<polygon fill=\"#000000\" stroke=\"#000000\" points=\"102.5001,-46.4132 99,-36.4133 95.5001,-46.4133 102.5001,-46.4132\"/>\n",
       "</g>\n",
       "<!-- alg4 -->\n",
       "<g id=\"node4\" class=\"node\">\n",
       "<title>alg4</title>\n",
       "<ellipse fill=\"#f0efed\" stroke=\"#f0efed\" cx=\"63\" cy=\"-162\" rx=\"27\" ry=\"18\"/>\n",
       "<text text-anchor=\"middle\" x=\"63\" y=\"-157.8\" font-family=\"Times,serif\" font-size=\"14.00\" fill=\"#000000\">alg4</text>\n",
       "</g>\n",
       "<!-- alg4&#45;&gt;alg1 -->\n",
       "<g id=\"edge3\" class=\"edge\">\n",
       "<title>alg4&#45;&gt;alg1</title>\n",
       "<path fill=\"none\" stroke=\"#000000\" d=\"M54.2854,-144.5708C50.0403,-136.0807 44.8464,-125.6929 40.1337,-116.2674\"/>\n",
       "<polygon fill=\"#000000\" stroke=\"#000000\" points=\"43.237,-114.6477 35.6343,-107.2687 36.976,-117.7782 43.237,-114.6477\"/>\n",
       "</g>\n",
       "<!-- alg4&#45;&gt;alg2 -->\n",
       "<g id=\"edge2\" class=\"edge\">\n",
       "<title>alg4&#45;&gt;alg2</title>\n",
       "<path fill=\"none\" stroke=\"#000000\" d=\"M71.7146,-144.5708C75.9597,-136.0807 81.1536,-125.6929 85.8663,-116.2674\"/>\n",
       "<polygon fill=\"#000000\" stroke=\"#000000\" points=\"89.024,-117.7782 90.3657,-107.2687 82.763,-114.6477 89.024,-117.7782\"/>\n",
       "</g>\n",
       "</g>\n",
       "</svg>\n"
      ],
      "text/plain": [
       "<graphviz.graphs.Digraph at 0x7fe6164dad00>"
      ]
     },
     "execution_count": 8,
     "metadata": {},
     "output_type": "execute_result"
    }
   ],
   "source": [
    "rv.graph.visualize()"
   ]
  },
  {
   "cell_type": "code",
   "execution_count": 9,
   "id": "0d7091f2",
   "metadata": {},
   "outputs": [
    {
     "data": {
      "text/plain": [
       "6"
      ]
     },
     "execution_count": 9,
     "metadata": {},
     "output_type": "execute_result"
    }
   ],
   "source": [
    "rv.compare_algs.num_comparisons"
   ]
  },
  {
   "cell_type": "markdown",
   "id": "3e5a570e",
   "metadata": {},
   "source": [
    "### Experiment 2"
   ]
  },
  {
   "cell_type": "code",
   "execution_count": 10,
   "id": "24b81195",
   "metadata": {},
   "outputs": [],
   "source": [
    "cfg = {}\n",
    "cfg['alg1']  = [0.2,0.02] # [mean, std]\n",
    "cfg['alg2']  = [0.2,0.01]\n",
    "cfg['alg3']  = [0.2,0.01]\n",
    "cfg['alg4']  = [0.19,0.01]\n",
    "ms = MeasurementsSimulator(cfg, 'normal',seed=129)    \n",
    "rep_steps = 20\n",
    "run_id= 1\n",
    "ms.measure(rep_steps=rep_steps, run_id=run_id)"
   ]
  },
  {
   "cell_type": "code",
   "execution_count": 11,
   "id": "26b702f8",
   "metadata": {},
   "outputs": [
    {
     "data": {
      "text/plain": [
       "['alg1', 'alg2', 'alg3', 'alg4']"
      ]
     },
     "execution_count": 11,
     "metadata": {},
     "output_type": "execute_result"
    }
   ],
   "source": [
    "h0 = list(cfg.keys())\n",
    "h0"
   ]
  },
  {
   "cell_type": "code",
   "execution_count": 12,
   "id": "51efa7ed",
   "metadata": {},
   "outputs": [
    {
     "data": {
      "image/png": "[encoded data removed]",
      "text/plain": [
       "<Figure size 720x432 with 1 Axes>"
      ]
     },
     "metadata": {
      "needs_background": "light"
     },
     "output_type": "display_data"
    }
   ],
   "source": [
    "mv = MeasurementsVisualizer(ms.get_alg_measurements(), h0)\n",
    "fig = mv.show_measurements_boxplots()"
   ]
  },
  {
   "cell_type": "code",
   "execution_count": 13,
   "id": "e1ae9c22",
   "metadata": {},
   "outputs": [],
   "source": [
    "rv = RankVariantsDFGBrute(ms.get_alg_measurements(), h0)"
   ]
  },
  {
   "cell_type": "code",
   "execution_count": 14,
   "id": "8bb95cf7",
   "metadata": {},
   "outputs": [
    {
     "name": "stdout",
     "output_type": "stream",
     "text": [
      "comparing alg1 and alg2\n",
      "comparing alg2 and alg3\n",
      "comparing alg3 and alg4\n",
      "Adding edge from alg4 to alg3\n",
      "comparing alg1 and alg3\n",
      "comparing alg2 and alg4\n",
      "Adding edge from alg4 to alg2\n",
      "comparing alg1 and alg4\n"
     ]
    },
    {
     "data": {
      "text/html": [
       "<div>\n",
       "<style scoped>\n",
       "    .dataframe tbody tr th:only-of-type {\n",
       "        vertical-align: middle;\n",
       "    }\n",
       "\n",
       "    .dataframe tbody tr th {\n",
       "        vertical-align: top;\n",
       "    }\n",
       "\n",
       "    .dataframe thead th {\n",
       "        text-align: right;\n",
       "    }\n",
       "</style>\n",
       "<table border=\"1\" class=\"dataframe\">\n",
       "  <thead>\n",
       "    <tr style=\"text-align: right;\">\n",
       "      <th></th>\n",
       "      <th>case:concept:name</th>\n",
       "      <th>case:rank:q75-q25</th>\n",
       "    </tr>\n",
       "  </thead>\n",
       "  <tbody>\n",
       "    <tr>\n",
       "      <th>0</th>\n",
       "      <td>alg1</td>\n",
       "      <td>0</td>\n",
       "    </tr>\n",
       "    <tr>\n",
       "      <th>1</th>\n",
       "      <td>alg4</td>\n",
       "      <td>0</td>\n",
       "    </tr>\n",
       "    <tr>\n",
       "      <th>2</th>\n",
       "      <td>alg2</td>\n",
       "      <td>1</td>\n",
       "    </tr>\n",
       "    <tr>\n",
       "      <th>3</th>\n",
       "      <td>alg3</td>\n",
       "      <td>1</td>\n",
       "    </tr>\n",
       "  </tbody>\n",
       "</table>\n",
       "</div>"
      ],
      "text/plain": [
       "  case:concept:name  case:rank:q75-q25\n",
       "0              alg1                  0\n",
       "1              alg4                  0\n",
       "2              alg2                  1\n",
       "3              alg3                  1"
      ]
     },
     "execution_count": 14,
     "metadata": {},
     "output_type": "execute_result"
    }
   ],
   "source": [
    "rv.rank_variants(debug=True)"
   ]
  },
  {
   "cell_type": "code",
   "execution_count": 15,
   "id": "cfaba319",
   "metadata": {},
   "outputs": [
    {
     "data": {
      "image/svg+xml": [
       "<?xml version=\"1.0\" encoding=\"UTF-8\" standalone=\"no\"?>\n",
       "<!DOCTYPE svg PUBLIC \"-//W3C//DTD SVG 1.1//EN\"\n",
       " \"http://www.w3.org/Graphics/SVG/1.1/DTD/svg11.dtd\">\n",
       "<!-- Generated by graphviz version 2.40.1 (20161225.0304)\n",
       " -->\n",
       "<!-- Title: %3 Pages: 1 -->\n",
       "<svg width=\"170pt\" height=\"116pt\"\n",
       " viewBox=\"0.00 0.00 170.00 116.00\" xmlns=\"http://www.w3.org/2000/svg\" xmlns:xlink=\"http://www.w3.org/1999/xlink\">\n",
       "<g id=\"graph0\" class=\"graph\" transform=\"scale(1 1) rotate(0) translate(4 112)\">\n",
       "<title>%3</title>\n",
       "<polygon fill=\"#ffffff\" stroke=\"transparent\" points=\"-4,4 -4,-112 166,-112 166,4 -4,4\"/>\n",
       "<!-- alg1 -->\n",
       "<g id=\"node1\" class=\"node\">\n",
       "<title>alg1</title>\n",
       "<ellipse fill=\"#f0efed\" stroke=\"#f0efed\" cx=\"27\" cy=\"-90\" rx=\"27\" ry=\"18\"/>\n",
       "<text text-anchor=\"middle\" x=\"27\" y=\"-85.8\" font-family=\"Times,serif\" font-size=\"14.00\" fill=\"#000000\">alg1</text>\n",
       "</g>\n",
       "<!-- alg2 -->\n",
       "<g id=\"node2\" class=\"node\">\n",
       "<title>alg2</title>\n",
       "<ellipse fill=\"#f0efed\" stroke=\"#f0efed\" cx=\"63\" cy=\"-18\" rx=\"27\" ry=\"18\"/>\n",
       "<text text-anchor=\"middle\" x=\"63\" y=\"-13.8\" font-family=\"Times,serif\" font-size=\"14.00\" fill=\"#000000\">alg2</text>\n",
       "</g>\n",
       "<!-- alg3 -->\n",
       "<g id=\"node3\" class=\"node\">\n",
       "<title>alg3</title>\n",
       "<ellipse fill=\"#f0efed\" stroke=\"#f0efed\" cx=\"135\" cy=\"-18\" rx=\"27\" ry=\"18\"/>\n",
       "<text text-anchor=\"middle\" x=\"135\" y=\"-13.8\" font-family=\"Times,serif\" font-size=\"14.00\" fill=\"#000000\">alg3</text>\n",
       "</g>\n",
       "<!-- alg4 -->\n",
       "<g id=\"node4\" class=\"node\">\n",
       "<title>alg4</title>\n",
       "<ellipse fill=\"#f0efed\" stroke=\"#f0efed\" cx=\"99\" cy=\"-90\" rx=\"27\" ry=\"18\"/>\n",
       "<text text-anchor=\"middle\" x=\"99\" y=\"-85.8\" font-family=\"Times,serif\" font-size=\"14.00\" fill=\"#000000\">alg4</text>\n",
       "</g>\n",
       "<!-- alg4&#45;&gt;alg2 -->\n",
       "<g id=\"edge2\" class=\"edge\">\n",
       "<title>alg4&#45;&gt;alg2</title>\n",
       "<path fill=\"none\" stroke=\"#000000\" d=\"M90.2854,-72.5708C86.0403,-64.0807 80.8464,-53.6929 76.1337,-44.2674\"/>\n",
       "<polygon fill=\"#000000\" stroke=\"#000000\" points=\"79.237,-42.6477 71.6343,-35.2687 72.976,-45.7782 79.237,-42.6477\"/>\n",
       "</g>\n",
       "<!-- alg4&#45;&gt;alg3 -->\n",
       "<g id=\"edge1\" class=\"edge\">\n",
       "<title>alg4&#45;&gt;alg3</title>\n",
       "<path fill=\"none\" stroke=\"#000000\" d=\"M107.7146,-72.5708C111.9597,-64.0807 117.1536,-53.6929 121.8663,-44.2674\"/>\n",
       "<polygon fill=\"#000000\" stroke=\"#000000\" points=\"125.024,-45.7782 126.3657,-35.2687 118.763,-42.6477 125.024,-45.7782\"/>\n",
       "</g>\n",
       "</g>\n",
       "</svg>\n"
      ],
      "text/plain": [
       "<graphviz.graphs.Digraph at 0x7fe6165cae20>"
      ]
     },
     "execution_count": 15,
     "metadata": {},
     "output_type": "execute_result"
    }
   ],
   "source": [
    "rv.graph.visualize()"
   ]
  },
  {
   "cell_type": "code",
   "execution_count": 16,
   "id": "af2bff59",
   "metadata": {},
   "outputs": [
    {
     "data": {
      "text/plain": [
       "6"
      ]
     },
     "execution_count": 16,
     "metadata": {},
     "output_type": "execute_result"
    }
   ],
   "source": [
    "rv.compare_algs.num_comparisons"
   ]
  },
  {
   "cell_type": "markdown",
   "id": "19307520",
   "metadata": {},
   "source": [
    "### Experiment 3"
   ]
  },
  {
   "cell_type": "code",
   "execution_count": 17,
   "id": "ecb5abc7",
   "metadata": {},
   "outputs": [],
   "source": [
    "cfg = {}\n",
    "cfg['alg1']  = [0.1,0.01] # [mean, std]\n",
    "cfg['alg2']  = [0.1,0.01]\n",
    "cfg['alg3']  = [0.15,0.1]\n",
    "cfg['alg4']  = [0.17,0.01]\n",
    "cfg['alg5']  = [0.17,0.01]\n",
    "ms = MeasurementsSimulator(cfg, 'normal',seed=129)    \n",
    "rep_steps = 20\n",
    "run_id= 1\n",
    "ms.measure(rep_steps=rep_steps, run_id=run_id)\n",
    "h0 = list(cfg.keys())"
   ]
  },
  {
   "cell_type": "code",
   "execution_count": 18,
   "id": "29b0d226",
   "metadata": {},
   "outputs": [
    {
     "data": {
      "image/png": "[encoded data removed]",
      "text/plain": [
       "<Figure size 720x540 with 1 Axes>"
      ]
     },
     "metadata": {
      "needs_background": "light"
     },
     "output_type": "display_data"
    }
   ],
   "source": [
    "mv = MeasurementsVisualizer(ms.get_alg_measurements(), h0)\n",
    "fig = mv.show_measurements_boxplots()"
   ]
  },
  {
   "cell_type": "code",
   "execution_count": 19,
   "id": "6006e790",
   "metadata": {},
   "outputs": [],
   "source": [
    "rv = RankVariantsDFGBrute(ms.get_alg_measurements(), h0)"
   ]
  },
  {
   "cell_type": "code",
   "execution_count": 20,
   "id": "df999e40",
   "metadata": {},
   "outputs": [
    {
     "name": "stdout",
     "output_type": "stream",
     "text": [
      "comparing alg1 and alg2\n",
      "comparing alg2 and alg3\n",
      "comparing alg3 and alg4\n",
      "comparing alg4 and alg5\n",
      "comparing alg1 and alg3\n",
      "comparing alg2 and alg4\n",
      "Adding edge from alg2 to alg4\n",
      "comparing alg3 and alg5\n",
      "comparing alg1 and alg4\n",
      "Adding edge from alg1 to alg4\n",
      "comparing alg2 and alg5\n",
      "Adding edge from alg2 to alg5\n",
      "comparing alg1 and alg5\n",
      "Adding edge from alg1 to alg5\n"
     ]
    },
    {
     "data": {
      "text/html": [
       "<div>\n",
       "<style scoped>\n",
       "    .dataframe tbody tr th:only-of-type {\n",
       "        vertical-align: middle;\n",
       "    }\n",
       "\n",
       "    .dataframe tbody tr th {\n",
       "        vertical-align: top;\n",
       "    }\n",
       "\n",
       "    .dataframe thead th {\n",
       "        text-align: right;\n",
       "    }\n",
       "</style>\n",
       "<table border=\"1\" class=\"dataframe\">\n",
       "  <thead>\n",
       "    <tr style=\"text-align: right;\">\n",
       "      <th></th>\n",
       "      <th>case:concept:name</th>\n",
       "      <th>case:rank:q75-q25</th>\n",
       "    </tr>\n",
       "  </thead>\n",
       "  <tbody>\n",
       "    <tr>\n",
       "      <th>0</th>\n",
       "      <td>alg1</td>\n",
       "      <td>0</td>\n",
       "    </tr>\n",
       "    <tr>\n",
       "      <th>1</th>\n",
       "      <td>alg2</td>\n",
       "      <td>0</td>\n",
       "    </tr>\n",
       "    <tr>\n",
       "      <th>2</th>\n",
       "      <td>alg3</td>\n",
       "      <td>0</td>\n",
       "    </tr>\n",
       "    <tr>\n",
       "      <th>3</th>\n",
       "      <td>alg4</td>\n",
       "      <td>1</td>\n",
       "    </tr>\n",
       "    <tr>\n",
       "      <th>4</th>\n",
       "      <td>alg5</td>\n",
       "      <td>1</td>\n",
       "    </tr>\n",
       "  </tbody>\n",
       "</table>\n",
       "</div>"
      ],
      "text/plain": [
       "  case:concept:name  case:rank:q75-q25\n",
       "0              alg1                  0\n",
       "1              alg2                  0\n",
       "2              alg3                  0\n",
       "3              alg4                  1\n",
       "4              alg5                  1"
      ]
     },
     "execution_count": 20,
     "metadata": {},
     "output_type": "execute_result"
    }
   ],
   "source": [
    "rv.rank_variants(debug=True)"
   ]
  },
  {
   "cell_type": "code",
   "execution_count": 21,
   "id": "ba845bcb",
   "metadata": {},
   "outputs": [
    {
     "data": {
      "image/svg+xml": [
       "<?xml version=\"1.0\" encoding=\"UTF-8\" standalone=\"no\"?>\n",
       "<!DOCTYPE svg PUBLIC \"-//W3C//DTD SVG 1.1//EN\"\n",
       " \"http://www.w3.org/Graphics/SVG/1.1/DTD/svg11.dtd\">\n",
       "<!-- Generated by graphviz version 2.40.1 (20161225.0304)\n",
       " -->\n",
       "<!-- Title: %3 Pages: 1 -->\n",
       "<svg width=\"206pt\" height=\"116pt\"\n",
       " viewBox=\"0.00 0.00 206.00 116.00\" xmlns=\"http://www.w3.org/2000/svg\" xmlns:xlink=\"http://www.w3.org/1999/xlink\">\n",
       "<g id=\"graph0\" class=\"graph\" transform=\"scale(1 1) rotate(0) translate(4 112)\">\n",
       "<title>%3</title>\n",
       "<polygon fill=\"#ffffff\" stroke=\"transparent\" points=\"-4,4 -4,-112 202,-112 202,4 -4,4\"/>\n",
       "<!-- alg1 -->\n",
       "<g id=\"node1\" class=\"node\">\n",
       "<title>alg1</title>\n",
       "<ellipse fill=\"#f0efed\" stroke=\"#f0efed\" cx=\"27\" cy=\"-90\" rx=\"27\" ry=\"18\"/>\n",
       "<text text-anchor=\"middle\" x=\"27\" y=\"-85.8\" font-family=\"Times,serif\" font-size=\"14.00\" fill=\"#000000\">alg1</text>\n",
       "</g>\n",
       "<!-- alg4 -->\n",
       "<g id=\"node4\" class=\"node\">\n",
       "<title>alg4</title>\n",
       "<ellipse fill=\"#f0efed\" stroke=\"#f0efed\" cx=\"27\" cy=\"-18\" rx=\"27\" ry=\"18\"/>\n",
       "<text text-anchor=\"middle\" x=\"27\" y=\"-13.8\" font-family=\"Times,serif\" font-size=\"14.00\" fill=\"#000000\">alg4</text>\n",
       "</g>\n",
       "<!-- alg1&#45;&gt;alg4 -->\n",
       "<g id=\"edge1\" class=\"edge\">\n",
       "<title>alg1&#45;&gt;alg4</title>\n",
       "<path fill=\"none\" stroke=\"#000000\" d=\"M27,-71.8314C27,-64.131 27,-54.9743 27,-46.4166\"/>\n",
       "<polygon fill=\"#000000\" stroke=\"#000000\" points=\"30.5001,-46.4132 27,-36.4133 23.5001,-46.4133 30.5001,-46.4132\"/>\n",
       "</g>\n",
       "<!-- alg5 -->\n",
       "<g id=\"node5\" class=\"node\">\n",
       "<title>alg5</title>\n",
       "<ellipse fill=\"#f0efed\" stroke=\"#f0efed\" cx=\"99\" cy=\"-18\" rx=\"27\" ry=\"18\"/>\n",
       "<text text-anchor=\"middle\" x=\"99\" y=\"-13.8\" font-family=\"Times,serif\" font-size=\"14.00\" fill=\"#000000\">alg5</text>\n",
       "</g>\n",
       "<!-- alg1&#45;&gt;alg5 -->\n",
       "<g id=\"edge2\" class=\"edge\">\n",
       "<title>alg1&#45;&gt;alg5</title>\n",
       "<path fill=\"none\" stroke=\"#000000\" d=\"M42.2693,-74.7307C52.197,-64.803 65.3153,-51.6847 76.4363,-40.5637\"/>\n",
       "<polygon fill=\"#000000\" stroke=\"#000000\" points=\"79.1564,-42.7933 83.7527,-33.2473 74.2067,-37.8436 79.1564,-42.7933\"/>\n",
       "</g>\n",
       "<!-- alg2 -->\n",
       "<g id=\"node2\" class=\"node\">\n",
       "<title>alg2</title>\n",
       "<ellipse fill=\"#f0efed\" stroke=\"#f0efed\" cx=\"99\" cy=\"-90\" rx=\"27\" ry=\"18\"/>\n",
       "<text text-anchor=\"middle\" x=\"99\" y=\"-85.8\" font-family=\"Times,serif\" font-size=\"14.00\" fill=\"#000000\">alg2</text>\n",
       "</g>\n",
       "<!-- alg2&#45;&gt;alg4 -->\n",
       "<g id=\"edge3\" class=\"edge\">\n",
       "<title>alg2&#45;&gt;alg4</title>\n",
       "<path fill=\"none\" stroke=\"#000000\" d=\"M83.7307,-74.7307C73.803,-64.803 60.6847,-51.6847 49.5637,-40.5637\"/>\n",
       "<polygon fill=\"#000000\" stroke=\"#000000\" points=\"51.7933,-37.8436 42.2473,-33.2473 46.8436,-42.7933 51.7933,-37.8436\"/>\n",
       "</g>\n",
       "<!-- alg2&#45;&gt;alg5 -->\n",
       "<g id=\"edge4\" class=\"edge\">\n",
       "<title>alg2&#45;&gt;alg5</title>\n",
       "<path fill=\"none\" stroke=\"#000000\" d=\"M99,-71.8314C99,-64.131 99,-54.9743 99,-46.4166\"/>\n",
       "<polygon fill=\"#000000\" stroke=\"#000000\" points=\"102.5001,-46.4132 99,-36.4133 95.5001,-46.4133 102.5001,-46.4132\"/>\n",
       "</g>\n",
       "<!-- alg3 -->\n",
       "<g id=\"node3\" class=\"node\">\n",
       "<title>alg3</title>\n",
       "<ellipse fill=\"#f0efed\" stroke=\"#f0efed\" cx=\"171\" cy=\"-90\" rx=\"27\" ry=\"18\"/>\n",
       "<text text-anchor=\"middle\" x=\"171\" y=\"-85.8\" font-family=\"Times,serif\" font-size=\"14.00\" fill=\"#000000\">alg3</text>\n",
       "</g>\n",
       "</g>\n",
       "</svg>\n"
      ],
      "text/plain": [
       "<graphviz.graphs.Digraph at 0x7fe616784d30>"
      ]
     },
     "execution_count": 21,
     "metadata": {},
     "output_type": "execute_result"
    }
   ],
   "source": [
    "rv.graph.visualize()"
   ]
  },
  {
   "cell_type": "code",
   "execution_count": 22,
   "id": "547ec33b",
   "metadata": {},
   "outputs": [
    {
     "data": {
      "text/plain": [
       "10"
      ]
     },
     "execution_count": 22,
     "metadata": {},
     "output_type": "execute_result"
    }
   ],
   "source": [
    "rv.compare_algs.num_comparisons"
   ]
  },
  {
   "cell_type": "markdown",
   "id": "a739850c",
   "metadata": {},
   "source": [
    "### Experiment 4"
   ]
  },
  {
   "cell_type": "code",
   "execution_count": 23,
   "id": "5bd95c24",
   "metadata": {},
   "outputs": [
    {
     "data": {
      "image/png": "[encoded data removed]",
      "text/plain": [
       "<Figure size 720x540 with 1 Axes>"
      ]
     },
     "metadata": {
      "needs_background": "light"
     },
     "output_type": "display_data"
    }
   ],
   "source": [
    "cfg = {}\n",
    "cfg['alg1']  = [0.1,0.01] # [mean, std]\n",
    "cfg['alg2']  = [0.2,0.01]\n",
    "cfg['alg3']  = [0.3,0.01]\n",
    "cfg['alg4']  = [0.4,0.01]\n",
    "cfg['alg5']  = [0.5,0.01]\n",
    "h0 = list(cfg.keys())\n",
    "\n",
    "ms = MeasurementsSimulator(cfg, 'normal',seed=129)    \n",
    "rep_steps = 20\n",
    "run_id= 1\n",
    "ms.measure(rep_steps=rep_steps, run_id=run_id)\n",
    "\n",
    "mv = MeasurementsVisualizer(ms.get_alg_measurements(), h0)\n",
    "fig = mv.show_measurements_boxplots()"
   ]
  },
  {
   "cell_type": "code",
   "execution_count": 24,
   "id": "55bedb98",
   "metadata": {},
   "outputs": [],
   "source": [
    "rv = RankVariantsDFGBrute(ms.get_alg_measurements(), h0)"
   ]
  },
  {
   "cell_type": "code",
   "execution_count": 25,
   "id": "a49da4ac",
   "metadata": {},
   "outputs": [
    {
     "name": "stdout",
     "output_type": "stream",
     "text": [
      "comparing alg1 and alg2\n",
      "Adding edge from alg1 to alg2\n",
      "comparing alg2 and alg3\n",
      "Adding edge from alg2 to alg3\n",
      "comparing alg3 and alg4\n",
      "Adding edge from alg3 to alg4\n",
      "comparing alg4 and alg5\n",
      "Adding edge from alg4 to alg5\n",
      "comparing alg1 and alg3\n",
      "Adding edge from alg1 to alg3\n",
      "comparing alg2 and alg4\n",
      "Adding edge from alg2 to alg4\n",
      "comparing alg3 and alg5\n",
      "Adding edge from alg3 to alg5\n",
      "comparing alg1 and alg4\n",
      "Adding edge from alg1 to alg4\n",
      "comparing alg2 and alg5\n",
      "Adding edge from alg2 to alg5\n",
      "comparing alg1 and alg5\n",
      "Adding edge from alg1 to alg5\n",
      "Removing edge from alg1 to alg3\n",
      "Removing edge from alg2 to alg4\n",
      "Removing edge from alg1 to alg4\n",
      "Removing edge from alg3 to alg5\n",
      "Removing edge from alg2 to alg5\n",
      "Removing edge from alg1 to alg5\n"
     ]
    },
    {
     "data": {
      "text/html": [
       "<div>\n",
       "<style scoped>\n",
       "    .dataframe tbody tr th:only-of-type {\n",
       "        vertical-align: middle;\n",
       "    }\n",
       "\n",
       "    .dataframe tbody tr th {\n",
       "        vertical-align: top;\n",
       "    }\n",
       "\n",
       "    .dataframe thead th {\n",
       "        text-align: right;\n",
       "    }\n",
       "</style>\n",
       "<table border=\"1\" class=\"dataframe\">\n",
       "  <thead>\n",
       "    <tr style=\"text-align: right;\">\n",
       "      <th></th>\n",
       "      <th>case:concept:name</th>\n",
       "      <th>case:rank:q75-q25</th>\n",
       "    </tr>\n",
       "  </thead>\n",
       "  <tbody>\n",
       "    <tr>\n",
       "      <th>0</th>\n",
       "      <td>alg1</td>\n",
       "      <td>0</td>\n",
       "    </tr>\n",
       "    <tr>\n",
       "      <th>1</th>\n",
       "      <td>alg2</td>\n",
       "      <td>1</td>\n",
       "    </tr>\n",
       "    <tr>\n",
       "      <th>2</th>\n",
       "      <td>alg3</td>\n",
       "      <td>2</td>\n",
       "    </tr>\n",
       "    <tr>\n",
       "      <th>3</th>\n",
       "      <td>alg4</td>\n",
       "      <td>3</td>\n",
       "    </tr>\n",
       "    <tr>\n",
       "      <th>4</th>\n",
       "      <td>alg5</td>\n",
       "      <td>4</td>\n",
       "    </tr>\n",
       "  </tbody>\n",
       "</table>\n",
       "</div>"
      ],
      "text/plain": [
       "  case:concept:name  case:rank:q75-q25\n",
       "0              alg1                  0\n",
       "1              alg2                  1\n",
       "2              alg3                  2\n",
       "3              alg4                  3\n",
       "4              alg5                  4"
      ]
     },
     "execution_count": 25,
     "metadata": {},
     "output_type": "execute_result"
    }
   ],
   "source": [
    "rv.rank_variants(debug=True)"
   ]
  },
  {
   "cell_type": "code",
   "execution_count": 26,
   "id": "2bc0f80a",
   "metadata": {},
   "outputs": [
    {
     "data": {
      "image/svg+xml": [
       "<?xml version=\"1.0\" encoding=\"UTF-8\" standalone=\"no\"?>\n",
       "<!DOCTYPE svg PUBLIC \"-//W3C//DTD SVG 1.1//EN\"\n",
       " \"http://www.w3.org/Graphics/SVG/1.1/DTD/svg11.dtd\">\n",
       "<!-- Generated by graphviz version 2.40.1 (20161225.0304)\n",
       " -->\n",
       "<!-- Title: %3 Pages: 1 -->\n",
       "<svg width=\"62pt\" height=\"332pt\"\n",
       " viewBox=\"0.00 0.00 62.00 332.00\" xmlns=\"http://www.w3.org/2000/svg\" xmlns:xlink=\"http://www.w3.org/1999/xlink\">\n",
       "<g id=\"graph0\" class=\"graph\" transform=\"scale(1 1) rotate(0) translate(4 328)\">\n",
       "<title>%3</title>\n",
       "<polygon fill=\"#ffffff\" stroke=\"transparent\" points=\"-4,4 -4,-328 58,-328 58,4 -4,4\"/>\n",
       "<!-- alg1 -->\n",
       "<g id=\"node1\" class=\"node\">\n",
       "<title>alg1</title>\n",
       "<ellipse fill=\"#f0efed\" stroke=\"#f0efed\" cx=\"27\" cy=\"-306\" rx=\"27\" ry=\"18\"/>\n",
       "<text text-anchor=\"middle\" x=\"27\" y=\"-301.8\" font-family=\"Times,serif\" font-size=\"14.00\" fill=\"#000000\">alg1</text>\n",
       "</g>\n",
       "<!-- alg2 -->\n",
       "<g id=\"node2\" class=\"node\">\n",
       "<title>alg2</title>\n",
       "<ellipse fill=\"#f0efed\" stroke=\"#f0efed\" cx=\"27\" cy=\"-234\" rx=\"27\" ry=\"18\"/>\n",
       "<text text-anchor=\"middle\" x=\"27\" y=\"-229.8\" font-family=\"Times,serif\" font-size=\"14.00\" fill=\"#000000\">alg2</text>\n",
       "</g>\n",
       "<!-- alg1&#45;&gt;alg2 -->\n",
       "<g id=\"edge1\" class=\"edge\">\n",
       "<title>alg1&#45;&gt;alg2</title>\n",
       "<path fill=\"none\" stroke=\"#000000\" d=\"M27,-287.8314C27,-280.131 27,-270.9743 27,-262.4166\"/>\n",
       "<polygon fill=\"#000000\" stroke=\"#000000\" points=\"30.5001,-262.4132 27,-252.4133 23.5001,-262.4133 30.5001,-262.4132\"/>\n",
       "</g>\n",
       "<!-- alg3 -->\n",
       "<g id=\"node3\" class=\"node\">\n",
       "<title>alg3</title>\n",
       "<ellipse fill=\"#f0efed\" stroke=\"#f0efed\" cx=\"27\" cy=\"-162\" rx=\"27\" ry=\"18\"/>\n",
       "<text text-anchor=\"middle\" x=\"27\" y=\"-157.8\" font-family=\"Times,serif\" font-size=\"14.00\" fill=\"#000000\">alg3</text>\n",
       "</g>\n",
       "<!-- alg2&#45;&gt;alg3 -->\n",
       "<g id=\"edge2\" class=\"edge\">\n",
       "<title>alg2&#45;&gt;alg3</title>\n",
       "<path fill=\"none\" stroke=\"#000000\" d=\"M27,-215.8314C27,-208.131 27,-198.9743 27,-190.4166\"/>\n",
       "<polygon fill=\"#000000\" stroke=\"#000000\" points=\"30.5001,-190.4132 27,-180.4133 23.5001,-190.4133 30.5001,-190.4132\"/>\n",
       "</g>\n",
       "<!-- alg4 -->\n",
       "<g id=\"node4\" class=\"node\">\n",
       "<title>alg4</title>\n",
       "<ellipse fill=\"#f0efed\" stroke=\"#f0efed\" cx=\"27\" cy=\"-90\" rx=\"27\" ry=\"18\"/>\n",
       "<text text-anchor=\"middle\" x=\"27\" y=\"-85.8\" font-family=\"Times,serif\" font-size=\"14.00\" fill=\"#000000\">alg4</text>\n",
       "</g>\n",
       "<!-- alg3&#45;&gt;alg4 -->\n",
       "<g id=\"edge3\" class=\"edge\">\n",
       "<title>alg3&#45;&gt;alg4</title>\n",
       "<path fill=\"none\" stroke=\"#000000\" d=\"M27,-143.8314C27,-136.131 27,-126.9743 27,-118.4166\"/>\n",
       "<polygon fill=\"#000000\" stroke=\"#000000\" points=\"30.5001,-118.4132 27,-108.4133 23.5001,-118.4133 30.5001,-118.4132\"/>\n",
       "</g>\n",
       "<!-- alg5 -->\n",
       "<g id=\"node5\" class=\"node\">\n",
       "<title>alg5</title>\n",
       "<ellipse fill=\"#f0efed\" stroke=\"#f0efed\" cx=\"27\" cy=\"-18\" rx=\"27\" ry=\"18\"/>\n",
       "<text text-anchor=\"middle\" x=\"27\" y=\"-13.8\" font-family=\"Times,serif\" font-size=\"14.00\" fill=\"#000000\">alg5</text>\n",
       "</g>\n",
       "<!-- alg4&#45;&gt;alg5 -->\n",
       "<g id=\"edge4\" class=\"edge\">\n",
       "<title>alg4&#45;&gt;alg5</title>\n",
       "<path fill=\"none\" stroke=\"#000000\" d=\"M27,-71.8314C27,-64.131 27,-54.9743 27,-46.4166\"/>\n",
       "<polygon fill=\"#000000\" stroke=\"#000000\" points=\"30.5001,-46.4132 27,-36.4133 23.5001,-46.4133 30.5001,-46.4132\"/>\n",
       "</g>\n",
       "</g>\n",
       "</svg>\n"
      ],
      "text/plain": [
       "<graphviz.graphs.Digraph at 0x7fe6169f2c10>"
      ]
     },
     "execution_count": 26,
     "metadata": {},
     "output_type": "execute_result"
    }
   ],
   "source": [
    "rv.graph.visualize()"
   ]
  },
  {
   "cell_type": "code",
   "execution_count": 27,
   "id": "5244faae",
   "metadata": {},
   "outputs": [
    {
     "data": {
      "text/plain": [
       "10"
      ]
     },
     "execution_count": 27,
     "metadata": {},
     "output_type": "execute_result"
    }
   ],
   "source": [
    "rv.compare_algs.num_comparisons"
   ]
  },
  {
   "cell_type": "code",
   "execution_count": null,
   "id": "7e770818",
   "metadata": {},
   "outputs": [],
   "source": []
  }
 ],
 "metadata": {
  "kernelspec": {
   "display_name": "Python 3 (ipykernel)",
   "language": "python",
   "name": "python3"
  },
  "language_info": {
   "codemirror_mode": {
    "name": "ipython",
    "version": 3
   },
   "file_extension": ".py",
   "mimetype": "text/x-python",
   "name": "python",
   "nbconvert_exporter": "python",
   "pygments_lexer": "ipython3",
   "version": "3.9.7"
  }
 },
 "nbformat": 4,
 "nbformat_minor": 5
}
