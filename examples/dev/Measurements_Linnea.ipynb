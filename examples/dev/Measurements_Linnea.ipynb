{
 "cells": [
  {
   "cell_type": "code",
   "execution_count": 2,
   "id": "77484878",
   "metadata": {},
   "outputs": [],
   "source": [
    "from algorithm_ranking import MeasurementsManager\n",
    "from backend_manager import BackendManager, Commands\n",
    "import os\n",
    "\n",
    "from am4pa.runners import RunnerVariants\n",
    "from am4pa.data_integration import DataCollector\n",
    "from am4pa.data_proccessing import CaseDurationsManager\n",
    "from am4pa.data_proccessing import FilterOnKPIs"
   ]
  },
  {
   "cell_type": "code",
   "execution_count": 44,
   "id": "4835181e",
   "metadata": {},
   "outputs": [],
   "source": [
    "#should go into am4pa\n",
    "class LinneaConfig:\n",
    "    def __init__(self, problem, threads):\n",
    "        \n",
    "        self.problem = problem\n",
    "        self.threads = threads\n",
    "        #self.op_sizes = op_sizes\n",
    "        #self.num_ops = len(op_sizes)\n",
    "        \n",
    "        self.local_dir = \"\"\n",
    "        \n",
    "        # Backend set up\n",
    "        self.server = \"\"\n",
    "        self.uname = \"\"\n",
    "        self.server = \"\"\n",
    "        self.backend_dir = None\n",
    "        self.backend = False\n",
    "        self.bm = None\n",
    "        self.bm_cmds = None\n",
    "        \n",
    "        self.generation_script = 'generate-variants-linnea.py'\n",
    "        self.measurements_script = \"generate-measurements-script.py\"\n",
    "        self.local_bfolder = \"cluster-data\"\n",
    "        self.slrum_submit_cmd = None\n",
    "        \n",
    "        self.app = \"julia\"\n",
    "        self.runner_script = \"runner.jl\"\n",
    "        self.runner_competing_script = 'runner_competing_{}.jl'\n",
    "        \n",
    "    def set_local_directory(self,local_dir):\n",
    "        self.local_dir = local_dir\n",
    "        \n",
    "    def setup_backend_details(self, server, uname, init_script, backend_dir):\n",
    "        self.server = server\n",
    "        self.uname = uname\n",
    "        self.init_script = init_script\n",
    "        self.backend_dir = backend_dir\n",
    "        self.backend = True\n",
    "        self.slrum_submit_cmd = \"sbatch submit.sh\"\n",
    "        \n",
    "    def connect_backend(self):\n",
    "        if self.backend:\n",
    "            self.bm = BackendManager(server=self.server, uname = self.uname)\n",
    "            self.bm.connect()\n",
    "            self.bm_cmds = Commands(source = self.init_script)\n",
    "        \n",
    "            \n",
    "    def sync_local_and_backend(self):\n",
    "        if self.bm:\n",
    "            if self.bm.connected:\n",
    "                self.bm.copy_to_backend(self.local_dir, self.backend_dir)\n",
    "            \n",
    "    def check_backend_folder_sync(self):\n",
    "        if self.bm:\n",
    "            return self.bm.check_if_file_exists(os.path.join(self.backend_dir,self.generation_script))\n",
    "        return False\n",
    "        "
   ]
  },
  {
   "cell_type": "code",
   "execution_count": 45,
   "id": "4e34bfcc",
   "metadata": {},
   "outputs": [],
   "source": [
    "class MeasurementsLinnea(MeasurementsManager):\n",
    "    def __init__(self,linnea_config, op_sizes):\n",
    "        super().__init__()\n",
    "        \n",
    "        self.linnea_config = linnea_config\n",
    "        self.op_sizes = op_sizes\n",
    "        self.runner = None\n",
    "        self.data_collector = None\n",
    "        self.case_durations_manager = None\n",
    "        self.h0 = None\n",
    "        \n",
    "    def generate_variants(self):\n",
    "        if self.linnea_config.backend:\n",
    "            self.runner = RunnerVariants(self.op_sizes,\n",
    "                                    self.linnea_config.backend_dir,\n",
    "                                    threads = self.linnea_config.threads,\n",
    "                                    backend_manager = self.linnea_config.bm,\n",
    "                                    backend_commands= self.linnea_config.bm_cmds)\n",
    "            \n",
    "            local_operands_dir = os.path.join(self.linnea_config.local_dir,self.linnea_config.local_bfolder,self.runner.operands_dir_name)\n",
    "            if not os.path.exists(local_operands_dir):\n",
    "                os.makedirs(local_operands_dir)\n",
    "            \n",
    "            self.data_collector = DataCollector(local_operands_dir,\n",
    "                                           self.runner.operands_dir, self.linnea_config.bm)\n",
    "                \n",
    "        else:\n",
    "            self.runner = RunnerVariants(self.op_sizes,\n",
    "                                    self.linnea_config.local_dir,\n",
    "                                    threads = self.linnea_config.threads)\n",
    "            self.data_collector = DataCollector(self.runner.operands_dir)\n",
    "            \n",
    "        self.runner.generate_variants_for_measurements(self.linnea_config.generation_script)\n",
    "        \n",
    "\n",
    "        \n",
    "    def gather_competing_variants(self, bmeasure_once=False, rel_duration=1.2):\n",
    "        case_table = self.data_collector.get_case_table()\n",
    "        \n",
    "        if bmeasure_once:\n",
    "            self.runner.measure_variants(app=self.linnea_config.app,\n",
    "                                        runner_script=self.linnea_config.runner_script)\n",
    "            measurements_table = self.data_collector.get_runtimes_table()\n",
    "            \n",
    "            filterKPI = FilterOnKPIs(case_table,measurements_table)\n",
    "            df = filterKPI.filter_on_flops_and_rel_duration(rel_duration)\n",
    "            \n",
    "            self.h0 = df['case:concept:name'].tolist()\n",
    "        else:\n",
    "            self.h0 = case_table['case:concept:name'].tolist()\n",
    "            \n",
    "        self.case_durations_manager = CaseDurationsManager()\n",
    "        return self.h0\n",
    "    \n",
    "    def measure(self, rep_steps,run_id, bSlrum=False):\n",
    "        self.runner.generate_measurements_script(self.linnea_config.measurements_script,\n",
    "                                                self.h0,\n",
    "                                                run_id,\n",
    "                                                rep_steps)\n",
    "        \n",
    "        if not bSlrum:\n",
    "            self.runner.measure_variants(app=self.linnea_config.app,\n",
    "                                    runner_script=self.linnea_config.runner_competing_script.format(run_id))\n",
    "            \n",
    "            self.collect_measurements(run_id)\n",
    "        else:\n",
    "            self.runner.measure_variants(app=self.linnea_config.app,\n",
    "                                    runner_script=self.linnea_config.runner_competing_script.format(run_id),\n",
    "                                        submit_cmd=self.linnea_config.slrum_submit_cmd)\n",
    "            \n",
    "        \n",
    "    def collect_measurements(self, run_id):\n",
    "        df = self.data_collector.get_runtimes_competing_table(run_id)\n",
    "        self.case_durations_manager.add_case_durations(df)\n",
    "        \n",
    "    def get_alg_measurements(self):\n",
    "        return self.case_durations_manager.get_alg_measurements()\n",
    "        "
   ]
  },
  {
   "cell_type": "markdown",
   "id": "63ec08cf",
   "metadata": {},
   "source": [
    "### Local"
   ]
  },
  {
   "cell_type": "code",
   "execution_count": 5,
   "id": "af857952",
   "metadata": {},
   "outputs": [],
   "source": [
    "linnea_config = LinneaConfig(\"MatrixChain4\",4)"
   ]
  },
  {
   "cell_type": "code",
   "execution_count": 6,
   "id": "86fb0b3b",
   "metadata": {},
   "outputs": [],
   "source": [
    "linnea_config.set_local_directory(\"../linnea/matrix-chain-4/\")"
   ]
  },
  {
   "cell_type": "code",
   "execution_count": 7,
   "id": "510f4baf",
   "metadata": {},
   "outputs": [],
   "source": [
    "op_sizes = [\"100\",\"90\",\"6\",\"90\",\"100\"]\n",
    "ms = MeasurementsLinnea(linnea_config,op_sizes)"
   ]
  },
  {
   "cell_type": "code",
   "execution_count": 8,
   "id": "72eda014",
   "metadata": {},
   "outputs": [
    {
     "name": "stdout",
     "output_type": "stream",
     "text": [
      "['python', '../linnea/matrix-chain-4/generate-variants-linnea.py', '100', '90', '6', '90', '100', '--threads=4']\n",
      "New solution:.............3.24e+05\n",
      "No further generation steps possible.\n",
      "----------------------------------\n",
      "Number of nodes:                 8\n",
      "Solution nodes:                  1\n",
      "Data:                     2.81e+04\n",
      "Best solution:            3.24e+05\n",
      "Intensity:                    11.5\n",
      "Number of algorithms:            6\n",
      "Generated Variants.\n",
      "\u001b[92mSuccess: Local run: Generate variants\u001b[0m\n"
     ]
    }
   ],
   "source": [
    "ms.generate_variants()"
   ]
  },
  {
   "cell_type": "code",
   "execution_count": 9,
   "id": "29f0caa3",
   "metadata": {},
   "outputs": [
    {
     "data": {
      "text/plain": [
       "['algorithm1',\n",
       " 'algorithm5',\n",
       " 'algorithm4',\n",
       " 'algorithm0',\n",
       " 'algorithm3',\n",
       " 'algorithm2']"
      ]
     },
     "execution_count": 9,
     "metadata": {},
     "output_type": "execute_result"
    }
   ],
   "source": [
    "ms.gather_competing_variants()"
   ]
  },
  {
   "cell_type": "code",
   "execution_count": 14,
   "id": "601b9269",
   "metadata": {},
   "outputs": [
    {
     "name": "stdout",
     "output_type": "stream",
     "text": [
      "['python', '../linnea/matrix-chain-4/experiments/100_90_6_90_100/generate-measurements-script.py', '--algs', 'algorithm1', 'algorithm5', 'algorithm4', 'algorithm0', 'algorithm3', 'algorithm2', '--rep', '3', '--threads', '4', '--id', '2']\n",
      "\u001b[92mSuccess: Local run: Generate Measurement script 2\u001b[0m\n",
      "Running Measurements locally\n",
      "['julia', '../linnea/matrix-chain-4/experiments/100_90_6_90_100/runner_competing_2.jl']\n",
      "\u001b[92mSuccess: Local run: Measurements from runner_competing_2.jl\u001b[0m\n"
     ]
    }
   ],
   "source": [
    "ms.measure(3,2)"
   ]
  },
  {
   "cell_type": "code",
   "execution_count": 15,
   "id": "1066524d",
   "metadata": {},
   "outputs": [
    {
     "data": {
      "text/plain": [
       "{'algorithm4': [0.00015497207641601562,\n",
       "  0.00019288063049316406,\n",
       "  0.00029087066650390625,\n",
       "  0.00015687942504882812,\n",
       "  0.00016307830810546875,\n",
       "  0.00017404556274414062,\n",
       "  0.00015497207641601562,\n",
       "  0.0001690387725830078,\n",
       "  0.0002238750457763672],\n",
       " 'algorithm1': [6.890296936035156e-05,\n",
       "  6.985664367675781e-05,\n",
       "  6.890296936035156e-05,\n",
       "  5.91278076171875e-05,\n",
       "  5.793571472167969e-05,\n",
       "  7.796287536621094e-05,\n",
       "  5.698204040527344e-05,\n",
       "  5.817413330078125e-05,\n",
       "  5.817413330078125e-05],\n",
       " 'algorithm3': [0.00011801719665527344,\n",
       "  0.00011801719665527344,\n",
       "  0.00019884109497070312,\n",
       "  0.00012993812561035156,\n",
       "  0.00013303756713867188,\n",
       "  0.0001239776611328125,\n",
       "  0.0001289844512939453,\n",
       "  0.0001220703125,\n",
       "  0.0001239776611328125],\n",
       " 'algorithm0': [7.081031799316406e-05,\n",
       "  6.103515625e-05,\n",
       "  5.4836273193359375e-05,\n",
       "  6.604194641113281e-05,\n",
       "  5.793571472167969e-05,\n",
       "  5.3882598876953125e-05,\n",
       "  6.103515625e-05,\n",
       "  5.5789947509765625e-05,\n",
       "  5.91278076171875e-05],\n",
       " 'algorithm2': [0.0008649826049804688,\n",
       "  0.00010609626770019531,\n",
       "  0.00013399124145507812,\n",
       "  0.00010204315185546875,\n",
       "  0.00012493133544921875,\n",
       "  0.0001251697540283203,\n",
       "  0.00010514259338378906,\n",
       "  0.00010395050048828125,\n",
       "  0.00011706352233886719],\n",
       " 'algorithm5': [0.00021314620971679688,\n",
       "  0.00021600723266601562,\n",
       "  0.00027298927307128906,\n",
       "  7.700920104980469e-05,\n",
       "  0.0002110004425048828,\n",
       "  0.00032401084899902344,\n",
       "  7.700920104980469e-05,\n",
       "  0.00023698806762695312,\n",
       "  0.0002410411834716797]}"
      ]
     },
     "execution_count": 15,
     "metadata": {},
     "output_type": "execute_result"
    }
   ],
   "source": [
    "ms.get_alg_measurements()"
   ]
  },
  {
   "cell_type": "markdown",
   "id": "632a437d",
   "metadata": {},
   "source": [
    "### Backend"
   ]
  },
  {
   "cell_type": "code",
   "execution_count": 58,
   "id": "4e72fee0",
   "metadata": {},
   "outputs": [],
   "source": [
    "linnea_config = LinneaConfig(\"MatrixChain4\",4)"
   ]
  },
  {
   "cell_type": "code",
   "execution_count": 59,
   "id": "610b81a7",
   "metadata": {},
   "outputs": [],
   "source": [
    "linnea_config.set_local_directory(\"../linnea/matrix-chain-4/\")\n",
    "linnea_config.setup_backend_details(server=\"login18-1.hpc.itc.rwth-aachen.de\",\n",
    "                                   uname = \"as641651\",\n",
    "                                   init_script=\"~/.analyzer\",\n",
    "                                   backend_dir=\"~/PhD/va4algs-exps/matrix-chain-4/\")"
   ]
  },
  {
   "cell_type": "code",
   "execution_count": 60,
   "id": "8465b1b4",
   "metadata": {},
   "outputs": [],
   "source": [
    "linnea_config.connect_backend()"
   ]
  },
  {
   "cell_type": "code",
   "execution_count": 61,
   "id": "5c0be69b",
   "metadata": {},
   "outputs": [
    {
     "data": {
      "text/plain": [
       "True"
      ]
     },
     "execution_count": 61,
     "metadata": {},
     "output_type": "execute_result"
    }
   ],
   "source": [
    "linnea_config.check_backend_folder_sync()"
   ]
  },
  {
   "cell_type": "code",
   "execution_count": 62,
   "id": "e8a2fb4f",
   "metadata": {},
   "outputs": [],
   "source": [
    "op_sizes = [\"100\",\"90\",\"6\",\"90\",\"100\"]\n",
    "ms = MeasurementsLinnea(linnea_config,op_sizes)"
   ]
  },
  {
   "cell_type": "code",
   "execution_count": 63,
   "id": "8effb5ab",
   "metadata": {},
   "outputs": [
    {
     "name": "stdout",
     "output_type": "stream",
     "text": [
      "source ~/.analyzer; cd ~/PhD/va4algs-exps/matrix-chain-4; python generate-variants-linnea.py 100 90 6 90 100 --threads=4\n",
      "['New solution:.............3.24e+05\\n', 'No further generation steps possible.\\n', '----------------------------------\\n', 'Number of nodes:                 8\\n', 'Solution nodes:                  1\\n', 'Data:                     2.81e+04\\n', 'Best solution:            3.24e+05\\n', 'Intensity:                    11.5\\n', 'Number of algorithms:            6\\n', 'Generated Variants.\\n']\n",
      "\u001b[92mSuccess: Backend interactive run: Generate variants\u001b[0m\n"
     ]
    }
   ],
   "source": [
    "ms.generate_variants()"
   ]
  },
  {
   "cell_type": "code",
   "execution_count": 64,
   "id": "fe768536",
   "metadata": {},
   "outputs": [
    {
     "data": {
      "text/plain": [
       "['algorithm0',\n",
       " 'algorithm2',\n",
       " 'algorithm4',\n",
       " 'algorithm1',\n",
       " 'algorithm5',\n",
       " 'algorithm3']"
      ]
     },
     "execution_count": 64,
     "metadata": {},
     "output_type": "execute_result"
    }
   ],
   "source": [
    "ms.gather_competing_variants()"
   ]
  },
  {
   "cell_type": "code",
   "execution_count": 41,
   "id": "ddb57d90",
   "metadata": {},
   "outputs": [
    {
     "name": "stdout",
     "output_type": "stream",
     "text": [
      "source ~/.analyzer; cd ~/PhD/va4algs-exps/matrix-chain-4/experiments/100_90_6_90_100; python generate-measurements-script.py --algs algorithm0 algorithm2 algorithm4 algorithm1 algorithm5 algorithm3 --rep 3 --threads 4 --id 1\n",
      "[]\n",
      "\u001b[92mSuccess: Backend interactive run: Generate Measurement script 1\u001b[0m\n",
      "Running Measurements Backend interactive\n",
      "source ~/.analyzer; cd ~/PhD/va4algs-exps/matrix-chain-4/experiments/100_90_6_90_100; julia runner_competing_1.jl \n",
      "[]\n",
      "\u001b[92mSuccess: Backend interactive run: Measurements from runner_competing_1.jl\u001b[0m\n"
     ]
    }
   ],
   "source": [
    "ms.measure(3,1)"
   ]
  },
  {
   "cell_type": "code",
   "execution_count": 42,
   "id": "fcd8b97f",
   "metadata": {},
   "outputs": [
    {
     "data": {
      "text/plain": [
       "{'algorithm4': [0.000209808349609375,\n",
       "  0.00017905235290527344,\n",
       "  0.0001990795135498047],\n",
       " 'algorithm3': [0.001756906509399414,\n",
       "  0.00015091896057128906,\n",
       "  0.000141143798828125],\n",
       " 'algorithm1': [6.699562072753906e-05,\n",
       "  7.104873657226562e-05,\n",
       "  6.508827209472656e-05],\n",
       " 'algorithm0': [7.605552673339844e-05,\n",
       "  6.914138793945312e-05,\n",
       "  7.009506225585938e-05],\n",
       " 'algorithm2': [0.00012612342834472656,\n",
       "  0.0001399517059326172,\n",
       "  0.00012993812561035156],\n",
       " 'algorithm5': [0.00020384788513183594,\n",
       "  0.00021791458129882812,\n",
       "  0.00021004676818847656]}"
      ]
     },
     "execution_count": 42,
     "metadata": {},
     "output_type": "execute_result"
    }
   ],
   "source": [
    "ms.get_alg_measurements()"
   ]
  },
  {
   "cell_type": "markdown",
   "id": "d82c9307",
   "metadata": {},
   "source": [
    "### SLRUM Measurement"
   ]
  },
  {
   "cell_type": "code",
   "execution_count": 70,
   "id": "124ac9b3",
   "metadata": {},
   "outputs": [
    {
     "name": "stdout",
     "output_type": "stream",
     "text": [
      "source ~/.analyzer; cd ~/PhD/va4algs-exps/matrix-chain-4/experiments/100_90_6_90_100; python generate-measurements-script.py --algs algorithm0 algorithm2 algorithm4 algorithm1 algorithm5 algorithm3 --rep 3 --threads 4 --id 5\n",
      "[]\n",
      "\u001b[92mSuccess: Backend interactive run: Generate Measurement script 5\u001b[0m\n",
      "Running Measurements Backend batch\n",
      "source ~/.analyzer; cd ~/PhD/va4algs-exps/matrix-chain-4/experiments/100_90_6_90_100; sbatch submit.sh julia 'runner_competing_5.jl '\n",
      "['Submitted batch job 31421523\\n']\n",
      "\u001b[92mSuccess: Backend batch run: Measurements from runner_competing_5.jl\u001b[0m\n"
     ]
    }
   ],
   "source": [
    "ms.measure(3,5,bSlrum=True)"
   ]
  },
  {
   "cell_type": "code",
   "execution_count": 74,
   "id": "ef19f5a3",
   "metadata": {},
   "outputs": [
    {
     "name": "stdout",
     "output_type": "stream",
     "text": [
      "['             JOBID PARTITION                           NAME     USER    STATE       TIME TIME_LIMI  NODES NODELIST(REASON)\\n']\n"
     ]
    },
    {
     "data": {
      "text/plain": [
       "0"
      ]
     },
     "execution_count": 74,
     "metadata": {},
     "output_type": "execute_result"
    }
   ],
   "source": [
    "linnea_config.bm.check_slrum_status(ms.runner.job_name)"
   ]
  },
  {
   "cell_type": "code",
   "execution_count": 75,
   "id": "d576f69e",
   "metadata": {},
   "outputs": [
    {
     "name": "stdout",
     "output_type": "stream",
     "text": [
      "scp as641651@login18-1.hpc.itc.rwth-aachen.de:~/PhD/va4algs-exps/matrix-chain-4/experiments/100_90_6_90_100/run_times_competing_5.csv ../linnea/matrix-chain-4/cluster-data/100_90_6_90_100\n",
      "b''\n"
     ]
    }
   ],
   "source": [
    "ms.collect_measurements(5)"
   ]
  },
  {
   "cell_type": "code",
   "execution_count": 76,
   "id": "51e6ce90",
   "metadata": {},
   "outputs": [
    {
     "data": {
      "text/plain": [
       "{'algorithm4': [0.000102996826171875,\n",
       "  0.00011897087097167969,\n",
       "  0.00011682510375976562,\n",
       "  0.00012922286987304688,\n",
       "  0.0001380443572998047,\n",
       "  0.00012087821960449219],\n",
       " 'algorithm3': [0.00016117095947265625,\n",
       "  9.298324584960938e-05,\n",
       "  9.012222290039062e-05,\n",
       "  0.00010609626770019531,\n",
       "  9.107589721679688e-05,\n",
       "  8.988380432128906e-05],\n",
       " 'algorithm1': [5.0067901611328125e-05,\n",
       "  4.506111145019531e-05,\n",
       "  4.38690185546875e-05,\n",
       "  3.0994415283203125e-05,\n",
       "  4.1961669921875e-05,\n",
       "  4.315376281738281e-05],\n",
       " 'algorithm0': [4.601478576660156e-05,\n",
       "  4.100799560546875e-05,\n",
       "  4.1961669921875e-05,\n",
       "  4.38690185546875e-05,\n",
       "  4.9114227294921875e-05,\n",
       "  4.291534423828125e-05],\n",
       " 'algorithm2': [5.698204040527344e-05,\n",
       "  6.103515625e-05,\n",
       "  7.891654968261719e-05,\n",
       "  8.20159912109375e-05,\n",
       "  8.797645568847656e-05,\n",
       "  8.20159912109375e-05],\n",
       " 'algorithm5': [0.000125885009765625,\n",
       "  0.00012302398681640625,\n",
       "  0.000125885009765625,\n",
       "  0.00012302398681640625,\n",
       "  0.00013017654418945312,\n",
       "  0.00012493133544921875]}"
      ]
     },
     "execution_count": 76,
     "metadata": {},
     "output_type": "execute_result"
    }
   ],
   "source": [
    "ms.get_alg_measurements()"
   ]
  },
  {
   "cell_type": "code",
   "execution_count": null,
   "id": "38836e40",
   "metadata": {},
   "outputs": [],
   "source": []
  }
 ],
 "metadata": {
  "kernelspec": {
   "display_name": "Python 3 (ipykernel)",
   "language": "python",
   "name": "python3"
  },
  "language_info": {
   "codemirror_mode": {
    "name": "ipython",
    "version": 3
   },
   "file_extension": ".py",
   "mimetype": "text/x-python",
   "name": "python",
   "nbconvert_exporter": "python",
   "pygments_lexer": "ipython3",
   "version": "3.9.7"
  }
 },
 "nbformat": 4,
 "nbformat_minor": 5
}
