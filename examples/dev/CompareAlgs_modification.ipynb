{
 "cells": [
  {
   "cell_type": "code",
   "execution_count": 1,
   "id": "60ef2034",
   "metadata": {},
   "outputs": [],
   "source": [
    "from algorithm_ranking import MeasurementsSimulator, MeasurementsVisualizer, CompareAlgs"
   ]
  },
  {
   "cell_type": "code",
   "execution_count": 2,
   "id": "c7821d8e",
   "metadata": {},
   "outputs": [],
   "source": [
    "import pandas as pd\n",
    "import numpy as np"
   ]
  },
  {
   "cell_type": "code",
   "execution_count": 7,
   "id": "55f4448a",
   "metadata": {},
   "outputs": [],
   "source": [
    "cfg = {}\n",
    "cfg['alg1']  = [0.2,0.02] #[mean, std]\n",
    "cfg['alg2']  = [0.2,0.01]\n",
    "cfg['alg3']  = [0.2,0.01]\n",
    "cfg['alg4']  = [0.18,0.01]\n",
    "h0 = list(cfg.keys())"
   ]
  },
  {
   "cell_type": "code",
   "execution_count": 10,
   "id": "8c15a065",
   "metadata": {},
   "outputs": [],
   "source": [
    "ms = MeasurementsSimulator(cfg, 'normal',seed=159)\n",
    "mv = MeasurementsVisualizer(ms.get_alg_measurements(), h0)"
   ]
  },
  {
   "cell_type": "code",
   "execution_count": 11,
   "id": "8f5a10bb",
   "metadata": {},
   "outputs": [
    {
     "data": {
      "image/png": "[encoded data removed]",
      "text/plain": [
       "<Figure size 720x432 with 1 Axes>"
      ]
     },
     "metadata": {
      "needs_background": "light"
     },
     "output_type": "display_data"
    }
   ],
   "source": [
    "ms.measure(3,1)\n",
    "fig = mv.show_measurements_boxplots()"
   ]
  },
  {
   "cell_type": "code",
   "execution_count": 9,
   "id": "0623d38c",
   "metadata": {},
   "outputs": [],
   "source": [
    "compare_algs = CompareAlgs(ms.get_alg_measurements(),h0)"
   ]
  },
  {
   "cell_type": "code",
   "execution_count": 12,
   "id": "01fab396",
   "metadata": {},
   "outputs": [],
   "source": [
    "compare_algs.compute_quantiles(75,25)"
   ]
  },
  {
   "cell_type": "code",
   "execution_count": 13,
   "id": "40a77925",
   "metadata": {},
   "outputs": [
    {
     "data": {
      "text/plain": [
       "{'alg1': 0.20484766774704422,\n",
       " 'alg2': 0.19863664035880665,\n",
       " 'alg3': 0.20431381241613178,\n",
       " 'alg4': 0.17792687245436134}"
      ]
     },
     "execution_count": 13,
     "metadata": {},
     "output_type": "execute_result"
    }
   ],
   "source": [
    "compare_algs.t_up"
   ]
  },
  {
   "cell_type": "code",
   "execution_count": 14,
   "id": "9eb889be",
   "metadata": {},
   "outputs": [
    {
     "data": {
      "text/plain": [
       "{'alg1': 0.1929653061621407,\n",
       " 'alg2': 0.18772551710166946,\n",
       " 'alg3': 0.20244096311371151,\n",
       " 'alg4': 0.17077952757784848}"
      ]
     },
     "execution_count": 14,
     "metadata": {},
     "output_type": "execute_result"
    }
   ],
   "source": [
    "compare_algs.t_low"
   ]
  },
  {
   "cell_type": "code",
   "execution_count": null,
   "id": "02e120d9",
   "metadata": {},
   "outputs": [],
   "source": []
  }
 ],
 "metadata": {
  "kernelspec": {
   "display_name": "Python 3 (ipykernel)",
   "language": "python",
   "name": "python3"
  },
  "language_info": {
   "codemirror_mode": {
    "name": "ipython",
    "version": 3
   },
   "file_extension": ".py",
   "mimetype": "text/x-python",
   "name": "python",
   "nbconvert_exporter": "python",
   "pygments_lexer": "ipython3",
   "version": "3.9.7"
  }
 },
 "nbformat": 4,
 "nbformat_minor": 5
}
