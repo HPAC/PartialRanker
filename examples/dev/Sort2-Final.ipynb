{
 "cells": [
  {
   "cell_type": "code",
   "execution_count": 1,
   "id": "8e46bd59",
   "metadata": {},
   "outputs": [],
   "source": [
    "from algorithm_ranking import MeasurementsVisualizer, MeasurementsSimulator"
   ]
  },
  {
   "cell_type": "markdown",
   "id": "2c586064",
   "metadata": {},
   "source": [
    "### Get measurements"
   ]
  },
  {
   "cell_type": "code",
   "execution_count": 2,
   "id": "89affe21",
   "metadata": {},
   "outputs": [
    {
     "data": {
      "text/plain": [
       "['alg1', 'alg2', 'alg3', 'alg4']"
      ]
     },
     "execution_count": 2,
     "metadata": {},
     "output_type": "execute_result"
    }
   ],
   "source": [
    "cfg = {}\n",
    "cfg['alg1']  = [0.2,0.02] #[mean, std]\n",
    "cfg['alg2']  = [0.2,0.01]\n",
    "cfg['alg3']  = [0.2,0.01]\n",
    "cfg['alg4']  = [0.18,0.01]\n",
    "h0 = list(cfg.keys())\n",
    "h0"
   ]
  },
  {
   "cell_type": "code",
   "execution_count": 3,
   "id": "c16e1414",
   "metadata": {},
   "outputs": [],
   "source": [
    "#seed = 359\n",
    "ms = MeasurementsSimulator(cfg, 'normal',seed=359) \n",
    "ms.measure(10,1)"
   ]
  },
  {
   "cell_type": "code",
   "execution_count": 4,
   "id": "af0f85a4",
   "metadata": {},
   "outputs": [],
   "source": [
    "#ms.get_alg_measurements()"
   ]
  },
  {
   "cell_type": "code",
   "execution_count": 5,
   "id": "663ae9d0",
   "metadata": {},
   "outputs": [
    {
     "data": {
      "image/png": "[encoded data removed]",
      "text/plain": [
       "<Figure size 720x432 with 1 Axes>"
      ]
     },
     "execution_count": 5,
     "metadata": {},
     "output_type": "execute_result"
    },
    {
     "data": {
      "image/png": "[encoded data removed]",
      "text/plain": [
       "<Figure size 720x432 with 1 Axes>"
      ]
     },
     "metadata": {
      "needs_background": "light"
     },
     "output_type": "display_data"
    }
   ],
   "source": [
    "mv = MeasurementsVisualizer(ms.get_alg_measurements(), h0)\n",
    "mv.show_measurements_boxplots()"
   ]
  },
  {
   "cell_type": "markdown",
   "id": "6530b3c2",
   "metadata": {},
   "source": [
    "### Alg Ranking: Sort"
   ]
  },
  {
   "cell_type": "code",
   "execution_count": 7,
   "id": "f3db6d8a",
   "metadata": {},
   "outputs": [],
   "source": [
    "import random\n",
    "import numpy as np\n",
    "import pandas as pd\n",
    "from abc import ABC, abstractmethod\n",
    "from algorithm_ranking import CompareAlgs\n",
    "\n",
    "class RankVariants(ABC):\n",
    "    def __init__(self, alg_measurements, alg_seq_h0):\n",
    "        self.measurements = alg_measurements\n",
    "        self.alg_seq_h0 = alg_seq_h0\n",
    "        self.compare_algs = CompareAlgs(alg_measurements,alg_seq_h0)\n",
    "\n",
    "    \n",
    "    @abstractmethod\n",
    "    def rank_variants(self,q_max=75, q_min=25):\n",
    "        pass\n",
    "\n",
    "\n",
    "    def calculate_ranks(self, q_maxs=[95, 90, 85, 80, 75, 70, 65, 55],\n",
    "                        q_mins=[5, 10, 15, 20, 25, 30, 35, 45]):\n",
    "        #q_maxs = [95, 90, 85, 80, 75, 70, 65, 55]\n",
    "        #q_mins = [5, 10, 15, 20, 25, 30, 35, 45]\n",
    "        #q_maxs = [55, 55, 55, 55, 55]\n",
    "        #q_mins = [5, 10, 20, 30, 40]\n",
    "        #q_maxs = [75, 70, 65, 55]\n",
    "        #q_mins = [25, 30, 35, 45]\n",
    "        ranks = []\n",
    "        for q_max, q_min in zip(q_maxs, q_mins):\n",
    "            ranks.append(self.rank_variants(q_max, q_min).set_index('case:concept:name'))\n",
    "\n",
    "        return pd.concat(ranks, axis=1)\n",
    "\n",
    "    def calculate_roc(self):\n",
    "\n",
    "        df_ranks = self.calculate_ranks()\n",
    "        max_rank = df_ranks.max().max()\n",
    "        if max_rank == 0:\n",
    "            max_rank = 1\n",
    "        x = df_ranks.apply(lambda x: x * (1. / len(df_ranks.columns))).sum(axis=1) / (max_rank)\n",
    "        df_roc = pd.DataFrame(x)\n",
    "        df_roc = df_roc.reset_index()\n",
    "        df_roc = df_roc.rename(columns={0: 'case:roc'})\n",
    "\n",
    "        df_roc.sort_values(by=['case:roc'], inplace=True)\n",
    "        return df_ranks, df_roc\n",
    "\n",
    "    def calculate_mean_rank(self, q_maxs=[95, 90, 85, 80, 75, 70, 65, 55],\n",
    "                            q_mins=[5, 10, 15, 20, 25, 30, 35, 45] ):\n",
    "\n",
    "        df_ranks = self.calculate_ranks(q_maxs, q_mins)\n",
    "\n",
    "        x = df_ranks.sum(axis=1) / float(len(df_ranks.columns))\n",
    "        df_mean = pd.DataFrame(x)\n",
    "        df_mean = df_mean.reset_index()\n",
    "        df_mean = df_mean.rename(columns={0: 'case:mean-rank'})\n",
    "\n",
    "        df_mean.sort_values(by=['case:mean-rank'], inplace=True)\n",
    "        return df_ranks, df_mean"
   ]
  },
  {
   "cell_type": "code",
   "execution_count": 8,
   "id": "dcdbd0fe",
   "metadata": {},
   "outputs": [],
   "source": [
    "class RankVariantsSort(RankVariants):\n",
    "    def __init__(self, alg_measurements, alg_seq_h0):\n",
    "        super().__init__(alg_measurements, alg_seq_h0)\n",
    "        \n",
    "    def rank_variants(self,q_max=75, q_min=25):\n",
    "        self.compare_algs.init_comparision_matrix()\n",
    "\n",
    "        p = len(self.alg_seq_h0)\n",
    "\n",
    "        r = np.array([i for i in range(p)])\n",
    "        s = np.array([i for i in range(p)])\n",
    "\n",
    "        algs = {}\n",
    "        for i in range(p):\n",
    "            algs[s[i]] = self.alg_seq_h0[i]\n",
    "            \n",
    "        print(s+1)\n",
    "        print(r)\n",
    "        print(\"\\n\")\n",
    "\n",
    "        for i in range(p):\n",
    "            for j in range(0, p - i - 1):\n",
    "\n",
    "                # ret = self.compareAlgs(algs[s[j]], algs[s[j+1]], threshold, M, K)\n",
    "                ret = self.compare_algs.compare(algs[s[j]], algs[s[j + 1]], q_max, q_min)\n",
    "\n",
    "                # if alg j+1 is faster than alg j\n",
    "                if ret == 2:\n",
    "                    # swap index\n",
    "                    s[j], s[j + 1] = s[j + 1], s[j]\n",
    "\n",
    "                    # update rank\n",
    "                    if r[j + 1] == r[j]:\n",
    "                            r[j + 1] = r[j + 1] + 1\n",
    "\n",
    "\n",
    "                # alg j+1 is as good as alg j\n",
    "                if ret == 1:\n",
    "                    # update rank\n",
    "                    if r[j + 1] != r[j]:\n",
    "                        r[j + 1:] = r[j + 1:] - 1\n",
    "                        \n",
    "                    \n",
    "                print(\"compare {} and {}\".format(s[j]+1, s[j+1]+1))\n",
    "                print(s+1)\n",
    "                print(r)\n",
    "                print(\"\\n\")\n",
    "\n",
    "        columns = ['case:concept:name', 'case:rank:q{}-q{}'.format(int(q_max),int(q_min))]\n",
    "\n",
    "        return pd.DataFrame([(algs[s[i]], r[i]) for i in range(p)], columns=columns)\n",
    "    "
   ]
  },
  {
   "cell_type": "code",
   "execution_count": 9,
   "id": "bd602c1d",
   "metadata": {},
   "outputs": [
    {
     "data": {
      "text/plain": [
       "['alg1', 'alg2', 'alg3', 'alg4']"
      ]
     },
     "execution_count": 9,
     "metadata": {},
     "output_type": "execute_result"
    }
   ],
   "source": [
    "rv = RankVariantsSort(ms.get_alg_measurements(), h0)\n",
    "h0"
   ]
  },
  {
   "cell_type": "code",
   "execution_count": 10,
   "id": "acf18e04",
   "metadata": {},
   "outputs": [
    {
     "name": "stdout",
     "output_type": "stream",
     "text": [
      "[1 2 3 4]\n",
      "[0 1 2 3]\n",
      "\n",
      "\n",
      "compare 1 and 2\n",
      "[1 2 3 4]\n",
      "[0 0 1 2]\n",
      "\n",
      "\n",
      "compare 2 and 3\n",
      "[1 2 3 4]\n",
      "[0 0 0 1]\n",
      "\n",
      "\n",
      "compare 4 and 3\n",
      "[1 2 4 3]\n",
      "[0 0 0 1]\n",
      "\n",
      "\n",
      "compare 1 and 2\n",
      "[1 2 4 3]\n",
      "[0 0 0 1]\n",
      "\n",
      "\n",
      "compare 4 and 2\n",
      "[1 4 2 3]\n",
      "[0 0 1 1]\n",
      "\n",
      "\n",
      "compare 4 and 1\n",
      "[4 1 2 3]\n",
      "[0 1 1 1]\n",
      "\n",
      "\n"
     ]
    }
   ],
   "source": [
    "ranks_25_75 = rv.rank_variants()"
   ]
  },
  {
   "cell_type": "code",
   "execution_count": 11,
   "id": "743defaa",
   "metadata": {},
   "outputs": [
    {
     "data": {
      "text/html": [
       "<div>\n",
       "<style scoped>\n",
       "    .dataframe tbody tr th:only-of-type {\n",
       "        vertical-align: middle;\n",
       "    }\n",
       "\n",
       "    .dataframe tbody tr th {\n",
       "        vertical-align: top;\n",
       "    }\n",
       "\n",
       "    .dataframe thead th {\n",
       "        text-align: right;\n",
       "    }\n",
       "</style>\n",
       "<table border=\"1\" class=\"dataframe\">\n",
       "  <thead>\n",
       "    <tr style=\"text-align: right;\">\n",
       "      <th></th>\n",
       "      <th>case:concept:name</th>\n",
       "      <th>case:rank:q75-q25</th>\n",
       "    </tr>\n",
       "  </thead>\n",
       "  <tbody>\n",
       "    <tr>\n",
       "      <th>0</th>\n",
       "      <td>alg4</td>\n",
       "      <td>0</td>\n",
       "    </tr>\n",
       "    <tr>\n",
       "      <th>1</th>\n",
       "      <td>alg1</td>\n",
       "      <td>1</td>\n",
       "    </tr>\n",
       "    <tr>\n",
       "      <th>2</th>\n",
       "      <td>alg2</td>\n",
       "      <td>1</td>\n",
       "    </tr>\n",
       "    <tr>\n",
       "      <th>3</th>\n",
       "      <td>alg3</td>\n",
       "      <td>1</td>\n",
       "    </tr>\n",
       "  </tbody>\n",
       "</table>\n",
       "</div>"
      ],
      "text/plain": [
       "  case:concept:name  case:rank:q75-q25\n",
       "0              alg4                  0\n",
       "1              alg1                  1\n",
       "2              alg2                  1\n",
       "3              alg3                  1"
      ]
     },
     "execution_count": 11,
     "metadata": {},
     "output_type": "execute_result"
    }
   ],
   "source": [
    "ranks_25_75"
   ]
  },
  {
   "cell_type": "code",
   "execution_count": 12,
   "id": "58445a65",
   "metadata": {},
   "outputs": [
    {
     "data": {
      "text/plain": [
       "['alg4', 'alg1', 'alg2', 'alg3']"
      ]
     },
     "execution_count": 12,
     "metadata": {},
     "output_type": "execute_result"
    }
   ],
   "source": [
    "ranks_25_75['case:concept:name'].tolist()"
   ]
  },
  {
   "cell_type": "code",
   "execution_count": 13,
   "id": "d2802f09",
   "metadata": {},
   "outputs": [
    {
     "data": {
      "image/png": "[encoded data removed]",
      "text/plain": [
       "<Figure size 720x432 with 1 Axes>"
      ]
     },
     "execution_count": 13,
     "metadata": {},
     "output_type": "execute_result"
    },
    {
     "data": {
      "image/png": "[encoded data removed]",
      "text/plain": [
       "<Figure size 720x432 with 1 Axes>"
      ]
     },
     "metadata": {
      "needs_background": "light"
     },
     "output_type": "display_data"
    }
   ],
   "source": [
    "mv.show_measurements_boxplots(ranks_25_75['case:concept:name'].tolist())"
   ]
  },
  {
   "cell_type": "code",
   "execution_count": null,
   "id": "39c7fadb",
   "metadata": {},
   "outputs": [],
   "source": []
  }
 ],
 "metadata": {
  "kernelspec": {
   "display_name": "Python 3 (ipykernel)",
   "language": "python",
   "name": "python3"
  },
  "language_info": {
   "codemirror_mode": {
    "name": "ipython",
    "version": 3
   },
   "file_extension": ".py",
   "mimetype": "text/x-python",
   "name": "python",
   "nbconvert_exporter": "python",
   "pygments_lexer": "ipython3",
   "version": "3.9.7"
  }
 },
 "nbformat": 4,
 "nbformat_minor": 5
}
