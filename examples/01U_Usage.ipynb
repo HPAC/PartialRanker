{
 "cells": [
  {
   "cell_type": "markdown",
   "metadata": {},
   "source": [
    "### Usage"
   ]
  },
  {
   "cell_type": "markdown",
   "metadata": {},
   "source": [
    "The required **input** to use this library is a set of objects, each with a set of scalar values, represented as a dictionary. For example:\n",
    "\n",
    "```json\n",
    "measurements = {\n",
    "    't0' : [0.13, 0.21, 0.18, 0.12 ],\n",
    "    't1' : [0.30, 0.33, 0.28 ],\n",
    "    't1' : [0.32, 0.31, 0.38, 0.32, 0.37, 0.32 ],\n",
    "    ...\n",
    "}\n",
    "```"
   ]
  },
  {
   "cell_type": "markdown",
   "metadata": {},
   "source": [
    "For the purpose of demonstration, we simulate the measurement values by sampling from normal distribution. To this end, the module ``MeasurementsSimulator`` can be used. In the following example, we create 4 objects with measurements simulated from two normal distributions differing in mean and standard deviation."
   ]
  },
  {
   "cell_type": "code",
   "execution_count": 2,
   "metadata": {},
   "outputs": [
    {
     "name": "stdout",
     "output_type": "stream",
     "text": [
      "t0:[0.3178862847343032, 0.3043650985051199, 0.3009649746807201, 0.2813650729663551, 0.297226117974856]\n",
      "t1:[0.2964524102073101, 0.29917258518517537, 0.2937299932317615, 0.2995618183102407, 0.29522781969640494]\n",
      "t2:[0.2868613524663732, 0.3088462238049958, 0.3088131804220753, 0.31709573063652946, 0.3005003364217686]\n",
      "t3:[0.3459532258539911, 0.3445464005238047, 0.3345352268441703, 0.35982367434258156, 0.33898932369888524]\n"
     ]
    }
   ],
   "source": [
    "from partial_ranker import MeasurementsSimulator\n",
    "\n",
    "#Normal distribution 1\n",
    "n1 = [0.3,0.01] # [mean1, std1]\n",
    "\n",
    "#Normal distribution 2\n",
    "n2 = [0.35,0.01] # [mean2, std2]\n",
    "\n",
    "M = {}\n",
    "M['t0']  = n1\n",
    "M['t1']  = n1\n",
    "M['t2']  = n1\n",
    "M['t3']  = n2\n",
    "\n",
    "ms = MeasurementsSimulator(M,seed=3)\n",
    "ms.measure(reps=5)\n",
    "measurements = ms.get_measurements()\n",
    "\n",
    "for m,v in measurements.items():\n",
    "    print(f'{m}:{v}')"
   ]
  },
  {
   "cell_type": "markdown",
   "metadata": {},
   "source": [
    "#### Visualizing the Measurements\n",
    "\n",
    "The set of measurements for each object can be visualized as a box-plot using the module ``MeasurementsVisualizer``."
   ]
  },
  {
   "cell_type": "code",
   "execution_count": 3,
   "metadata": {},
   "outputs": [
    {
     "data": {
      "image/png": "[encoded data removed]",
      "text/plain": [
       "<Figure size 1000x200 with 1 Axes>"
      ]
     },
     "metadata": {},
     "output_type": "display_data"
    }
   ],
   "source": [
    "from partial_ranker import MeasurementsVisualizer\n",
    "mv = MeasurementsVisualizer(measurements)\n",
    "fig = mv.show_measurements_boxplots(scale=0.5)"
   ]
  },
  {
   "cell_type": "markdown",
   "metadata": {},
   "source": [
    "The box represents the Inter Quartlie Interval (IQI), which is the interval between the 25th and the 75th quantile values, and the red line with the box represents the median value."
   ]
  },
  {
   "cell_type": "markdown",
   "metadata": {},
   "source": [
    "#### The Comparison Matrix\n",
    "\n",
    "The comparison matrix (**C**) is a square matrix of size $(N \\times N)$, where $N$ is the number of objects. This matrix holds the results of pair-wise comparisons among the objects as follows:\n",
    "        \n",
    "- If ``t_i`` is better than ``t_j``, then ``C[t_i][t_j] = 0``.  \n",
    "- If ``t_i`` is equivalent to ``t_j``, then ``C[t_i][t_j] = 1``.\n",
    "- If ``t_i`` is worse than ``t_j``, then ``C[t_i][t_j] = 2``.\n",
    "\n",
    "The module ``QuantileComparer`` implements the *better-than* relation by comparing the IOIs; ``t_i`` is considered to be better than ``t_j`` if and only if the IOI of ``t_i`` lies entirely to the left of the IOI of ``t_j``. If the IQI of ``t_i`` and ``t_j`` overlap with one another, then ``t_i`` and ``t_j`` are considered equivalent or incomparable.\n",
    "\n",
    "The comparison matrix for the samples of measurements is shown below:"
   ]
  },
  {
   "cell_type": "code",
   "execution_count": 4,
   "metadata": {},
   "outputs": [
    {
     "data": {
      "text/html": [
       "<div>\n",
       "<style scoped>\n",
       "    .dataframe tbody tr th:only-of-type {\n",
       "        vertical-align: middle;\n",
       "    }\n",
       "\n",
       "    .dataframe tbody tr th {\n",
       "        vertical-align: top;\n",
       "    }\n",
       "\n",
       "    .dataframe thead th {\n",
       "        text-align: right;\n",
       "    }\n",
       "</style>\n",
       "<table border=\"1\" class=\"dataframe\">\n",
       "  <thead>\n",
       "    <tr style=\"text-align: right;\">\n",
       "      <th></th>\n",
       "      <th>t0</th>\n",
       "      <th>t1</th>\n",
       "      <th>t2</th>\n",
       "      <th>t3</th>\n",
       "    </tr>\n",
       "  </thead>\n",
       "  <tbody>\n",
       "    <tr>\n",
       "      <th>t0</th>\n",
       "      <td>-1</td>\n",
       "      <td>1</td>\n",
       "      <td>1</td>\n",
       "      <td>2</td>\n",
       "    </tr>\n",
       "    <tr>\n",
       "      <th>t1</th>\n",
       "      <td>1</td>\n",
       "      <td>-1</td>\n",
       "      <td>2</td>\n",
       "      <td>2</td>\n",
       "    </tr>\n",
       "    <tr>\n",
       "      <th>t2</th>\n",
       "      <td>1</td>\n",
       "      <td>0</td>\n",
       "      <td>-1</td>\n",
       "      <td>2</td>\n",
       "    </tr>\n",
       "    <tr>\n",
       "      <th>t3</th>\n",
       "      <td>0</td>\n",
       "      <td>0</td>\n",
       "      <td>0</td>\n",
       "      <td>-1</td>\n",
       "    </tr>\n",
       "  </tbody>\n",
       "</table>\n",
       "</div>"
      ],
      "text/plain": [
       "    t0  t1  t2  t3\n",
       "t0  -1   1   1   2\n",
       "t1   1  -1   2   2\n",
       "t2   1   0  -1   2\n",
       "t3   0   0   0  -1"
      ]
     },
     "execution_count": 4,
     "metadata": {},
     "output_type": "execute_result"
    }
   ],
   "source": [
    "from partial_ranker import QuantileComparer\n",
    "import pandas as pd\n",
    "\n",
    "cm = QuantileComparer(measurements)\n",
    "cm.compute_quantiles(q_max=75, q_min=25)\n",
    "cm.compare()\n",
    "pd.DataFrame(cm.get_comparison_matrix())\n"
   ]
  },
  {
   "cell_type": "markdown",
   "metadata": {},
   "source": [
    "#### Partial Ranking of the Objects\n",
    "\n",
    "The module ``PartialRanker`` takes as input the object holding the comparison matrix, in our case - ``QuantileComparer``, and assigns a partial rank to the objects."
   ]
  },
  {
   "cell_type": "code",
   "execution_count": 5,
   "metadata": {},
   "outputs": [
    {
     "name": "stdout",
     "output_type": "stream",
     "text": [
      "Rank 0: ['t1', 't0', 't2']\n",
      "Rank 1: ['t3']\n"
     ]
    }
   ],
   "source": [
    "from partial_ranker import PartialRanker\n",
    "\n",
    "pr = PartialRanker(cm)\n",
    "pr.compute_ranks()\n",
    "\n",
    "R = pr.get_ranks()\n",
    "for k,v in R.items():\n",
    "    print(f'Rank {k}: {v}')"
   ]
  },
  {
   "cell_type": "markdown",
   "metadata": {},
   "source": [
    "Notice that the objects **t0**, **t1** and **t2**, which were sampled from the same distribution, are grouped in the same rank despite the IQI of **t1** and **t2** not overlapping with one another. As mentioned earlier, non-transitivity of the better-than relation leads to more than one reasonable partial rankings, and it is also possible to **not** have **t1** and **t2** in the same rank. This can be achieved by changing the methodology of the parital ranking.\n",
    "\n",
    "At the moment, three different methodologies for partial ranking described in the [paper](https://arxiv.org/abs/2405.18259) are implemented in this library. They are:\n",
    "\n",
    "- **PartialRankerDFG** (Methodology 1)\n",
    "- **PartialRankerDFGReduced** (Methodology 2)\n",
    "- **PartialRankerMin** (Methodology 3)\n",
    "\n",
    "If the methodology is not explicitly specified, **PartialRankerDFGReduced** would be used.\n",
    "\n",
    "Partial ranks according to **PartialRankerDFG**:"
   ]
  },
  {
   "cell_type": "code",
   "execution_count": 6,
   "metadata": {},
   "outputs": [
    {
     "name": "stdout",
     "output_type": "stream",
     "text": [
      "Rank 0: ['t0', 't1']\n",
      "Rank 1: ['t2']\n",
      "Rank 2: ['t3']\n"
     ]
    }
   ],
   "source": [
    "from partial_ranker import Method\n",
    "\n",
    "pr.compute_ranks(Method.DFG)\n",
    "\n",
    "R = pr.get_ranks()\n",
    "for k,v in R.items():\n",
    "    print(f'Rank {k}: {v}')"
   ]
  },
  {
   "cell_type": "markdown",
   "metadata": {},
   "source": [
    "Partial ranks according to **PartialRankerMin**:"
   ]
  },
  {
   "cell_type": "code",
   "execution_count": 7,
   "metadata": {},
   "outputs": [
    {
     "name": "stdout",
     "output_type": "stream",
     "text": [
      "Rank 0: {'t1', 't0', 't2'}\n",
      "Rank 1: {'t3'}\n"
     ]
    }
   ],
   "source": [
    "pr.compute_ranks(Method.Min)\n",
    "\n",
    "R = pr.get_ranks()\n",
    "for k,v in R.items():\n",
    "    print(f'Rank {k}: {v}')"
   ]
  },
  {
   "cell_type": "markdown",
   "metadata": {},
   "source": [
    "\n",
    " In the following section, the behaviour of the different methodologies are demonstrated. In a later section, a couple of experiments to demonstrate the applications of partial ranking have been documented. "
   ]
  }
 ],
 "metadata": {
  "kernelspec": {
   "display_name": ".venv_partial_ranker",
   "language": "python",
   "name": "python3"
  },
  "language_info": {
   "codemirror_mode": {
    "name": "ipython",
    "version": 3
   },
   "file_extension": ".py",
   "mimetype": "text/x-python",
   "name": "python",
   "nbconvert_exporter": "python",
   "pygments_lexer": "ipython3",
   "version": "3.10.12"
  }
 },
 "nbformat": 4,
 "nbformat_minor": 2
}
