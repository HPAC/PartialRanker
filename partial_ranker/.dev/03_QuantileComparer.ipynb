{
 "cells": [
  {
   "cell_type": "code",
   "execution_count": 18,
   "metadata": {},
   "outputs": [],
   "source": [
    "import numpy as np\n"
   ]
  },
  {
   "cell_type": "markdown",
   "metadata": {},
   "source": [
    "### The Class"
   ]
  },
  {
   "cell_type": "code",
   "execution_count": 19,
   "metadata": {},
   "outputs": [],
   "source": [
    "\n",
    "#%%writefile ../quantile_comparer.py\n",
    "# Partial Ranker\n",
    "#\n",
    "# Copyright (C) 2019-2024, Aravind Sankaran\n",
    "# IRTG-2379: Modern Inverse Problems, RWTH Aachen University, Germany\n",
    "# HPAC, Umeå University, Sweden\n",
    "#\n",
    "# This program is free software: you can redistribute it and/or modify\n",
    "# it under the terms of the GNU General Public License as published by\n",
    "# the Free Software Foundation, either version 3 of the License, or\n",
    "# any later version.\n",
    "#\n",
    "# This program is distributed in the hope that it will be useful,\n",
    "# but WITHOUT ANY WARRANTY; without even the implied warranty of\n",
    "# MERCHANTABILITY or FITNESS FOR A PARTICULAR PURPOSE.  See the\n",
    "# GNU General Public License for more details.\n",
    "#\n",
    "# You should have received a copy of the GNU General Public License\n",
    "# along with this program.  If not, see <http://www.gnu.org/licenses/>.\n",
    "#\n",
    "# Contributors:\n",
    "# - Aravind Sankaran\n",
    "\n",
    "import numpy as np\n",
    "\n",
    "class QuantileComparer:\n",
    "    \"\"\"\n",
    "    Given a dictionary of objects consisting of a list of measurement values, e.g., ``{'obj1': [1.2, 1.3, 1.4], 'obj2': [1.5, 1.6, 1.7,0.9], ...}``, this class  \n",
    "    provides methods to compare objects pairwise using a quantile-based better than relation, and to store the results \n",
    "    of the comparisons in a comparison matrix.\n",
    "    \n",
    "    Input:\n",
    "        **measurements (dict[str, List[float]])**: A dictionary of objects consisting of a list of measurement values.\n",
    "            \n",
    "    **Attributes and Methods**:\n",
    "    \n",
    "    Attributes:\n",
    "            \n",
    "        C (dict[str, dict[str, int]]): A square matrix of size (N x N), where N is the number of objects.\n",
    "            This matrix should holds the results of pair-wise comparisons as follows:\n",
    "        \n",
    "            - If ``obj_i`` is better than ``obj_j``, then ``C[obj_i][obj_j] = 0``.  \n",
    "            - If ``obj_i`` is equivalent to ``obj_j``, then ``C[obj_i][obj_j] = 1``.\n",
    "            - If ``obj_i`` is worse than ``obj_j``, then ``C[obj_i][obj_j] = 2``.  \n",
    "        \n",
    "        objs (list[str]): A list of object keys in the measurements dictionary.\n",
    "        \n",
    "            - e.g., ``['obj1', 'obj2', ...]``.\n",
    "        \n",
    "        t_up (dict[str, float]): A dictionary to store the upper quantile values of the measurements for each object.\n",
    "        \n",
    "            - e.g., ``{'obj1': 1.5, 'obj2': 1.6, ...}``.\n",
    "        \n",
    "        t_low (dict[str, float]): A dictionary to store the lower quantile values of the measurements for each object.\n",
    "    \"\"\"\n",
    "    def __init__(self, measurements:dict[str, list[float]]):\n",
    "        self.measurements = measurements\n",
    "        self.objs = list(measurements.keys())\n",
    "        self.C = {}\n",
    "        \n",
    "        self.t_up = {}\n",
    "        self.t_low = {}\n",
    "\n",
    "    def compute_quantiles(self, q_max:int, q_min:int, outliers=False) -> None:\n",
    "        \"\"\"For a given quantile range, the upper and lower quantile values of measurements are computed and stored in the **t_up** and **t_low** dictionaries.\n",
    "        The elements of the comparison matrix **C** is initialized to -1.\n",
    "\n",
    "        Args:\n",
    "            q_max (int): Upper quantile. E.g., 75 for 75th percentile.\n",
    "            q_min (int): Lower quantile. E.g., 25 for 25th percentile.\n",
    "            outliers (bool, optional): Remove outliers using the 1.5 IQR rule. Defaults to False.\n",
    "            \n",
    "        Returns:\n",
    "            None \n",
    "        \"\"\"\n",
    "        self.C = {}\n",
    "        for x in self.objs:\n",
    "            self.C[x] = {}\n",
    "            vals = self.measurements[x].copy()\n",
    "            if outliers:\n",
    "                vals = self._remove_outliers(self.measurements[x])\n",
    "            self.t_up[x], self.t_low[x]  = np.percentile(vals,[q_max, q_min])\n",
    "            for y in self.objs:\n",
    "                self.C[x][y] = -1\n",
    "\n",
    "    def _remove_outliers(self, x):\n",
    "        x = np.array(x)\n",
    "        q1, q2 = np.percentile(x, [25, 75])\n",
    "        iqr = q2 - q1\n",
    "        fence_low = q1 - 1.5 * iqr\n",
    "        fence_high = q2 + 1.5 * iqr\n",
    "        return x[(x > fence_low) & (x < fence_high)]\n",
    "    \n",
    "    def better_than_relation(self, obj1:str, obj2:str) -> int:\n",
    "        \"\"\"The better than relation to compare two objects based on the quantile vales of their measurements.\n",
    "        \n",
    "            - **obj1** is better than **obj2** if the upper quantile value of **obj1** is less than the lower quantile value of **obj2**.\n",
    "            - **obj1** is worse than **obj2** if the upper quantile value of **obj2** is less than the lower quantile value of **obj1**. \n",
    "            - **obj1** is equivalent to **obj2** if neither of the above conditions are satisfied.\n",
    "\n",
    "        Args:\n",
    "            obj1 (str): the key of an object in the measurements dictionary.\n",
    "            obj2 (str): the key of another object in the measurements dictionary.\n",
    "\n",
    "        Returns:\n",
    "            int: \n",
    "                - If **obj1** is better than **obj2**, returns 0\n",
    "                - If **obj1** is equivalent to **obj2**, returns 1\n",
    "                - If **obj1** is worse than **obj2**, returns 2 \n",
    "        \"\"\"\n",
    "        \n",
    "        if self.C[obj1][obj2] != -1:\n",
    "            return self.C[obj1][obj2]\n",
    "        \n",
    "        t1_up = self.t_up[obj1]\n",
    "        t1_low = self.t_low[obj1]\n",
    "        \n",
    "        t2_up = self.t_up[obj2]\n",
    "        t2_low = self.t_low[obj2]\n",
    "\n",
    "        ret = 1  # obj1 ~ obj2\n",
    "        if t1_up < t2_low:\n",
    "            ret = 0  # obj1 is faster than obj2\n",
    "        elif t2_up < t1_low:\n",
    "            ret = 2  # obj2 is faster than obj1\n",
    "\n",
    "        self.C[obj1][obj2] = ret\n",
    "        if ret == 0:\n",
    "            self.C[obj2][obj1] = 2\n",
    "        elif ret == 2:\n",
    "            self.C[obj2][obj1] = 0\n",
    "        else:\n",
    "            self.C[obj2][obj1] = ret\n",
    "\n",
    "        return ret\n",
    "    \n",
    "    def compare(self) -> None:\n",
    "        \"\"\"Performs a pair-wise comparison of all objects in the measurements dictionary and stores the results in **C**. \n",
    "        \n",
    "        Returns:\n",
    "            None\n",
    "        \"\"\"\n",
    "        for i in range(len(self.objs)):\n",
    "            for j in range(i+1, len(self.objs)):\n",
    "                self.better_than_relation(self.objs[i], self.objs[j])\n",
    "                \n",
    "    def get_comparison_matrix(self) -> dict[str, dict[str, int]]:\n",
    "        \"\"\"\n",
    "        Returns:\n",
    "            dict[str, dict[str, int]]: The comparison matrix **C**.\n",
    "        \"\"\"\n",
    "        return self.C\n",
    "        "
   ]
  },
  {
   "cell_type": "markdown",
   "metadata": {},
   "source": [
    "### Requirements"
   ]
  },
  {
   "cell_type": "code",
   "execution_count": 20,
   "metadata": {},
   "outputs": [],
   "source": [
    "from partial_ranker.measurements_simulator import MeasurementsSimulator\n",
    "from partial_ranker.measurements_visualizer import MeasurementsVisualizer\n",
    "import pandas as pd"
   ]
  },
  {
   "cell_type": "markdown",
   "metadata": {},
   "source": [
    "1) Prepare sample measurements"
   ]
  },
  {
   "cell_type": "code",
   "execution_count": 21,
   "metadata": {},
   "outputs": [
    {
     "data": {
      "image/png": "[encoded data removed]",
      "text/plain": [
       "<Figure size 1000x280 with 1 Axes>"
      ]
     },
     "metadata": {},
     "output_type": "display_data"
    }
   ],
   "source": [
    "obj_params = {}\n",
    "obj_params['obj1']  = [0.2,0.02] # [mean, std]\n",
    "obj_params['obj2']  = [0.2,0.01]\n",
    "obj_params['obj3']  = [0.2,0.01]\n",
    "obj_params['obj4']  = [0.19,0.01]\n",
    "ms = MeasurementsSimulator(obj_params,seed=129)\n",
    "reps = 20\n",
    "ms.measure(reps=reps)\n",
    "measurements = ms.get_measurements()\n",
    "h0 = list(obj_params.keys())\n",
    "mv = MeasurementsVisualizer(measurements, h0)\n",
    "fig = mv.show_measurements_boxplots(scale=0.7)"
   ]
  },
  {
   "cell_type": "markdown",
   "metadata": {},
   "source": [
    "### Usage"
   ]
  },
  {
   "cell_type": "code",
   "execution_count": 22,
   "metadata": {},
   "outputs": [],
   "source": [
    "cm = QuantileComparer(measurements)"
   ]
  },
  {
   "cell_type": "code",
   "execution_count": 23,
   "metadata": {},
   "outputs": [],
   "source": [
    "cm.compute_quantiles(75, 25,False)"
   ]
  },
  {
   "cell_type": "code",
   "execution_count": 25,
   "metadata": {},
   "outputs": [
    {
     "data": {
      "text/plain": [
       "{'obj1': {'obj1': -1, 'obj2': -1, 'obj3': -1, 'obj4': -1},\n",
       " 'obj2': {'obj1': -1, 'obj2': -1, 'obj3': -1, 'obj4': -1},\n",
       " 'obj3': {'obj1': -1, 'obj2': -1, 'obj3': -1, 'obj4': -1},\n",
       " 'obj4': {'obj1': -1, 'obj2': -1, 'obj3': -1, 'obj4': -1}}"
      ]
     },
     "execution_count": 25,
     "metadata": {},
     "output_type": "execute_result"
    }
   ],
   "source": [
    "cm.C"
   ]
  },
  {
   "cell_type": "code",
   "execution_count": 27,
   "metadata": {},
   "outputs": [
    {
     "data": {
      "text/plain": [
       "{'obj1': 0.20941589934262114,\n",
       " 'obj2': 0.20152257141153468,\n",
       " 'obj3': 0.20180914682702059,\n",
       " 'obj4': 0.1912447276655392}"
      ]
     },
     "execution_count": 27,
     "metadata": {},
     "output_type": "execute_result"
    }
   ],
   "source": [
    "cm.t_up"
   ]
  },
  {
   "cell_type": "code",
   "execution_count": 28,
   "metadata": {},
   "outputs": [
    {
     "data": {
      "text/plain": [
       "{'obj1': 0.18669566987835842,\n",
       " 'obj2': 0.19358304170962462,\n",
       " 'obj3': 0.19419698326830245,\n",
       " 'obj4': 0.17863428365515255}"
      ]
     },
     "execution_count": 28,
     "metadata": {},
     "output_type": "execute_result"
    }
   ],
   "source": [
    "cm.t_low"
   ]
  },
  {
   "cell_type": "code",
   "execution_count": 29,
   "metadata": {},
   "outputs": [
    {
     "data": {
      "text/plain": [
       "0"
      ]
     },
     "execution_count": 29,
     "metadata": {},
     "output_type": "execute_result"
    }
   ],
   "source": [
    "cm.better_than_relation('obj4','obj3')"
   ]
  },
  {
   "cell_type": "code",
   "execution_count": 30,
   "metadata": {},
   "outputs": [],
   "source": [
    "cm.compare()"
   ]
  },
  {
   "cell_type": "code",
   "execution_count": 31,
   "metadata": {},
   "outputs": [
    {
     "data": {
      "text/plain": [
       "{'obj1': {'obj1': -1, 'obj2': 1, 'obj3': 1, 'obj4': 1},\n",
       " 'obj2': {'obj1': 1, 'obj2': -1, 'obj3': 1, 'obj4': 2},\n",
       " 'obj3': {'obj1': 1, 'obj2': 1, 'obj3': -1, 'obj4': 2},\n",
       " 'obj4': {'obj1': 1, 'obj2': 0, 'obj3': 0, 'obj4': -1}}"
      ]
     },
     "execution_count": 31,
     "metadata": {},
     "output_type": "execute_result"
    }
   ],
   "source": [
    "cm.C"
   ]
  },
  {
   "cell_type": "code",
   "execution_count": 32,
   "metadata": {},
   "outputs": [
    {
     "data": {
      "text/html": [
       "<div>\n",
       "<style scoped>\n",
       "    .dataframe tbody tr th:only-of-type {\n",
       "        vertical-align: middle;\n",
       "    }\n",
       "\n",
       "    .dataframe tbody tr th {\n",
       "        vertical-align: top;\n",
       "    }\n",
       "\n",
       "    .dataframe thead th {\n",
       "        text-align: right;\n",
       "    }\n",
       "</style>\n",
       "<table border=\"1\" class=\"dataframe\">\n",
       "  <thead>\n",
       "    <tr style=\"text-align: right;\">\n",
       "      <th></th>\n",
       "      <th>obj1</th>\n",
       "      <th>obj2</th>\n",
       "      <th>obj3</th>\n",
       "      <th>obj4</th>\n",
       "    </tr>\n",
       "  </thead>\n",
       "  <tbody>\n",
       "    <tr>\n",
       "      <th>obj1</th>\n",
       "      <td>-1</td>\n",
       "      <td>1</td>\n",
       "      <td>1</td>\n",
       "      <td>1</td>\n",
       "    </tr>\n",
       "    <tr>\n",
       "      <th>obj2</th>\n",
       "      <td>1</td>\n",
       "      <td>-1</td>\n",
       "      <td>1</td>\n",
       "      <td>0</td>\n",
       "    </tr>\n",
       "    <tr>\n",
       "      <th>obj3</th>\n",
       "      <td>1</td>\n",
       "      <td>1</td>\n",
       "      <td>-1</td>\n",
       "      <td>0</td>\n",
       "    </tr>\n",
       "    <tr>\n",
       "      <th>obj4</th>\n",
       "      <td>1</td>\n",
       "      <td>2</td>\n",
       "      <td>2</td>\n",
       "      <td>-1</td>\n",
       "    </tr>\n",
       "  </tbody>\n",
       "</table>\n",
       "</div>"
      ],
      "text/plain": [
       "      obj1  obj2  obj3  obj4\n",
       "obj1    -1     1     1     1\n",
       "obj2     1    -1     1     0\n",
       "obj3     1     1    -1     0\n",
       "obj4     1     2     2    -1"
      ]
     },
     "execution_count": 32,
     "metadata": {},
     "output_type": "execute_result"
    }
   ],
   "source": [
    "x = pd.DataFrame(cm.C)\n",
    "x"
   ]
  },
  {
   "cell_type": "code",
   "execution_count": 33,
   "metadata": {},
   "outputs": [
    {
     "data": {
      "text/plain": [
       "{'obj1': [], 'obj2': ['obj4'], 'obj3': ['obj4'], 'obj4': []}"
      ]
     },
     "execution_count": 33,
     "metadata": {},
     "output_type": "execute_result"
    }
   ],
   "source": [
    "dict(x.apply(lambda row: row[row == 0].index.tolist(), axis=1))"
   ]
  },
  {
   "cell_type": "markdown",
   "metadata": {},
   "source": [
    "### Scaling test"
   ]
  },
  {
   "cell_type": "code",
   "execution_count": 79,
   "metadata": {},
   "outputs": [],
   "source": [
    "def create_measurements(n_objs, n_reps, seed=129):\n",
    "    obj_params = {}\n",
    "    for i in range(n_objs):\n",
    "        obj_params[f'obj{i}'] = [np.random.uniform(0,1), np.random.uniform(0,0.1)]\n",
    "    ms = MeasurementsSimulator(obj_params,seed=seed)\n",
    "    ms.measure(reps=n_reps)\n",
    "    return ms.get_measurements()"
   ]
  },
  {
   "cell_type": "code",
   "execution_count": 80,
   "metadata": {},
   "outputs": [],
   "source": [
    "measurements = create_measurements(1000, 5)"
   ]
  },
  {
   "cell_type": "code",
   "execution_count": 81,
   "metadata": {},
   "outputs": [],
   "source": [
    "cm = QuantileComparer(measurements)"
   ]
  },
  {
   "cell_type": "code",
   "execution_count": 82,
   "metadata": {},
   "outputs": [
    {
     "name": "stdout",
     "output_type": "stream",
     "text": [
      "743 ms ± 168 ms per loop (mean ± std. dev. of 3 runs, 1 loop each)\n"
     ]
    }
   ],
   "source": [
    "%%timeit -n 1 -r 3\n",
    "cm.compute_quantiles(75, 25,False)\n",
    "cm.compare()"
   ]
  }
 ],
 "metadata": {
  "kernelspec": {
   "display_name": ".venv_partial_ranker",
   "language": "python",
   "name": "python3"
  },
  "language_info": {
   "codemirror_mode": {
    "name": "ipython",
    "version": 3
   },
   "file_extension": ".py",
   "mimetype": "text/x-python",
   "name": "python",
   "nbconvert_exporter": "python",
   "pygments_lexer": "ipython3",
   "version": "3.10.12"
  }
 },
 "nbformat": 4,
 "nbformat_minor": 2
}
