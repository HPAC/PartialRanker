{
 "cells": [
  {
   "cell_type": "code",
   "execution_count": 1,
   "metadata": {},
   "outputs": [],
   "source": [
    "import pandas as pd\n",
    "from partial_ranker import Graph\n"
   ]
  },
  {
   "cell_type": "markdown",
   "metadata": {},
   "source": [
    "### The Class"
   ]
  },
  {
   "cell_type": "code",
   "execution_count": 18,
   "metadata": {},
   "outputs": [
    {
     "name": "stdout",
     "output_type": "stream",
     "text": [
      "Overwriting ../partial_ranker_dfg.py\n"
     ]
    }
   ],
   "source": [
    "%%writefile ../partial_ranker_dfg.py\n",
    "# Partial Ranker\n",
    "#\n",
    "# Copyright (C) 2019-2024, Aravind Sankaran\n",
    "# IRTG-2379: Modern Inverse Problems, RWTH Aachen University, Germany\n",
    "# HPAC, Umeå University, Sweden\n",
    "#\n",
    "# This program is free software: you can redistribute it and/or modify\n",
    "# it under the terms of the GNU General Public License as published by\n",
    "# the Free Software Foundation, either version 3 of the License, or\n",
    "# any later version.\n",
    "#\n",
    "# This program is distributed in the hope that it will be useful,\n",
    "# but WITHOUT ANY WARRANTY; without even the implied warranty of\n",
    "# MERCHANTABILITY or FITNESS FOR A PARTICULAR PURPOSE.  See the\n",
    "# GNU General Public License for more details.\n",
    "#\n",
    "# You should have received a copy of the GNU General Public License\n",
    "# along with this program.  If not, see <http://www.gnu.org/licenses/>.\n",
    "#\n",
    "# Contributors:\n",
    "# - Aravind Sankaran\n",
    "\n",
    "import pandas as pd\n",
    "from .graph import Graph\n",
    "\n",
    "class PartialRankerDFG:\n",
    "    \"\"\"DFG based parial ranking methodology (Methodology 1 in the paper).\n",
    "    \n",
    "    Input:\n",
    "        comparison_matrix (dict[str, dict[str, int]]): (Input) Comparison matrix from the Comparator.\n",
    "        \n",
    "    Attributes:\n",
    "        dependencies (dict[str,list[str]]): If obj_i is better than obj_j, then the value of obj_j in the dictionary is a list containing obj_i. \n",
    "        e.g.; in the dict {'obj1': ['obj2', 'obj3], 'obj2': ['obj4'], ...}, obj2 and obj3 are better than obj1, obj4 is better than obj2, etc.\n",
    "    \"\"\"\n",
    "    def __init__(self,comparer):\n",
    "        self.objs = list(comparer.C.keys())\n",
    "        self._obj_rank = {}\n",
    "        self._rank_objs = {}\n",
    "        cm = pd.DataFrame(comparer.C)\n",
    "        self.dependencies = dict(cm.apply(lambda row: row[row == 0].index.tolist(), axis=1))\n",
    "    \n",
    "    def compute_ranks(self):\n",
    "        \"\"\"Computes the partial ranks of the objects according to Methodology 1. \n",
    "        The ranks of an object corresponds to the depth of the object in the dependency graph.\n",
    "        \"\"\"\n",
    "        self._obj_rank = {}\n",
    "        self._rank_objs = {}\n",
    "        for obj in self.objs:\n",
    "            d = self._get_depth(obj)\n",
    "            self._rank_objs[d] = self._rank_objs.get(d,[]) + [obj]\n",
    "    \n",
    "    def _get_depth(self,obj):\n",
    "        if obj in self._obj_rank:\n",
    "            return self._obj_rank[obj]\n",
    "        else:\n",
    "            v = self.dependencies[obj]\n",
    "            if not v:\n",
    "                self._obj_rank[obj] = 0\n",
    "            else:\n",
    "                self._obj_rank[obj] = max([self._get_depth(i) for i in v]) + 1\n",
    "            return self._obj_rank[obj]\n",
    "        \n",
    "    def get_ranks(self):\n",
    "        \"\"\"Returns the partial ranks of the objects.\n",
    "        \n",
    "        Returns:\n",
    "            dict[int,List[str]]: Dictionary with list of objects at each rank.\n",
    "        \"\"\"\n",
    "        return self._rank_objs\n",
    "    \n",
    "    def get_rank_obj(self,obj):\n",
    "        \"\"\"Returns the partial rank of the object.\n",
    "        \n",
    "        Args:\n",
    "            obj (str): Object name.\n",
    "        \n",
    "        Returns:\n",
    "            int: Partial rank of the object.\n",
    "        \"\"\"\n",
    "        return self._obj_rank[obj]\n",
    "    \n",
    "    def get_dfg(self):\n",
    "        \"\"\"Visualizes the dependency graph.\n",
    "        \"\"\"\n",
    "        g = Graph(self.dependencies, self.get_ranks()) \n",
    "        return g\n",
    "    \n",
    "        "
   ]
  },
  {
   "cell_type": "markdown",
   "metadata": {},
   "source": [
    "### Requirements"
   ]
  },
  {
   "cell_type": "code",
   "execution_count": 3,
   "metadata": {},
   "outputs": [],
   "source": [
    "import numpy as np\n",
    "from partial_ranker.measurements_simulator import MeasurementsSimulator\n",
    "from partial_ranker.measurements_visualizer import MeasurementsVisualizer\n",
    "from partial_ranker import QuantileComparer"
   ]
  },
  {
   "cell_type": "markdown",
   "metadata": {},
   "source": [
    "1) Prepare sample measurements"
   ]
  },
  {
   "cell_type": "code",
   "execution_count": 4,
   "metadata": {},
   "outputs": [
    {
     "data": {
      "image/png": "[encoded data removed]",
      "text/plain": [
       "<Figure size 1000x280 with 1 Axes>"
      ]
     },
     "metadata": {},
     "output_type": "display_data"
    }
   ],
   "source": [
    "obj_params = {}\n",
    "obj_params['obj1']  = [0.2,0.02] # [mean, std]\n",
    "obj_params['obj2']  = [0.2,0.01]\n",
    "obj_params['obj3']  = [0.2,0.01]\n",
    "obj_params['obj4']  = [0.19,0.01]\n",
    "ms = MeasurementsSimulator(obj_params,seed=129)\n",
    "reps = 20\n",
    "ms.measure(reps=reps)\n",
    "measurements = ms.get_measurements()\n",
    "h0 = list(obj_params.keys())\n",
    "mv = MeasurementsVisualizer(measurements, h0)\n",
    "fig = mv.show_measurements_boxplots(scale=0.7)"
   ]
  },
  {
   "cell_type": "markdown",
   "metadata": {},
   "source": [
    "2) Compare"
   ]
  },
  {
   "cell_type": "code",
   "execution_count": 5,
   "metadata": {},
   "outputs": [
    {
     "data": {
      "text/plain": [
       "{'obj1': {'obj1': -1, 'obj2': 1, 'obj3': 1, 'obj4': 1},\n",
       " 'obj2': {'obj1': 1, 'obj2': -1, 'obj3': 1, 'obj4': 2},\n",
       " 'obj3': {'obj1': 1, 'obj2': 1, 'obj3': -1, 'obj4': 2},\n",
       " 'obj4': {'obj1': 1, 'obj2': 0, 'obj3': 0, 'obj4': -1}}"
      ]
     },
     "execution_count": 5,
     "metadata": {},
     "output_type": "execute_result"
    }
   ],
   "source": [
    "comparer = QuantileComparer(measurements)\n",
    "comparer.compute_quantiles(q_max=75, q_min=25,outliers=False)\n",
    "comparer.compare()\n",
    "comparer.C"
   ]
  },
  {
   "cell_type": "markdown",
   "metadata": {},
   "source": [
    "### Usage"
   ]
  },
  {
   "cell_type": "code",
   "execution_count": 7,
   "metadata": {},
   "outputs": [
    {
     "data": {
      "text/plain": [
       "{'obj1': [], 'obj2': ['obj4'], 'obj3': ['obj4'], 'obj4': []}"
      ]
     },
     "execution_count": 7,
     "metadata": {},
     "output_type": "execute_result"
    }
   ],
   "source": [
    "pr_dfg = PartialRankerDFG(comparer)\n",
    "pr_dfg.dependencies"
   ]
  },
  {
   "cell_type": "code",
   "execution_count": 8,
   "metadata": {},
   "outputs": [
    {
     "data": {
      "text/plain": [
       "{'obj1': 0, 'obj4': 0, 'obj2': 1, 'obj3': 1}"
      ]
     },
     "execution_count": 8,
     "metadata": {},
     "output_type": "execute_result"
    }
   ],
   "source": [
    "pr_dfg.compute_ranks()\n",
    "pr_dfg._obj_rank"
   ]
  },
  {
   "cell_type": "code",
   "execution_count": 9,
   "metadata": {},
   "outputs": [
    {
     "data": {
      "text/plain": [
       "{0: ['obj1', 'obj4'], 1: ['obj2', 'obj3']}"
      ]
     },
     "execution_count": 9,
     "metadata": {},
     "output_type": "execute_result"
    }
   ],
   "source": [
    "pr_dfg.get_ranks()"
   ]
  },
  {
   "cell_type": "code",
   "execution_count": 10,
   "metadata": {},
   "outputs": [
    {
     "data": {
      "image/svg+xml": [
       "<?xml version=\"1.0\" encoding=\"UTF-8\" standalone=\"no\"?>\n",
       "<!DOCTYPE svg PUBLIC \"-//W3C//DTD SVG 1.1//EN\"\n",
       " \"http://www.w3.org/Graphics/SVG/1.1/DTD/svg11.dtd\">\n",
       "<!-- Generated by graphviz version 2.43.0 (0)\n",
       " -->\n",
       "<!-- Title: %3 Pages: 1 -->\n",
       "<svg width=\"187pt\" height=\"116pt\"\n",
       " viewBox=\"0.00 0.00 187.09 116.00\" xmlns=\"http://www.w3.org/2000/svg\" xmlns:xlink=\"http://www.w3.org/1999/xlink\">\n",
       "<g id=\"graph0\" class=\"graph\" transform=\"scale(1 1) rotate(0) translate(4 112)\">\n",
       "<title>%3</title>\n",
       "<polygon fill=\"white\" stroke=\"transparent\" points=\"-4,4 -4,-112 183.09,-112 183.09,4 -4,4\"/>\n",
       "<!-- obj1 -->\n",
       "<g id=\"node1\" class=\"node\">\n",
       "<title>obj1</title>\n",
       "<ellipse fill=\"#f0efed\" stroke=\"#f0efed\" cx=\"30.55\" cy=\"-90\" rx=\"30.59\" ry=\"18\"/>\n",
       "<text text-anchor=\"middle\" x=\"30.55\" y=\"-86.3\" font-family=\"Times,serif\" font-size=\"14.00\">obj1</text>\n",
       "</g>\n",
       "<!-- obj2 -->\n",
       "<g id=\"node2\" class=\"node\">\n",
       "<title>obj2</title>\n",
       "<ellipse fill=\"#f0efed\" stroke=\"#f0efed\" cx=\"69.55\" cy=\"-18\" rx=\"30.59\" ry=\"18\"/>\n",
       "<text text-anchor=\"middle\" x=\"69.55\" y=\"-14.3\" font-family=\"Times,serif\" font-size=\"14.00\">obj2</text>\n",
       "</g>\n",
       "<!-- obj3 -->\n",
       "<g id=\"node3\" class=\"node\">\n",
       "<title>obj3</title>\n",
       "<ellipse fill=\"#f0efed\" stroke=\"#f0efed\" cx=\"148.55\" cy=\"-18\" rx=\"30.59\" ry=\"18\"/>\n",
       "<text text-anchor=\"middle\" x=\"148.55\" y=\"-14.3\" font-family=\"Times,serif\" font-size=\"14.00\">obj3</text>\n",
       "</g>\n",
       "<!-- obj4 -->\n",
       "<g id=\"node4\" class=\"node\">\n",
       "<title>obj4</title>\n",
       "<ellipse fill=\"#f0efed\" stroke=\"#f0efed\" cx=\"109.55\" cy=\"-90\" rx=\"30.59\" ry=\"18\"/>\n",
       "<text text-anchor=\"middle\" x=\"109.55\" y=\"-86.3\" font-family=\"Times,serif\" font-size=\"14.00\">obj4</text>\n",
       "</g>\n",
       "<!-- obj4&#45;&gt;obj2 -->\n",
       "<g id=\"edge1\" class=\"edge\">\n",
       "<title>obj4&#45;&gt;obj2</title>\n",
       "<path fill=\"none\" stroke=\"black\" d=\"M100.27,-72.76C95.49,-64.4 89.56,-54.02 84.18,-44.61\"/>\n",
       "<polygon fill=\"black\" stroke=\"black\" points=\"87.05,-42.58 79.05,-35.63 80.97,-46.05 87.05,-42.58\"/>\n",
       "</g>\n",
       "<!-- obj4&#45;&gt;obj3 -->\n",
       "<g id=\"edge2\" class=\"edge\">\n",
       "<title>obj4&#45;&gt;obj3</title>\n",
       "<path fill=\"none\" stroke=\"black\" d=\"M118.59,-72.76C123.25,-64.4 129.04,-54.02 134.28,-44.61\"/>\n",
       "<polygon fill=\"black\" stroke=\"black\" points=\"137.47,-46.07 139.28,-35.63 131.36,-42.67 137.47,-46.07\"/>\n",
       "</g>\n",
       "</g>\n",
       "</svg>\n"
      ],
      "text/plain": [
       "<graphviz.graphs.Digraph at 0x7fa728835e70>"
      ]
     },
     "execution_count": 10,
     "metadata": {},
     "output_type": "execute_result"
    }
   ],
   "source": [
    "pr_dfg.get_dfg().visualize()"
   ]
  },
  {
   "cell_type": "markdown",
   "metadata": {},
   "source": [
    "### Scaling experiment"
   ]
  },
  {
   "cell_type": "code",
   "execution_count": 11,
   "metadata": {},
   "outputs": [],
   "source": [
    "def create_measurements(n_objs, n_reps, seed=129):\n",
    "    obj_params = {}\n",
    "    for i in range(n_objs):\n",
    "        obj_params[f'obj{i}'] = [np.random.uniform(0,1), np.random.uniform(0,0.1)]\n",
    "    ms = MeasurementsSimulator(obj_params,seed=seed)\n",
    "    ms.measure(reps=n_reps)\n",
    "    return ms.get_measurements()"
   ]
  },
  {
   "cell_type": "code",
   "execution_count": 12,
   "metadata": {},
   "outputs": [],
   "source": [
    "measurements = create_measurements(1000, 5)"
   ]
  },
  {
   "cell_type": "code",
   "execution_count": 15,
   "metadata": {},
   "outputs": [],
   "source": [
    "#%%timeit -n 1 -r 3\n",
    "cm = QuantileComparer(measurements)\n",
    "cm.compute_quantiles(75, 25,False)\n",
    "cm.compare()"
   ]
  },
  {
   "cell_type": "code",
   "execution_count": 16,
   "metadata": {},
   "outputs": [],
   "source": [
    "pr_dfg = PartialRankerDFG(cm)"
   ]
  },
  {
   "cell_type": "code",
   "execution_count": 17,
   "metadata": {},
   "outputs": [
    {
     "name": "stdout",
     "output_type": "stream",
     "text": [
      "61.8 ms ± 1.32 ms per loop (mean ± std. dev. of 3 runs, 1 loop each)\n"
     ]
    }
   ],
   "source": [
    "%%timeit -n 1 -r 3\n",
    "pr_dfg.compute_ranks()"
   ]
  }
 ],
 "metadata": {
  "kernelspec": {
   "display_name": ".venv_partial_ranker",
   "language": "python",
   "name": "python3"
  },
  "language_info": {
   "codemirror_mode": {
    "name": "ipython",
    "version": 3
   },
   "file_extension": ".py",
   "mimetype": "text/x-python",
   "name": "python",
   "nbconvert_exporter": "python",
   "pygments_lexer": "ipython3",
   "version": "3.10.12"
  }
 },
 "nbformat": 4,
 "nbformat_minor": 2
}
