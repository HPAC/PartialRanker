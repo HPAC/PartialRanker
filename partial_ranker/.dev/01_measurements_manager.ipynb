{
 "cells": [
  {
   "cell_type": "code",
   "execution_count": 7,
   "metadata": {},
   "outputs": [
    {
     "name": "stdout",
     "output_type": "stream",
     "text": [
      "Overwriting ../measurements_manager.py\n"
     ]
    }
   ],
   "source": [
    "%%writefile ../measurements_manager.py\n",
    "# Partial Ranker\n",
    "#\n",
    "# Copyright (C) 2019-2024, Aravind Sankaran\n",
    "# IRTG-2379: Modern Inverse Problems, RWTH Aachen University, Germany\n",
    "# HPAC, Umeå University, Sweden\n",
    "#\n",
    "# This program is free software: you can redistribute it and/or modify\n",
    "# it under the terms of the GNU General Public License as published by\n",
    "# the Free Software Foundation, either version 3 of the License, or\n",
    "# any later version.\n",
    "#\n",
    "# This program is distributed in the hope that it will be useful,\n",
    "# but WITHOUT ANY WARRANTY; without even the implied warranty of\n",
    "# MERCHANTABILITY or FITNESS FOR A PARTICULAR PURPOSE.  See the\n",
    "# GNU General Public License for more details.\n",
    "#\n",
    "# You should have received a copy of the GNU General Public License\n",
    "# along with this program.  If not, see <http://www.gnu.org/licenses/>.\n",
    "#\n",
    "# Contributors:\n",
    "# - Aravind Sankaran\n",
    "\n",
    "\n",
    "from abc import ABC, abstractmethod\n",
    "\n",
    "class MeasurementsManager(ABC):\n",
    "    \"\"\"\n",
    "    Abstract base class for managing measurements data.\n",
    "\n",
    "    Attributes:\n",
    "        measurements (dict): Keys are object IDs (str), and values are list of floats.\n",
    "    \"\"\"\n",
    "    def __init__(self):\n",
    "        self.measurements = {}\n",
    "        super().__init__()\n",
    "\n",
    "    @abstractmethod\n",
    "    def measure(self, reps:int, run_id:int) -> None:\n",
    "        \"\"\"Abstract method to run the measurement process and store the resulting value.\n",
    "\n",
    "        Args:\n",
    "            reps (int): _number of repetitions of the measurement\n",
    "            run_id (int): ID of the measurement run\n",
    "        \"\"\"\n",
    "        pass\n",
    "\n",
    "    \n",
    "    def get_measurements(self) -> dict:\n",
    "        \"\"\"Returns the measurements data.\n",
    "\n",
    "        Returns:\n",
    "            dict: keys: run_id, values: list of measurements (floats)\n",
    "        \"\"\"\n",
    "        return self.measurements"
   ]
  },
  {
   "cell_type": "code",
   "execution_count": null,
   "metadata": {},
   "outputs": [],
   "source": []
  }
 ],
 "metadata": {
  "kernelspec": {
   "display_name": ".venv",
   "language": "python",
   "name": "python3"
  },
  "language_info": {
   "codemirror_mode": {
    "name": "ipython",
    "version": 3
   },
   "file_extension": ".py",
   "mimetype": "text/x-python",
   "name": "python",
   "nbconvert_exporter": "python",
   "pygments_lexer": "ipython3",
   "version": "3.10.12"
  }
 },
 "nbformat": 4,
 "nbformat_minor": 2
}
